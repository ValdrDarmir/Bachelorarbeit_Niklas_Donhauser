{
 "cells": [
  {
   "cell_type": "markdown",
   "id": "9928b7e0-dcdf-4fe1-92fb-1981c264d785",
   "metadata": {},
   "source": [
    "# Convolutional Neural Network / Binary\n",
    "Name: Niklas Donhauser\n",
    "\n",
    "**Source**\n",
    "\n",
    "[1] sklearn https://scikit-learn.org/stable/ <br>\n",
    "[2] re https://docs.python.org/3/library/re.html <br>\n",
    "[3] pandas https://pandas.pydata.org/ <br>\n",
    "[4] time https://docs.python.org/3/library/time.html <br>\n",
    "[5] numpy https://numpy.org/ <br>\n",
    "[6] keras https://keras.io/ <br>\n",
    "\n",
    "**Useful links:**\n",
    "- https://scikit-learn.org/stable/modules/generated/sklearn.metrics.classification_report.html <br>\n",
    "- https://scikit-learn.org/stable/modules/generated/sklearn.metrics.recall_score.html <br>\n",
    "- https://scikit-learn.org/stable/modules/generated/sklearn.model_selection.StratifiedKFold.html <br>"
   ]
  },
  {
   "cell_type": "markdown",
   "id": "73d7c382-2649-422f-aec8-78dda176a3cc",
   "metadata": {},
   "source": [
    "## Import libraries"
   ]
  },
  {
   "cell_type": "code",
   "execution_count": 1,
   "id": "f9faed7b-5510-467c-875f-2420c445e092",
   "metadata": {},
   "outputs": [],
   "source": [
    "import numpy as np \n",
    "import pandas as pd \n",
    "import re\n",
    "import time\n",
    "\n",
    "from sklearn.feature_extraction.text import CountVectorizer\n",
    "from keras.preprocessing.text import Tokenizer\n",
    "from keras.preprocessing.sequence import pad_sequences\n",
    "from keras.models import Sequential\n",
    "from keras.layers import Dense, Embedding, LSTM, SpatialDropout1D\n",
    "from keras.utils.np_utils import to_categorical\n",
    "\n",
    "from sklearn.feature_extraction.text import CountVectorizer\n",
    "from keras.preprocessing.text import Tokenizer\n",
    "from keras.preprocessing.sequence import pad_sequences\n",
    "from keras.models import Sequential\n",
    "from keras.layers import Dense, Embedding, SpatialDropout1D, Conv1D, MaxPooling1D, Flatten\n",
    "from keras.utils.np_utils import to_categorical\n",
    "\n",
    "from sklearn.model_selection import StratifiedKFold\n",
    "from sklearn.model_selection import KFold,train_test_split\n",
    "from sklearn.metrics import classification_report\n",
    "from sklearn.metrics import accuracy_score, f1_score, precision_score, recall_score, classification_report, confusion_matrix"
   ]
  },
  {
   "cell_type": "markdown",
   "id": "ad3860da-db0c-4052-99ba-c3d97d396502",
   "metadata": {},
   "source": [
    "## Tokenize"
   ]
  },
  {
   "cell_type": "code",
   "execution_count": 2,
   "id": "116051cc-ce71-48a6-a641-0507ef57b25c",
   "metadata": {},
   "outputs": [],
   "source": [
    "def tokenize_data(X_train, X_test):\n",
    "    global vocab_size, max_length, X_train_encoded, X_test_encoded\n",
    "    tokenizer=Tokenizer()\n",
    "    tokenizer.fit_on_texts(X_train)\n",
    "    \n",
    "    vocab_size=len(tokenizer.word_index) + 1\n",
    "    max_length=max([len(row.split()) for row in X_train])\n",
    "    \n",
    "    X_train_encoded = encode_reviews(tokenizer, max_length, X_train)\n",
    "    X_test_encoded = encode_reviews(tokenizer, max_length, X_test)\n",
    "    "
   ]
  },
  {
   "cell_type": "markdown",
   "id": "f6eae2f9-3e93-41c9-9ffd-704a493b2aad",
   "metadata": {},
   "source": [
    "## Encode"
   ]
  },
  {
   "cell_type": "code",
   "execution_count": 3,
   "id": "d486d510-3a97-4ad9-8e77-1667ee18dfd8",
   "metadata": {},
   "outputs": [],
   "source": [
    "def encode_reviews(tokenizer, max_length, X_train_processed):\n",
    "    encoded=tokenizer.texts_to_sequences(X_train_processed)\n",
    "    \n",
    "    padded=pad_sequences(encoded, maxlen=max_length, padding=\"post\")\n",
    "    \n",
    "    return padded"
   ]
  },
  {
   "cell_type": "markdown",
   "id": "13e05dc6-c228-408c-b8ce-c9d89f747294",
   "metadata": {},
   "source": [
    "## Setup model"
   ]
  },
  {
   "cell_type": "code",
   "execution_count": 4,
   "id": "ed712b17-b924-436d-9b09-52a2d138fb45",
   "metadata": {},
   "outputs": [],
   "source": [
    "def setup_model():\n",
    "    global model\n",
    "    model=Sequential()\n",
    "    model.add(Embedding(vocab_size, 100, input_length=max_length))\n",
    "    model.add(Conv1D(32, 8, activation=\"relu\"))\n",
    "    model.add(MaxPooling1D(2))\n",
    "    model.add(Flatten())\n",
    "    model.add(Dense(10, activation=\"relu\"))\n",
    "    model.add(Dense(1,  activation=\"sigmoid\"))   \n",
    "    model.compile(loss=\"binary_crossentropy\", optimizer=\"adam\", metrics=[\"accuracy\"])   "
   ]
  },
  {
   "cell_type": "markdown",
   "id": "d39114a0-cc74-412b-a56c-0ee33d6f3fbe",
   "metadata": {},
   "source": [
    "## Split data"
   ]
  },
  {
   "cell_type": "code",
   "execution_count": 5,
   "id": "fda002fe-a225-4110-b636-de1988df7365",
   "metadata": {},
   "outputs": [],
   "source": [
    "def split_data():\n",
    "    global train_index, test_index\n",
    "    skf = StratifiedKFold(n_splits=4, shuffle=True, random_state=2)\n",
    "    iteration=0\n",
    "    data[\"sentiment\"].replace(to_replace=\"positive\", value=1, regex=True, inplace=True)\n",
    "    data[\"sentiment\"].replace(to_replace=\"negative\", value=0, regex=True, inplace=True)\n",
    "    data[\"sentiment\"].replace(to_replace=\"neutral\", value=2, regex=True, inplace=True)\n",
    "    for train_index, test_index in skf.split(data[\"preprocessedData\"],data[\"sentiment\"]):\n",
    "        iteration=iteration+1\n",
    "        start_time=time.time()\n",
    "        \n",
    "        X_train, X_test, Y_train, Y_test=data[\"preprocessedData\"][train_index], data[\"preprocessedData\"][test_index], data[\"sentiment\"][train_index], data[\"sentiment\"][test_index]\n",
    "        tokenize_data(X_train, X_test)\n",
    "        setup_model()\n",
    "        train_model(X_train_encoded, X_test_encoded, Y_train, Y_test, iteration, start_time)\n",
    "\n",
    "        "
   ]
  },
  {
   "cell_type": "markdown",
   "id": "f4f2807e-1c69-459b-a53d-64a20ace8b23",
   "metadata": {},
   "source": [
    "## Train model"
   ]
  },
  {
   "cell_type": "code",
   "execution_count": 6,
   "id": "8fac8afe-a734-4e9f-8a66-5d55e5924147",
   "metadata": {},
   "outputs": [],
   "source": [
    "def train_model(X_train_encoded, X_test_encoded, Y_train, Y_test, iteration, start_time):\n",
    "    global batch_size, verbose \n",
    "    batch_size = 32\n",
    "    epochs = 4\n",
    "    verbose = 1 \n",
    "    model.fit(X_train_encoded, Y_train, epochs = epochs, batch_size = batch_size, verbose = verbose)\n",
    "    predict_model(X_train_encoded, X_test_encoded, Y_train, Y_test, iteration, start_time)"
   ]
  },
  {
   "cell_type": "markdown",
   "id": "4528327c-a8eb-4d1b-8fbf-c34755288469",
   "metadata": {},
   "source": [
    "## Predict model"
   ]
  },
  {
   "cell_type": "code",
   "execution_count": 7,
   "id": "a60a4564-737e-4f96-93ce-7fc8dbd45330",
   "metadata": {},
   "outputs": [],
   "source": [
    "def predict_model(X_train_encoded, X_test_encoded, Y_train, Y_test, iteration, start_time):\n",
    "    predicted_classes = []\n",
    "    #Y_test_reshape = []\n",
    "    _,acc= model.evaluate(X_test_encoded, Y_test, verbose=0)\n",
    "    print(\"Test accuracy:{:.2f}\".format(acc*100))\n",
    "    \n",
    "    prediction = model.predict(X_test_encoded)\n",
    "    for items in range(len(prediction)):\n",
    "        test = prediction[items]\n",
    "        if test <0.5:\n",
    "            predicted_classes.append(0)\n",
    "        if test >0.5:\n",
    "            predicted_classes.append(1)\n",
    "        if test == 0.5:\n",
    "            print(\"ERROR\")\n",
    "            \n",
    "    print(predicted_classes.count(0))\n",
    "    print('------------------')\n",
    "    print(predicted_classes.count(1))\n",
    "    \n",
    "    accuracy=accuracy_score(Y_test, predicted_classes)\n",
    "    print(accuracy)\n",
    "    \n",
    "    Y_test=Y_test.tolist()\n",
    "    get_data(predicted_classes, Y_train, Y_test, iteration, start_time)"
   ]
  },
  {
   "cell_type": "markdown",
   "id": "d62c9053-6e1d-4fbc-9052-220426f1f929",
   "metadata": {},
   "source": [
    "## Get data"
   ]
  },
  {
   "cell_type": "code",
   "execution_count": 8,
   "id": "f6224faf-37de-4308-ad76-b2e0f308cb04",
   "metadata": {},
   "outputs": [],
   "source": [
    "def get_data(predicted_classes, Y_train, Y_test_reshape, iteration, start_time):\n",
    "    corporaType=\"\"\n",
    "    shortcut=\"\"\n",
    "    name=\"\"\n",
    "    totalTextUnits=0\n",
    "    totalTestUnits=0\n",
    "    totalTrainUnits=0\n",
    "    accuracy=0\n",
    "    f1_macro=0\n",
    "    precision_macro=0\n",
    "    recall_macro=0\n",
    "    f1_micro=0\n",
    "    precision_micro=0\n",
    "    recall_micro=0\n",
    "    matrix=[]\n",
    "    f1_binary=0\n",
    "    precision_binary=0\n",
    "    recall_binary=0\n",
    "\n",
    "    splitString=re.split(\"_|/\",file)\n",
    "    corporaType=splitString[6]\n",
    "    shortcut=splitString[7]\n",
    "    name=splitString[8]\n",
    "\n",
    "    totalTime=time.time()-start_time\n",
    "\n",
    "    totalTextUnits=len(data.index)\n",
    "    totalTestUnits=len(predicted_classes)\n",
    "    totalTrainUnits=len(Y_train)\n",
    "\n",
    "    accuracy=accuracy_score(Y_test_reshape, predicted_classes)\n",
    "    f1_binary=f1_score(Y_test_reshape, predicted_classes, average=\"binary\",pos_label=0)\n",
    "    precision_binary=precision_score(Y_test_reshape, predicted_classes, average=\"binary\",pos_label=0)\n",
    "    recall_binary=recall_score(Y_test_reshape, predicted_classes, average=\"binary\",pos_label=0)\n",
    "        \n",
    "    matrix=confusion_matrix(Y_test_reshape, predicted_classes, labels=[1,0])\n",
    "        \n",
    "    matrixFlat=convertMatrix(matrix)\n",
    "    target_names = [0,1]\n",
    "    classificationReport=classification_report(Y_test_reshape, predicted_classes, target_names=target_names, output_dict=True)\n",
    "    saveData(corporaType,shortcut,name,totalTime,totalTextUnits,totalTestUnits,totalTrainUnits,accuracy,f1_macro,precision_macro,recall_macro,\n",
    "             f1_micro,precision_micro,recall_micro,matrix,f1_binary,precision_binary,recall_binary,predicted_classes, Y_test_reshape,start_time,iteration,matrixFlat,\n",
    "             classificationReport)   "
   ]
  },
  {
   "cell_type": "markdown",
   "id": "09b84fcc-ea5b-48eb-9305-e7b5f85f5e18",
   "metadata": {},
   "source": [
    "## Transform confusion matrix"
   ]
  },
  {
   "cell_type": "code",
   "execution_count": 9,
   "id": "0141b224-07a3-4e1b-b302-0509fdc2623a",
   "metadata": {},
   "outputs": [],
   "source": [
    "def convertMatrix(matrix):\n",
    "    global flatMatrix\n",
    "    array=[]\n",
    "    for i in range(len(matrix)):\n",
    "        for j in range(len(matrix[i])):\n",
    "            array.append(matrix[i][j])\n",
    "    flatMatrix = np.array(array)\n",
    "    return flatMatrix"
   ]
  },
  {
   "cell_type": "markdown",
   "id": "126d7bca-1800-4d95-925f-c0724e57a072",
   "metadata": {},
   "source": [
    "## Save data"
   ]
  },
  {
   "cell_type": "code",
   "execution_count": 10,
   "id": "00cc8857-f5e5-497a-9f76-172734f2d52b",
   "metadata": {
    "tags": []
   },
   "outputs": [],
   "source": [
    "def saveData(corporaType,shortcut,name,totalTime,totalTextUnits,totalTestUnits,totalTrainUnits,accuracy,f1_macro,precision_macro,recall_macro,f1_micro,precision_micro,recall_micro,matrix,f1_binary,precision_binary,recall_binary,y_test,test_set,startTime,iteration, matrixFlat,classificationReport):\n",
    "    df_svm_data=pd.read_csv(\"CNNDataKFold.tsv\", sep=\"\\t\")\n",
    "    df_svm_data_full=pd.read_csv(\"CNNDataKFoldFull.tsv\", sep=\"\\t\")\n",
    "\n",
    "    allData={\"Iteration\":iteration,\"Shortcut\":shortcut,\"Name\":name,\"Type\":corporaType,\"Time\":totalTime,\"Total Length\":totalTextUnits,\"Training Set\":totalTrainUnits,\"Test Set\":totalTestUnits,\"Accuracy\":accuracy,\"Precision Macro\":precision_macro,\n",
    "             \"Precision Micro\":precision_micro,\"Precision Binary\":precision_binary,\"Recall Macro\":recall_macro,\"Recall Micro\":recall_micro,\"Recall Binary\":recall_binary,\"F1 Macro\":f1_macro,\n",
    "            \"F1 Micro\":f1_micro,\"F1 Binary\":f1_binary,\"Matrix\":matrixFlat}\n",
    "\n",
    "    allDataFull={\"Iteration\":iteration,\"Shortcut\":shortcut,\"Name\":name,\"Type\":corporaType,\"Time\":totalTime,\"Total Length\":totalTextUnits,\"Training Set\":totalTrainUnits,\"Test Set\":totalTestUnits,\"Accuracy\":accuracy,\"Precision Macro\":precision_macro,\n",
    "             \"Precision Micro\":precision_micro,\"Precision Binary\":precision_binary,\"Recall Macro\":recall_macro,\"Recall Micro\":recall_micro,\"Recall Binary\":recall_binary,\"F1 Macro\":f1_macro,\n",
    "            \"F1 Micro\":f1_micro,\"F1 Binary\":f1_binary,\"Matrix\":matrixFlat,\"Train Set Full\":y_test,\"Test Set Full\":test_set}\n",
    "\n",
    "    \n",
    "    reportDict=transformReport(classificationReport)\n",
    "    allData.update(reportDict)\n",
    "    allDataFull.update(reportDict)\n",
    "    df_new_data=pd.DataFrame([allData])\n",
    "    df_new_data_full=pd.DataFrame([allDataFull])\n",
    "\n",
    "    finalData_svm=pd.concat([df_svm_data,df_new_data])\n",
    "    finalData_svm_full=pd.concat([df_svm_data_full,df_new_data_full])\n",
    "    \n",
    "    finalData_svm=finalData_svm[[\"Iteration\",\"Shortcut\",\"Name\",\"Type\",\"Time\",\"Total Length\",\"Training Set\",\"Test Set\",\"Accuracy\",\"Precision Macro\",\n",
    "              \"Precision Micro\",\"Precision Binary\",\"Recall Macro\",\"Recall Micro\",\"Recall Binary\",\"F1 Macro\",\n",
    "            \"F1 Micro\",\"F1 Binary\",\"Matrix\",\"0 precision\",\"0 recall\",\"0 f1-score\",\n",
    "            \"0 support\",\"1 precision\",\"1 recall\",\"1 f1-score\",\"1 support\",\"accuracy accuracy\",\n",
    "            \"macro avg precision\",\"macro avg recall\",\"macro avg f1-score\",\"macro avg support\",\"weighted avg precision\",\"weighted avg recall\",\n",
    "            \"weighted avg f1-score\",\"weighted avg support\"]]\n",
    "\n",
    "    finalData_svm_full=finalData_svm_full[[\"Iteration\",\"Shortcut\",\"Name\",\"Type\",\"Time\",\"Total Length\",\"Training Set\",\"Test Set\",\"Accuracy\",\"Precision Macro\",\n",
    "              \"Precision Micro\",\"Precision Binary\",\"Recall Macro\",\"Recall Micro\",\"Recall Binary\",\"F1 Macro\",\n",
    "            \"F1 Micro\",\"F1 Binary\",\"Matrix\",\"Train Set Full\",\"Test Set Full\",\"0 precision\",\"0 recall\",\"0 f1-score\",\n",
    "            \"0 support\",\"1 precision\",\"1 recall\",\"1 f1-score\",\"1 support\",\"accuracy accuracy\",\n",
    "            \"macro avg precision\",\"macro avg recall\",\"macro avg f1-score\",\"macro avg support\",\"weighted avg precision\",\"weighted avg recall\",\n",
    "            \"weighted avg f1-score\",\"weighted avg support\"]]"
   ]
  },
  {
   "cell_type": "markdown",
   "id": "af4f63af-14e2-475f-b6e1-7a84e956131e",
   "metadata": {},
   "source": [
    "## Transform classification report"
   ]
  },
  {
   "cell_type": "code",
   "execution_count": 11,
   "id": "b37a659b-b912-4c32-8fdc-6898614e42b2",
   "metadata": {},
   "outputs": [],
   "source": [
    "def transformReport(classificationReport):\n",
    "    newDict={}\n",
    "    for key in classificationReport.keys():\n",
    "        mainName=str(key)\n",
    "        if type(classificationReport[key]) != dict:\n",
    "            name=mainName+\" \"+key\n",
    "            newDict[name]=classificationReport[key]\n",
    "            \n",
    "        if type(classificationReport[key]) == dict:\n",
    "            for k in classificationReport[key].keys():\n",
    "                name=mainName+\" \"+k\n",
    "                newDict[name]=classificationReport[key][k]\n",
    "\n",
    "    return newDict"
   ]
  },
  {
   "cell_type": "markdown",
   "id": "fe937a9c-8d84-4ec3-b3b6-e547cdf6a816",
   "metadata": {},
   "source": [
    "## Main function"
   ]
  },
  {
   "cell_type": "code",
   "execution_count": 12,
   "id": "0dd35a84-cf37-4103-a157-324eda6d7832",
   "metadata": {
    "tags": []
   },
   "outputs": [
    {
     "name": "stdout",
     "output_type": "stream",
     "text": [
      "Start for corpora:  ../../..//Corpora/Preprocessed/Binary/LT01_gnd_Preprocessed_binary.tsv\n",
      "Epoch 1/4\n"
     ]
    },
    {
     "name": "stderr",
     "output_type": "stream",
     "text": [
      "2022-11-20 11:25:42.703258: I tensorflow/core/platform/cpu_feature_guard.cc:151] This TensorFlow binary is optimized with oneAPI Deep Neural Network Library (oneDNN) to use the following CPU instructions in performance-critical operations:  AVX2 AVX512F FMA\n",
      "To enable them in other operations, rebuild TensorFlow with the appropriate compiler flags.\n",
      "2022-11-20 11:25:43.143395: I tensorflow/core/common_runtime/gpu/gpu_device.cc:1525] Created device /job:localhost/replica:0/task:0/device:GPU:0 with 22349 MB memory:  -> device: 0, name: Quadro RTX 6000, pci bus id: 0000:65:00.0, compute capability: 7.5\n",
      "2022-11-20 11:25:44.506038: I tensorflow/stream_executor/cuda/cuda_dnn.cc:368] Loaded cuDNN version 8400\n"
     ]
    },
    {
     "name": "stdout",
     "output_type": "stream",
     "text": [
      "4/4 [==============================] - 2s 12ms/step - loss: 0.7021 - accuracy: 0.3853\n"
     ]
    },
    {
     "name": "stderr",
     "output_type": "stream",
     "text": [
      "2022-11-20 11:25:44.942239: I tensorflow/core/platform/default/subprocess.cc:304] Start cannot spawn child process: No such file or directory\n",
      "2022-11-20 11:25:44.943060: I tensorflow/core/platform/default/subprocess.cc:304] Start cannot spawn child process: No such file or directory\n",
      "2022-11-20 11:25:44.943076: W tensorflow/stream_executor/gpu/asm_compiler.cc:80] Couldn't get ptxas version string: INTERNAL: Couldn't invoke ptxas --version\n",
      "2022-11-20 11:25:44.943890: I tensorflow/core/platform/default/subprocess.cc:304] Start cannot spawn child process: No such file or directory\n",
      "2022-11-20 11:25:44.943935: W tensorflow/stream_executor/gpu/redzone_allocator.cc:314] INTERNAL: Failed to launch ptxas\n",
      "Relying on driver to perform ptx compilation. \n",
      "Modify $PATH to customize ptxas location.\n",
      "This message will be only logged once.\n"
     ]
    },
    {
     "name": "stdout",
     "output_type": "stream",
     "text": [
      "Epoch 2/4\n",
      "4/4 [==============================] - 0s 6ms/step - loss: 0.6803 - accuracy: 0.7890\n",
      "Epoch 3/4\n",
      "4/4 [==============================] - 0s 6ms/step - loss: 0.6684 - accuracy: 0.8165\n",
      "Epoch 4/4\n",
      "4/4 [==============================] - 0s 6ms/step - loss: 0.6500 - accuracy: 0.9358\n",
      "Test accuracy:67.57\n",
      "26\n",
      "------------------\n",
      "11\n",
      "0.6756756756756757\n",
      "Epoch 1/4\n",
      "4/4 [==============================] - 0s 10ms/step - loss: 0.6921 - accuracy: 0.5872\n",
      "Epoch 2/4\n",
      "4/4 [==============================] - 0s 6ms/step - loss: 0.6620 - accuracy: 0.6147\n",
      "Epoch 3/4\n",
      "4/4 [==============================] - 0s 6ms/step - loss: 0.6358 - accuracy: 0.6147\n",
      "Epoch 4/4\n",
      "4/4 [==============================] - 0s 6ms/step - loss: 0.6098 - accuracy: 0.6239\n",
      "Test accuracy:62.16\n",
      "37\n",
      "------------------\n",
      "0\n",
      "0.6216216216216216\n",
      "Epoch 1/4\n"
     ]
    },
    {
     "name": "stderr",
     "output_type": "stream",
     "text": [
      "/opt/conda/lib/python3.10/site-packages/sklearn/metrics/_classification.py:1327: UndefinedMetricWarning: Precision and F-score are ill-defined and being set to 0.0 in labels with no predicted samples. Use `zero_division` parameter to control this behavior.\n",
      "  _warn_prf(average, modifier, msg_start, len(result))\n",
      "/opt/conda/lib/python3.10/site-packages/sklearn/metrics/_classification.py:1327: UndefinedMetricWarning: Precision and F-score are ill-defined and being set to 0.0 in labels with no predicted samples. Use `zero_division` parameter to control this behavior.\n",
      "  _warn_prf(average, modifier, msg_start, len(result))\n",
      "/opt/conda/lib/python3.10/site-packages/sklearn/metrics/_classification.py:1327: UndefinedMetricWarning: Precision and F-score are ill-defined and being set to 0.0 in labels with no predicted samples. Use `zero_division` parameter to control this behavior.\n",
      "  _warn_prf(average, modifier, msg_start, len(result))\n"
     ]
    },
    {
     "name": "stdout",
     "output_type": "stream",
     "text": [
      "4/4 [==============================] - 0s 9ms/step - loss: 0.6901 - accuracy: 0.6000\n",
      "Epoch 2/4\n",
      "4/4 [==============================] - 0s 5ms/step - loss: 0.6700 - accuracy: 0.6182\n",
      "Epoch 3/4\n",
      "4/4 [==============================] - 0s 6ms/step - loss: 0.6504 - accuracy: 0.6273\n",
      "Epoch 4/4\n",
      "4/4 [==============================] - 0s 6ms/step - loss: 0.6307 - accuracy: 0.6364\n",
      "Test accuracy:61.11\n",
      "36\n",
      "------------------\n",
      "0\n",
      "0.6111111111111112\n",
      "Epoch 1/4\n"
     ]
    },
    {
     "name": "stderr",
     "output_type": "stream",
     "text": [
      "/opt/conda/lib/python3.10/site-packages/sklearn/metrics/_classification.py:1327: UndefinedMetricWarning: Precision and F-score are ill-defined and being set to 0.0 in labels with no predicted samples. Use `zero_division` parameter to control this behavior.\n",
      "  _warn_prf(average, modifier, msg_start, len(result))\n",
      "/opt/conda/lib/python3.10/site-packages/sklearn/metrics/_classification.py:1327: UndefinedMetricWarning: Precision and F-score are ill-defined and being set to 0.0 in labels with no predicted samples. Use `zero_division` parameter to control this behavior.\n",
      "  _warn_prf(average, modifier, msg_start, len(result))\n",
      "/opt/conda/lib/python3.10/site-packages/sklearn/metrics/_classification.py:1327: UndefinedMetricWarning: Precision and F-score are ill-defined and being set to 0.0 in labels with no predicted samples. Use `zero_division` parameter to control this behavior.\n",
      "  _warn_prf(average, modifier, msg_start, len(result))\n"
     ]
    },
    {
     "name": "stdout",
     "output_type": "stream",
     "text": [
      "4/4 [==============================] - 0s 4ms/step - loss: 0.6855 - accuracy: 0.6091\n",
      "Epoch 2/4\n",
      "4/4 [==============================] - 0s 5ms/step - loss: 0.6538 - accuracy: 0.6182\n",
      "Epoch 3/4\n",
      "4/4 [==============================] - 0s 6ms/step - loss: 0.6269 - accuracy: 0.6273\n",
      "Epoch 4/4\n",
      "4/4 [==============================] - 0s 6ms/step - loss: 0.6014 - accuracy: 0.6455\n",
      "Test accuracy:61.11\n",
      "36\n",
      "------------------\n",
      "0\n",
      "0.6111111111111112\n",
      "Finish\n",
      "Start for corpora:  ../../..//Corpora/Preprocessed/Binary/LT02_speechLessing_Preprocessed_binary.tsv\n",
      "Epoch 1/4\n"
     ]
    },
    {
     "name": "stderr",
     "output_type": "stream",
     "text": [
      "/opt/conda/lib/python3.10/site-packages/sklearn/metrics/_classification.py:1327: UndefinedMetricWarning: Precision and F-score are ill-defined and being set to 0.0 in labels with no predicted samples. Use `zero_division` parameter to control this behavior.\n",
      "  _warn_prf(average, modifier, msg_start, len(result))\n",
      "/opt/conda/lib/python3.10/site-packages/sklearn/metrics/_classification.py:1327: UndefinedMetricWarning: Precision and F-score are ill-defined and being set to 0.0 in labels with no predicted samples. Use `zero_division` parameter to control this behavior.\n",
      "  _warn_prf(average, modifier, msg_start, len(result))\n",
      "/opt/conda/lib/python3.10/site-packages/sklearn/metrics/_classification.py:1327: UndefinedMetricWarning: Precision and F-score are ill-defined and being set to 0.0 in labels with no predicted samples. Use `zero_division` parameter to control this behavior.\n",
      "  _warn_prf(average, modifier, msg_start, len(result))\n"
     ]
    },
    {
     "name": "stdout",
     "output_type": "stream",
     "text": [
      "14/14 [==============================] - 1s 14ms/step - loss: 0.6706 - accuracy: 0.6457\n",
      "Epoch 2/4\n",
      "14/14 [==============================] - 0s 6ms/step - loss: 0.6364 - accuracy: 0.6457\n",
      "Epoch 3/4\n",
      "14/14 [==============================] - 0s 6ms/step - loss: 0.6137 - accuracy: 0.6457\n",
      "Epoch 4/4\n",
      "14/14 [==============================] - 0s 7ms/step - loss: 0.5726 - accuracy: 0.6457\n",
      "WARNING:tensorflow:5 out of the last 9 calls to <function Model.make_test_function.<locals>.test_function at 0x7f213dcfc9d0> triggered tf.function retracing. Tracing is expensive and the excessive number of tracings could be due to (1) creating @tf.function repeatedly in a loop, (2) passing tensors with different shapes, (3) passing Python objects instead of tensors. For (1), please define your @tf.function outside of the loop. For (2), @tf.function has experimental_relax_shapes=True option that relaxes argument shapes that can avoid unnecessary retracing. For (3), please refer to https://www.tensorflow.org/guide/function#controlling_retracing and https://www.tensorflow.org/api_docs/python/tf/function for  more details.\n",
      "Test accuracy:65.03\n",
      "WARNING:tensorflow:5 out of the last 9 calls to <function Model.make_predict_function.<locals>.predict_function at 0x7f211c407eb0> triggered tf.function retracing. Tracing is expensive and the excessive number of tracings could be due to (1) creating @tf.function repeatedly in a loop, (2) passing tensors with different shapes, (3) passing Python objects instead of tensors. For (1), please define your @tf.function outside of the loop. For (2), @tf.function has experimental_relax_shapes=True option that relaxes argument shapes that can avoid unnecessary retracing. For (3), please refer to https://www.tensorflow.org/guide/function#controlling_retracing and https://www.tensorflow.org/api_docs/python/tf/function for  more details.\n",
      "143\n",
      "------------------\n",
      "0\n",
      "0.6503496503496503\n",
      "Epoch 1/4\n"
     ]
    },
    {
     "name": "stderr",
     "output_type": "stream",
     "text": [
      "/opt/conda/lib/python3.10/site-packages/sklearn/metrics/_classification.py:1327: UndefinedMetricWarning: Precision and F-score are ill-defined and being set to 0.0 in labels with no predicted samples. Use `zero_division` parameter to control this behavior.\n",
      "  _warn_prf(average, modifier, msg_start, len(result))\n",
      "/opt/conda/lib/python3.10/site-packages/sklearn/metrics/_classification.py:1327: UndefinedMetricWarning: Precision and F-score are ill-defined and being set to 0.0 in labels with no predicted samples. Use `zero_division` parameter to control this behavior.\n",
      "  _warn_prf(average, modifier, msg_start, len(result))\n",
      "/opt/conda/lib/python3.10/site-packages/sklearn/metrics/_classification.py:1327: UndefinedMetricWarning: Precision and F-score are ill-defined and being set to 0.0 in labels with no predicted samples. Use `zero_division` parameter to control this behavior.\n",
      "  _warn_prf(average, modifier, msg_start, len(result))\n"
     ]
    },
    {
     "name": "stdout",
     "output_type": "stream",
     "text": [
      "14/14 [==============================] - 0s 5ms/step - loss: 0.6609 - accuracy: 0.6247\n",
      "Epoch 2/4\n",
      "14/14 [==============================] - 0s 6ms/step - loss: 0.6326 - accuracy: 0.6457\n",
      "Epoch 3/4\n",
      "14/14 [==============================] - 0s 7ms/step - loss: 0.6065 - accuracy: 0.6573\n",
      "Epoch 4/4\n",
      "14/14 [==============================] - 0s 6ms/step - loss: 0.5457 - accuracy: 0.6783\n",
      "WARNING:tensorflow:5 out of the last 12 calls to <function Model.make_test_function.<locals>.test_function at 0x7f211c3e7b50> triggered tf.function retracing. Tracing is expensive and the excessive number of tracings could be due to (1) creating @tf.function repeatedly in a loop, (2) passing tensors with different shapes, (3) passing Python objects instead of tensors. For (1), please define your @tf.function outside of the loop. For (2), @tf.function has experimental_relax_shapes=True option that relaxes argument shapes that can avoid unnecessary retracing. For (3), please refer to https://www.tensorflow.org/guide/function#controlling_retracing and https://www.tensorflow.org/api_docs/python/tf/function for  more details.\n",
      "Test accuracy:65.03\n",
      "WARNING:tensorflow:5 out of the last 12 calls to <function Model.make_predict_function.<locals>.predict_function at 0x7f211c4077f0> triggered tf.function retracing. Tracing is expensive and the excessive number of tracings could be due to (1) creating @tf.function repeatedly in a loop, (2) passing tensors with different shapes, (3) passing Python objects instead of tensors. For (1), please define your @tf.function outside of the loop. For (2), @tf.function has experimental_relax_shapes=True option that relaxes argument shapes that can avoid unnecessary retracing. For (3), please refer to https://www.tensorflow.org/guide/function#controlling_retracing and https://www.tensorflow.org/api_docs/python/tf/function for  more details.\n",
      "143\n",
      "------------------\n",
      "0\n",
      "0.6503496503496503\n",
      "Epoch 1/4\n"
     ]
    },
    {
     "name": "stderr",
     "output_type": "stream",
     "text": [
      "/opt/conda/lib/python3.10/site-packages/sklearn/metrics/_classification.py:1327: UndefinedMetricWarning: Precision and F-score are ill-defined and being set to 0.0 in labels with no predicted samples. Use `zero_division` parameter to control this behavior.\n",
      "  _warn_prf(average, modifier, msg_start, len(result))\n",
      "/opt/conda/lib/python3.10/site-packages/sklearn/metrics/_classification.py:1327: UndefinedMetricWarning: Precision and F-score are ill-defined and being set to 0.0 in labels with no predicted samples. Use `zero_division` parameter to control this behavior.\n",
      "  _warn_prf(average, modifier, msg_start, len(result))\n",
      "/opt/conda/lib/python3.10/site-packages/sklearn/metrics/_classification.py:1327: UndefinedMetricWarning: Precision and F-score are ill-defined and being set to 0.0 in labels with no predicted samples. Use `zero_division` parameter to control this behavior.\n",
      "  _warn_prf(average, modifier, msg_start, len(result))\n"
     ]
    },
    {
     "name": "stdout",
     "output_type": "stream",
     "text": [
      "14/14 [==============================] - 1s 10ms/step - loss: 0.6635 - accuracy: 0.6480\n",
      "Epoch 2/4\n",
      "14/14 [==============================] - 0s 6ms/step - loss: 0.6233 - accuracy: 0.6480\n",
      "Epoch 3/4\n",
      "14/14 [==============================] - 0s 7ms/step - loss: 0.5822 - accuracy: 0.6550\n",
      "Epoch 4/4\n",
      "14/14 [==============================] - 0s 6ms/step - loss: 0.5155 - accuracy: 0.6923\n",
      "Test accuracy:64.34\n",
      "143\n",
      "------------------\n",
      "0\n",
      "0.6433566433566433\n",
      "Epoch 1/4\n"
     ]
    },
    {
     "name": "stderr",
     "output_type": "stream",
     "text": [
      "/opt/conda/lib/python3.10/site-packages/sklearn/metrics/_classification.py:1327: UndefinedMetricWarning: Precision and F-score are ill-defined and being set to 0.0 in labels with no predicted samples. Use `zero_division` parameter to control this behavior.\n",
      "  _warn_prf(average, modifier, msg_start, len(result))\n",
      "/opt/conda/lib/python3.10/site-packages/sklearn/metrics/_classification.py:1327: UndefinedMetricWarning: Precision and F-score are ill-defined and being set to 0.0 in labels with no predicted samples. Use `zero_division` parameter to control this behavior.\n",
      "  _warn_prf(average, modifier, msg_start, len(result))\n",
      "/opt/conda/lib/python3.10/site-packages/sklearn/metrics/_classification.py:1327: UndefinedMetricWarning: Precision and F-score are ill-defined and being set to 0.0 in labels with no predicted samples. Use `zero_division` parameter to control this behavior.\n",
      "  _warn_prf(average, modifier, msg_start, len(result))\n"
     ]
    },
    {
     "ename": "KeyboardInterrupt",
     "evalue": "",
     "output_type": "error",
     "traceback": [
      "\u001b[0;31m---------------------------------------------------------------------------\u001b[0m",
      "\u001b[0;31mKeyboardInterrupt\u001b[0m                         Traceback (most recent call last)",
      "Input \u001b[0;32mIn [12]\u001b[0m, in \u001b[0;36m<cell line: 30>\u001b[0;34m()\u001b[0m\n\u001b[1;32m     27\u001b[0m         split_data()\n\u001b[1;32m     28\u001b[0m         \u001b[38;5;28mprint\u001b[39m(\u001b[38;5;124m\"\u001b[39m\u001b[38;5;124mFinish\u001b[39m\u001b[38;5;124m\"\u001b[39m)\n\u001b[0;32m---> 30\u001b[0m \u001b[43mmain\u001b[49m\u001b[43m(\u001b[49m\u001b[43m)\u001b[49m\n",
      "Input \u001b[0;32mIn [12]\u001b[0m, in \u001b[0;36mmain\u001b[0;34m()\u001b[0m\n\u001b[1;32m     25\u001b[0m \u001b[38;5;28mprint\u001b[39m(\u001b[38;5;124m\"\u001b[39m\u001b[38;5;124mStart for corpora: \u001b[39m\u001b[38;5;124m\"\u001b[39m, file)\n\u001b[1;32m     26\u001b[0m data\u001b[38;5;241m=\u001b[39mpd\u001b[38;5;241m.\u001b[39mread_csv(file, sep\u001b[38;5;241m=\u001b[39m\u001b[38;5;124m\"\u001b[39m\u001b[38;5;130;01m\\t\u001b[39;00m\u001b[38;5;124m\"\u001b[39m)\n\u001b[0;32m---> 27\u001b[0m \u001b[43msplit_data\u001b[49m\u001b[43m(\u001b[49m\u001b[43m)\u001b[49m\n\u001b[1;32m     28\u001b[0m \u001b[38;5;28mprint\u001b[39m(\u001b[38;5;124m\"\u001b[39m\u001b[38;5;124mFinish\u001b[39m\u001b[38;5;124m\"\u001b[39m)\n",
      "Input \u001b[0;32mIn [5]\u001b[0m, in \u001b[0;36msplit_data\u001b[0;34m()\u001b[0m\n\u001b[1;32m     13\u001b[0m tokenize_data(X_train, X_test)\n\u001b[1;32m     14\u001b[0m setup_model()\n\u001b[0;32m---> 15\u001b[0m \u001b[43mtrain_model\u001b[49m\u001b[43m(\u001b[49m\u001b[43mX_train_encoded\u001b[49m\u001b[43m,\u001b[49m\u001b[43m \u001b[49m\u001b[43mX_test_encoded\u001b[49m\u001b[43m,\u001b[49m\u001b[43m \u001b[49m\u001b[43mY_train\u001b[49m\u001b[43m,\u001b[49m\u001b[43m \u001b[49m\u001b[43mY_test\u001b[49m\u001b[43m,\u001b[49m\u001b[43m \u001b[49m\u001b[43miteration\u001b[49m\u001b[43m,\u001b[49m\u001b[43m \u001b[49m\u001b[43mstart_time\u001b[49m\u001b[43m)\u001b[49m\n",
      "Input \u001b[0;32mIn [6]\u001b[0m, in \u001b[0;36mtrain_model\u001b[0;34m(X_train_encoded, X_test_encoded, Y_train, Y_test, iteration, start_time)\u001b[0m\n\u001b[1;32m      4\u001b[0m epochs \u001b[38;5;241m=\u001b[39m \u001b[38;5;241m4\u001b[39m\n\u001b[1;32m      5\u001b[0m verbose \u001b[38;5;241m=\u001b[39m \u001b[38;5;241m1\u001b[39m \n\u001b[0;32m----> 6\u001b[0m \u001b[43mmodel\u001b[49m\u001b[38;5;241;43m.\u001b[39;49m\u001b[43mfit\u001b[49m\u001b[43m(\u001b[49m\u001b[43mX_train_encoded\u001b[49m\u001b[43m,\u001b[49m\u001b[43m \u001b[49m\u001b[43mY_train\u001b[49m\u001b[43m,\u001b[49m\u001b[43m \u001b[49m\u001b[43mepochs\u001b[49m\u001b[43m \u001b[49m\u001b[38;5;241;43m=\u001b[39;49m\u001b[43m \u001b[49m\u001b[43mepochs\u001b[49m\u001b[43m,\u001b[49m\u001b[43m \u001b[49m\u001b[43mbatch_size\u001b[49m\u001b[43m \u001b[49m\u001b[38;5;241;43m=\u001b[39;49m\u001b[43m \u001b[49m\u001b[43mbatch_size\u001b[49m\u001b[43m,\u001b[49m\u001b[43m \u001b[49m\u001b[43mverbose\u001b[49m\u001b[43m \u001b[49m\u001b[38;5;241;43m=\u001b[39;49m\u001b[43m \u001b[49m\u001b[43mverbose\u001b[49m\u001b[43m)\u001b[49m\n\u001b[1;32m      7\u001b[0m predict_model(X_train_encoded, X_test_encoded, Y_train, Y_test, iteration, start_time)\n",
      "File \u001b[0;32m/opt/conda/lib/python3.10/site-packages/keras/utils/traceback_utils.py:64\u001b[0m, in \u001b[0;36mfilter_traceback.<locals>.error_handler\u001b[0;34m(*args, **kwargs)\u001b[0m\n\u001b[1;32m     62\u001b[0m filtered_tb \u001b[38;5;241m=\u001b[39m \u001b[38;5;28;01mNone\u001b[39;00m\n\u001b[1;32m     63\u001b[0m \u001b[38;5;28;01mtry\u001b[39;00m:\n\u001b[0;32m---> 64\u001b[0m   \u001b[38;5;28;01mreturn\u001b[39;00m \u001b[43mfn\u001b[49m\u001b[43m(\u001b[49m\u001b[38;5;241;43m*\u001b[39;49m\u001b[43margs\u001b[49m\u001b[43m,\u001b[49m\u001b[43m \u001b[49m\u001b[38;5;241;43m*\u001b[39;49m\u001b[38;5;241;43m*\u001b[39;49m\u001b[43mkwargs\u001b[49m\u001b[43m)\u001b[49m\n\u001b[1;32m     65\u001b[0m \u001b[38;5;28;01mexcept\u001b[39;00m \u001b[38;5;167;01mException\u001b[39;00m \u001b[38;5;28;01mas\u001b[39;00m e:  \u001b[38;5;66;03m# pylint: disable=broad-except\u001b[39;00m\n\u001b[1;32m     66\u001b[0m   filtered_tb \u001b[38;5;241m=\u001b[39m _process_traceback_frames(e\u001b[38;5;241m.\u001b[39m__traceback__)\n",
      "File \u001b[0;32m/opt/conda/lib/python3.10/site-packages/keras/engine/training.py:1384\u001b[0m, in \u001b[0;36mModel.fit\u001b[0;34m(self, x, y, batch_size, epochs, verbose, callbacks, validation_split, validation_data, shuffle, class_weight, sample_weight, initial_epoch, steps_per_epoch, validation_steps, validation_batch_size, validation_freq, max_queue_size, workers, use_multiprocessing)\u001b[0m\n\u001b[1;32m   1377\u001b[0m \u001b[38;5;28;01mwith\u001b[39;00m tf\u001b[38;5;241m.\u001b[39mprofiler\u001b[38;5;241m.\u001b[39mexperimental\u001b[38;5;241m.\u001b[39mTrace(\n\u001b[1;32m   1378\u001b[0m     \u001b[38;5;124m'\u001b[39m\u001b[38;5;124mtrain\u001b[39m\u001b[38;5;124m'\u001b[39m,\n\u001b[1;32m   1379\u001b[0m     epoch_num\u001b[38;5;241m=\u001b[39mepoch,\n\u001b[1;32m   1380\u001b[0m     step_num\u001b[38;5;241m=\u001b[39mstep,\n\u001b[1;32m   1381\u001b[0m     batch_size\u001b[38;5;241m=\u001b[39mbatch_size,\n\u001b[1;32m   1382\u001b[0m     _r\u001b[38;5;241m=\u001b[39m\u001b[38;5;241m1\u001b[39m):\n\u001b[1;32m   1383\u001b[0m   callbacks\u001b[38;5;241m.\u001b[39mon_train_batch_begin(step)\n\u001b[0;32m-> 1384\u001b[0m   tmp_logs \u001b[38;5;241m=\u001b[39m \u001b[38;5;28;43mself\u001b[39;49m\u001b[38;5;241;43m.\u001b[39;49m\u001b[43mtrain_function\u001b[49m\u001b[43m(\u001b[49m\u001b[43miterator\u001b[49m\u001b[43m)\u001b[49m\n\u001b[1;32m   1385\u001b[0m   \u001b[38;5;28;01mif\u001b[39;00m data_handler\u001b[38;5;241m.\u001b[39mshould_sync:\n\u001b[1;32m   1386\u001b[0m     context\u001b[38;5;241m.\u001b[39masync_wait()\n",
      "File \u001b[0;32m/opt/conda/lib/python3.10/site-packages/tensorflow/python/util/traceback_utils.py:150\u001b[0m, in \u001b[0;36mfilter_traceback.<locals>.error_handler\u001b[0;34m(*args, **kwargs)\u001b[0m\n\u001b[1;32m    148\u001b[0m filtered_tb \u001b[38;5;241m=\u001b[39m \u001b[38;5;28;01mNone\u001b[39;00m\n\u001b[1;32m    149\u001b[0m \u001b[38;5;28;01mtry\u001b[39;00m:\n\u001b[0;32m--> 150\u001b[0m   \u001b[38;5;28;01mreturn\u001b[39;00m \u001b[43mfn\u001b[49m\u001b[43m(\u001b[49m\u001b[38;5;241;43m*\u001b[39;49m\u001b[43margs\u001b[49m\u001b[43m,\u001b[49m\u001b[43m \u001b[49m\u001b[38;5;241;43m*\u001b[39;49m\u001b[38;5;241;43m*\u001b[39;49m\u001b[43mkwargs\u001b[49m\u001b[43m)\u001b[49m\n\u001b[1;32m    151\u001b[0m \u001b[38;5;28;01mexcept\u001b[39;00m \u001b[38;5;167;01mException\u001b[39;00m \u001b[38;5;28;01mas\u001b[39;00m e:\n\u001b[1;32m    152\u001b[0m   filtered_tb \u001b[38;5;241m=\u001b[39m _process_traceback_frames(e\u001b[38;5;241m.\u001b[39m__traceback__)\n",
      "File \u001b[0;32m/opt/conda/lib/python3.10/site-packages/tensorflow/python/eager/def_function.py:915\u001b[0m, in \u001b[0;36mFunction.__call__\u001b[0;34m(self, *args, **kwds)\u001b[0m\n\u001b[1;32m    912\u001b[0m compiler \u001b[38;5;241m=\u001b[39m \u001b[38;5;124m\"\u001b[39m\u001b[38;5;124mxla\u001b[39m\u001b[38;5;124m\"\u001b[39m \u001b[38;5;28;01mif\u001b[39;00m \u001b[38;5;28mself\u001b[39m\u001b[38;5;241m.\u001b[39m_jit_compile \u001b[38;5;28;01melse\u001b[39;00m \u001b[38;5;124m\"\u001b[39m\u001b[38;5;124mnonXla\u001b[39m\u001b[38;5;124m\"\u001b[39m\n\u001b[1;32m    914\u001b[0m \u001b[38;5;28;01mwith\u001b[39;00m OptionalXlaContext(\u001b[38;5;28mself\u001b[39m\u001b[38;5;241m.\u001b[39m_jit_compile):\n\u001b[0;32m--> 915\u001b[0m   result \u001b[38;5;241m=\u001b[39m \u001b[38;5;28;43mself\u001b[39;49m\u001b[38;5;241;43m.\u001b[39;49m\u001b[43m_call\u001b[49m\u001b[43m(\u001b[49m\u001b[38;5;241;43m*\u001b[39;49m\u001b[43margs\u001b[49m\u001b[43m,\u001b[49m\u001b[43m \u001b[49m\u001b[38;5;241;43m*\u001b[39;49m\u001b[38;5;241;43m*\u001b[39;49m\u001b[43mkwds\u001b[49m\u001b[43m)\u001b[49m\n\u001b[1;32m    917\u001b[0m new_tracing_count \u001b[38;5;241m=\u001b[39m \u001b[38;5;28mself\u001b[39m\u001b[38;5;241m.\u001b[39mexperimental_get_tracing_count()\n\u001b[1;32m    918\u001b[0m without_tracing \u001b[38;5;241m=\u001b[39m (tracing_count \u001b[38;5;241m==\u001b[39m new_tracing_count)\n",
      "File \u001b[0;32m/opt/conda/lib/python3.10/site-packages/tensorflow/python/eager/def_function.py:980\u001b[0m, in \u001b[0;36mFunction._call\u001b[0;34m(self, *args, **kwds)\u001b[0m\n\u001b[1;32m    976\u001b[0m     \u001b[38;5;28;01mpass\u001b[39;00m  \u001b[38;5;66;03m# Fall through to cond-based initialization.\u001b[39;00m\n\u001b[1;32m    977\u001b[0m   \u001b[38;5;28;01melse\u001b[39;00m:\n\u001b[1;32m    978\u001b[0m     \u001b[38;5;66;03m# Lifting succeeded, so variables are initialized and we can run the\u001b[39;00m\n\u001b[1;32m    979\u001b[0m     \u001b[38;5;66;03m# stateless function.\u001b[39;00m\n\u001b[0;32m--> 980\u001b[0m     \u001b[38;5;28;01mreturn\u001b[39;00m \u001b[38;5;28;43mself\u001b[39;49m\u001b[38;5;241;43m.\u001b[39;49m\u001b[43m_stateless_fn\u001b[49m\u001b[43m(\u001b[49m\u001b[38;5;241;43m*\u001b[39;49m\u001b[43margs\u001b[49m\u001b[43m,\u001b[49m\u001b[43m \u001b[49m\u001b[38;5;241;43m*\u001b[39;49m\u001b[38;5;241;43m*\u001b[39;49m\u001b[43mkwds\u001b[49m\u001b[43m)\u001b[49m\n\u001b[1;32m    981\u001b[0m \u001b[38;5;28;01melse\u001b[39;00m:\n\u001b[1;32m    982\u001b[0m   _, _, _, filtered_flat_args \u001b[38;5;241m=\u001b[39m \\\n\u001b[1;32m    983\u001b[0m       \u001b[38;5;28mself\u001b[39m\u001b[38;5;241m.\u001b[39m_stateful_fn\u001b[38;5;241m.\u001b[39m_function_spec\u001b[38;5;241m.\u001b[39mcanonicalize_function_inputs(  \u001b[38;5;66;03m# pylint: disable=protected-access\u001b[39;00m\n\u001b[1;32m    984\u001b[0m           \u001b[38;5;241m*\u001b[39margs, \u001b[38;5;241m*\u001b[39m\u001b[38;5;241m*\u001b[39mkwds)\n",
      "File \u001b[0;32m/opt/conda/lib/python3.10/site-packages/tensorflow/python/eager/function.py:2956\u001b[0m, in \u001b[0;36mFunction.__call__\u001b[0;34m(self, *args, **kwargs)\u001b[0m\n\u001b[1;32m   2953\u001b[0m \u001b[38;5;28;01mwith\u001b[39;00m \u001b[38;5;28mself\u001b[39m\u001b[38;5;241m.\u001b[39m_lock:\n\u001b[1;32m   2954\u001b[0m   (graph_function,\n\u001b[1;32m   2955\u001b[0m    filtered_flat_args) \u001b[38;5;241m=\u001b[39m \u001b[38;5;28mself\u001b[39m\u001b[38;5;241m.\u001b[39m_maybe_define_function(args, kwargs)\n\u001b[0;32m-> 2956\u001b[0m \u001b[38;5;28;01mreturn\u001b[39;00m \u001b[43mgraph_function\u001b[49m\u001b[38;5;241;43m.\u001b[39;49m\u001b[43m_call_flat\u001b[49m\u001b[43m(\u001b[49m\n\u001b[1;32m   2957\u001b[0m \u001b[43m    \u001b[49m\u001b[43mfiltered_flat_args\u001b[49m\u001b[43m,\u001b[49m\u001b[43m \u001b[49m\u001b[43mcaptured_inputs\u001b[49m\u001b[38;5;241;43m=\u001b[39;49m\u001b[43mgraph_function\u001b[49m\u001b[38;5;241;43m.\u001b[39;49m\u001b[43mcaptured_inputs\u001b[49m\u001b[43m)\u001b[49m\n",
      "File \u001b[0;32m/opt/conda/lib/python3.10/site-packages/tensorflow/python/eager/function.py:1853\u001b[0m, in \u001b[0;36mConcreteFunction._call_flat\u001b[0;34m(self, args, captured_inputs, cancellation_manager)\u001b[0m\n\u001b[1;32m   1849\u001b[0m possible_gradient_type \u001b[38;5;241m=\u001b[39m gradients_util\u001b[38;5;241m.\u001b[39mPossibleTapeGradientTypes(args)\n\u001b[1;32m   1850\u001b[0m \u001b[38;5;28;01mif\u001b[39;00m (possible_gradient_type \u001b[38;5;241m==\u001b[39m gradients_util\u001b[38;5;241m.\u001b[39mPOSSIBLE_GRADIENT_TYPES_NONE\n\u001b[1;32m   1851\u001b[0m     \u001b[38;5;129;01mand\u001b[39;00m executing_eagerly):\n\u001b[1;32m   1852\u001b[0m   \u001b[38;5;66;03m# No tape is watching; skip to running the function.\u001b[39;00m\n\u001b[0;32m-> 1853\u001b[0m   \u001b[38;5;28;01mreturn\u001b[39;00m \u001b[38;5;28mself\u001b[39m\u001b[38;5;241m.\u001b[39m_build_call_outputs(\u001b[38;5;28;43mself\u001b[39;49m\u001b[38;5;241;43m.\u001b[39;49m\u001b[43m_inference_function\u001b[49m\u001b[38;5;241;43m.\u001b[39;49m\u001b[43mcall\u001b[49m\u001b[43m(\u001b[49m\n\u001b[1;32m   1854\u001b[0m \u001b[43m      \u001b[49m\u001b[43mctx\u001b[49m\u001b[43m,\u001b[49m\u001b[43m \u001b[49m\u001b[43margs\u001b[49m\u001b[43m,\u001b[49m\u001b[43m \u001b[49m\u001b[43mcancellation_manager\u001b[49m\u001b[38;5;241;43m=\u001b[39;49m\u001b[43mcancellation_manager\u001b[49m\u001b[43m)\u001b[49m)\n\u001b[1;32m   1855\u001b[0m forward_backward \u001b[38;5;241m=\u001b[39m \u001b[38;5;28mself\u001b[39m\u001b[38;5;241m.\u001b[39m_select_forward_and_backward_functions(\n\u001b[1;32m   1856\u001b[0m     args,\n\u001b[1;32m   1857\u001b[0m     possible_gradient_type,\n\u001b[1;32m   1858\u001b[0m     executing_eagerly)\n\u001b[1;32m   1859\u001b[0m forward_function, args_with_tangents \u001b[38;5;241m=\u001b[39m forward_backward\u001b[38;5;241m.\u001b[39mforward()\n",
      "File \u001b[0;32m/opt/conda/lib/python3.10/site-packages/tensorflow/python/eager/function.py:499\u001b[0m, in \u001b[0;36m_EagerDefinedFunction.call\u001b[0;34m(self, ctx, args, cancellation_manager)\u001b[0m\n\u001b[1;32m    497\u001b[0m \u001b[38;5;28;01mwith\u001b[39;00m _InterpolateFunctionError(\u001b[38;5;28mself\u001b[39m):\n\u001b[1;32m    498\u001b[0m   \u001b[38;5;28;01mif\u001b[39;00m cancellation_manager \u001b[38;5;129;01mis\u001b[39;00m \u001b[38;5;28;01mNone\u001b[39;00m:\n\u001b[0;32m--> 499\u001b[0m     outputs \u001b[38;5;241m=\u001b[39m \u001b[43mexecute\u001b[49m\u001b[38;5;241;43m.\u001b[39;49m\u001b[43mexecute\u001b[49m\u001b[43m(\u001b[49m\n\u001b[1;32m    500\u001b[0m \u001b[43m        \u001b[49m\u001b[38;5;28;43mstr\u001b[39;49m\u001b[43m(\u001b[49m\u001b[38;5;28;43mself\u001b[39;49m\u001b[38;5;241;43m.\u001b[39;49m\u001b[43msignature\u001b[49m\u001b[38;5;241;43m.\u001b[39;49m\u001b[43mname\u001b[49m\u001b[43m)\u001b[49m\u001b[43m,\u001b[49m\n\u001b[1;32m    501\u001b[0m \u001b[43m        \u001b[49m\u001b[43mnum_outputs\u001b[49m\u001b[38;5;241;43m=\u001b[39;49m\u001b[38;5;28;43mself\u001b[39;49m\u001b[38;5;241;43m.\u001b[39;49m\u001b[43m_num_outputs\u001b[49m\u001b[43m,\u001b[49m\n\u001b[1;32m    502\u001b[0m \u001b[43m        \u001b[49m\u001b[43minputs\u001b[49m\u001b[38;5;241;43m=\u001b[39;49m\u001b[43margs\u001b[49m\u001b[43m,\u001b[49m\n\u001b[1;32m    503\u001b[0m \u001b[43m        \u001b[49m\u001b[43mattrs\u001b[49m\u001b[38;5;241;43m=\u001b[39;49m\u001b[43mattrs\u001b[49m\u001b[43m,\u001b[49m\n\u001b[1;32m    504\u001b[0m \u001b[43m        \u001b[49m\u001b[43mctx\u001b[49m\u001b[38;5;241;43m=\u001b[39;49m\u001b[43mctx\u001b[49m\u001b[43m)\u001b[49m\n\u001b[1;32m    505\u001b[0m   \u001b[38;5;28;01melse\u001b[39;00m:\n\u001b[1;32m    506\u001b[0m     outputs \u001b[38;5;241m=\u001b[39m execute\u001b[38;5;241m.\u001b[39mexecute_with_cancellation(\n\u001b[1;32m    507\u001b[0m         \u001b[38;5;28mstr\u001b[39m(\u001b[38;5;28mself\u001b[39m\u001b[38;5;241m.\u001b[39msignature\u001b[38;5;241m.\u001b[39mname),\n\u001b[1;32m    508\u001b[0m         num_outputs\u001b[38;5;241m=\u001b[39m\u001b[38;5;28mself\u001b[39m\u001b[38;5;241m.\u001b[39m_num_outputs,\n\u001b[0;32m   (...)\u001b[0m\n\u001b[1;32m    511\u001b[0m         ctx\u001b[38;5;241m=\u001b[39mctx,\n\u001b[1;32m    512\u001b[0m         cancellation_manager\u001b[38;5;241m=\u001b[39mcancellation_manager)\n",
      "File \u001b[0;32m/opt/conda/lib/python3.10/site-packages/tensorflow/python/eager/execute.py:54\u001b[0m, in \u001b[0;36mquick_execute\u001b[0;34m(op_name, num_outputs, inputs, attrs, ctx, name)\u001b[0m\n\u001b[1;32m     52\u001b[0m \u001b[38;5;28;01mtry\u001b[39;00m:\n\u001b[1;32m     53\u001b[0m   ctx\u001b[38;5;241m.\u001b[39mensure_initialized()\n\u001b[0;32m---> 54\u001b[0m   tensors \u001b[38;5;241m=\u001b[39m \u001b[43mpywrap_tfe\u001b[49m\u001b[38;5;241;43m.\u001b[39;49m\u001b[43mTFE_Py_Execute\u001b[49m\u001b[43m(\u001b[49m\u001b[43mctx\u001b[49m\u001b[38;5;241;43m.\u001b[39;49m\u001b[43m_handle\u001b[49m\u001b[43m,\u001b[49m\u001b[43m \u001b[49m\u001b[43mdevice_name\u001b[49m\u001b[43m,\u001b[49m\u001b[43m \u001b[49m\u001b[43mop_name\u001b[49m\u001b[43m,\u001b[49m\n\u001b[1;32m     55\u001b[0m \u001b[43m                                      \u001b[49m\u001b[43minputs\u001b[49m\u001b[43m,\u001b[49m\u001b[43m \u001b[49m\u001b[43mattrs\u001b[49m\u001b[43m,\u001b[49m\u001b[43m \u001b[49m\u001b[43mnum_outputs\u001b[49m\u001b[43m)\u001b[49m\n\u001b[1;32m     56\u001b[0m \u001b[38;5;28;01mexcept\u001b[39;00m core\u001b[38;5;241m.\u001b[39m_NotOkStatusException \u001b[38;5;28;01mas\u001b[39;00m e:\n\u001b[1;32m     57\u001b[0m   \u001b[38;5;28;01mif\u001b[39;00m name \u001b[38;5;129;01mis\u001b[39;00m \u001b[38;5;129;01mnot\u001b[39;00m \u001b[38;5;28;01mNone\u001b[39;00m:\n",
      "\u001b[0;31mKeyboardInterrupt\u001b[0m: "
     ]
    }
   ],
   "source": [
    "files_binary=[\"../../..//Corpora/Preprocessed/Binary/LT01_gnd_Preprocessed_binary.tsv\",\n",
    "                 \"../../..//Corpora/Preprocessed/Binary/LT02_speechLessing_Preprocessed_binary.tsv\",\n",
    "                 \"../../..//Corpora/Preprocessed/Binary/LT03_historicplays_Preprocessed_binary.tsv\",\n",
    "                 \"../../..//Corpora/Preprocessed/Binary/MI01_mlsa_Preprocessed_binary.tsv\",\n",
    "                 \"../../..//Corpora/Preprocessed/Binary/MI02_germeval_Preprocessed_binary.tsv\",\n",
    "                 \"../../..//Corpora/Preprocessed/Binary/MI03_corpusRauh_Preprocessed_binary.tsv\",\n",
    "                 \"../../..//Corpora/Preprocessed/Binary/NA01_gersen_Preprocessed_binary.tsv\",\n",
    "                 \"../../..//Corpora/Preprocessed/Binary/NA02_gerom_Preprocessed_binary.tsv\",\n",
    "                 \"../../..//Corpora/Preprocessed/Binary/NA03_ompc_Preprocessed_binary.tsv\",\n",
    "                 \"../../..//Corpora/Preprocessed/Binary/RE01_usage_Preprocessed_binary.tsv\",\n",
    "                 \"../../..//Corpora/Preprocessed/Binary/RE03_critics_Preprocessed_binary.tsv\",\n",
    "                 \"../../..//Corpora/Preprocessed/Binary/SM01_sb10k_Preprocessed_binary.tsv\",\n",
    "                 \"../../..//Corpora/Preprocessed/Binary/SM02_potts_Preprocessed_binary.tsv\",\n",
    "                 \"../../..//Corpora/Preprocessed/Binary/SM03_multiSe_Preprocessed_binary.tsv\",\n",
    "                 \"../../..//Corpora/Preprocessed/Binary/SM04_gertwittersent_Preprocessed_binary.tsv\",\n",
    "                 \"../../..//Corpora/Preprocessed/Binary/SM05_ironycorpus_Preprocessed_binary.tsv\",\n",
    "                 \"../../..//Corpora/Preprocessed/Binary/SM06_celeb_Preprocessed_binary.tsv\",\n",
    "                 \"../../..//Corpora/Preprocessed/Binary/RE02_scare_Preprocessed_binary_balanced.tsv\",\n",
    "                 \"../../..//Corpora/Preprocessed/Binary/RE04_filmstarts_Preprocessed_binary.tsv\",\n",
    "                 \"../../..//Corpora/Preprocessed/Binary/RE05_amazonreviews_Preprocessed_binary_balanced.tsv\"\n",
    "                 ]\n",
    "def main():\n",
    "    global data, file\n",
    "    for file in files_binary:\n",
    "        print(\"Start for corpora: \", file)\n",
    "        data=pd.read_csv(file, sep=\"\\t\")\n",
    "        split_data()\n",
    "        print(\"Finish\")\n",
    "\n",
    "main()\n"
   ]
  }
 ],
 "metadata": {
  "kernelspec": {
   "display_name": "Python 3 (ipykernel)",
   "language": "python",
   "name": "python3"
  },
  "language_info": {
   "codemirror_mode": {
    "name": "ipython",
    "version": 3
   },
   "file_extension": ".py",
   "mimetype": "text/x-python",
   "name": "python",
   "nbconvert_exporter": "python",
   "pygments_lexer": "ipython3",
   "version": "3.10.5"
  }
 },
 "nbformat": 4,
 "nbformat_minor": 5
}
