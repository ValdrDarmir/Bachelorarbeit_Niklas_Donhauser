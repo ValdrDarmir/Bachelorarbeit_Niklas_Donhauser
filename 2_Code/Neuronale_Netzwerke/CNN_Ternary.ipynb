{
 "cells": [
  {
   "cell_type": "markdown",
   "id": "010f2be6-dd5b-4fa3-9014-4bc0afe4498f",
   "metadata": {},
   "source": [
    "# Convolutional Neural Network / Ternary\n",
    "Name: Niklas Donhauser\n",
    "\n",
    "**Source**\n",
    "\n",
    "[1] sklearn https://scikit-learn.org/stable/ <br>\n",
    "[2] re https://docs.python.org/3/library/re.html <br>\n",
    "[3] pandas https://pandas.pydata.org/ <br>\n",
    "[4] time https://docs.python.org/3/library/time.html <br>\n",
    "[5] numpy https://numpy.org/ <br>\n",
    "[6] keras https://keras.io/ <br>\n",
    "\n",
    "**Useful links:**\n",
    "- https://scikit-learn.org/stable/modules/generated/sklearn.metrics.classification_report.html <br>\n",
    "- https://scikit-learn.org/stable/modules/generated/sklearn.metrics.recall_score.html <br>\n",
    "- https://scikit-learn.org/stable/modules/generated/sklearn.model_selection.StratifiedKFold.html <br>"
   ]
  },
  {
   "cell_type": "markdown",
   "id": "0dd060e2-aab8-4297-9397-2ef5c2df45e8",
   "metadata": {},
   "source": [
    "## Import libraries"
   ]
  },
  {
   "cell_type": "code",
   "execution_count": 1,
   "id": "f9faed7b-5510-467c-875f-2420c445e092",
   "metadata": {},
   "outputs": [],
   "source": [
    "import numpy as np \n",
    "import pandas as pd \n",
    "import re\n",
    "import time\n",
    "\n",
    "\n",
    "from sklearn.feature_extraction.text import CountVectorizer\n",
    "from keras.preprocessing.text import Tokenizer\n",
    "from keras.preprocessing.sequence import pad_sequences\n",
    "from keras.models import Sequential\n",
    "from keras.layers import Dense, Embedding, LSTM, SpatialDropout1D\n",
    "from keras.utils.np_utils import to_categorical\n",
    "\n",
    "from sklearn.feature_extraction.text import CountVectorizer\n",
    "from keras.preprocessing.text import Tokenizer\n",
    "from keras.preprocessing.sequence import pad_sequences\n",
    "from keras.models import Sequential\n",
    "from keras.layers import Dense, Embedding, SpatialDropout1D, Conv1D, MaxPooling1D, Flatten,GlobalMaxPool1D\n",
    "from keras.utils.np_utils import to_categorical\n",
    "from sklearn.preprocessing import LabelEncoder\n",
    "\n",
    "from sklearn.model_selection import StratifiedKFold\n",
    "from sklearn.model_selection import KFold,train_test_split\n",
    "from sklearn.metrics import classification_report\n",
    "from sklearn.metrics import accuracy_score, f1_score, precision_score, recall_score, classification_report, confusion_matrix"
   ]
  },
  {
   "cell_type": "markdown",
   "id": "0e75349f-5082-4b46-bc28-36eb73974077",
   "metadata": {},
   "source": [
    "## Tokenize"
   ]
  },
  {
   "cell_type": "code",
   "execution_count": 7,
   "id": "116051cc-ce71-48a6-a641-0507ef57b25c",
   "metadata": {},
   "outputs": [],
   "source": [
    "def tokenize_data(X_train, X_test):\n",
    "    global vocab_size, max_length, X_train_encoded, X_test_encoded\n",
    "    tokenizer=Tokenizer()\n",
    "    tokenizer.fit_on_texts(X_train)\n",
    "    \n",
    "    vocab_size=len(tokenizer.word_index) + 1\n",
    "    max_length=max([len(row.split()) for row in X_train])\n",
    "    \n",
    "    X_train_encoded = encode_reviews(tokenizer, max_length, X_train)\n",
    "    X_test_encoded = encode_reviews(tokenizer, max_length, X_test)\n",
    "    "
   ]
  },
  {
   "cell_type": "markdown",
   "id": "e9d443af-042b-4b80-8c8c-f8d68613fdee",
   "metadata": {},
   "source": [
    "## Encode"
   ]
  },
  {
   "cell_type": "code",
   "execution_count": 3,
   "id": "d486d510-3a97-4ad9-8e77-1667ee18dfd8",
   "metadata": {},
   "outputs": [],
   "source": [
    "def encode_reviews(tokenizer, max_length, X_train_processed):\n",
    "    encoded=tokenizer.texts_to_sequences(X_train_processed)\n",
    "    \n",
    "    padded=pad_sequences(encoded, maxlen=max_length, padding=\"post\")\n",
    "    \n",
    "    return padded"
   ]
  },
  {
   "cell_type": "markdown",
   "id": "cd3179cb-664e-4c8b-9d85-ae7559584b93",
   "metadata": {},
   "source": [
    "## Setup model"
   ]
  },
  {
   "cell_type": "code",
   "execution_count": 4,
   "id": "ed712b17-b924-436d-9b09-52a2d138fb45",
   "metadata": {},
   "outputs": [],
   "source": [
    "def setup_model():\n",
    "    global model\n",
    "    model=Sequential()\n",
    "    model.add(Embedding(vocab_size, 100,input_length=max_length))\n",
    "    model.add(Conv1D(filters=128, kernel_size=5, activation='relu'))\n",
    "    model.add(GlobalMaxPool1D())\n",
    "    model.add(Dense(64, activation='relu'))\n",
    "    model.add(Dense(32, activation='relu'))\n",
    "    model.add(Dense(3, activation='softmax'))\n",
    "    model.compile(optimizer='adam', loss='sparse_categorical_crossentropy', metrics=['accuracy']) "
   ]
  },
  {
   "cell_type": "markdown",
   "id": "68dc9ec2-79e1-46e5-ac2e-87e20020eb40",
   "metadata": {},
   "source": [
    "## Split data"
   ]
  },
  {
   "cell_type": "code",
   "execution_count": 5,
   "id": "fda002fe-a225-4110-b636-de1988df7365",
   "metadata": {},
   "outputs": [],
   "source": [
    "def split_data():\n",
    "    global train_index, test_index\n",
    "    skf = StratifiedKFold(n_splits=4, shuffle=True, random_state=2)\n",
    "    iteration=0\n",
    "    data[\"sentiment\"].replace(to_replace=\"positive\", value=1, regex=True, inplace=True)\n",
    "    data[\"sentiment\"].replace(to_replace=\"negative\", value=0, regex=True, inplace=True)\n",
    "    data[\"sentiment\"].replace(to_replace=\"neutral\", value=2, regex=True, inplace=True)\n",
    "    for train_index, test_index in skf.split(data[\"preprocessedData\"],data[\"sentiment\"]):\n",
    "        iteration=iteration+1\n",
    "        start_time=time.time()\n",
    "        \n",
    "        X_train, X_test, Y_train, Y_test=data[\"preprocessedData\"][train_index], data[\"preprocessedData\"][test_index], data[\"sentiment\"][train_index], data[\"sentiment\"][test_index]\n",
    "        tokenize_data(X_train, X_test)\n",
    "        setup_model()\n",
    "        le = LabelEncoder()\n",
    "        Y_train = le.fit_transform(Y_train)\n",
    "        Y_test = le.transform(Y_test)\n",
    "        \n",
    "        train_model(X_train_encoded, X_test_encoded, Y_train, Y_test, iteration, start_time)\n",
    "\n",
    "        "
   ]
  },
  {
   "cell_type": "markdown",
   "id": "4fe08fac-c58f-4fe0-953f-d47c1ac97d17",
   "metadata": {},
   "source": [
    "## Train model"
   ]
  },
  {
   "cell_type": "code",
   "execution_count": 6,
   "id": "8fac8afe-a734-4e9f-8a66-5d55e5924147",
   "metadata": {},
   "outputs": [],
   "source": [
    "def train_model(X_train_encoded, X_test_encoded, Y_train, Y_test, iteration, start_time):\n",
    "    global batch_size, verbose \n",
    "    batch_size = 32\n",
    "    epochs = 4\n",
    "    verbose = 1 \n",
    "    model.fit(X_train_encoded, Y_train, epochs = epochs, batch_size = batch_size, verbose = verbose)\n",
    "    predict_model(X_train_encoded, X_test_encoded, Y_train, Y_test, iteration, start_time)"
   ]
  },
  {
   "cell_type": "markdown",
   "id": "73a33184-b19d-4f50-bb16-14656e77b48a",
   "metadata": {},
   "source": [
    "## Predict model"
   ]
  },
  {
   "cell_type": "code",
   "execution_count": 7,
   "id": "a60a4564-737e-4f96-93ce-7fc8dbd45330",
   "metadata": {},
   "outputs": [],
   "source": [
    "def predict_model(X_train_encoded, X_test_encoded, Y_train, Y_test, iteration, start_time):\n",
    "    predicted_classes = []\n",
    "\n",
    "    _,acc= model.evaluate(X_test_encoded, Y_test, verbose=0)\n",
    "    \n",
    "    prediction = model.predict(X_test_encoded)\n",
    "    for items in range(len(prediction)):\n",
    "        test = prediction[items]\n",
    "        predicted_classes.append(np.argmax(test))\n",
    "\n",
    "    accuracy=accuracy_score(Y_test, predicted_classes)\n",
    "    \n",
    "    Y_test=Y_test.tolist()\n",
    "    get_data(predicted_classes, Y_train, Y_test, iteration, start_time)"
   ]
  },
  {
   "cell_type": "markdown",
   "id": "7b41a360-aeb5-49a8-a9c7-59fb03ba6c8d",
   "metadata": {},
   "source": [
    "## Get Data"
   ]
  },
  {
   "cell_type": "code",
   "execution_count": 8,
   "id": "f6224faf-37de-4308-ad76-b2e0f308cb04",
   "metadata": {},
   "outputs": [],
   "source": [
    "def get_data(predicted_classes, Y_train, Y_test_reshape, iteration, start_time):\n",
    "    corporaType=\"\"\n",
    "    shortcut=\"\"\n",
    "    name=\"\"\n",
    "    totalTextUnits=0\n",
    "    totalTestUnits=0\n",
    "    totalTrainUnits=0\n",
    "    accuracy=0\n",
    "    f1_macro=0\n",
    "    precision_macro=0\n",
    "    recall_macro=0\n",
    "    f1_micro=0\n",
    "    precision_micro=0\n",
    "    recall_micro=0\n",
    "    matrix=[]\n",
    "    f1_binary=0\n",
    "    precision_binary=0\n",
    "    recall_binary=0\n",
    "\n",
    "    splitString=re.split(\"_|/\",file)\n",
    "    corporaType=splitString[5]\n",
    "    shortcut=splitString[6]\n",
    "    name=splitString[7]\n",
    "\n",
    "    totalTime=time.time()-start_time\n",
    "\n",
    "    totalTextUnits=len(data.index)\n",
    "    totalTestUnits=len(predicted_classes)\n",
    "    totalTrainUnits=len(Y_train)\n",
    "\n",
    "    accuracy=accuracy_score(Y_test_reshape, predicted_classes)\n",
    "    \n",
    "    f1_macro=f1_score(Y_test_reshape, predicted_classes, average=\"macro\", labels=[1,0,2])\n",
    "    precision_macro=precision_score(Y_test_reshape, predicted_classes, average=\"macro\", labels=[1,0,2])\n",
    "    recall_macro=recall_score(Y_test_reshape, predicted_classes, average=\"macro\", labels=[1,0,2])\n",
    "\n",
    "    f1_micro=f1_score(Y_test_reshape, predicted_classes, average=\"micro\")\n",
    "    precision_micro=precision_score(Y_test_reshape, predicted_classes, average=\"micro\", labels=[1,0,2])\n",
    "    recall_micro=recall_score(Y_test_reshape, predicted_classes, average=\"micro\", labels=[1,0,2])\n",
    "\n",
    "    matrix=confusion_matrix(Y_test_reshape, predicted_classes, labels=[1,0,2])\n",
    "\n",
    "        \n",
    "    matrixFlat=convertMatrix(matrix)\n",
    "    target_names = [0,1,2]\n",
    "    classificationReport=classification_report(Y_test_reshape, predicted_classes, target_names=target_names, output_dict=True)\n",
    "    \n",
    "    \n",
    "    saveData(corporaType,shortcut,name,totalTime,totalTextUnits,totalTestUnits,totalTrainUnits,accuracy,f1_macro,precision_macro,recall_macro,\n",
    "             f1_micro,precision_micro,recall_micro,matrix,f1_binary,precision_binary,recall_binary,predicted_classes, Y_test_reshape,start_time,iteration,matrixFlat,\n",
    "             classificationReport)   "
   ]
  },
  {
   "cell_type": "markdown",
   "id": "a3c46f0c-0f61-47af-9a9e-6f9a60214987",
   "metadata": {},
   "source": [
    "## Transform confusion matrix"
   ]
  },
  {
   "cell_type": "code",
   "execution_count": 9,
   "id": "0141b224-07a3-4e1b-b302-0509fdc2623a",
   "metadata": {},
   "outputs": [],
   "source": [
    "def convertMatrix(matrix):\n",
    "    global flatMatrix\n",
    "    array=[]\n",
    "    for i in range(len(matrix)):\n",
    "        for j in range(len(matrix[i])):\n",
    "            array.append(matrix[i][j])\n",
    "    flatMatrix = np.array(array)\n",
    "    return flatMatrix"
   ]
  },
  {
   "cell_type": "markdown",
   "id": "8daf4859-3a42-4c31-aa11-214e697ab304",
   "metadata": {},
   "source": [
    "## Save data"
   ]
  },
  {
   "cell_type": "code",
   "execution_count": 10,
   "id": "00cc8857-f5e5-497a-9f76-172734f2d52b",
   "metadata": {
    "tags": []
   },
   "outputs": [],
   "source": [
    "def saveData(corporaType,shortcut,name,totalTime,totalTextUnits,totalTestUnits,totalTrainUnits,accuracy,f1_macro,precision_macro,recall_macro,f1_micro,precision_micro,recall_micro,matrix,f1_binary,precision_binary,recall_binary,y_test,test_set,startTime,iteration, matrixFlat,classificationReport):\n",
    "    #print(matrixFlat)\n",
    "    df_svm_data=pd.read_csv(\"CNNDataKFold.tsv\", sep=\"\\t\")\n",
    "    df_svm_data_full=pd.read_csv(\"CNNDataKFoldFull.tsv\", sep=\"\\t\")\n",
    "\n",
    "    allData={\"Iteration\":iteration,\"Shortcut\":shortcut,\"Name\":name,\"Type\":corporaType,\"Time\":totalTime,\"Total Length\":totalTextUnits,\"Training Set\":totalTrainUnits,\"Test Set\":totalTestUnits,\"Accuracy\":accuracy,\"Precision Macro\":precision_macro,\n",
    "             \"Precision Micro\":precision_micro,\"Precision Binary\":precision_binary,\"Recall Macro\":recall_macro,\"Recall Micro\":recall_micro,\"Recall Binary\":recall_binary,\"F1 Macro\":f1_macro,\n",
    "            \"F1 Micro\":f1_micro,\"F1 Binary\":f1_binary,\"Matrix\":matrixFlat}\n",
    "\n",
    "    allDataFull={\"Iteration\":iteration,\"Shortcut\":shortcut,\"Name\":name,\"Type\":corporaType,\"Time\":totalTime,\"Total Length\":totalTextUnits,\"Training Set\":totalTrainUnits,\"Test Set\":totalTestUnits,\"Accuracy\":accuracy,\"Precision Macro\":precision_macro,\n",
    "             \"Precision Micro\":precision_micro,\"Precision Binary\":precision_binary,\"Recall Macro\":recall_macro,\"Recall Micro\":recall_micro,\"Recall Binary\":recall_binary,\"F1 Macro\":f1_macro,\n",
    "            \"F1 Micro\":f1_micro,\"F1 Binary\":f1_binary,\"Matrix\":matrixFlat,\"Train Set Full\":y_test,\"Test Set Full\":test_set}\n",
    "\n",
    "    \n",
    "    reportDict=transformReport(classificationReport)\n",
    "    allData.update(reportDict)\n",
    "    allDataFull.update(reportDict)\n",
    "    df_new_data=pd.DataFrame([allData])\n",
    "    df_new_data_full=pd.DataFrame([allDataFull])\n",
    "\n",
    "    finalData_svm=pd.concat([df_svm_data,df_new_data])\n",
    "    finalData_svm_full=pd.concat([df_svm_data_full,df_new_data_full])\n",
    "    \n",
    "    finalData_svm=finalData_svm[[\"Iteration\",\"Shortcut\",\"Name\",\"Type\",\"Time\",\"Total Length\",\"Training Set\",\"Test Set\",\"Accuracy\",\"Precision Macro\",\n",
    "              \"Precision Micro\",\"Precision Binary\",\"Recall Macro\",\"Recall Micro\",\"Recall Binary\",\"F1 Macro\",\n",
    "            \"F1 Micro\",\"F1 Binary\",\"Matrix\",\"0 precision\",\"0 recall\",\"0 f1-score\",\n",
    "            \"0 support\",\"1 precision\",\"1 recall\",\"1 f1-score\",\"1 support\",\"2 f1-score\",\"2 support\",\"2 precision\",\"2 recall\",\"accuracy accuracy\",\n",
    "            \"macro avg precision\",\"macro avg recall\",\"macro avg f1-score\",\"macro avg support\",\"weighted avg precision\",\"weighted avg recall\",\n",
    "            \"weighted avg f1-score\",\"weighted avg support\"]]\n",
    "\n",
    "    finalData_svm_full=finalData_svm_full[[\"Iteration\",\"Shortcut\",\"Name\",\"Type\",\"Time\",\"Total Length\",\"Training Set\",\"Test Set\",\"Accuracy\",\"Precision Macro\",\n",
    "              \"Precision Micro\",\"Precision Binary\",\"Recall Macro\",\"Recall Micro\",\"Recall Binary\",\"F1 Macro\",\n",
    "            \"F1 Micro\",\"F1 Binary\",\"Matrix\",\"Train Set Full\",\"Test Set Full\",\"0 precision\",\"0 recall\",\"0 f1-score\",\n",
    "            \"0 support\",\"1 precision\",\"1 recall\",\"1 f1-score\",\"1 support\",\"2 f1-score\",\"2 support\",\"2 precision\",\"2 recall\",\"accuracy accuracy\",\n",
    "            \"macro avg precision\",\"macro avg recall\",\"macro avg f1-score\",\"macro avg support\",\"weighted avg precision\",\"weighted avg recall\",\n",
    "            \"weighted avg f1-score\",\"weighted avg support\"]]\n"
   ]
  },
  {
   "cell_type": "markdown",
   "id": "ae8920cf-b109-40c8-a9a6-8f40792b97fe",
   "metadata": {},
   "source": [
    "## Transform classification report"
   ]
  },
  {
   "cell_type": "code",
   "execution_count": 11,
   "id": "b37a659b-b912-4c32-8fdc-6898614e42b2",
   "metadata": {},
   "outputs": [],
   "source": [
    "def transformReport(classificationReport):\n",
    "    #print(classificationReport)\n",
    "    newDict={}\n",
    "    for key in classificationReport.keys():\n",
    "        mainName=str(key)\n",
    "        if type(classificationReport[key]) != dict:\n",
    "            name=mainName+\" \"+key\n",
    "            newDict[name]=classificationReport[key]\n",
    "            #print(key, \"->\",classificationReport[key],\"-\",)\n",
    "            \n",
    "        if type(classificationReport[key]) == dict:\n",
    "            for k in classificationReport[key].keys():\n",
    "                name=mainName+\" \"+k\n",
    "                newDict[name]=classificationReport[key][k]\n",
    "                #print(k,\"->\",classificationReport[key][k])\n",
    "    #print(\"--------------\")\n",
    "    #print(\"DICT:\",newDict)\n",
    "    return newDict"
   ]
  },
  {
   "cell_type": "markdown",
   "id": "1078563e-fe9b-4308-a6a7-49b654fc495d",
   "metadata": {},
   "source": [
    "## main function"
   ]
  },
  {
   "cell_type": "code",
   "execution_count": 12,
   "id": "0dd35a84-cf37-4103-a157-324eda6d7832",
   "metadata": {
    "tags": []
   },
   "outputs": [
    {
     "name": "stdout",
     "output_type": "stream",
     "text": [
      "Start for corpora:  ../../../Corpora/Preprocessed/Ternary/RE04_filmstarts_Preprocessed_ternary_all.tsv\n",
      "Model: \"sequential\"\n",
      "_________________________________________________________________\n",
      " Layer (type)                Output Shape              Param #   \n",
      "=================================================================\n",
      " embedding (Embedding)       (None, 3069, 100)         17811800  \n",
      "                                                                 \n",
      " conv1d (Conv1D)             (None, 3065, 128)         64128     \n",
      "                                                                 \n",
      " global_max_pooling1d (Globa  (None, 128)              0         \n",
      " lMaxPooling1D)                                                  \n",
      "                                                                 \n",
      " dense (Dense)               (None, 64)                8256      \n",
      "                                                                 \n",
      " dense_1 (Dense)             (None, 32)                2080      \n",
      "                                                                 \n",
      " dense_2 (Dense)             (None, 3)                 99        \n",
      "                                                                 \n",
      "=================================================================\n",
      "Total params: 17,886,363\n",
      "Trainable params: 17,886,363\n",
      "Non-trainable params: 0\n",
      "_________________________________________________________________\n"
     ]
    },
    {
     "name": "stderr",
     "output_type": "stream",
     "text": [
      "2022-11-20 14:27:15.543627: I tensorflow/core/platform/cpu_feature_guard.cc:151] This TensorFlow binary is optimized with oneAPI Deep Neural Network Library (oneDNN) to use the following CPU instructions in performance-critical operations:  AVX2 AVX512F FMA\n",
      "To enable them in other operations, rebuild TensorFlow with the appropriate compiler flags.\n",
      "2022-11-20 14:27:15.960093: I tensorflow/core/common_runtime/gpu/gpu_device.cc:1525] Created device /job:localhost/replica:0/task:0/device:GPU:0 with 22844 MB memory:  -> device: 0, name: Quadro RTX 6000, pci bus id: 0000:65:00.0, compute capability: 7.5\n"
     ]
    },
    {
     "name": "stdout",
     "output_type": "stream",
     "text": [
      "None\n",
      "Epoch 1/4\n"
     ]
    },
    {
     "name": "stderr",
     "output_type": "stream",
     "text": [
      "2022-11-20 14:27:17.602580: I tensorflow/stream_executor/cuda/cuda_dnn.cc:368] Loaded cuDNN version 8400\n"
     ]
    },
    {
     "name": "stdout",
     "output_type": "stream",
     "text": [
      "   1/1651 [..............................] - ETA: 46:37 - loss: 1.0925 - accuracy: 0.2812"
     ]
    },
    {
     "name": "stderr",
     "output_type": "stream",
     "text": [
      "2022-11-20 14:27:18.088952: I tensorflow/core/platform/default/subprocess.cc:304] Start cannot spawn child process: No such file or directory\n",
      "2022-11-20 14:27:18.089675: I tensorflow/core/platform/default/subprocess.cc:304] Start cannot spawn child process: No such file or directory\n",
      "2022-11-20 14:27:18.089692: W tensorflow/stream_executor/gpu/asm_compiler.cc:80] Couldn't get ptxas version string: INTERNAL: Couldn't invoke ptxas --version\n",
      "2022-11-20 14:27:18.090523: I tensorflow/core/platform/default/subprocess.cc:304] Start cannot spawn child process: No such file or directory\n",
      "2022-11-20 14:27:18.090572: W tensorflow/stream_executor/gpu/redzone_allocator.cc:314] INTERNAL: Failed to launch ptxas\n",
      "Relying on driver to perform ptx compilation. \n",
      "Modify $PATH to customize ptxas location.\n",
      "This message will be only logged once.\n"
     ]
    },
    {
     "name": "stdout",
     "output_type": "stream",
     "text": [
      "1651/1651 [==============================] - 26s 15ms/step - loss: 0.6754 - accuracy: 0.7106\n",
      "Epoch 2/4\n",
      "1651/1651 [==============================] - 24s 15ms/step - loss: 0.3473 - accuracy: 0.8680\n",
      "Epoch 3/4\n",
      "1651/1651 [==============================] - 24s 15ms/step - loss: 0.0920 - accuracy: 0.9706\n",
      "Epoch 4/4\n",
      "1651/1651 [==============================] - 24s 15ms/step - loss: 0.0301 - accuracy: 0.9905\n",
      "Test accuracy:72.13\n",
      "[1, 1, 1, 1, 2, 1, 1, 1, 1, 0]\n",
      "0.7212630622444344\n",
      "Model: \"sequential_1\"\n",
      "_________________________________________________________________\n",
      " Layer (type)                Output Shape              Param #   \n",
      "=================================================================\n",
      " embedding_1 (Embedding)     (None, 3069, 100)         17903600  \n",
      "                                                                 \n",
      " conv1d_1 (Conv1D)           (None, 3065, 128)         64128     \n",
      "                                                                 \n",
      " global_max_pooling1d_1 (Glo  (None, 128)              0         \n",
      " balMaxPooling1D)                                                \n",
      "                                                                 \n",
      " dense_3 (Dense)             (None, 64)                8256      \n",
      "                                                                 \n",
      " dense_4 (Dense)             (None, 32)                2080      \n",
      "                                                                 \n",
      " dense_5 (Dense)             (None, 3)                 99        \n",
      "                                                                 \n",
      "=================================================================\n",
      "Total params: 17,978,163\n",
      "Trainable params: 17,978,163\n",
      "Non-trainable params: 0\n",
      "_________________________________________________________________\n",
      "None\n",
      "Epoch 1/4\n",
      "1651/1651 [==============================] - 25s 15ms/step - loss: 0.6752 - accuracy: 0.7103\n",
      "Epoch 2/4\n",
      "1651/1651 [==============================] - 25s 15ms/step - loss: 0.3508 - accuracy: 0.8686\n",
      "Epoch 3/4\n",
      "1651/1651 [==============================] - 25s 15ms/step - loss: 0.0931 - accuracy: 0.9701\n",
      "Epoch 4/4\n",
      "1651/1651 [==============================] - 25s 15ms/step - loss: 0.0294 - accuracy: 0.9916\n",
      "Test accuracy:71.12\n",
      "[1, 1, 0, 0, 1, 1, 1, 1, 1, 0]\n",
      "0.711210813266697\n",
      "Model: \"sequential_2\"\n",
      "_________________________________________________________________\n",
      " Layer (type)                Output Shape              Param #   \n",
      "=================================================================\n",
      " embedding_2 (Embedding)     (None, 3069, 100)         17961700  \n",
      "                                                                 \n",
      " conv1d_2 (Conv1D)           (None, 3065, 128)         64128     \n",
      "                                                                 \n",
      " global_max_pooling1d_2 (Glo  (None, 128)              0         \n",
      " balMaxPooling1D)                                                \n",
      "                                                                 \n",
      " dense_6 (Dense)             (None, 64)                8256      \n",
      "                                                                 \n",
      " dense_7 (Dense)             (None, 32)                2080      \n",
      "                                                                 \n",
      " dense_8 (Dense)             (None, 3)                 99        \n",
      "                                                                 \n",
      "=================================================================\n",
      "Total params: 18,036,263\n",
      "Trainable params: 18,036,263\n",
      "Non-trainable params: 0\n",
      "_________________________________________________________________\n",
      "None\n",
      "Epoch 1/4\n",
      "1651/1651 [==============================] - 25s 15ms/step - loss: 0.6744 - accuracy: 0.7102\n",
      "Epoch 2/4\n",
      "1651/1651 [==============================] - 25s 15ms/step - loss: 0.3486 - accuracy: 0.8670\n",
      "Epoch 3/4\n",
      "1651/1651 [==============================] - 25s 15ms/step - loss: 0.0968 - accuracy: 0.9679\n",
      "Epoch 4/4\n",
      "1651/1651 [==============================] - 25s 15ms/step - loss: 0.0337 - accuracy: 0.9897\n",
      "Test accuracy:71.65\n",
      "[1, 1, 0, 1, 1, 1, 1, 1, 1, 1]\n",
      "0.7164764014312489\n",
      "Model: \"sequential_3\"\n",
      "_________________________________________________________________\n",
      " Layer (type)                Output Shape              Param #   \n",
      "=================================================================\n",
      " embedding_3 (Embedding)     (None, 2317, 100)         17822100  \n",
      "                                                                 \n",
      " conv1d_3 (Conv1D)           (None, 2313, 128)         64128     \n",
      "                                                                 \n",
      " global_max_pooling1d_3 (Glo  (None, 128)              0         \n",
      " balMaxPooling1D)                                                \n",
      "                                                                 \n",
      " dense_9 (Dense)             (None, 64)                8256      \n",
      "                                                                 \n",
      " dense_10 (Dense)            (None, 32)                2080      \n",
      "                                                                 \n",
      " dense_11 (Dense)            (None, 3)                 99        \n",
      "                                                                 \n",
      "=================================================================\n",
      "Total params: 17,896,663\n",
      "Trainable params: 17,896,663\n",
      "Non-trainable params: 0\n",
      "_________________________________________________________________\n",
      "None\n",
      "Epoch 1/4\n",
      "1651/1651 [==============================] - 22s 13ms/step - loss: 0.6855 - accuracy: 0.7069\n",
      "Epoch 2/4\n",
      "1651/1651 [==============================] - 22s 13ms/step - loss: 0.3462 - accuracy: 0.8690\n",
      "Epoch 3/4\n",
      "1651/1651 [==============================] - 22s 13ms/step - loss: 0.0854 - accuracy: 0.9728\n",
      "Epoch 4/4\n",
      "1651/1651 [==============================] - 22s 13ms/step - loss: 0.0266 - accuracy: 0.9915\n",
      "Test accuracy:72.82\n",
      "[1, 1, 1, 1, 1, 1, 1, 1, 1, 1]\n",
      "0.7281762935196229\n",
      "Finish\n"
     ]
    }
   ],
   "source": [
    "\n",
    "def main():\n",
    "    global data, file\n",
    "    for file in files_ternary:\n",
    "        print(\"Start for corpora: \", file)\n",
    "        data=pd.read_csv(file, sep=\"\\t\")\n",
    "        split_data()\n",
    "        print(\"Finish\")\n",
    "\n",
    "main()\n"
   ]
  }
 ],
 "metadata": {
  "kernelspec": {
   "display_name": "Python 3 (ipykernel)",
   "language": "python",
   "name": "python3"
  },
  "language_info": {
   "codemirror_mode": {
    "name": "ipython",
    "version": 3
   },
   "file_extension": ".py",
   "mimetype": "text/x-python",
   "name": "python",
   "nbconvert_exporter": "python",
   "pygments_lexer": "ipython3",
   "version": "3.10.5"
  }
 },
 "nbformat": 4,
 "nbformat_minor": 5
}
