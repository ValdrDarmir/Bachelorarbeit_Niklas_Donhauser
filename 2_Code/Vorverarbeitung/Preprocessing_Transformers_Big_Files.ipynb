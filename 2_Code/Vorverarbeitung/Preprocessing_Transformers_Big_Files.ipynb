{
 "cells": [
  {
   "cell_type": "markdown",
   "metadata": {},
   "source": [
    "# Preprocessing for Transformers\n",
    "### Done \n",
    "[1] Remove NaN <br>\n",
    "[2] rename Labels and Text<br>\n",
    "[3] rename sentiment 1 (negative) and 0(positive) (and 2 neutral)<br>\n",
    "\n",
    "In this notebook, text without preprocessing is loaded with the ids from the preprocessed corpora which are used in the svm classification task. Smaller corpora are getting transformed in the \"Preprocessing_for_Transformers_Small_Files\" notebook, because of performance issues. <br>\n",
    "\n",
    "### Information about the different functions used here: <br>\n",
    "[1] **loadFiles:** <br>\n",
    "All paths of the different corpora are stored in lists here <br>\n",
    "[2] **extractText:** <br>\n",
    "Get the text data from the raw data corpus with the ids  <br>\n",
    "[3] **insertNewData:** <br>\n",
    "Insert the new text data in a dataframe and transfer this to a list. Also add the data to the result dataframe <br>\n",
    "[4] **updateDataframe:** <br>\n",
    "Updates the dataframe, changes column names and replace label names <br>\n",
    "[5] **main:** <br>\n",
    "Loads, transform and save the data <br>"
   ]
  },
  {
   "cell_type": "code",
   "execution_count": 17,
   "metadata": {},
   "outputs": [],
   "source": [
    "import pandas as pd\n",
    "import numpy as np\n",
    "import os\n",
    "import re"
   ]
  },
  {
   "cell_type": "code",
   "execution_count": 18,
   "metadata": {},
   "outputs": [],
   "source": [
    "def loadFiles():\n",
    "    file_binary=[\"../../Corpora/Preprocessed/Binary/RE02_scare_Preprocessed_binary_balanced.tsv\",\n",
    "        \"../../Corpora/Preprocessed/Binary/RE04_filmstarts_Preprocessed_binary.tsv\",\n",
    "        \"../../Corpora/Preprocessed/Binary/RE05_amazonreviews_Preprocessed_binary_balanced.tsv\"]\n",
    "\n",
    "    file_binary_raw=[\"../../Corpora/Normalized/RE02_scare_all.tsv\",\n",
    "        \"../../Corpora/Normalized/RE04_filmstarts_all.tsv\",\n",
    "        \"../../Corpora/Normalized/RE05_amazonreviews_all.tsv\"]\n",
    "\n",
    "    file_ternary=[\"../../Corpora/Preprocessed/Ternary/RE02_scare_Preprocessed_ternary_balanced.tsv\",\n",
    "        \"../../Corpora/Preprocessed/Ternary/RE04_filmstarts_Preprocessed_ternary_all.tsv\"]\n",
    "\n",
    "    file_ternary_raw=[\"../../Corpora/Normalized/RE02_scare_all.tsv\",\n",
    "        \"../../Corpora/Normalized/RE04_filmstarts_all.tsv\"]\n",
    "    return file_ternary_raw, file_ternary, file_binary_raw, file_binary"
   ]
  },
  {
   "cell_type": "code",
   "execution_count": 19,
   "metadata": {},
   "outputs": [],
   "source": [
    "def updateDataframe(resultDf):\n",
    "    resultDf=resultDf.rename(columns={\"sentiment\":\"labels\"})\n",
    "    resultDf[\"labels\"].replace(to_replace=\"positive\", value=0, regex=True, inplace=True)\n",
    "    resultDf[\"labels\"].replace(to_replace=\"negative\", value=1, regex=True, inplace=True)\n",
    "    resultDf[\"labels\"].replace(to_replace=\"neutral\", value=2, regex=True, inplace=True)\n",
    "    return resultDf"
   ]
  },
  {
   "cell_type": "code",
   "execution_count": 20,
   "metadata": {},
   "outputs": [],
   "source": [
    "def insertNewData(updateTextDf,resultDf):\n",
    "    textList=[]\n",
    "    flatTextList=[]\n",
    "    textList=updateTextDf.values.tolist()\n",
    "    for item in textList:\n",
    "        for subitem in item:\n",
    "            flatTextList.append(subitem)\n",
    "\n",
    "    resultDf[\"text\"]=flatTextList\n",
    "    return resultDf"
   ]
  },
  {
   "cell_type": "code",
   "execution_count": 21,
   "metadata": {},
   "outputs": [],
   "source": [
    "def extractText(resultDf,textDf):\n",
    "    allDataList=[]\n",
    "    for ids in range(len(resultDf[\"id\"])):\n",
    "        number=resultDf[\"id\"][ids]\n",
    "        allDataList.append(textDf.iloc[number])\n",
    "            \n",
    "    return allDataList"
   ]
  },
  {
   "cell_type": "code",
   "execution_count": 22,
   "metadata": {},
   "outputs": [
    {
     "name": "stdout",
     "output_type": "stream",
     "text": [
      "Start\n",
      "Index of List:  0\n",
      "Name of Corpus:  RE02_scare_Preprocessed_ternary_balanced\n",
      "New Dataframe:             id  labels                                               text\n",
      "0      262230       0         Super Spiel....nur leider sehr donutlastig\n",
      "1       88634       0                        Das Programm ist sehr gut .\n",
      "2      171339       0  Eigentlich ist es das beste Navi. Deswegen hab...\n",
      "3      123422       0  Man bekommt auf die sekunde genau eine Nachric...\n",
      "4        1100       0  Sehr gut! Läuft bei mir problemlos aus Samsung...\n",
      "...       ...     ...                                                ...\n",
      "69997  553605       2  Bei mir kommt immer Werbung von Bild irgendwo ...\n",
      "69998  636193       2  bringt leider nicht die erhoffte Verbesserung....\n",
      "69999  142586       2           Kann seit kurzem keine Fotos runterladen\n",
      "70000   30092       2  Ich finde freeletics generell extrem gut, woll...\n",
      "70001  559598       2  ... bis das letzte Update kam! Dieses ließ sic...\n",
      "\n",
      "[70002 rows x 3 columns]\n",
      "-------------------------\n",
      "Start\n",
      "Index of List:  1\n",
      "Name of Corpus:  RE04_filmstarts_Preprocessed_ternary_all\n",
      "New Dataframe:            id  labels                                               text\n",
      "0          0       0  Der Herr der Ringe - Die Gefährten ist für mic...\n",
      "1          1       0  Ein Ring sie zu knechten, Sie alle zu finden, ...\n",
      "2          2       0  Der Herr der Ringe - Die Gefährten <> der best...\n",
      "3          3       0  Was Peter Jackson hier erschaffen hat..ist ein...\n",
      "4          4       0  ich habe es schon so oft gesehen ich gucke es ...\n",
      "...      ...     ...                                                ...\n",
      "70425  70435       1  Ein spannender Spionagethriller mit einer gut ...\n",
      "70426  70436       1  Will in umbedingt sehen aber er läuft wahrsche...\n",
      "70427  70437       1  Im Jahre 2003 war dies noch ein einfacher Fern...\n",
      "70428  70438       1  Typischer Videothekenmist: eine Westernstory d...\n",
      "70429  70439       1  Ganz okay, aber nichts besonderes.... etwas Pu...\n",
      "\n",
      "[70430 rows x 3 columns]\n",
      "-------------------------\n"
     ]
    }
   ],
   "source": [
    "def main():\n",
    "    loadingData=loadFiles()\n",
    "    file_ternary_raw=loadingData[0]\n",
    "    file_ternary=loadingData[1]\n",
    "    file_binary_raw=loadingData[2]\n",
    "    file_binary=loadingData[3]\n",
    "    \n",
    "    for index in range(len(file_ternary_raw)):\n",
    "        print(\"Start\")\n",
    "        print(\"Index of List: \",index)\n",
    "        \n",
    "        file = file_ternary[index]\n",
    "        fileText = file_ternary_raw[index]\n",
    "        \n",
    "        path,fileName =os.path.split(file)\n",
    "        fileName= re.sub(\".tsv\",\"\",fileName)\n",
    "        \n",
    "        print(\"Name of Corpus: \", fileName)\n",
    "\n",
    "        idDf = pd.read_csv(file , sep=\"\\t\")\n",
    "        textDf=pd.read_csv(fileText,sep=\"\\t\")\n",
    "        \n",
    "        resultDf= pd.DataFrame()\n",
    "        \n",
    "        resultDf=idDf.filter([\"id\",\"sentiment\"])\n",
    "        textDf=textDf.filter([\"id\",\"text\",\"sentiment\"])\n",
    "\n",
    "        allDataList=extractText(resultDf,textDf)\n",
    "        \n",
    "        updateTextDf = pd.DataFrame(columns=[\"id\",\"text\",\"sentiment\"])\n",
    "        updateTextDf = pd.DataFrame(allDataList,columns=[\"id\",\"text\",\"sentiment\"])\n",
    "        updateTextDf=updateTextDf.filter([\"text\"])\n",
    "        \n",
    "        resultDf=insertNewData(updateTextDf,resultDf)\n",
    "        resultDf=updateDataframe(resultDf)\n",
    "\n",
    "        print(\"New Dataframe: \",resultDf)\n",
    "        print(\"-------------------------\")\n",
    "        \n",
    "        newFileName=fileName+\"_Transformer.tsv\"\n",
    "        resultDf.to_csv(newFileName, sep=\"\\t\",index=False)\n",
    "main()"
   ]
  },
  {
   "cell_type": "code",
   "execution_count": null,
   "metadata": {},
   "outputs": [],
   "source": []
  }
 ],
 "metadata": {
  "kernelspec": {
   "display_name": "Python 3",
   "language": "python",
   "name": "python3"
  },
  "language_info": {
   "codemirror_mode": {
    "name": "ipython",
    "version": 3
   },
   "file_extension": ".py",
   "mimetype": "text/x-python",
   "name": "python",
   "nbconvert_exporter": "python",
   "pygments_lexer": "ipython3",
   "version": "3.8.10"
  }
 },
 "nbformat": 4,
 "nbformat_minor": 2
}
