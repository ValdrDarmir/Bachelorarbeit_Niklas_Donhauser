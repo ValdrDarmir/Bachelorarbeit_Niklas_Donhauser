{
 "cells": [
  {
   "cell_type": "markdown",
   "id": "70220c9c-6357-45d6-987f-3977c59d45fd",
   "metadata": {},
   "source": [
    "Pos = 0\n",
    "Neg = 1"
   ]
  },
  {
   "cell_type": "code",
   "execution_count": 1,
   "id": "9032f26b-6913-4350-81a8-7cb28b6cae33",
   "metadata": {},
   "outputs": [],
   "source": [
    "import pandas as pd\n",
    "from sklearn.model_selection import StratifiedKFold\n",
    "from sklearn.model_selection import KFold,train_test_split\n",
    "from sklearn.metrics import classification_report\n",
    "from sklearn.metrics import accuracy_score, f1_score, precision_score, recall_score, classification_report, confusion_matrix\n",
    "from simpletransformers.classification import ClassificationModel, ClassificationArgs\n",
    "import numpy as np\n",
    "import re\n",
    "import logging\n",
    "import time"
   ]
  },
  {
   "cell_type": "code",
   "execution_count": 2,
   "id": "fb9fb1c6-40f8-451c-850c-c4cc53ce2b94",
   "metadata": {},
   "outputs": [],
   "source": [
    "def splitData(data):\n",
    "    global train_index, test_index\n",
    "    skf = StratifiedKFold(n_splits=4, shuffle=True, random_state=2)\n",
    "    iteration=0\n",
    "    \n",
    "    for train_index, test_index in skf.split(data,data[\"labels\"]):\n",
    "        iteration=iteration+1\n",
    "        startTime=time.time()\n",
    "        x_train, x_test, y_train, y_test=data.text.values[train_index],data.text.values[test_index],data.labels.values[train_index],data.labels.values[test_index]\n",
    "        training_Df=pd.DataFrame({\"labels\":y_train,\"text\":x_train},columns=[\"text\",\"labels\"])\n",
    "        test_Df=pd.DataFrame({\"labels\":y_test,\"text\":x_test},columns=[\"text\",\"labels\"])\n",
    "        #configurateModel()\n",
    "        #createModel()\n",
    "\n",
    "        \n",
    "        trainModel(training_Df)\n",
    "        predictModel(test_Df,x_train,x_test,y_train,y_test,startTime,iteration)\n",
    "        \n",
    "       "
   ]
  },
  {
   "cell_type": "code",
   "execution_count": 3,
   "id": "ed3346fd-1d3f-4af5-968d-039ce5651e6c",
   "metadata": {},
   "outputs": [],
   "source": [
    "def trainModel(training_Df):\n",
    "    global model\n",
    "    print(\"Training Model Now\")\n",
    "    print(training_Df)\n",
    "    train_args ={\"reprocess_input_data\": True,\n",
    "             \"fp16\":False,\n",
    "             \"num_train_epochs\": 4,\n",
    "             \"overwrite_output_dir\":True,\n",
    "             \"train_batch_size\": 32, \n",
    "             \"eval_batch_size\": 32,\n",
    "             \"use_multiprocessing\":False,\n",
    "             \"use_multiprocessing_for_evaluation\":False,\n",
    "             \"no_save\":True} \n",
    "    \n",
    "    \n",
    "    #\n",
    "    #'bert', 'deepset/gbert-base''electra', 'deepset/gelectra-base'\n",
    "    #\n",
    "    #deepset/gelectra-base\n",
    "    #model_args=ClassificationArgs(num_train_epochs=1)\n",
    "    #, cuda_device=0\n",
    "    \n",
    "    model=ClassificationModel('bert', 'nlptown/bert-base-multilingual-uncased-sentiment', num_labels=2, use_cuda=True, args=train_args,ignore_mismatched_sizes=True)\n",
    "    #df2 = training_Df.head(20)\n",
    "    #print(df2)\n",
    "    \n",
    "    \n",
    "    model.train_model(training_Df)"
   ]
  },
  {
   "cell_type": "code",
   "execution_count": 4,
   "id": "b9bc3562-ff71-4f2a-9025-5945314f99ec",
   "metadata": {},
   "outputs": [],
   "source": [
    "def predictModel(test_Df,x_train,x_test,y_train,y_test,startTime,iteration):\n",
    "    #df3=test_Df.head(10)\n",
    "    #print(df3)\n",
    "    print(\"-------------------------\")\n",
    "    def p_multiclass(labels, preds):\n",
    "        #print(\"Labels: \", labels)\n",
    "        #print(\"Preds: \", preds)\n",
    "        return preds\n",
    "    #result, model_outputs, wrong_predictions = model.eval_model(df3)\n",
    "    result, model_outputs, wrong_predictions=model.eval_model(test_Df,acc=accuracy_score,precision=p_multiclass)\n",
    "    \n",
    "\n",
    "    print(result)\n",
    "    print(\"----------------\")\n",
    "    \n",
    "    #precision is pred labels, work around, cant get the preds otherwise\n",
    "    getData(result[\"precision\"],y_train,y_test,startTime,iteration)\n",
    "    \n",
    "    "
   ]
  },
  {
   "cell_type": "markdown",
   "id": "0f28607a-f66d-4f8d-a3bd-0f8f7393e10e",
   "metadata": {},
   "source": [
    " \n",
    "    sentiment=np.argmax(model_outputs)\n",
    "    resultList=[]\n",
    "    pos=0\n",
    "    neg=0\n",
    "    #ERROR DOESNT GET RIGHT RESULT!!!\n",
    "    for number in sentiment:\n",
    "        if number >0.5:\n",
    "            resultList.append(0)\n",
    "            neg=neg+1\n",
    "        if number <0.5:\n",
    "            resultList.append(1)\n",
    "            pos=pos+1\n",
    "        if number ==0.5:\n",
    "            print(error)\n",
    "    #print(resultList)\n",
    "    print(\"Neg:\", neg)\n",
    "    print(\"Pos:\", pos)"
   ]
  },
  {
   "cell_type": "code",
   "execution_count": 5,
   "id": "7dad88f6-c5bb-403b-ace3-3895fcaa9c27",
   "metadata": {},
   "outputs": [],
   "source": [
    "def getData(test_set,y_train,y_test,startTime,iteration):\n",
    "   \n",
    "    #y_test=y_test[:10]\n",
    "    corporaType=\"\"\n",
    "    shortcut=\"\"\n",
    "    name=\"\"\n",
    "    totalTextUnits=0\n",
    "    totalTestUnits=0\n",
    "    totalTrainUnits=0\n",
    "    accuracy=0\n",
    "    f1_macro=0\n",
    "    precision_macro=0\n",
    "    recall_macro=0\n",
    "    f1_micro=0\n",
    "    precision_micro=0\n",
    "    recall_micro=0\n",
    "    matrix=[]\n",
    "    f1_binary=0\n",
    "    precision_binary=0\n",
    "    recall_binary=0\n",
    "\n",
    "    splitString=re.split(\"_|/\",file)\n",
    "    #print(splitString)\n",
    "    corporaType=splitString[8]\n",
    "    shortcut=splitString[9]\n",
    "    name=splitString[10]\n",
    "\n",
    "    totalTime=time.time()-startTime\n",
    "\n",
    "    totalTextUnits=len(data.index)\n",
    "    totalTestUnits=len(test_set)\n",
    "    totalTrainUnits=len(y_train)\n",
    "\n",
    "    accuracy=accuracy_score(y_test, test_set)\n",
    "    \n",
    "    f1_binary=f1_score(y_test, test_set, average=\"binary\",pos_label=0)\n",
    "    precision_binary=precision_score(y_test, test_set, average=\"binary\",pos_label=0)\n",
    "    recall_binary=recall_score(y_test, test_set, average=\"binary\",pos_label=0)\n",
    "        \n",
    "    matrix=confusion_matrix(y_test, test_set, labels=[1,0])\n",
    "        \n",
    "    matrixFlat=convertMatrix(matrix)\n",
    "    target_names = [0,1]\n",
    "    classificationReport=classification_report(y_test, test_set, target_names=target_names, output_dict=True)\n",
    "    \n",
    "    \n",
    "    \n",
    "    #print(matrixFlat)\n",
    "    saveData(corporaType,shortcut,name,totalTime,totalTextUnits,totalTestUnits,totalTrainUnits,accuracy,f1_macro,precision_macro,recall_macro,f1_micro,precision_micro,recall_micro,matrix,f1_binary,precision_binary,recall_binary,y_test,test_set,startTime,iteration,matrixFlat,classificationReport)"
   ]
  },
  {
   "cell_type": "code",
   "execution_count": 6,
   "id": "d773e252-3678-43d0-9629-45eb9e154167",
   "metadata": {},
   "outputs": [],
   "source": [
    "def convertMatrix(matrix):\n",
    "    global flatMatrix\n",
    "    array=[]\n",
    "    for i in range(len(matrix)):\n",
    "        for j in range(len(matrix[i])):\n",
    "            array.append(matrix[i][j])\n",
    "    flatMatrix = np.array(array)\n",
    "    return flatMatrix"
   ]
  },
  {
   "cell_type": "code",
   "execution_count": 7,
   "id": "e5a9a5af-0bb1-451b-a519-7cdc5e6f6312",
   "metadata": {},
   "outputs": [],
   "source": [
    "def saveData(corporaType,shortcut,name,totalTime,totalTextUnits,totalTestUnits,totalTrainUnits,accuracy,f1_macro,precision_macro,recall_macro,f1_micro,precision_micro,recall_micro,matrix,f1_binary,precision_binary,recall_binary,y_test,test_set,startTime,iteration, matrixFlat,classificationReport):\n",
    "    #print(matrixFlat)\n",
    "    df_svm_data=pd.read_csv(\"MultiDataKFold.tsv\", sep=\"\\t\")\n",
    "    df_svm_data_full=pd.read_csv(\"MultiDataKFoldFull.tsv\", sep=\"\\t\")\n",
    "\n",
    "    #df=pd.DataFrame(columns=[\"Shortcut\",\"Name\",\"Type\",\"Time\",\"Total Length\",\"Training Set\",\"Test Set\",\"Accuracy\",\"Precision Macro\",\n",
    "    #          \"Precision Micro\",\"Precision Binary\",\"Recall Macro\",\"Recall Micro\",\"Recall Binary\",\"F1 Macro\",\n",
    "    #        \"F1 Micro\",\"F1 Binary\",\"Matrix\"])\n",
    "\n",
    "    allData={\"Iteration\":iteration,\"Shortcut\":shortcut,\"Name\":name,\"Type\":corporaType,\"Time\":totalTime,\"Total Length\":totalTextUnits,\"Training Set\":totalTrainUnits,\"Test Set\":totalTestUnits,\"Accuracy\":accuracy,\"Precision Macro\":precision_macro,\n",
    "             \"Precision Micro\":precision_micro,\"Precision Binary\":precision_binary,\"Recall Macro\":recall_macro,\"Recall Micro\":recall_micro,\"Recall Binary\":recall_binary,\"F1 Macro\":f1_macro,\n",
    "            \"F1 Micro\":f1_micro,\"F1 Binary\":f1_binary,\"Matrix\":matrixFlat}\n",
    "\n",
    "    allDataFull={\"Iteration\":iteration,\"Shortcut\":shortcut,\"Name\":name,\"Type\":corporaType,\"Time\":totalTime,\"Total Length\":totalTextUnits,\"Training Set\":totalTrainUnits,\"Test Set\":totalTestUnits,\"Accuracy\":accuracy,\"Precision Macro\":precision_macro,\n",
    "             \"Precision Micro\":precision_micro,\"Precision Binary\":precision_binary,\"Recall Macro\":recall_macro,\"Recall Micro\":recall_micro,\"Recall Binary\":recall_binary,\"F1 Macro\":f1_macro,\n",
    "            \"F1 Micro\":f1_micro,\"F1 Binary\":f1_binary,\"Matrix\":matrixFlat,\"Train Set Full\":y_test,\"Test Set Full\":test_set}\n",
    "\n",
    "    \n",
    "    reportDict=transformReport(classificationReport)\n",
    "    allData.update(reportDict)\n",
    "    allDataFull.update(reportDict)\n",
    "    #print(allData)\n",
    "    df_new_data=pd.DataFrame([allData])\n",
    "    df_new_data_full=pd.DataFrame([allDataFull])\n",
    "\n",
    "    finalData_svm=pd.concat([df_svm_data,df_new_data])\n",
    "    finalData_svm_full=pd.concat([df_svm_data_full,df_new_data_full])\n",
    "    \n",
    "    finalData_svm=finalData_svm[[\"Iteration\",\"Shortcut\",\"Name\",\"Type\",\"Time\",\"Total Length\",\"Training Set\",\"Test Set\",\"Accuracy\",\"Precision Macro\",\n",
    "              \"Precision Micro\",\"Precision Binary\",\"Recall Macro\",\"Recall Micro\",\"Recall Binary\",\"F1 Macro\",\n",
    "            \"F1 Micro\",\"F1 Binary\",\"Matrix\",\"0 precision\",\"0 recall\",\"0 f1-score\",\n",
    "            \"0 support\",\"1 precision\",\"1 recall\",\"1 f1-score\",\"1 support\",\"accuracy accuracy\",\n",
    "            \"macro avg precision\",\"macro avg recall\",\"macro avg f1-score\",\"macro avg support\",\"weighted avg precision\",\"weighted avg recall\",\n",
    "            \"weighted avg f1-score\",\"weighted avg support\"]]\n",
    "\n",
    "    finalData_svm_full=finalData_svm_full[[\"Iteration\",\"Shortcut\",\"Name\",\"Type\",\"Time\",\"Total Length\",\"Training Set\",\"Test Set\",\"Accuracy\",\"Precision Macro\",\n",
    "              \"Precision Micro\",\"Precision Binary\",\"Recall Macro\",\"Recall Micro\",\"Recall Binary\",\"F1 Macro\",\n",
    "            \"F1 Micro\",\"F1 Binary\",\"Matrix\",\"Train Set Full\",\"Test Set Full\",\"0 precision\",\"0 recall\",\"0 f1-score\",\n",
    "            \"0 support\",\"1 precision\",\"1 recall\",\"1 f1-score\",\"1 support\",\"accuracy accuracy\",\n",
    "            \"macro avg precision\",\"macro avg recall\",\"macro avg f1-score\",\"macro avg support\",\"weighted avg precision\",\"weighted avg recall\",\n",
    "            \"weighted avg f1-score\",\"weighted avg support\"]]\n",
    "    \n",
    "    finalData_svm.to_csv(\"MultiDataKFold.tsv\", sep=\"\\t\",index=False)\n",
    "    finalData_svm_full.to_csv(\"MultiDataKFoldFull.tsv\", sep=\"\\t\",index=False)"
   ]
  },
  {
   "cell_type": "code",
   "execution_count": 8,
   "id": "91f0d70f-981f-4ece-96a2-c4de40a5bec8",
   "metadata": {},
   "outputs": [],
   "source": [
    "def transformReport(classificationReport):\n",
    "    print(classificationReport)\n",
    "    newDict={}\n",
    "    for key in classificationReport.keys():\n",
    "        mainName=str(key)\n",
    "        if type(classificationReport[key]) != dict:\n",
    "            name=mainName+\" \"+key\n",
    "            newDict[name]=classificationReport[key]\n",
    "            #print(key, \"->\",classificationReport[key],\"-\",)\n",
    "            \n",
    "        if type(classificationReport[key]) == dict:\n",
    "            for k in classificationReport[key].keys():\n",
    "                name=mainName+\" \"+k\n",
    "                newDict[name]=classificationReport[key][k]\n",
    "                #print(k,\"->\",classificationReport[key][k])\n",
    "    #print(\"--------------\")\n",
    "    print(\"DICT:\",newDict)\n",
    "    return newDict"
   ]
  },
  {
   "cell_type": "markdown",
   "id": "fc8be08d-61a8-479e-a7e2-89da2f2fab25",
   "metadata": {},
   "source": [
    "\"../shared/Corpora/Preprocessed_Transformers_Less_Preprocessing/Binary/RE04_filmstarts_all_Preprocessed_binary_Transformer.tsv\",\n",
    "                \"../shared/Corpora/Preprocessed_Transformers_Less_Preprocessing/Binary/RE05_amazonreviews_Preprocessed_binary_Transformer_balanced.tsv\",\n",
    "                \"../shared/Corpora/Preprocessed_Transformers_Less_Preprocessing/Binary/RE02_scare_Preprocessed_binary_Transformer_balanced.tsv\"\n",
    "                \n",
    "                \"../shared/Corpora/Preprocessed_Transformers_Less_Preprocessing/Ternary/LT02_speechLessing_Preprocessed_ternary_Transformer.tsv\",\n",
    "                 \"../shared/Corpora/Preprocessed_Transformers_Less_Preprocessing/Ternary/MI01_mlsa_Preprocessed_ternary_Transformer.tsv\",\n",
    "                 \"../shared/Corpora/Preprocessed_Transformers_Less_Preprocessing/Ternary/MI02_germeval_Preprocessed_ternary_Transformer.tsv\",\n",
    "                 \"../shared/Corpora/Preprocessed_Transformers_Less_Preprocessing/Ternary/MI03_corpusRauh_Preprocessed_ternary_Transformer.tsv\",\n",
    "                 \"../shared/Corpora/Preprocessed_Transformers_Less_Preprocessing/Ternary/NA01_gersen_Preprocessed_ternary_Transformer.tsv\",\n",
    "                 \"../shared/Corpora/Preprocessed_Transformers_Less_Preprocessing/Ternary/NA02_gerom_Preprocessed_ternary_Transformer.tsv\",\n",
    "                 \"../shared/Corpora/Preprocessed_Transformers_Less_Preprocessing/Ternary/NA03_ompc_Preprocessed_ternary_Transformer.tsv\",\n",
    "                 \"../shared/Corpora/Preprocessed_Transformers_Less_Preprocessing/Ternary/RE01_usage_Preprocessed_ternary_Transformer.tsv\",\n",
    "                 \"../shared/Corpora/Preprocessed_Transformers_Less_Preprocessing/Ternary/RE03_critics_Preprocessed_ternary_Transformer.tsv\",\n",
    "                 \"../shared/Corpora/Preprocessed_Transformers_Less_Preprocessing/Ternary/SM01_sb10k_Preprocessed_ternary_Transformer.tsv\",\n",
    "                 \"../shared/Corpora/Preprocessed_Transformers_Less_Preprocessing/Ternary/SM02_potts_Preprocessed_ternary_Transformer.tsv\",\n",
    "                 \"../shared/Corpora/Preprocessed_Transformers_Less_Preprocessing/Ternary/SM03_multiSe_Preprocessed_ternary_Transformer.tsv\",\n",
    "                 \"../shared/Corpora/Preprocessed_Transformers_Less_Preprocessing/Ternary/SM04_gertwittersent_Preprocessed_ternary_Transformer.tsv\",\n",
    "                 \"../shared/Corpora/Preprocessed_Transformers_Less_Preprocessing/Ternary/SM05_ironycorpus_Preprocessed_ternary_Transformer.tsv\",\n",
    "                 \"../shared/Corpora/Preprocessed_Transformers_Less_Preprocessing/Ternary/SM06_celeb_Preprocessed_ternary_Transformer.tsv\",\n",
    "                 \"../shared/Corpora/Preprocessed_Transformers_Less_Preprocessing/Ternary/RE02_scare_Preprocessed_ternary_Transformer_balanced.tsv\",\n",
    "                 \"../shared/Corpora/Preprocessed_Transformers_Less_Preprocessing/Ternary/RE04_filmstarts_all_Preprocessed_ternary_Transformer.tsv\""
   ]
  },
  {
   "cell_type": "code",
   "execution_count": null,
   "id": "f4d17001-cd74-4385-b286-4ad936c99d10",
   "metadata": {},
   "outputs": [
    {
     "name": "stdout",
     "output_type": "stream",
     "text": [
      "Start for corpora:  ../../../Corpora/Preprocessed_Transformers_Less_Preprocessing/Binary/LT01_gnd_Preprocessed_binary_Transformer.tsv\n",
      "Training Model Now\n",
      "                                                  text  labels\n",
      "0    Ohne Zwang bist Du erwachsen, ohne Zwang gebli...       0\n",
      "1         Er reist ab, lät zweitausend Pfund im Stich!       1\n",
      "2    Und beten heimlich zu Gott für die bedrängte K...       1\n",
      "3    Eine neue Prüfung hatte ich auszustehen, da me...       1\n",
      "4    Von unsrer groen, abermaligen Trübsal und letz...       1\n",
      "..                                                 ...     ...\n",
      "104    So ist das Geld schlielich in Achtung angelegt!       0\n",
      "105  Untreue kann nur durch Untreue gerächt werden;...       1\n",
      "106  Sie hatte sich da ganz geschickt benommen und ...       0\n",
      "107  Weil er aber kein flüssiges Geld hatte, verpfä...       1\n",
      "108  Die Wunde heilt sehr gut  Sie werden kaum eine...       0\n",
      "\n",
      "[109 rows x 2 columns]\n"
     ]
    },
    {
     "name": "stderr",
     "output_type": "stream",
     "text": [
      "Some weights of BertForSequenceClassification were not initialized from the model checkpoint at nlptown/bert-base-multilingual-uncased-sentiment and are newly initialized because the shapes did not match:\n",
      "- classifier.weight: found shape torch.Size([5, 768]) in the checkpoint and torch.Size([2, 768]) in the model instantiated\n",
      "- classifier.bias: found shape torch.Size([5]) in the checkpoint and torch.Size([2]) in the model instantiated\n",
      "You should probably TRAIN this model on a down-stream task to be able to use it for predictions and inference.\n"
     ]
    },
    {
     "data": {
      "application/vnd.jupyter.widget-view+json": {
       "model_id": "9f507afed51c4a9eaaa329c9c67f7aa8",
       "version_major": 2,
       "version_minor": 0
      },
      "text/plain": [
       "Epoch:   0%|          | 0/4 [00:00<?, ?it/s]"
      ]
     },
     "metadata": {},
     "output_type": "display_data"
    },
    {
     "data": {
      "application/vnd.jupyter.widget-view+json": {
       "model_id": "5780ae83ba21411381f35d43d76a3640",
       "version_major": 2,
       "version_minor": 0
      },
      "text/plain": [
       "Running Epoch 0 of 4:   0%|          | 0/4 [00:00<?, ?it/s]"
      ]
     },
     "metadata": {},
     "output_type": "display_data"
    },
    {
     "data": {
      "application/vnd.jupyter.widget-view+json": {
       "model_id": "2da49631f6db4153914aca0eba1aa569",
       "version_major": 2,
       "version_minor": 0
      },
      "text/plain": [
       "Running Epoch 1 of 4:   0%|          | 0/4 [00:00<?, ?it/s]"
      ]
     },
     "metadata": {},
     "output_type": "display_data"
    },
    {
     "data": {
      "application/vnd.jupyter.widget-view+json": {
       "model_id": "36dd16fc09fe4b2d988d75e801fec485",
       "version_major": 2,
       "version_minor": 0
      },
      "text/plain": [
       "Running Epoch 2 of 4:   0%|          | 0/4 [00:00<?, ?it/s]"
      ]
     },
     "metadata": {},
     "output_type": "display_data"
    },
    {
     "data": {
      "application/vnd.jupyter.widget-view+json": {
       "model_id": "4e841f67860a4df598487786b48673c3",
       "version_major": 2,
       "version_minor": 0
      },
      "text/plain": [
       "Running Epoch 3 of 4:   0%|          | 0/4 [00:00<?, ?it/s]"
      ]
     },
     "metadata": {},
     "output_type": "display_data"
    },
    {
     "name": "stdout",
     "output_type": "stream",
     "text": [
      "-------------------------\n"
     ]
    },
    {
     "data": {
      "application/vnd.jupyter.widget-view+json": {
       "model_id": "4bb15e3d38ca47be85adfeaaeebd42d6",
       "version_major": 2,
       "version_minor": 0
      },
      "text/plain": [
       "Running Evaluation:   0%|          | 0/2 [00:00<?, ?it/s]"
      ]
     },
     "metadata": {},
     "output_type": "display_data"
    },
    {
     "name": "stdout",
     "output_type": "stream",
     "text": [
      "{'mcc': 0.10303030303030303, 'tp': 14, 'tn': 7, 'fp': 8, 'fn': 8, 'auroc': 0.6787878787878788, 'auprc': 0.7806304150958812, 'acc': 0.5675675675675675, 'precision': array([1, 1, 1, 1, 0, 0, 1, 1, 0, 1, 0, 1, 1, 0, 1, 1, 0, 1, 0, 0, 1, 0,\n",
      "       0, 1, 1, 0, 1, 1, 1, 1, 0, 0, 1, 0, 1, 1, 0]), 'eval_loss': 0.5708824545145035}\n",
      "----------------\n",
      "{0: {'precision': 0.4666666666666667, 'recall': 0.4666666666666667, 'f1-score': 0.4666666666666667, 'support': 15}, 1: {'precision': 0.6363636363636364, 'recall': 0.6363636363636364, 'f1-score': 0.6363636363636364, 'support': 22}, 'accuracy': 0.5675675675675675, 'macro avg': {'precision': 0.5515151515151515, 'recall': 0.5515151515151515, 'f1-score': 0.5515151515151515, 'support': 37}, 'weighted avg': {'precision': 0.5675675675675675, 'recall': 0.5675675675675675, 'f1-score': 0.5675675675675675, 'support': 37}}\n",
      "DICT: {'0 precision': 0.4666666666666667, '0 recall': 0.4666666666666667, '0 f1-score': 0.4666666666666667, '0 support': 15, '1 precision': 0.6363636363636364, '1 recall': 0.6363636363636364, '1 f1-score': 0.6363636363636364, '1 support': 22, 'accuracy accuracy': 0.5675675675675675, 'macro avg precision': 0.5515151515151515, 'macro avg recall': 0.5515151515151515, 'macro avg f1-score': 0.5515151515151515, 'macro avg support': 37, 'weighted avg precision': 0.5675675675675675, 'weighted avg recall': 0.5675675675675675, 'weighted avg f1-score': 0.5675675675675675, 'weighted avg support': 37}\n",
      "Training Model Now\n",
      "                                                  text  labels\n",
      "0    Ohne Zwang bist Du erwachsen, ohne Zwang gebli...       0\n",
      "1         Er reist ab, lät zweitausend Pfund im Stich!       1\n",
      "2    Unzählbar ist die Menge aller Derer, deren Kra...       1\n",
      "3    Und beten heimlich zu Gott für die bedrängte K...       1\n",
      "4    Eine neue Prüfung hatte ich auszustehen, da me...       1\n",
      "..                                                 ...     ...\n",
      "104  Er war ja gut zum Sterben vorbereitet war zur ...       0\n",
      "105    So ist das Geld schlielich in Achtung angelegt!       0\n",
      "106  Untreue kann nur durch Untreue gerächt werden;...       1\n",
      "107  Weil er aber kein flüssiges Geld hatte, verpfä...       1\n",
      "108  Die Wunde heilt sehr gut  Sie werden kaum eine...       0\n",
      "\n",
      "[109 rows x 2 columns]\n"
     ]
    },
    {
     "name": "stderr",
     "output_type": "stream",
     "text": [
      "Some weights of BertForSequenceClassification were not initialized from the model checkpoint at nlptown/bert-base-multilingual-uncased-sentiment and are newly initialized because the shapes did not match:\n",
      "- classifier.weight: found shape torch.Size([5, 768]) in the checkpoint and torch.Size([2, 768]) in the model instantiated\n",
      "- classifier.bias: found shape torch.Size([5]) in the checkpoint and torch.Size([2]) in the model instantiated\n",
      "You should probably TRAIN this model on a down-stream task to be able to use it for predictions and inference.\n"
     ]
    },
    {
     "data": {
      "application/vnd.jupyter.widget-view+json": {
       "model_id": "a069c28779da44f89888252150f914dd",
       "version_major": 2,
       "version_minor": 0
      },
      "text/plain": [
       "Epoch:   0%|          | 0/4 [00:00<?, ?it/s]"
      ]
     },
     "metadata": {},
     "output_type": "display_data"
    },
    {
     "data": {
      "application/vnd.jupyter.widget-view+json": {
       "model_id": "42c507e7326546619b2c9cf3e496852d",
       "version_major": 2,
       "version_minor": 0
      },
      "text/plain": [
       "Running Epoch 0 of 4:   0%|          | 0/4 [00:00<?, ?it/s]"
      ]
     },
     "metadata": {},
     "output_type": "display_data"
    },
    {
     "data": {
      "application/vnd.jupyter.widget-view+json": {
       "model_id": "ed785ab2a3734f50b358facbf76dd284",
       "version_major": 2,
       "version_minor": 0
      },
      "text/plain": [
       "Running Epoch 1 of 4:   0%|          | 0/4 [00:00<?, ?it/s]"
      ]
     },
     "metadata": {},
     "output_type": "display_data"
    },
    {
     "data": {
      "application/vnd.jupyter.widget-view+json": {
       "model_id": "0810aa0c056d4f60b29b7cacd8bbecdc",
       "version_major": 2,
       "version_minor": 0
      },
      "text/plain": [
       "Running Epoch 2 of 4:   0%|          | 0/4 [00:00<?, ?it/s]"
      ]
     },
     "metadata": {},
     "output_type": "display_data"
    },
    {
     "data": {
      "application/vnd.jupyter.widget-view+json": {
       "model_id": "d8039b7ca856431ebc43ec66ef45ba97",
       "version_major": 2,
       "version_minor": 0
      },
      "text/plain": [
       "Running Epoch 3 of 4:   0%|          | 0/4 [00:00<?, ?it/s]"
      ]
     },
     "metadata": {},
     "output_type": "display_data"
    },
    {
     "name": "stdout",
     "output_type": "stream",
     "text": [
      "-------------------------\n"
     ]
    },
    {
     "data": {
      "application/vnd.jupyter.widget-view+json": {
       "model_id": "704cfc6dd3fd44f6b0172ff042a27f71",
       "version_major": 2,
       "version_minor": 0
      },
      "text/plain": [
       "Running Evaluation:   0%|          | 0/2 [00:00<?, ?it/s]"
      ]
     },
     "metadata": {},
     "output_type": "display_data"
    },
    {
     "name": "stdout",
     "output_type": "stream",
     "text": [
      "{'mcc': 0.1956521739130435, 'tp': 16, 'tn': 7, 'fp': 7, 'fn': 7, 'auroc': 0.7732919254658385, 'auprc': 0.8802195323727203, 'acc': 0.6216216216216216, 'precision': array([0, 1, 0, 0, 0, 0, 1, 1, 0, 1, 1, 1, 1, 1, 1, 1, 0, 1, 1, 0, 1, 0,\n",
      "       1, 1, 0, 1, 1, 1, 0, 1, 1, 1, 1, 0, 0, 1, 0]), 'eval_loss': 0.5047381818294525}\n",
      "----------------\n",
      "{0: {'precision': 0.5, 'recall': 0.5, 'f1-score': 0.5, 'support': 14}, 1: {'precision': 0.6956521739130435, 'recall': 0.6956521739130435, 'f1-score': 0.6956521739130435, 'support': 23}, 'accuracy': 0.6216216216216216, 'macro avg': {'precision': 0.5978260869565217, 'recall': 0.5978260869565217, 'f1-score': 0.5978260869565217, 'support': 37}, 'weighted avg': {'precision': 0.6216216216216216, 'recall': 0.6216216216216216, 'f1-score': 0.6216216216216216, 'support': 37}}\n",
      "DICT: {'0 precision': 0.5, '0 recall': 0.5, '0 f1-score': 0.5, '0 support': 14, '1 precision': 0.6956521739130435, '1 recall': 0.6956521739130435, '1 f1-score': 0.6956521739130435, '1 support': 23, 'accuracy accuracy': 0.6216216216216216, 'macro avg precision': 0.5978260869565217, 'macro avg recall': 0.5978260869565217, 'macro avg f1-score': 0.5978260869565217, 'macro avg support': 37, 'weighted avg precision': 0.6216216216216216, 'weighted avg recall': 0.6216216216216216, 'weighted avg f1-score': 0.6216216216216216, 'weighted avg support': 37}\n",
      "Training Model Now\n",
      "                                                  text  labels\n",
      "0    Ohne Zwang bist Du erwachsen, ohne Zwang gebli...       0\n",
      "1         Er reist ab, lät zweitausend Pfund im Stich!       1\n",
      "2    Unzählbar ist die Menge aller Derer, deren Kra...       1\n",
      "3    Eine neue Prüfung hatte ich auszustehen, da me...       1\n",
      "4    Von unsrer groen, abermaligen Trübsal und letz...       1\n",
      "..                                                 ...     ...\n",
      "105  Er war ja gut zum Sterben vorbereitet war zur ...       0\n",
      "106  Meine Mutter behauptete, wenn ich anders hande...       1\n",
      "107    So ist das Geld schlielich in Achtung angelegt!       0\n",
      "108  Untreue kann nur durch Untreue gerächt werden;...       1\n",
      "109  Sie hatte sich da ganz geschickt benommen und ...       0\n",
      "\n",
      "[110 rows x 2 columns]\n"
     ]
    },
    {
     "name": "stderr",
     "output_type": "stream",
     "text": [
      "Some weights of BertForSequenceClassification were not initialized from the model checkpoint at nlptown/bert-base-multilingual-uncased-sentiment and are newly initialized because the shapes did not match:\n",
      "- classifier.weight: found shape torch.Size([5, 768]) in the checkpoint and torch.Size([2, 768]) in the model instantiated\n",
      "- classifier.bias: found shape torch.Size([5]) in the checkpoint and torch.Size([2]) in the model instantiated\n",
      "You should probably TRAIN this model on a down-stream task to be able to use it for predictions and inference.\n"
     ]
    },
    {
     "data": {
      "application/vnd.jupyter.widget-view+json": {
       "model_id": "fba168fe7bb74e03800fff4e72623dac",
       "version_major": 2,
       "version_minor": 0
      },
      "text/plain": [
       "Epoch:   0%|          | 0/4 [00:00<?, ?it/s]"
      ]
     },
     "metadata": {},
     "output_type": "display_data"
    },
    {
     "data": {
      "application/vnd.jupyter.widget-view+json": {
       "model_id": "6ac022d1231044c0a27d61706c95889d",
       "version_major": 2,
       "version_minor": 0
      },
      "text/plain": [
       "Running Epoch 0 of 4:   0%|          | 0/4 [00:00<?, ?it/s]"
      ]
     },
     "metadata": {},
     "output_type": "display_data"
    },
    {
     "data": {
      "application/vnd.jupyter.widget-view+json": {
       "model_id": "4dfe847d5278411ab1411dcad2c6a84f",
       "version_major": 2,
       "version_minor": 0
      },
      "text/plain": [
       "Running Epoch 1 of 4:   0%|          | 0/4 [00:00<?, ?it/s]"
      ]
     },
     "metadata": {},
     "output_type": "display_data"
    },
    {
     "data": {
      "application/vnd.jupyter.widget-view+json": {
       "model_id": "84173f0933164115a97fdeb8fc2d02df",
       "version_major": 2,
       "version_minor": 0
      },
      "text/plain": [
       "Running Epoch 2 of 4:   0%|          | 0/4 [00:00<?, ?it/s]"
      ]
     },
     "metadata": {},
     "output_type": "display_data"
    },
    {
     "data": {
      "application/vnd.jupyter.widget-view+json": {
       "model_id": "18c095efff2f4ea3bd91238063b56d67",
       "version_major": 2,
       "version_minor": 0
      },
      "text/plain": [
       "Running Epoch 3 of 4:   0%|          | 0/4 [00:00<?, ?it/s]"
      ]
     },
     "metadata": {},
     "output_type": "display_data"
    },
    {
     "name": "stdout",
     "output_type": "stream",
     "text": [
      "-------------------------\n"
     ]
    },
    {
     "data": {
      "application/vnd.jupyter.widget-view+json": {
       "model_id": "64d7060be1a7462ead81e38957d86478",
       "version_major": 2,
       "version_minor": 0
      },
      "text/plain": [
       "Running Evaluation:   0%|          | 0/2 [00:00<?, ?it/s]"
      ]
     },
     "metadata": {},
     "output_type": "display_data"
    },
    {
     "name": "stdout",
     "output_type": "stream",
     "text": [
      "{'mcc': -0.1556100741669289, 'tp': 18, 'tn': 1, 'fp': 13, 'fn': 4, 'auroc': 0.4155844155844156, 'auprc': 0.5850730834644853, 'acc': 0.5277777777777778, 'precision': array([1, 1, 1, 1, 1, 0, 1, 1, 1, 1, 1, 1, 1, 1, 1, 1, 1, 1, 1, 1, 1, 1,\n",
      "       1, 1, 0, 1, 1, 1, 0, 1, 1, 1, 1, 0, 1, 0]), 'eval_loss': 0.7556248605251312}\n",
      "----------------\n",
      "{0: {'precision': 0.2, 'recall': 0.07142857142857142, 'f1-score': 0.10526315789473682, 'support': 14}, 1: {'precision': 0.5806451612903226, 'recall': 0.8181818181818182, 'f1-score': 0.679245283018868, 'support': 22}, 'accuracy': 0.5277777777777778, 'macro avg': {'precision': 0.39032258064516134, 'recall': 0.4448051948051948, 'f1-score': 0.3922542204568024, 'support': 36}, 'weighted avg': {'precision': 0.4326164874551972, 'recall': 0.5277777777777778, 'f1-score': 0.4560300121372614, 'support': 36}}\n",
      "DICT: {'0 precision': 0.2, '0 recall': 0.07142857142857142, '0 f1-score': 0.10526315789473682, '0 support': 14, '1 precision': 0.5806451612903226, '1 recall': 0.8181818181818182, '1 f1-score': 0.679245283018868, '1 support': 22, 'accuracy accuracy': 0.5277777777777778, 'macro avg precision': 0.39032258064516134, 'macro avg recall': 0.4448051948051948, 'macro avg f1-score': 0.3922542204568024, 'macro avg support': 36, 'weighted avg precision': 0.4326164874551972, 'weighted avg recall': 0.5277777777777778, 'weighted avg f1-score': 0.4560300121372614, 'weighted avg support': 36}\n",
      "Training Model Now\n",
      "                                                  text  labels\n",
      "0    Unzählbar ist die Menge aller Derer, deren Kra...       1\n",
      "1    Und beten heimlich zu Gott für die bedrängte K...       1\n",
      "2    Von unsrer groen, abermaligen Trübsal und letz...       1\n",
      "3    Solange es einem gut geht, da ist ehrlich sein...       1\n",
      "4    Sie haben einiges Geld bei sich  Gott mag wiss...       1\n",
      "..                                                 ...     ...\n",
      "105  Er war ja gut zum Sterben vorbereitet war zur ...       0\n",
      "106  Meine Mutter behauptete, wenn ich anders hande...       1\n",
      "107  Sie hatte sich da ganz geschickt benommen und ...       0\n",
      "108  Weil er aber kein flüssiges Geld hatte, verpfä...       1\n",
      "109  Die Wunde heilt sehr gut  Sie werden kaum eine...       0\n",
      "\n",
      "[110 rows x 2 columns]\n"
     ]
    },
    {
     "name": "stderr",
     "output_type": "stream",
     "text": [
      "Some weights of BertForSequenceClassification were not initialized from the model checkpoint at nlptown/bert-base-multilingual-uncased-sentiment and are newly initialized because the shapes did not match:\n",
      "- classifier.weight: found shape torch.Size([5, 768]) in the checkpoint and torch.Size([2, 768]) in the model instantiated\n",
      "- classifier.bias: found shape torch.Size([5]) in the checkpoint and torch.Size([2]) in the model instantiated\n",
      "You should probably TRAIN this model on a down-stream task to be able to use it for predictions and inference.\n"
     ]
    },
    {
     "data": {
      "application/vnd.jupyter.widget-view+json": {
       "model_id": "3269cde7a35a4793bba27b796302e28b",
       "version_major": 2,
       "version_minor": 0
      },
      "text/plain": [
       "Epoch:   0%|          | 0/4 [00:00<?, ?it/s]"
      ]
     },
     "metadata": {},
     "output_type": "display_data"
    },
    {
     "data": {
      "application/vnd.jupyter.widget-view+json": {
       "model_id": "61e904b906c74bf3a380f521996278de",
       "version_major": 2,
       "version_minor": 0
      },
      "text/plain": [
       "Running Epoch 0 of 4:   0%|          | 0/4 [00:00<?, ?it/s]"
      ]
     },
     "metadata": {},
     "output_type": "display_data"
    },
    {
     "data": {
      "application/vnd.jupyter.widget-view+json": {
       "model_id": "db594f71ebbf4229a8abbb9d7141ab59",
       "version_major": 2,
       "version_minor": 0
      },
      "text/plain": [
       "Running Epoch 1 of 4:   0%|          | 0/4 [00:00<?, ?it/s]"
      ]
     },
     "metadata": {},
     "output_type": "display_data"
    },
    {
     "data": {
      "application/vnd.jupyter.widget-view+json": {
       "model_id": "7ad05d7e71be41ed920d102c0f209039",
       "version_major": 2,
       "version_minor": 0
      },
      "text/plain": [
       "Running Epoch 2 of 4:   0%|          | 0/4 [00:00<?, ?it/s]"
      ]
     },
     "metadata": {},
     "output_type": "display_data"
    },
    {
     "data": {
      "application/vnd.jupyter.widget-view+json": {
       "model_id": "e3c98a5c825343abbcb116fc83e9a199",
       "version_major": 2,
       "version_minor": 0
      },
      "text/plain": [
       "Running Epoch 3 of 4:   0%|          | 0/4 [00:00<?, ?it/s]"
      ]
     },
     "metadata": {},
     "output_type": "display_data"
    },
    {
     "name": "stdout",
     "output_type": "stream",
     "text": [
      "-------------------------\n"
     ]
    },
    {
     "data": {
      "application/vnd.jupyter.widget-view+json": {
       "model_id": "f0a232425f0e479d8072e5b683ab5c96",
       "version_major": 2,
       "version_minor": 0
      },
      "text/plain": [
       "Running Evaluation:   0%|          | 0/2 [00:00<?, ?it/s]"
      ]
     },
     "metadata": {},
     "output_type": "display_data"
    },
    {
     "name": "stdout",
     "output_type": "stream",
     "text": [
      "{'mcc': 0.03999232221113245, 'tp': 18, 'tn': 3, 'fp': 11, 'fn': 4, 'auroc': 0.5876623376623377, 'auprc': 0.7675100960986734, 'acc': 0.5833333333333334, 'precision': array([0, 1, 1, 1, 1, 1, 1, 1, 1, 1, 1, 1, 1, 0, 1, 1, 0, 1, 0, 1, 1, 1,\n",
      "       1, 1, 1, 1, 0, 1, 0, 1, 0, 1, 1, 1, 1, 1]), 'eval_loss': 1.0730063915252686}\n",
      "----------------\n",
      "{0: {'precision': 0.42857142857142855, 'recall': 0.21428571428571427, 'f1-score': 0.2857142857142857, 'support': 14}, 1: {'precision': 0.6206896551724138, 'recall': 0.8181818181818182, 'f1-score': 0.7058823529411765, 'support': 22}, 'accuracy': 0.5833333333333334, 'macro avg': {'precision': 0.5246305418719212, 'recall': 0.5162337662337663, 'f1-score': 0.4957983193277311, 'support': 36}, 'weighted avg': {'precision': 0.5459770114942528, 'recall': 0.5833333333333334, 'f1-score': 0.542483660130719, 'support': 36}}\n",
      "DICT: {'0 precision': 0.42857142857142855, '0 recall': 0.21428571428571427, '0 f1-score': 0.2857142857142857, '0 support': 14, '1 precision': 0.6206896551724138, '1 recall': 0.8181818181818182, '1 f1-score': 0.7058823529411765, '1 support': 22, 'accuracy accuracy': 0.5833333333333334, 'macro avg precision': 0.5246305418719212, 'macro avg recall': 0.5162337662337663, 'macro avg f1-score': 0.4957983193277311, 'macro avg support': 36, 'weighted avg precision': 0.5459770114942528, 'weighted avg recall': 0.5833333333333334, 'weighted avg f1-score': 0.542483660130719, 'weighted avg support': 36}\n",
      "Finish\n",
      "Start for corpora:  ../../../Corpora/Preprocessed_Transformers_Less_Preprocessing/Binary/LT02_speechLessing_Preprocessed_binary_Transformer.tsv\n",
      "Training Model Now\n",
      "                                                  text  labels\n",
      "0    Auch daran ist nicht gedacht worden. Wir besch...       0\n",
      "1             lachenas vortrefflich ungeheuer sein mu.       1\n",
      "2    lachenu Dummkopf!  Ja, er wird ihm zureden, mi...       1\n",
      "3    Er wei, da ich ihn kenne, und gibt sich daher ...       1\n",
      "4    Es liegt nicht an der Wahrheit, da sie es nich...       0\n",
      "..                                                 ...     ...\n",
      "424  Werde ich denn nicht müssen, wenn Sie den Brie...       0\n",
      "425  Wo soll ich die Worte finden, die ich schon so...       1\n",
      "426               Ist das Ihr Ernst, Frauenzimmerchen?       0\n",
      "427  Nein, Frauenzimmerchen; eben das wollt ich Ihr...       0\n",
      "428  Versetzt! Glaub Sie doch so was nicht. Viellei...       1\n",
      "\n",
      "[429 rows x 2 columns]\n"
     ]
    },
    {
     "name": "stderr",
     "output_type": "stream",
     "text": [
      "Some weights of BertForSequenceClassification were not initialized from the model checkpoint at nlptown/bert-base-multilingual-uncased-sentiment and are newly initialized because the shapes did not match:\n",
      "- classifier.weight: found shape torch.Size([5, 768]) in the checkpoint and torch.Size([2, 768]) in the model instantiated\n",
      "- classifier.bias: found shape torch.Size([5]) in the checkpoint and torch.Size([2]) in the model instantiated\n",
      "You should probably TRAIN this model on a down-stream task to be able to use it for predictions and inference.\n"
     ]
    },
    {
     "data": {
      "application/vnd.jupyter.widget-view+json": {
       "model_id": "3919a5ea5d89481c9108154f8a8936c4",
       "version_major": 2,
       "version_minor": 0
      },
      "text/plain": [
       "Epoch:   0%|          | 0/4 [00:00<?, ?it/s]"
      ]
     },
     "metadata": {},
     "output_type": "display_data"
    },
    {
     "data": {
      "application/vnd.jupyter.widget-view+json": {
       "model_id": "30d82794b3c8413390330f65814bdfdc",
       "version_major": 2,
       "version_minor": 0
      },
      "text/plain": [
       "Running Epoch 0 of 4:   0%|          | 0/14 [00:00<?, ?it/s]"
      ]
     },
     "metadata": {},
     "output_type": "display_data"
    },
    {
     "data": {
      "application/vnd.jupyter.widget-view+json": {
       "model_id": "f5e953bf81fb4b29ab9aa3d6dbcf22f9",
       "version_major": 2,
       "version_minor": 0
      },
      "text/plain": [
       "Running Epoch 1 of 4:   0%|          | 0/14 [00:00<?, ?it/s]"
      ]
     },
     "metadata": {},
     "output_type": "display_data"
    },
    {
     "data": {
      "application/vnd.jupyter.widget-view+json": {
       "model_id": "1432bf3a23324971a7e86815e9443514",
       "version_major": 2,
       "version_minor": 0
      },
      "text/plain": [
       "Running Epoch 2 of 4:   0%|          | 0/14 [00:00<?, ?it/s]"
      ]
     },
     "metadata": {},
     "output_type": "display_data"
    },
    {
     "data": {
      "application/vnd.jupyter.widget-view+json": {
       "model_id": "ec2d9f34cc2c4fcd8fd5beda9bacc931",
       "version_major": 2,
       "version_minor": 0
      },
      "text/plain": [
       "Running Epoch 3 of 4:   0%|          | 0/14 [00:00<?, ?it/s]"
      ]
     },
     "metadata": {},
     "output_type": "display_data"
    },
    {
     "name": "stdout",
     "output_type": "stream",
     "text": [
      "-------------------------\n"
     ]
    },
    {
     "data": {
      "application/vnd.jupyter.widget-view+json": {
       "model_id": "1ad35e732aeb44dca01f37892400cee4",
       "version_major": 2,
       "version_minor": 0
      },
      "text/plain": [
       "Running Evaluation:   0%|          | 0/5 [00:00<?, ?it/s]"
      ]
     },
     "metadata": {},
     "output_type": "display_data"
    },
    {
     "name": "stdout",
     "output_type": "stream",
     "text": [
      "{'mcc': 0.20953951903123738, 'tp': 74, 'tn': 20, 'fp': 30, 'fn': 19, 'auroc': 0.6552688172043011, 'auprc': 0.7777486498588678, 'acc': 0.6573426573426573, 'precision': array([1, 1, 1, 1, 1, 0, 1, 1, 1, 1, 1, 0, 0, 0, 1, 1, 0, 1, 1, 1, 1, 1,\n",
      "       1, 1, 1, 1, 1, 1, 1, 1, 1, 1, 1, 1, 0, 0, 1, 0, 1, 0, 1, 0, 1, 1,\n",
      "       1, 1, 1, 0, 1, 1, 0, 0, 0, 1, 1, 0, 1, 1, 1, 1, 1, 1, 1, 1, 1, 0,\n",
      "       0, 1, 1, 1, 1, 1, 0, 1, 1, 1, 0, 0, 1, 1, 1, 0, 1, 0, 1, 0, 0, 0,\n",
      "       1, 1, 1, 0, 1, 1, 0, 1, 1, 0, 1, 1, 1, 1, 0, 0, 1, 0, 1, 1, 0, 1,\n",
      "       1, 1, 1, 1, 1, 0, 1, 1, 1, 0, 1, 0, 1, 0, 0, 1, 1, 1, 1, 1, 1, 1,\n",
      "       0, 0, 1, 1, 1, 1, 1, 1, 1, 1, 1]), 'eval_loss': 0.622477126121521}\n",
      "----------------\n",
      "{0: {'precision': 0.5128205128205128, 'recall': 0.4, 'f1-score': 0.449438202247191, 'support': 50}, 1: {'precision': 0.7115384615384616, 'recall': 0.7956989247311828, 'f1-score': 0.751269035532995, 'support': 93}, 'accuracy': 0.6573426573426573, 'macro avg': {'precision': 0.6121794871794872, 'recall': 0.5978494623655914, 'f1-score': 0.600353618890093, 'support': 143}, 'weighted avg': {'precision': 0.6420566612874304, 'recall': 0.6573426573426573, 'f1-score': 0.6457337791393573, 'support': 143}}\n",
      "DICT: {'0 precision': 0.5128205128205128, '0 recall': 0.4, '0 f1-score': 0.449438202247191, '0 support': 50, '1 precision': 0.7115384615384616, '1 recall': 0.7956989247311828, '1 f1-score': 0.751269035532995, '1 support': 93, 'accuracy accuracy': 0.6573426573426573, 'macro avg precision': 0.6121794871794872, 'macro avg recall': 0.5978494623655914, 'macro avg f1-score': 0.600353618890093, 'macro avg support': 143, 'weighted avg precision': 0.6420566612874304, 'weighted avg recall': 0.6573426573426573, 'weighted avg f1-score': 0.6457337791393573, 'weighted avg support': 143}\n",
      "Training Model Now\n",
      "                                                  text  labels\n",
      "0                    Als ich dem Theophan, und er mir?       1\n",
      "1    Er wei, da ich ihn kenne, und gibt sich daher ...       1\n",
      "2    Es liegt nicht an der Wahrheit, da sie es nich...       0\n",
      "3                                          Ha! ha! ha!       1\n",
      "4               Halte mich nicht länger auf, und rede.       1\n",
      "..                                                 ...     ...\n",
      "424  Wo soll ich die Worte finden, die ich schon so...       1\n",
      "425  Aber der, der mich so zu lügen zwingt, was sol...       1\n",
      "426  Mu ich nicht?  Geben Sie mir die Hand darauf, ...       0\n",
      "427  verspieltotz Geck, und kein Ende!  Frauenzimme...       1\n",
      "428  Sie brauchen es nicht? Und verkaufen lieber, u...       1\n",
      "\n",
      "[429 rows x 2 columns]\n"
     ]
    },
    {
     "name": "stderr",
     "output_type": "stream",
     "text": [
      "Some weights of BertForSequenceClassification were not initialized from the model checkpoint at nlptown/bert-base-multilingual-uncased-sentiment and are newly initialized because the shapes did not match:\n",
      "- classifier.weight: found shape torch.Size([5, 768]) in the checkpoint and torch.Size([2, 768]) in the model instantiated\n",
      "- classifier.bias: found shape torch.Size([5]) in the checkpoint and torch.Size([2]) in the model instantiated\n",
      "You should probably TRAIN this model on a down-stream task to be able to use it for predictions and inference.\n"
     ]
    },
    {
     "data": {
      "application/vnd.jupyter.widget-view+json": {
       "model_id": "f8ffaa3a0ec24eee96842d4c1cd0aa29",
       "version_major": 2,
       "version_minor": 0
      },
      "text/plain": [
       "Epoch:   0%|          | 0/4 [00:00<?, ?it/s]"
      ]
     },
     "metadata": {},
     "output_type": "display_data"
    },
    {
     "data": {
      "application/vnd.jupyter.widget-view+json": {
       "model_id": "254670bd163148f58be41897eaf89c35",
       "version_major": 2,
       "version_minor": 0
      },
      "text/plain": [
       "Running Epoch 0 of 4:   0%|          | 0/14 [00:00<?, ?it/s]"
      ]
     },
     "metadata": {},
     "output_type": "display_data"
    },
    {
     "data": {
      "application/vnd.jupyter.widget-view+json": {
       "model_id": "f24fa902b1424d31a49932a806357849",
       "version_major": 2,
       "version_minor": 0
      },
      "text/plain": [
       "Running Epoch 1 of 4:   0%|          | 0/14 [00:00<?, ?it/s]"
      ]
     },
     "metadata": {},
     "output_type": "display_data"
    },
    {
     "data": {
      "application/vnd.jupyter.widget-view+json": {
       "model_id": "b64b3109ab35478b9b84ab77f4ff9ded",
       "version_major": 2,
       "version_minor": 0
      },
      "text/plain": [
       "Running Epoch 2 of 4:   0%|          | 0/14 [00:00<?, ?it/s]"
      ]
     },
     "metadata": {},
     "output_type": "display_data"
    },
    {
     "data": {
      "application/vnd.jupyter.widget-view+json": {
       "model_id": "9c07966a69e44f13a5cb4729e71aba7c",
       "version_major": 2,
       "version_minor": 0
      },
      "text/plain": [
       "Running Epoch 3 of 4:   0%|          | 0/14 [00:00<?, ?it/s]"
      ]
     },
     "metadata": {},
     "output_type": "display_data"
    },
    {
     "name": "stdout",
     "output_type": "stream",
     "text": [
      "-------------------------\n"
     ]
    },
    {
     "data": {
      "application/vnd.jupyter.widget-view+json": {
       "model_id": "3f4762628eab41b49ff523306fc64dda",
       "version_major": 2,
       "version_minor": 0
      },
      "text/plain": [
       "Running Evaluation:   0%|          | 0/5 [00:00<?, ?it/s]"
      ]
     },
     "metadata": {},
     "output_type": "display_data"
    },
    {
     "name": "stdout",
     "output_type": "stream",
     "text": [
      "{'mcc': 0.1480814406894269, 'tp': 77, 'tn': 15, 'fp': 35, 'fn': 16, 'auroc': 0.6133333333333333, 'auprc': 0.7492576711363399, 'acc': 0.6433566433566433, 'precision': array([1, 1, 1, 1, 1, 1, 1, 1, 1, 1, 1, 0, 0, 1, 0, 0, 1, 0, 1, 1, 1, 1,\n",
      "       1, 1, 1, 1, 1, 1, 1, 1, 1, 1, 1, 1, 1, 1, 1, 1, 1, 1, 1, 0, 1, 0,\n",
      "       0, 1, 0, 1, 1, 1, 1, 1, 1, 1, 0, 1, 1, 1, 0, 0, 0, 1, 1, 0, 0, 1,\n",
      "       0, 0, 1, 0, 1, 1, 1, 1, 1, 1, 1, 1, 1, 1, 1, 1, 0, 1, 0, 1, 1, 1,\n",
      "       1, 1, 1, 1, 1, 1, 0, 1, 1, 1, 0, 1, 1, 1, 1, 1, 1, 1, 0, 1, 0, 1,\n",
      "       1, 1, 1, 1, 1, 0, 0, 1, 1, 1, 1, 1, 0, 1, 1, 1, 0, 1, 1, 1, 1, 1,\n",
      "       1, 1, 0, 1, 1, 0, 1, 0, 1, 1, 1]), 'eval_loss': 0.7313117980957031}\n",
      "----------------\n",
      "{0: {'precision': 0.4838709677419355, 'recall': 0.3, 'f1-score': 0.37037037037037035, 'support': 50}, 1: {'precision': 0.6875, 'recall': 0.8279569892473119, 'f1-score': 0.7512195121951218, 'support': 93}, 'accuracy': 0.6433566433566433, 'macro avg': {'precision': 0.5856854838709677, 'recall': 0.5639784946236559, 'f1-score': 0.5607949412827461, 'support': 143}, 'weighted avg': {'precision': 0.6163010376720054, 'recall': 0.6433566433566433, 'f1-score': 0.618055476592062, 'support': 143}}\n",
      "DICT: {'0 precision': 0.4838709677419355, '0 recall': 0.3, '0 f1-score': 0.37037037037037035, '0 support': 50, '1 precision': 0.6875, '1 recall': 0.8279569892473119, '1 f1-score': 0.7512195121951218, '1 support': 93, 'accuracy accuracy': 0.6433566433566433, 'macro avg precision': 0.5856854838709677, 'macro avg recall': 0.5639784946236559, 'macro avg f1-score': 0.5607949412827461, 'macro avg support': 143, 'weighted avg precision': 0.6163010376720054, 'weighted avg recall': 0.6433566433566433, 'weighted avg f1-score': 0.618055476592062, 'weighted avg support': 143}\n",
      "Training Model Now\n",
      "                                                  text  labels\n",
      "0                    Als ich dem Theophan, und er mir?       1\n",
      "1    Auch daran ist nicht gedacht worden. Wir besch...       0\n",
      "2             lachenas vortrefflich ungeheuer sein mu.       1\n",
      "3    lachenu Dummkopf!  Ja, er wird ihm zureden, mi...       1\n",
      "4    Es liegt nicht an der Wahrheit, da sie es nich...       0\n",
      "..                                                 ...     ...\n",
      "424  Mu ich nicht?  Geben Sie mir die Hand darauf, ...       0\n",
      "425  Nein, Frauenzimmerchen; eben das wollt ich Ihr...       0\n",
      "426  verspieltotz Geck, und kein Ende!  Frauenzimme...       1\n",
      "427  Sie brauchen es nicht? Und verkaufen lieber, u...       1\n",
      "428  Versetzt! Glaub Sie doch so was nicht. Viellei...       1\n",
      "\n",
      "[429 rows x 2 columns]\n"
     ]
    },
    {
     "name": "stderr",
     "output_type": "stream",
     "text": [
      "Some weights of BertForSequenceClassification were not initialized from the model checkpoint at nlptown/bert-base-multilingual-uncased-sentiment and are newly initialized because the shapes did not match:\n",
      "- classifier.weight: found shape torch.Size([5, 768]) in the checkpoint and torch.Size([2, 768]) in the model instantiated\n",
      "- classifier.bias: found shape torch.Size([5]) in the checkpoint and torch.Size([2]) in the model instantiated\n",
      "You should probably TRAIN this model on a down-stream task to be able to use it for predictions and inference.\n"
     ]
    },
    {
     "data": {
      "application/vnd.jupyter.widget-view+json": {
       "model_id": "a511754bdaa347f198dc4fbc62a15308",
       "version_major": 2,
       "version_minor": 0
      },
      "text/plain": [
       "Epoch:   0%|          | 0/4 [00:00<?, ?it/s]"
      ]
     },
     "metadata": {},
     "output_type": "display_data"
    },
    {
     "data": {
      "application/vnd.jupyter.widget-view+json": {
       "model_id": "e5abac91587840e2bc76d8a6c55b5cd2",
       "version_major": 2,
       "version_minor": 0
      },
      "text/plain": [
       "Running Epoch 0 of 4:   0%|          | 0/14 [00:00<?, ?it/s]"
      ]
     },
     "metadata": {},
     "output_type": "display_data"
    },
    {
     "data": {
      "application/vnd.jupyter.widget-view+json": {
       "model_id": "01b9c8c3395b4fa88b38e83089351903",
       "version_major": 2,
       "version_minor": 0
      },
      "text/plain": [
       "Running Epoch 1 of 4:   0%|          | 0/14 [00:00<?, ?it/s]"
      ]
     },
     "metadata": {},
     "output_type": "display_data"
    },
    {
     "data": {
      "application/vnd.jupyter.widget-view+json": {
       "model_id": "745c1c0b3d194f3ea9705b6c43d98a25",
       "version_major": 2,
       "version_minor": 0
      },
      "text/plain": [
       "Running Epoch 2 of 4:   0%|          | 0/14 [00:00<?, ?it/s]"
      ]
     },
     "metadata": {},
     "output_type": "display_data"
    },
    {
     "data": {
      "application/vnd.jupyter.widget-view+json": {
       "model_id": "9ab746b328524e14965b348443a30539",
       "version_major": 2,
       "version_minor": 0
      },
      "text/plain": [
       "Running Epoch 3 of 4:   0%|          | 0/14 [00:00<?, ?it/s]"
      ]
     },
     "metadata": {},
     "output_type": "display_data"
    },
    {
     "name": "stdout",
     "output_type": "stream",
     "text": [
      "-------------------------\n"
     ]
    },
    {
     "data": {
      "application/vnd.jupyter.widget-view+json": {
       "model_id": "9b0e77108dd6459cbe11d53494451f62",
       "version_major": 2,
       "version_minor": 0
      },
      "text/plain": [
       "Running Evaluation:   0%|          | 0/5 [00:00<?, ?it/s]"
      ]
     },
     "metadata": {},
     "output_type": "display_data"
    },
    {
     "name": "stdout",
     "output_type": "stream",
     "text": [
      "{'mcc': 0.03904684487603902, 'tp': 70, 'tn': 14, 'fp': 37, 'fn': 22, 'auroc': 0.6269181585677749, 'auprc': 0.7629904345064423, 'acc': 0.5874125874125874, 'precision': array([0, 1, 1, 1, 1, 1, 0, 1, 1, 1, 0, 1, 1, 1, 1, 0, 1, 1, 0, 1, 0, 1,\n",
      "       1, 1, 0, 1, 1, 1, 1, 1, 1, 0, 1, 1, 1, 1, 1, 1, 1, 1, 0, 0, 1, 1,\n",
      "       1, 0, 0, 1, 1, 0, 0, 1, 1, 0, 0, 0, 0, 1, 1, 0, 1, 1, 1, 1, 0, 1,\n",
      "       1, 1, 1, 0, 1, 0, 0, 1, 1, 1, 1, 1, 1, 0, 1, 0, 0, 1, 1, 1, 1, 1,\n",
      "       1, 1, 1, 1, 1, 1, 1, 1, 1, 1, 0, 0, 1, 1, 1, 1, 1, 1, 1, 1, 1, 1,\n",
      "       0, 1, 1, 0, 1, 1, 1, 1, 1, 1, 0, 1, 1, 1, 1, 1, 1, 1, 1, 0, 0, 1,\n",
      "       1, 0, 1, 0, 1, 1, 1, 0, 1, 1, 1]), 'eval_loss': 0.7837231159210205}\n",
      "----------------\n",
      "{0: {'precision': 0.3888888888888889, 'recall': 0.27450980392156865, 'f1-score': 0.3218390804597701, 'support': 51}, 1: {'precision': 0.6542056074766355, 'recall': 0.7608695652173914, 'f1-score': 0.7035175879396984, 'support': 92}, 'accuracy': 0.5874125874125874, 'macro avg': {'precision': 0.5215472481827622, 'recall': 0.5176896845694801, 'f1-score': 0.5126783341997343, 'support': 143}, 'weighted avg': {'precision': 0.5595821623859006, 'recall': 0.5874125874125874, 'f1-score': 0.5673944838734302, 'support': 143}}\n",
      "DICT: {'0 precision': 0.3888888888888889, '0 recall': 0.27450980392156865, '0 f1-score': 0.3218390804597701, '0 support': 51, '1 precision': 0.6542056074766355, '1 recall': 0.7608695652173914, '1 f1-score': 0.7035175879396984, '1 support': 92, 'accuracy accuracy': 0.5874125874125874, 'macro avg precision': 0.5215472481827622, 'macro avg recall': 0.5176896845694801, 'macro avg f1-score': 0.5126783341997343, 'macro avg support': 143, 'weighted avg precision': 0.5595821623859006, 'weighted avg recall': 0.5874125874125874, 'weighted avg f1-score': 0.5673944838734302, 'weighted avg support': 143}\n",
      "Training Model Now\n",
      "                                                  text  labels\n",
      "0                    Als ich dem Theophan, und er mir?       1\n",
      "1    Auch daran ist nicht gedacht worden. Wir besch...       0\n",
      "2             lachenas vortrefflich ungeheuer sein mu.       1\n",
      "3    lachenu Dummkopf!  Ja, er wird ihm zureden, mi...       1\n",
      "4    Er wei, da ich ihn kenne, und gibt sich daher ...       1\n",
      "..                                                 ...     ...\n",
      "424  Mu ich nicht?  Geben Sie mir die Hand darauf, ...       0\n",
      "425  Nein, Frauenzimmerchen; eben das wollt ich Ihr...       0\n",
      "426  verspieltotz Geck, und kein Ende!  Frauenzimme...       1\n",
      "427  Sie brauchen es nicht? Und verkaufen lieber, u...       1\n",
      "428  Versetzt! Glaub Sie doch so was nicht. Viellei...       1\n",
      "\n",
      "[429 rows x 2 columns]\n"
     ]
    },
    {
     "name": "stderr",
     "output_type": "stream",
     "text": [
      "Some weights of BertForSequenceClassification were not initialized from the model checkpoint at nlptown/bert-base-multilingual-uncased-sentiment and are newly initialized because the shapes did not match:\n",
      "- classifier.weight: found shape torch.Size([5, 768]) in the checkpoint and torch.Size([2, 768]) in the model instantiated\n",
      "- classifier.bias: found shape torch.Size([5]) in the checkpoint and torch.Size([2]) in the model instantiated\n",
      "You should probably TRAIN this model on a down-stream task to be able to use it for predictions and inference.\n"
     ]
    },
    {
     "data": {
      "application/vnd.jupyter.widget-view+json": {
       "model_id": "d8cc2847bece4d6c97c765d9578b68cc",
       "version_major": 2,
       "version_minor": 0
      },
      "text/plain": [
       "Epoch:   0%|          | 0/4 [00:00<?, ?it/s]"
      ]
     },
     "metadata": {},
     "output_type": "display_data"
    },
    {
     "data": {
      "application/vnd.jupyter.widget-view+json": {
       "model_id": "0a95bd65a8e744fe8ee145be028ce66e",
       "version_major": 2,
       "version_minor": 0
      },
      "text/plain": [
       "Running Epoch 0 of 4:   0%|          | 0/14 [00:00<?, ?it/s]"
      ]
     },
     "metadata": {},
     "output_type": "display_data"
    },
    {
     "data": {
      "application/vnd.jupyter.widget-view+json": {
       "model_id": "5e9b92faa3ac410eb3f061ad9cadc2be",
       "version_major": 2,
       "version_minor": 0
      },
      "text/plain": [
       "Running Epoch 1 of 4:   0%|          | 0/14 [00:00<?, ?it/s]"
      ]
     },
     "metadata": {},
     "output_type": "display_data"
    },
    {
     "data": {
      "application/vnd.jupyter.widget-view+json": {
       "model_id": "c63ea21d0a3d4fad84bf30fb1ee370d3",
       "version_major": 2,
       "version_minor": 0
      },
      "text/plain": [
       "Running Epoch 2 of 4:   0%|          | 0/14 [00:00<?, ?it/s]"
      ]
     },
     "metadata": {},
     "output_type": "display_data"
    },
    {
     "data": {
      "application/vnd.jupyter.widget-view+json": {
       "model_id": "98915ac7a89a454aa86feb6571e13ecc",
       "version_major": 2,
       "version_minor": 0
      },
      "text/plain": [
       "Running Epoch 3 of 4:   0%|          | 0/14 [00:00<?, ?it/s]"
      ]
     },
     "metadata": {},
     "output_type": "display_data"
    },
    {
     "name": "stdout",
     "output_type": "stream",
     "text": [
      "-------------------------\n"
     ]
    },
    {
     "data": {
      "application/vnd.jupyter.widget-view+json": {
       "model_id": "7b12fa96279e4d73a34387606a684019",
       "version_major": 2,
       "version_minor": 0
      },
      "text/plain": [
       "Running Evaluation:   0%|          | 0/5 [00:00<?, ?it/s]"
      ]
     },
     "metadata": {},
     "output_type": "display_data"
    },
    {
     "name": "stdout",
     "output_type": "stream",
     "text": [
      "{'mcc': 0.19062970374974497, 'tp': 82, 'tn': 13, 'fp': 38, 'fn': 10, 'auroc': 0.6180733162830349, 'auprc': 0.7396079250726458, 'acc': 0.6643356643356644, 'precision': array([1, 1, 1, 1, 0, 1, 0, 1, 1, 1, 1, 0, 1, 0, 1, 1, 1, 1, 1, 1, 1, 1,\n",
      "       0, 1, 1, 1, 1, 1, 1, 1, 1, 0, 0, 0, 1, 0, 1, 0, 1, 1, 1, 1, 1, 0,\n",
      "       1, 0, 1, 1, 1, 1, 1, 1, 1, 1, 1, 1, 1, 1, 1, 1, 1, 1, 1, 1, 0, 1,\n",
      "       1, 1, 1, 1, 1, 1, 1, 1, 1, 1, 1, 1, 1, 1, 0, 1, 1, 1, 1, 1, 1, 1,\n",
      "       1, 1, 1, 1, 1, 0, 1, 1, 1, 1, 1, 1, 1, 1, 1, 1, 1, 1, 1, 1, 1, 0,\n",
      "       1, 1, 0, 1, 1, 0, 1, 1, 1, 1, 1, 1, 1, 0, 1, 0, 1, 1, 1, 1, 1, 0,\n",
      "       1, 1, 0, 1, 1, 1, 1, 1, 1, 0, 1]), 'eval_loss': 0.7355554461479187}\n",
      "----------------\n",
      "{0: {'precision': 0.5652173913043478, 'recall': 0.2549019607843137, 'f1-score': 0.3513513513513513, 'support': 51}, 1: {'precision': 0.6833333333333333, 'recall': 0.8913043478260869, 'f1-score': 0.7735849056603774, 'support': 92}, 'accuracy': 0.6643356643356644, 'macro avg': {'precision': 0.6242753623188406, 'recall': 0.5731031543052003, 'f1-score': 0.5624681285058644, 'support': 143}, 'weighted avg': {'precision': 0.6412080672950239, 'recall': 0.6643356643356644, 'f1-score': 0.6229981135641514, 'support': 143}}\n",
      "DICT: {'0 precision': 0.5652173913043478, '0 recall': 0.2549019607843137, '0 f1-score': 0.3513513513513513, '0 support': 51, '1 precision': 0.6833333333333333, '1 recall': 0.8913043478260869, '1 f1-score': 0.7735849056603774, '1 support': 92, 'accuracy accuracy': 0.6643356643356644, 'macro avg precision': 0.6242753623188406, 'macro avg recall': 0.5731031543052003, 'macro avg f1-score': 0.5624681285058644, 'macro avg support': 143, 'weighted avg precision': 0.6412080672950239, 'weighted avg recall': 0.6643356643356644, 'weighted avg f1-score': 0.6229981135641514, 'weighted avg support': 143}\n",
      "Finish\n",
      "Start for corpora:  ../../../Corpora/Preprocessed_Transformers_Less_Preprocessing/Binary/LT03_historicplays_Preprocessed_binary_Transformer.tsv\n",
      "Training Model Now\n",
      "                                                  text  labels\n",
      "0    Sie trauen mir zu viel zu, wertester Leander. ...       1\n",
      "1    Nun, sehen Sie, so geht es vollkommen gut an. ...       0\n",
      "2    Ja. In einem Gasthofe geht es doch noch munter...       0\n",
      "3    Hui! ist das der standhafte Freund? So leicht ...       1\n",
      "4    Nunmehr darf ich die Bitte um eine nähere Erkl...       1\n",
      "..                                                 ...     ...\n",
      "145  Ich steh nicht auf! nicht eher auf!  mag eher ...       1\n",
      "146  Den Saladin? Noch nicht. Ich habe Ihn nicht ve...       0\n",
      "147  Kein Lob zum Nachteile meines Vaters!  Ändere ...       1\n",
      "148  Bei dem Himmel, das mut du nicht! Mein lieber ...       0\n",
      "149  Hör auf! hör auf! Du hast mich schon ganz. Ja ...       0\n",
      "\n",
      "[150 rows x 2 columns]\n"
     ]
    },
    {
     "name": "stderr",
     "output_type": "stream",
     "text": [
      "Some weights of BertForSequenceClassification were not initialized from the model checkpoint at nlptown/bert-base-multilingual-uncased-sentiment and are newly initialized because the shapes did not match:\n",
      "- classifier.weight: found shape torch.Size([5, 768]) in the checkpoint and torch.Size([2, 768]) in the model instantiated\n",
      "- classifier.bias: found shape torch.Size([5]) in the checkpoint and torch.Size([2]) in the model instantiated\n",
      "You should probably TRAIN this model on a down-stream task to be able to use it for predictions and inference.\n"
     ]
    },
    {
     "data": {
      "application/vnd.jupyter.widget-view+json": {
       "model_id": "c229ce716f724ea4a6e53c2ee77a6153",
       "version_major": 2,
       "version_minor": 0
      },
      "text/plain": [
       "Epoch:   0%|          | 0/4 [00:00<?, ?it/s]"
      ]
     },
     "metadata": {},
     "output_type": "display_data"
    },
    {
     "data": {
      "application/vnd.jupyter.widget-view+json": {
       "model_id": "b91855aad5a241b68771831a69165ff0",
       "version_major": 2,
       "version_minor": 0
      },
      "text/plain": [
       "Running Epoch 0 of 4:   0%|          | 0/5 [00:00<?, ?it/s]"
      ]
     },
     "metadata": {},
     "output_type": "display_data"
    },
    {
     "data": {
      "application/vnd.jupyter.widget-view+json": {
       "model_id": "f83574b8bc5c41f299c18efd1eefc1b7",
       "version_major": 2,
       "version_minor": 0
      },
      "text/plain": [
       "Running Epoch 1 of 4:   0%|          | 0/5 [00:00<?, ?it/s]"
      ]
     },
     "metadata": {},
     "output_type": "display_data"
    },
    {
     "data": {
      "application/vnd.jupyter.widget-view+json": {
       "model_id": "bfe0dd41faa44ddda6aaae5954580430",
       "version_major": 2,
       "version_minor": 0
      },
      "text/plain": [
       "Running Epoch 2 of 4:   0%|          | 0/5 [00:00<?, ?it/s]"
      ]
     },
     "metadata": {},
     "output_type": "display_data"
    },
    {
     "data": {
      "application/vnd.jupyter.widget-view+json": {
       "model_id": "b562452b27754823a4c6dbb957c47ff3",
       "version_major": 2,
       "version_minor": 0
      },
      "text/plain": [
       "Running Epoch 3 of 4:   0%|          | 0/5 [00:00<?, ?it/s]"
      ]
     },
     "metadata": {},
     "output_type": "display_data"
    },
    {
     "name": "stdout",
     "output_type": "stream",
     "text": [
      "-------------------------\n"
     ]
    },
    {
     "data": {
      "application/vnd.jupyter.widget-view+json": {
       "model_id": "6aa0440e2d6b4f268773dc1376c8ed8f",
       "version_major": 2,
       "version_minor": 0
      },
      "text/plain": [
       "Running Evaluation:   0%|          | 0/2 [00:00<?, ?it/s]"
      ]
     },
     "metadata": {},
     "output_type": "display_data"
    },
    {
     "name": "stdout",
     "output_type": "stream",
     "text": [
      "{'mcc': 0.42857142857142855, 'tp': 33, 'tn': 6, 'fp': 9, 'fn': 2, 'auroc': 0.8057142857142857, 'auprc': 0.9174955465671834, 'acc': 0.78, 'precision': array([1, 1, 1, 1, 1, 1, 1, 1, 1, 1, 1, 1, 1, 1, 0, 0, 0, 1, 1, 1, 1, 0,\n",
      "       1, 1, 1, 1, 1, 1, 1, 1, 0, 1, 1, 1, 1, 1, 1, 0, 1, 1, 1, 1, 1, 1,\n",
      "       1, 0, 1, 1, 0, 1]), 'eval_loss': 0.5138512402772903}\n",
      "----------------\n",
      "{0: {'precision': 0.75, 'recall': 0.4, 'f1-score': 0.5217391304347827, 'support': 15}, 1: {'precision': 0.7857142857142857, 'recall': 0.9428571428571428, 'f1-score': 0.8571428571428571, 'support': 35}, 'accuracy': 0.78, 'macro avg': {'precision': 0.7678571428571428, 'recall': 0.6714285714285715, 'f1-score': 0.68944099378882, 'support': 50}, 'weighted avg': {'precision': 0.775, 'recall': 0.78, 'f1-score': 0.7565217391304349, 'support': 50}}\n",
      "DICT: {'0 precision': 0.75, '0 recall': 0.4, '0 f1-score': 0.5217391304347827, '0 support': 15, '1 precision': 0.7857142857142857, '1 recall': 0.9428571428571428, '1 f1-score': 0.8571428571428571, '1 support': 35, 'accuracy accuracy': 0.78, 'macro avg precision': 0.7678571428571428, 'macro avg recall': 0.6714285714285715, 'macro avg f1-score': 0.68944099378882, 'macro avg support': 50, 'weighted avg precision': 0.775, 'weighted avg recall': 0.78, 'weighted avg f1-score': 0.7565217391304349, 'weighted avg support': 50}\n",
      "Training Model Now\n",
      "                                                  text  labels\n",
      "0    Sie trauen mir zu viel zu, wertester Leander. ...       1\n",
      "1    Ich Ihnen nicht verzeihen? O Leander, wäre Ihn...       0\n",
      "2    Nun, sehen Sie, so geht es vollkommen gut an. ...       0\n",
      "3    Ja. In einem Gasthofe geht es doch noch munter...       0\n",
      "4    Hui! ist das der standhafte Freund? So leicht ...       1\n",
      "..                                                 ...     ...\n",
      "145  Kein Lob zum Nachteile meines Vaters!  Ändere ...       1\n",
      "146  Ich verstehe mich mehr auf den Stahl, als auf ...       0\n",
      "147  Er stirbt!  Bin ich ein Verräter, König, wenn ...       1\n",
      "148  Bei dem Himmel, das mut du nicht! Mein lieber ...       0\n",
      "149  Hör auf! hör auf! Du hast mich schon ganz. Ja ...       0\n",
      "\n",
      "[150 rows x 2 columns]\n"
     ]
    },
    {
     "name": "stderr",
     "output_type": "stream",
     "text": [
      "Some weights of BertForSequenceClassification were not initialized from the model checkpoint at nlptown/bert-base-multilingual-uncased-sentiment and are newly initialized because the shapes did not match:\n",
      "- classifier.weight: found shape torch.Size([5, 768]) in the checkpoint and torch.Size([2, 768]) in the model instantiated\n",
      "- classifier.bias: found shape torch.Size([5]) in the checkpoint and torch.Size([2]) in the model instantiated\n",
      "You should probably TRAIN this model on a down-stream task to be able to use it for predictions and inference.\n"
     ]
    },
    {
     "data": {
      "application/vnd.jupyter.widget-view+json": {
       "model_id": "64ddf6ffff5f499ab93c7c430ff5d7c5",
       "version_major": 2,
       "version_minor": 0
      },
      "text/plain": [
       "Epoch:   0%|          | 0/4 [00:00<?, ?it/s]"
      ]
     },
     "metadata": {},
     "output_type": "display_data"
    },
    {
     "data": {
      "application/vnd.jupyter.widget-view+json": {
       "model_id": "9692aa20988c43edbbc7816362085924",
       "version_major": 2,
       "version_minor": 0
      },
      "text/plain": [
       "Running Epoch 0 of 4:   0%|          | 0/5 [00:00<?, ?it/s]"
      ]
     },
     "metadata": {},
     "output_type": "display_data"
    },
    {
     "data": {
      "application/vnd.jupyter.widget-view+json": {
       "model_id": "268f828b1251474cabf4b4db583afd96",
       "version_major": 2,
       "version_minor": 0
      },
      "text/plain": [
       "Running Epoch 1 of 4:   0%|          | 0/5 [00:00<?, ?it/s]"
      ]
     },
     "metadata": {},
     "output_type": "display_data"
    },
    {
     "data": {
      "application/vnd.jupyter.widget-view+json": {
       "model_id": "39908741549b489aa0213ea8de7c42c6",
       "version_major": 2,
       "version_minor": 0
      },
      "text/plain": [
       "Running Epoch 2 of 4:   0%|          | 0/5 [00:00<?, ?it/s]"
      ]
     },
     "metadata": {},
     "output_type": "display_data"
    },
    {
     "data": {
      "application/vnd.jupyter.widget-view+json": {
       "model_id": "b3f0f162d19f4280aa027393aeac42bd",
       "version_major": 2,
       "version_minor": 0
      },
      "text/plain": [
       "Running Epoch 3 of 4:   0%|          | 0/5 [00:00<?, ?it/s]"
      ]
     },
     "metadata": {},
     "output_type": "display_data"
    },
    {
     "name": "stdout",
     "output_type": "stream",
     "text": [
      "-------------------------\n"
     ]
    },
    {
     "data": {
      "application/vnd.jupyter.widget-view+json": {
       "model_id": "d48374ef12aa4409bbf084162350d1ac",
       "version_major": 2,
       "version_minor": 0
      },
      "text/plain": [
       "Running Evaluation:   0%|          | 0/2 [00:00<?, ?it/s]"
      ]
     },
     "metadata": {},
     "output_type": "display_data"
    },
    {
     "name": "stdout",
     "output_type": "stream",
     "text": [
      "{'mcc': 0.0, 'tp': 35, 'tn': 0, 'fp': 15, 'fn': 0, 'auroc': 0.7142857142857142, 'auprc': 0.8577932343155696, 'acc': 0.7, 'precision': array([1, 1, 1, 1, 1, 1, 1, 1, 1, 1, 1, 1, 1, 1, 1, 1, 1, 1, 1, 1, 1, 1,\n",
      "       1, 1, 1, 1, 1, 1, 1, 1, 1, 1, 1, 1, 1, 1, 1, 1, 1, 1, 1, 1, 1, 1,\n",
      "       1, 1, 1, 1, 1, 1]), 'eval_loss': 0.5971666574478149}\n",
      "----------------\n",
      "{0: {'precision': 0.0, 'recall': 0.0, 'f1-score': 0.0, 'support': 15}, 1: {'precision': 0.7, 'recall': 1.0, 'f1-score': 0.8235294117647058, 'support': 35}, 'accuracy': 0.7, 'macro avg': {'precision': 0.35, 'recall': 0.5, 'f1-score': 0.4117647058823529, 'support': 50}, 'weighted avg': {'precision': 0.49, 'recall': 0.7, 'f1-score': 0.5764705882352941, 'support': 50}}\n",
      "DICT: {'0 precision': 0.0, '0 recall': 0.0, '0 f1-score': 0.0, '0 support': 15, '1 precision': 0.7, '1 recall': 1.0, '1 f1-score': 0.8235294117647058, '1 support': 35, 'accuracy accuracy': 0.7, 'macro avg precision': 0.35, 'macro avg recall': 0.5, 'macro avg f1-score': 0.4117647058823529, 'macro avg support': 50, 'weighted avg precision': 0.49, 'weighted avg recall': 0.7, 'weighted avg f1-score': 0.5764705882352941, 'weighted avg support': 50}\n",
      "Training Model Now\n",
      "                                                  text  labels\n",
      "0    Ich Ihnen nicht verzeihen? O Leander, wäre Ihn...       0\n",
      "1    Nun, sehen Sie, so geht es vollkommen gut an. ...       0\n",
      "2    Hui! ist das der standhafte Freund? So leicht ...       1\n",
      "3    Sie, Madam, haben die Gütigkeit gehabt, sich f...       0\n",
      "4    Nunmehr darf ich die Bitte um eine nähere Erkl...       1\n",
      "..                                                 ...     ...\n",
      "145  Ich steh nicht auf! nicht eher auf!  mag eher ...       1\n",
      "146  Sachte, Prinz! Ein Papagei versteht nicht, abe...       1\n",
      "147  Ich verstehe mich mehr auf den Stahl, als auf ...       0\n",
      "148  Er stirbt!  Bin ich ein Verräter, König, wenn ...       1\n",
      "149  Hör auf! hör auf! Du hast mich schon ganz. Ja ...       0\n",
      "\n",
      "[150 rows x 2 columns]\n"
     ]
    },
    {
     "name": "stderr",
     "output_type": "stream",
     "text": [
      "/opt/conda/lib/python3.10/site-packages/sklearn/metrics/_classification.py:1327: UndefinedMetricWarning: Precision is ill-defined and being set to 0.0 due to no predicted samples. Use `zero_division` parameter to control this behavior.\n",
      "  _warn_prf(average, modifier, msg_start, len(result))\n",
      "/opt/conda/lib/python3.10/site-packages/sklearn/metrics/_classification.py:1327: UndefinedMetricWarning: Precision and F-score are ill-defined and being set to 0.0 in labels with no predicted samples. Use `zero_division` parameter to control this behavior.\n",
      "  _warn_prf(average, modifier, msg_start, len(result))\n",
      "/opt/conda/lib/python3.10/site-packages/sklearn/metrics/_classification.py:1327: UndefinedMetricWarning: Precision and F-score are ill-defined and being set to 0.0 in labels with no predicted samples. Use `zero_division` parameter to control this behavior.\n",
      "  _warn_prf(average, modifier, msg_start, len(result))\n",
      "/opt/conda/lib/python3.10/site-packages/sklearn/metrics/_classification.py:1327: UndefinedMetricWarning: Precision and F-score are ill-defined and being set to 0.0 in labels with no predicted samples. Use `zero_division` parameter to control this behavior.\n",
      "  _warn_prf(average, modifier, msg_start, len(result))\n",
      "Some weights of BertForSequenceClassification were not initialized from the model checkpoint at nlptown/bert-base-multilingual-uncased-sentiment and are newly initialized because the shapes did not match:\n",
      "- classifier.weight: found shape torch.Size([5, 768]) in the checkpoint and torch.Size([2, 768]) in the model instantiated\n",
      "- classifier.bias: found shape torch.Size([5]) in the checkpoint and torch.Size([2]) in the model instantiated\n",
      "You should probably TRAIN this model on a down-stream task to be able to use it for predictions and inference.\n"
     ]
    },
    {
     "data": {
      "application/vnd.jupyter.widget-view+json": {
       "model_id": "de55aae21f174e6c89a5fb3c1cf9c9f1",
       "version_major": 2,
       "version_minor": 0
      },
      "text/plain": [
       "Epoch:   0%|          | 0/4 [00:00<?, ?it/s]"
      ]
     },
     "metadata": {},
     "output_type": "display_data"
    },
    {
     "data": {
      "application/vnd.jupyter.widget-view+json": {
       "model_id": "4794d20d9aca490d957f488981156ecc",
       "version_major": 2,
       "version_minor": 0
      },
      "text/plain": [
       "Running Epoch 0 of 4:   0%|          | 0/5 [00:00<?, ?it/s]"
      ]
     },
     "metadata": {},
     "output_type": "display_data"
    },
    {
     "data": {
      "application/vnd.jupyter.widget-view+json": {
       "model_id": "a33e730458ab4f909607784094b4252a",
       "version_major": 2,
       "version_minor": 0
      },
      "text/plain": [
       "Running Epoch 1 of 4:   0%|          | 0/5 [00:00<?, ?it/s]"
      ]
     },
     "metadata": {},
     "output_type": "display_data"
    },
    {
     "data": {
      "application/vnd.jupyter.widget-view+json": {
       "model_id": "c3ad8070b28146f9bd02db92d09ff28c",
       "version_major": 2,
       "version_minor": 0
      },
      "text/plain": [
       "Running Epoch 2 of 4:   0%|          | 0/5 [00:00<?, ?it/s]"
      ]
     },
     "metadata": {},
     "output_type": "display_data"
    },
    {
     "data": {
      "application/vnd.jupyter.widget-view+json": {
       "model_id": "0a729a71ea404cb1af2d7edf2ef5c9cb",
       "version_major": 2,
       "version_minor": 0
      },
      "text/plain": [
       "Running Epoch 3 of 4:   0%|          | 0/5 [00:00<?, ?it/s]"
      ]
     },
     "metadata": {},
     "output_type": "display_data"
    },
    {
     "name": "stdout",
     "output_type": "stream",
     "text": [
      "-------------------------\n"
     ]
    },
    {
     "data": {
      "application/vnd.jupyter.widget-view+json": {
       "model_id": "857a1374f904410390dc1a6185288da3",
       "version_major": 2,
       "version_minor": 0
      },
      "text/plain": [
       "Running Evaluation:   0%|          | 0/2 [00:00<?, ?it/s]"
      ]
     },
     "metadata": {},
     "output_type": "display_data"
    },
    {
     "name": "stdout",
     "output_type": "stream",
     "text": [
      "{'mcc': -0.012577870090366055, 'tp': 30, 'tn': 2, 'fp': 13, 'fn': 5, 'auroc': 0.56, 'auprc': 0.776401249026034, 'acc': 0.64, 'precision': array([0, 1, 1, 1, 1, 1, 1, 1, 1, 1, 1, 1, 1, 1, 0, 0, 1, 1, 1, 1, 1, 1,\n",
      "       1, 1, 0, 1, 1, 1, 0, 1, 1, 1, 1, 1, 1, 0, 1, 1, 1, 1, 1, 1, 1, 0,\n",
      "       1, 1, 1, 1, 1, 1]), 'eval_loss': 0.6560800075531006}\n",
      "----------------\n",
      "{0: {'precision': 0.2857142857142857, 'recall': 0.13333333333333333, 'f1-score': 0.18181818181818182, 'support': 15}, 1: {'precision': 0.6976744186046512, 'recall': 0.8571428571428571, 'f1-score': 0.7692307692307693, 'support': 35}, 'accuracy': 0.64, 'macro avg': {'precision': 0.49169435215946844, 'recall': 0.4952380952380952, 'f1-score': 0.4755244755244755, 'support': 50}, 'weighted avg': {'precision': 0.5740863787375415, 'recall': 0.64, 'f1-score': 0.593006993006993, 'support': 50}}\n",
      "DICT: {'0 precision': 0.2857142857142857, '0 recall': 0.13333333333333333, '0 f1-score': 0.18181818181818182, '0 support': 15, '1 precision': 0.6976744186046512, '1 recall': 0.8571428571428571, '1 f1-score': 0.7692307692307693, '1 support': 35, 'accuracy accuracy': 0.64, 'macro avg precision': 0.49169435215946844, 'macro avg recall': 0.4952380952380952, 'macro avg f1-score': 0.4755244755244755, 'macro avg support': 50, 'weighted avg precision': 0.5740863787375415, 'weighted avg recall': 0.64, 'weighted avg f1-score': 0.593006993006993, 'weighted avg support': 50}\n",
      "Training Model Now\n",
      "                                                  text  labels\n",
      "0    Sie trauen mir zu viel zu, wertester Leander. ...       1\n",
      "1    Ich Ihnen nicht verzeihen? O Leander, wäre Ihn...       0\n",
      "2    Ja. In einem Gasthofe geht es doch noch munter...       0\n",
      "3    Sie, Madam, haben die Gütigkeit gehabt, sich f...       0\n",
      "4    Nunmehr darf ich die Bitte um eine nähere Erkl...       1\n",
      "..                                                 ...     ...\n",
      "145  Sachte, Prinz! Ein Papagei versteht nicht, abe...       1\n",
      "146  Kein Lob zum Nachteile meines Vaters!  Ändere ...       1\n",
      "147  Ich verstehe mich mehr auf den Stahl, als auf ...       0\n",
      "148  Er stirbt!  Bin ich ein Verräter, König, wenn ...       1\n",
      "149  Bei dem Himmel, das mut du nicht! Mein lieber ...       0\n",
      "\n",
      "[150 rows x 2 columns]\n"
     ]
    },
    {
     "name": "stderr",
     "output_type": "stream",
     "text": [
      "Some weights of BertForSequenceClassification were not initialized from the model checkpoint at nlptown/bert-base-multilingual-uncased-sentiment and are newly initialized because the shapes did not match:\n",
      "- classifier.weight: found shape torch.Size([5, 768]) in the checkpoint and torch.Size([2, 768]) in the model instantiated\n",
      "- classifier.bias: found shape torch.Size([5]) in the checkpoint and torch.Size([2]) in the model instantiated\n",
      "You should probably TRAIN this model on a down-stream task to be able to use it for predictions and inference.\n"
     ]
    },
    {
     "data": {
      "application/vnd.jupyter.widget-view+json": {
       "model_id": "caafc6ad29994cb18100c4832e5e63e9",
       "version_major": 2,
       "version_minor": 0
      },
      "text/plain": [
       "Epoch:   0%|          | 0/4 [00:00<?, ?it/s]"
      ]
     },
     "metadata": {},
     "output_type": "display_data"
    },
    {
     "data": {
      "application/vnd.jupyter.widget-view+json": {
       "model_id": "783ca65916dd41c2a1c3ba7de59d92d4",
       "version_major": 2,
       "version_minor": 0
      },
      "text/plain": [
       "Running Epoch 0 of 4:   0%|          | 0/5 [00:00<?, ?it/s]"
      ]
     },
     "metadata": {},
     "output_type": "display_data"
    },
    {
     "data": {
      "application/vnd.jupyter.widget-view+json": {
       "model_id": "fdf943bc21fa4a5fa8448a38d665db97",
       "version_major": 2,
       "version_minor": 0
      },
      "text/plain": [
       "Running Epoch 1 of 4:   0%|          | 0/5 [00:00<?, ?it/s]"
      ]
     },
     "metadata": {},
     "output_type": "display_data"
    },
    {
     "data": {
      "application/vnd.jupyter.widget-view+json": {
       "model_id": "65b848f16ea84bfbbad1a2a7146112ea",
       "version_major": 2,
       "version_minor": 0
      },
      "text/plain": [
       "Running Epoch 2 of 4:   0%|          | 0/5 [00:00<?, ?it/s]"
      ]
     },
     "metadata": {},
     "output_type": "display_data"
    },
    {
     "data": {
      "application/vnd.jupyter.widget-view+json": {
       "model_id": "554d3c78ce3c49fe9abb168a30670ef1",
       "version_major": 2,
       "version_minor": 0
      },
      "text/plain": [
       "Running Epoch 3 of 4:   0%|          | 0/5 [00:00<?, ?it/s]"
      ]
     },
     "metadata": {},
     "output_type": "display_data"
    },
    {
     "name": "stdout",
     "output_type": "stream",
     "text": [
      "-------------------------\n"
     ]
    },
    {
     "data": {
      "application/vnd.jupyter.widget-view+json": {
       "model_id": "867cbd176d49447a909829806eefeccf",
       "version_major": 2,
       "version_minor": 0
      },
      "text/plain": [
       "Running Evaluation:   0%|          | 0/2 [00:00<?, ?it/s]"
      ]
     },
     "metadata": {},
     "output_type": "display_data"
    },
    {
     "name": "stdout",
     "output_type": "stream",
     "text": [
      "{'mcc': 0.0, 'tp': 34, 'tn': 0, 'fp': 16, 'fn': 0, 'auroc': 0.5367647058823529, 'auprc': 0.6971726994586019, 'acc': 0.68, 'precision': array([1, 1, 1, 1, 1, 1, 1, 1, 1, 1, 1, 1, 1, 1, 1, 1, 1, 1, 1, 1, 1, 1,\n",
      "       1, 1, 1, 1, 1, 1, 1, 1, 1, 1, 1, 1, 1, 1, 1, 1, 1, 1, 1, 1, 1, 1,\n",
      "       1, 1, 1, 1, 1, 1]), 'eval_loss': 0.6334814429283142}\n",
      "----------------\n",
      "{0: {'precision': 0.0, 'recall': 0.0, 'f1-score': 0.0, 'support': 16}, 1: {'precision': 0.68, 'recall': 1.0, 'f1-score': 0.8095238095238095, 'support': 34}, 'accuracy': 0.68, 'macro avg': {'precision': 0.34, 'recall': 0.5, 'f1-score': 0.40476190476190477, 'support': 50}, 'weighted avg': {'precision': 0.46240000000000003, 'recall': 0.68, 'f1-score': 0.5504761904761906, 'support': 50}}\n",
      "DICT: {'0 precision': 0.0, '0 recall': 0.0, '0 f1-score': 0.0, '0 support': 16, '1 precision': 0.68, '1 recall': 1.0, '1 f1-score': 0.8095238095238095, '1 support': 34, 'accuracy accuracy': 0.68, 'macro avg precision': 0.34, 'macro avg recall': 0.5, 'macro avg f1-score': 0.40476190476190477, 'macro avg support': 50, 'weighted avg precision': 0.46240000000000003, 'weighted avg recall': 0.68, 'weighted avg f1-score': 0.5504761904761906, 'weighted avg support': 50}\n",
      "Finish\n",
      "Start for corpora:  ../../../Corpora/Preprocessed_Transformers_Less_Preprocessing/Binary/MI01_mlsa_Preprocessed_binary_Transformer.tsv\n",
      "Training Model Now\n",
      "                                                  text  labels\n",
      "0    Den Weltkrieg wertete er als gerechten Krieg ,...       0\n",
      "1    Heute Morgen machten die Belagerten einen Ausf...       1\n",
      "2    Die Ermittlung des Welteinkommens kann bei Ste...       1\n",
      "3    Die groe Mehrzahl der Menschen arbeitet nur no...       1\n",
      "4    Das Wiedererstarken des Islam führt aber auch ...       1\n",
      "..                                                 ...     ...\n",
      "129  Wenn Ihnen der langweilige und nach nichts sch...       0\n",
      "130  Vielleicht gibt das einen besseren Überblick ü...       0\n",
      "131              Ein wunderbarer Film , kein Zweifel !       0\n",
      "132  Ehrfurcht erregender Stil , der den Neuling le...       0\n",
      "133  Andererseits würde ich mir wünschen , offen da...       1\n",
      "\n",
      "[134 rows x 2 columns]\n"
     ]
    },
    {
     "name": "stderr",
     "output_type": "stream",
     "text": [
      "/opt/conda/lib/python3.10/site-packages/sklearn/metrics/_classification.py:1327: UndefinedMetricWarning: Precision is ill-defined and being set to 0.0 due to no predicted samples. Use `zero_division` parameter to control this behavior.\n",
      "  _warn_prf(average, modifier, msg_start, len(result))\n",
      "/opt/conda/lib/python3.10/site-packages/sklearn/metrics/_classification.py:1327: UndefinedMetricWarning: Precision and F-score are ill-defined and being set to 0.0 in labels with no predicted samples. Use `zero_division` parameter to control this behavior.\n",
      "  _warn_prf(average, modifier, msg_start, len(result))\n",
      "/opt/conda/lib/python3.10/site-packages/sklearn/metrics/_classification.py:1327: UndefinedMetricWarning: Precision and F-score are ill-defined and being set to 0.0 in labels with no predicted samples. Use `zero_division` parameter to control this behavior.\n",
      "  _warn_prf(average, modifier, msg_start, len(result))\n",
      "/opt/conda/lib/python3.10/site-packages/sklearn/metrics/_classification.py:1327: UndefinedMetricWarning: Precision and F-score are ill-defined and being set to 0.0 in labels with no predicted samples. Use `zero_division` parameter to control this behavior.\n",
      "  _warn_prf(average, modifier, msg_start, len(result))\n",
      "Some weights of BertForSequenceClassification were not initialized from the model checkpoint at nlptown/bert-base-multilingual-uncased-sentiment and are newly initialized because the shapes did not match:\n",
      "- classifier.weight: found shape torch.Size([5, 768]) in the checkpoint and torch.Size([2, 768]) in the model instantiated\n",
      "- classifier.bias: found shape torch.Size([5]) in the checkpoint and torch.Size([2]) in the model instantiated\n",
      "You should probably TRAIN this model on a down-stream task to be able to use it for predictions and inference.\n"
     ]
    },
    {
     "data": {
      "application/vnd.jupyter.widget-view+json": {
       "model_id": "a296234028184776a385c69bba39b47b",
       "version_major": 2,
       "version_minor": 0
      },
      "text/plain": [
       "Epoch:   0%|          | 0/4 [00:00<?, ?it/s]"
      ]
     },
     "metadata": {},
     "output_type": "display_data"
    },
    {
     "data": {
      "application/vnd.jupyter.widget-view+json": {
       "model_id": "fdca24356d654b06a7f35023bae1e5a1",
       "version_major": 2,
       "version_minor": 0
      },
      "text/plain": [
       "Running Epoch 0 of 4:   0%|          | 0/5 [00:00<?, ?it/s]"
      ]
     },
     "metadata": {},
     "output_type": "display_data"
    },
    {
     "data": {
      "application/vnd.jupyter.widget-view+json": {
       "model_id": "b32aeca076a4492e812e0f83dd3e8bdd",
       "version_major": 2,
       "version_minor": 0
      },
      "text/plain": [
       "Running Epoch 1 of 4:   0%|          | 0/5 [00:00<?, ?it/s]"
      ]
     },
     "metadata": {},
     "output_type": "display_data"
    },
    {
     "data": {
      "application/vnd.jupyter.widget-view+json": {
       "model_id": "102b3cc05ae149a79c16dc822977adcb",
       "version_major": 2,
       "version_minor": 0
      },
      "text/plain": [
       "Running Epoch 2 of 4:   0%|          | 0/5 [00:00<?, ?it/s]"
      ]
     },
     "metadata": {},
     "output_type": "display_data"
    },
    {
     "data": {
      "application/vnd.jupyter.widget-view+json": {
       "model_id": "4c69e428562f4a688df0e04582ce4147",
       "version_major": 2,
       "version_minor": 0
      },
      "text/plain": [
       "Running Epoch 3 of 4:   0%|          | 0/5 [00:00<?, ?it/s]"
      ]
     },
     "metadata": {},
     "output_type": "display_data"
    },
    {
     "name": "stdout",
     "output_type": "stream",
     "text": [
      "-------------------------\n"
     ]
    },
    {
     "data": {
      "application/vnd.jupyter.widget-view+json": {
       "model_id": "ada6604b00c7450289cffe37a02fe5f5",
       "version_major": 2,
       "version_minor": 0
      },
      "text/plain": [
       "Running Evaluation:   0%|          | 0/2 [00:00<?, ?it/s]"
      ]
     },
     "metadata": {},
     "output_type": "display_data"
    },
    {
     "name": "stdout",
     "output_type": "stream",
     "text": [
      "{'mcc': 0.5306686305052324, 'tp': 23, 'tn': 12, 'fp': 6, 'fn': 4, 'auroc': 0.8148148148148149, 'auprc': 0.8096313702996473, 'acc': 0.7777777777777778, 'precision': array([1, 1, 0, 0, 1, 1, 1, 1, 1, 1, 1, 1, 1, 1, 1, 1, 1, 0, 1, 1, 0, 1,\n",
      "       1, 1, 0, 0, 0, 0, 1, 0, 0, 0, 1, 0, 1, 1, 1, 0, 1, 1, 0, 1, 0, 0,\n",
      "       1]), 'eval_loss': 0.6802828907966614}\n",
      "----------------\n",
      "{0: {'precision': 0.75, 'recall': 0.6666666666666666, 'f1-score': 0.7058823529411765, 'support': 18}, 1: {'precision': 0.7931034482758621, 'recall': 0.8518518518518519, 'f1-score': 0.8214285714285715, 'support': 27}, 'accuracy': 0.7777777777777778, 'macro avg': {'precision': 0.771551724137931, 'recall': 0.7592592592592593, 'f1-score': 0.763655462184874, 'support': 45}, 'weighted avg': {'precision': 0.7758620689655172, 'recall': 0.7777777777777778, 'f1-score': 0.7752100840336135, 'support': 45}}\n",
      "DICT: {'0 precision': 0.75, '0 recall': 0.6666666666666666, '0 f1-score': 0.7058823529411765, '0 support': 18, '1 precision': 0.7931034482758621, '1 recall': 0.8518518518518519, '1 f1-score': 0.8214285714285715, '1 support': 27, 'accuracy accuracy': 0.7777777777777778, 'macro avg precision': 0.771551724137931, 'macro avg recall': 0.7592592592592593, 'macro avg f1-score': 0.763655462184874, 'macro avg support': 45, 'weighted avg precision': 0.7758620689655172, 'weighted avg recall': 0.7777777777777778, 'weighted avg f1-score': 0.7752100840336135, 'weighted avg support': 45}\n",
      "Training Model Now\n",
      "                                                  text  labels\n",
      "0    Den Weltkrieg wertete er als gerechten Krieg ,...       0\n",
      "1    Eine verfestigte Neigung , auf beziehungs bzw....       1\n",
      "2    Und doch wird in Israel über diese Möglichkeit...       1\n",
      "3    Dann braucht nur irgendein Geheimerlass anzuor...       1\n",
      "4    Die Ermittlung des Welteinkommens kann bei Ste...       1\n",
      "..                                                 ...     ...\n",
      "129  Insgesamt tontechnisch jedoch guter Durchschni...       0\n",
      "130  Vielleicht gibt das einen besseren Überblick ü...       0\n",
      "131  Einen massiven Aufschwung gewann sie durch die...       0\n",
      "132  Ehrfurcht erregender Stil , der den Neuling le...       0\n",
      "133  Andererseits würde ich mir wünschen , offen da...       1\n",
      "\n",
      "[134 rows x 2 columns]\n"
     ]
    },
    {
     "name": "stderr",
     "output_type": "stream",
     "text": [
      "Some weights of BertForSequenceClassification were not initialized from the model checkpoint at nlptown/bert-base-multilingual-uncased-sentiment and are newly initialized because the shapes did not match:\n",
      "- classifier.weight: found shape torch.Size([5, 768]) in the checkpoint and torch.Size([2, 768]) in the model instantiated\n",
      "- classifier.bias: found shape torch.Size([5]) in the checkpoint and torch.Size([2]) in the model instantiated\n",
      "You should probably TRAIN this model on a down-stream task to be able to use it for predictions and inference.\n"
     ]
    },
    {
     "data": {
      "application/vnd.jupyter.widget-view+json": {
       "model_id": "db62031dd47a4db99d792cba7157f4cf",
       "version_major": 2,
       "version_minor": 0
      },
      "text/plain": [
       "Epoch:   0%|          | 0/4 [00:00<?, ?it/s]"
      ]
     },
     "metadata": {},
     "output_type": "display_data"
    },
    {
     "data": {
      "application/vnd.jupyter.widget-view+json": {
       "model_id": "fdfbd7ffe37e446fb3980c310519c648",
       "version_major": 2,
       "version_minor": 0
      },
      "text/plain": [
       "Running Epoch 0 of 4:   0%|          | 0/5 [00:00<?, ?it/s]"
      ]
     },
     "metadata": {},
     "output_type": "display_data"
    },
    {
     "data": {
      "application/vnd.jupyter.widget-view+json": {
       "model_id": "66050cd6572144e4b16d4af7f51ff98e",
       "version_major": 2,
       "version_minor": 0
      },
      "text/plain": [
       "Running Epoch 1 of 4:   0%|          | 0/5 [00:00<?, ?it/s]"
      ]
     },
     "metadata": {},
     "output_type": "display_data"
    },
    {
     "data": {
      "application/vnd.jupyter.widget-view+json": {
       "model_id": "1e323fd5fc7b4a2c9f11b513da781a52",
       "version_major": 2,
       "version_minor": 0
      },
      "text/plain": [
       "Running Epoch 2 of 4:   0%|          | 0/5 [00:00<?, ?it/s]"
      ]
     },
     "metadata": {},
     "output_type": "display_data"
    },
    {
     "data": {
      "application/vnd.jupyter.widget-view+json": {
       "model_id": "2f841309e58845459b59be70581dee79",
       "version_major": 2,
       "version_minor": 0
      },
      "text/plain": [
       "Running Epoch 3 of 4:   0%|          | 0/5 [00:00<?, ?it/s]"
      ]
     },
     "metadata": {},
     "output_type": "display_data"
    },
    {
     "name": "stdout",
     "output_type": "stream",
     "text": [
      "-------------------------\n"
     ]
    },
    {
     "data": {
      "application/vnd.jupyter.widget-view+json": {
       "model_id": "4e4905339f49400e931d784d1f4d2198",
       "version_major": 2,
       "version_minor": 0
      },
      "text/plain": [
       "Running Evaluation:   0%|          | 0/2 [00:00<?, ?it/s]"
      ]
     },
     "metadata": {},
     "output_type": "display_data"
    },
    {
     "name": "stdout",
     "output_type": "stream",
     "text": [
      "{'mcc': 0.4532462607337734, 'tp': 18, 'tn': 14, 'fp': 3, 'fn': 10, 'auroc': 0.842436974789916, 'auprc': 0.9033823581138579, 'acc': 0.7111111111111111, 'precision': array([0, 1, 0, 0, 0, 0, 1, 1, 1, 1, 0, 1, 0, 1, 0, 1, 1, 1, 0, 1, 1, 1,\n",
      "       0, 0, 1, 1, 0, 1, 0, 1, 1, 0, 1, 0, 0, 0, 1, 0, 0, 0, 1, 0, 0, 0,\n",
      "       0]), 'eval_loss': 0.5066786706447601}\n",
      "----------------\n",
      "{0: {'precision': 0.5833333333333334, 'recall': 0.8235294117647058, 'f1-score': 0.6829268292682927, 'support': 17}, 1: {'precision': 0.8571428571428571, 'recall': 0.6428571428571429, 'f1-score': 0.7346938775510204, 'support': 28}, 'accuracy': 0.7111111111111111, 'macro avg': {'precision': 0.7202380952380952, 'recall': 0.7331932773109244, 'f1-score': 0.7088103534096566, 'support': 45}, 'weighted avg': {'precision': 0.7537037037037038, 'recall': 0.7111111111111111, 'f1-score': 0.7151374370886567, 'support': 45}}\n",
      "DICT: {'0 precision': 0.5833333333333334, '0 recall': 0.8235294117647058, '0 f1-score': 0.6829268292682927, '0 support': 17, '1 precision': 0.8571428571428571, '1 recall': 0.6428571428571429, '1 f1-score': 0.7346938775510204, '1 support': 28, 'accuracy accuracy': 0.7111111111111111, 'macro avg precision': 0.7202380952380952, 'macro avg recall': 0.7331932773109244, 'macro avg f1-score': 0.7088103534096566, 'macro avg support': 45, 'weighted avg precision': 0.7537037037037038, 'weighted avg recall': 0.7111111111111111, 'weighted avg f1-score': 0.7151374370886567, 'weighted avg support': 45}\n",
      "Training Model Now\n",
      "                                                  text  labels\n",
      "0    Den Weltkrieg wertete er als gerechten Krieg ,...       0\n",
      "1    Eine verfestigte Neigung , auf beziehungs bzw....       1\n",
      "2    Und doch wird in Israel über diese Möglichkeit...       1\n",
      "3    Heute Morgen machten die Belagerten einen Ausf...       1\n",
      "4    Dann braucht nur irgendein Geheimerlass anzuor...       1\n",
      "..                                                 ...     ...\n",
      "129  Wenn Ihnen der langweilige und nach nichts sch...       0\n",
      "130  Insgesamt tontechnisch jedoch guter Durchschni...       0\n",
      "131              Ein wunderbarer Film , kein Zweifel !       0\n",
      "132  Einen massiven Aufschwung gewann sie durch die...       0\n",
      "133  Andererseits würde ich mir wünschen , offen da...       1\n",
      "\n",
      "[134 rows x 2 columns]\n"
     ]
    },
    {
     "name": "stderr",
     "output_type": "stream",
     "text": [
      "Some weights of BertForSequenceClassification were not initialized from the model checkpoint at nlptown/bert-base-multilingual-uncased-sentiment and are newly initialized because the shapes did not match:\n",
      "- classifier.weight: found shape torch.Size([5, 768]) in the checkpoint and torch.Size([2, 768]) in the model instantiated\n",
      "- classifier.bias: found shape torch.Size([5]) in the checkpoint and torch.Size([2]) in the model instantiated\n",
      "You should probably TRAIN this model on a down-stream task to be able to use it for predictions and inference.\n"
     ]
    },
    {
     "data": {
      "application/vnd.jupyter.widget-view+json": {
       "model_id": "61b773038b114ff2a68357502a32c836",
       "version_major": 2,
       "version_minor": 0
      },
      "text/plain": [
       "Epoch:   0%|          | 0/4 [00:00<?, ?it/s]"
      ]
     },
     "metadata": {},
     "output_type": "display_data"
    },
    {
     "data": {
      "application/vnd.jupyter.widget-view+json": {
       "model_id": "9797d28198004d83ba7f9009b3cdd663",
       "version_major": 2,
       "version_minor": 0
      },
      "text/plain": [
       "Running Epoch 0 of 4:   0%|          | 0/5 [00:00<?, ?it/s]"
      ]
     },
     "metadata": {},
     "output_type": "display_data"
    },
    {
     "data": {
      "application/vnd.jupyter.widget-view+json": {
       "model_id": "c95d446ba47a432c8e6714be64e48d64",
       "version_major": 2,
       "version_minor": 0
      },
      "text/plain": [
       "Running Epoch 1 of 4:   0%|          | 0/5 [00:00<?, ?it/s]"
      ]
     },
     "metadata": {},
     "output_type": "display_data"
    },
    {
     "data": {
      "application/vnd.jupyter.widget-view+json": {
       "model_id": "20d06b0318224ba1b2f43f1fecf5ebd1",
       "version_major": 2,
       "version_minor": 0
      },
      "text/plain": [
       "Running Epoch 2 of 4:   0%|          | 0/5 [00:00<?, ?it/s]"
      ]
     },
     "metadata": {},
     "output_type": "display_data"
    },
    {
     "data": {
      "application/vnd.jupyter.widget-view+json": {
       "model_id": "2157bf3fca4548faaf65581402729efc",
       "version_major": 2,
       "version_minor": 0
      },
      "text/plain": [
       "Running Epoch 3 of 4:   0%|          | 0/5 [00:00<?, ?it/s]"
      ]
     },
     "metadata": {},
     "output_type": "display_data"
    },
    {
     "name": "stdout",
     "output_type": "stream",
     "text": [
      "-------------------------\n"
     ]
    },
    {
     "data": {
      "application/vnd.jupyter.widget-view+json": {
       "model_id": "8e1d0b5c10424163a2bb067cfbc997c1",
       "version_major": 2,
       "version_minor": 0
      },
      "text/plain": [
       "Running Evaluation:   0%|          | 0/2 [00:00<?, ?it/s]"
      ]
     },
     "metadata": {},
     "output_type": "display_data"
    },
    {
     "name": "stdout",
     "output_type": "stream",
     "text": [
      "{'mcc': 0.3382352941176471, 'tp': 21, 'tn': 10, 'fp': 7, 'fn': 7, 'auroc': 0.7710084033613445, 'auprc': 0.8587835739629924, 'acc': 0.6888888888888889, 'precision': array([0, 1, 0, 1, 0, 0, 1, 1, 1, 1, 1, 1, 1, 1, 1, 1, 1, 1, 1, 1, 1, 1,\n",
      "       0, 0, 1, 0, 1, 0, 0, 1, 0, 1, 0, 1, 1, 1, 0, 0, 1, 0, 1, 1, 0, 0,\n",
      "       0]), 'eval_loss': 0.5492229461669922}\n",
      "----------------\n",
      "{0: {'precision': 0.5882352941176471, 'recall': 0.5882352941176471, 'f1-score': 0.5882352941176471, 'support': 17}, 1: {'precision': 0.75, 'recall': 0.75, 'f1-score': 0.75, 'support': 28}, 'accuracy': 0.6888888888888889, 'macro avg': {'precision': 0.6691176470588236, 'recall': 0.6691176470588236, 'f1-score': 0.6691176470588236, 'support': 45}, 'weighted avg': {'precision': 0.6888888888888889, 'recall': 0.6888888888888889, 'f1-score': 0.6888888888888889, 'support': 45}}\n",
      "DICT: {'0 precision': 0.5882352941176471, '0 recall': 0.5882352941176471, '0 f1-score': 0.5882352941176471, '0 support': 17, '1 precision': 0.75, '1 recall': 0.75, '1 f1-score': 0.75, '1 support': 28, 'accuracy accuracy': 0.6888888888888889, 'macro avg precision': 0.6691176470588236, 'macro avg recall': 0.6691176470588236, 'macro avg f1-score': 0.6691176470588236, 'macro avg support': 45, 'weighted avg precision': 0.6888888888888889, 'weighted avg recall': 0.6888888888888889, 'weighted avg f1-score': 0.6888888888888889, 'weighted avg support': 45}\n",
      "Training Model Now\n",
      "                                                  text  labels\n",
      "0    Eine verfestigte Neigung , auf beziehungs bzw....       1\n",
      "1    Und doch wird in Israel über diese Möglichkeit...       1\n",
      "2    Heute Morgen machten die Belagerten einen Ausf...       1\n",
      "3    Dann braucht nur irgendein Geheimerlass anzuor...       1\n",
      "4    Die Ermittlung des Welteinkommens kann bei Ste...       1\n",
      "..                                                 ...     ...\n",
      "130  Insgesamt tontechnisch jedoch guter Durchschni...       0\n",
      "131  Vielleicht gibt das einen besseren Überblick ü...       0\n",
      "132              Ein wunderbarer Film , kein Zweifel !       0\n",
      "133  Einen massiven Aufschwung gewann sie durch die...       0\n",
      "134  Ehrfurcht erregender Stil , der den Neuling le...       0\n",
      "\n",
      "[135 rows x 2 columns]\n"
     ]
    },
    {
     "name": "stderr",
     "output_type": "stream",
     "text": [
      "Some weights of BertForSequenceClassification were not initialized from the model checkpoint at nlptown/bert-base-multilingual-uncased-sentiment and are newly initialized because the shapes did not match:\n",
      "- classifier.weight: found shape torch.Size([5, 768]) in the checkpoint and torch.Size([2, 768]) in the model instantiated\n",
      "- classifier.bias: found shape torch.Size([5]) in the checkpoint and torch.Size([2]) in the model instantiated\n",
      "You should probably TRAIN this model on a down-stream task to be able to use it for predictions and inference.\n"
     ]
    },
    {
     "data": {
      "application/vnd.jupyter.widget-view+json": {
       "model_id": "761bfb3f9d994fdd94e6ee33a2725225",
       "version_major": 2,
       "version_minor": 0
      },
      "text/plain": [
       "Epoch:   0%|          | 0/4 [00:00<?, ?it/s]"
      ]
     },
     "metadata": {},
     "output_type": "display_data"
    },
    {
     "data": {
      "application/vnd.jupyter.widget-view+json": {
       "model_id": "2dbb4833fee84eee9323a3b5199c69fe",
       "version_major": 2,
       "version_minor": 0
      },
      "text/plain": [
       "Running Epoch 0 of 4:   0%|          | 0/5 [00:00<?, ?it/s]"
      ]
     },
     "metadata": {},
     "output_type": "display_data"
    },
    {
     "data": {
      "application/vnd.jupyter.widget-view+json": {
       "model_id": "47cbea0be2024c5b9b4972f2de9a863d",
       "version_major": 2,
       "version_minor": 0
      },
      "text/plain": [
       "Running Epoch 1 of 4:   0%|          | 0/5 [00:00<?, ?it/s]"
      ]
     },
     "metadata": {},
     "output_type": "display_data"
    },
    {
     "data": {
      "application/vnd.jupyter.widget-view+json": {
       "model_id": "0ed1dda5bfb643acbb236d160f1ad5cb",
       "version_major": 2,
       "version_minor": 0
      },
      "text/plain": [
       "Running Epoch 2 of 4:   0%|          | 0/5 [00:00<?, ?it/s]"
      ]
     },
     "metadata": {},
     "output_type": "display_data"
    },
    {
     "data": {
      "application/vnd.jupyter.widget-view+json": {
       "model_id": "56e09da51dd04a078a9ab65ace4e555f",
       "version_major": 2,
       "version_minor": 0
      },
      "text/plain": [
       "Running Epoch 3 of 4:   0%|          | 0/5 [00:00<?, ?it/s]"
      ]
     },
     "metadata": {},
     "output_type": "display_data"
    },
    {
     "name": "stdout",
     "output_type": "stream",
     "text": [
      "-------------------------\n"
     ]
    },
    {
     "data": {
      "application/vnd.jupyter.widget-view+json": {
       "model_id": "15974435c01a4a99a461b902f1cc546e",
       "version_major": 2,
       "version_minor": 0
      },
      "text/plain": [
       "Running Evaluation:   0%|          | 0/2 [00:00<?, ?it/s]"
      ]
     },
     "metadata": {},
     "output_type": "display_data"
    },
    {
     "name": "stdout",
     "output_type": "stream",
     "text": [
      "{'mcc': 0.4607078228821895, 'tp': 25, 'tn': 8, 'fp': 9, 'fn': 2, 'auroc': 0.7145969498910676, 'auprc': 0.7720757014137123, 'acc': 0.75, 'precision': array([1, 1, 1, 1, 1, 1, 1, 1, 1, 1, 1, 1, 1, 1, 1, 1, 1, 1, 0, 1, 1, 1,\n",
      "       0, 1, 1, 1, 1, 0, 1, 0, 0, 0, 0, 1, 1, 0, 0, 1, 1, 1, 1, 1, 1, 0]), 'eval_loss': 0.6837365627288818}\n",
      "----------------\n",
      "{0: {'precision': 0.8, 'recall': 0.47058823529411764, 'f1-score': 0.5925925925925927, 'support': 17}, 1: {'precision': 0.7352941176470589, 'recall': 0.9259259259259259, 'f1-score': 0.819672131147541, 'support': 27}, 'accuracy': 0.75, 'macro avg': {'precision': 0.7676470588235295, 'recall': 0.6982570806100218, 'f1-score': 0.7061323618700668, 'support': 44}, 'weighted avg': {'precision': 0.7602941176470588, 'recall': 0.75, 'f1-score': 0.7319368548876746, 'support': 44}}\n",
      "DICT: {'0 precision': 0.8, '0 recall': 0.47058823529411764, '0 f1-score': 0.5925925925925927, '0 support': 17, '1 precision': 0.7352941176470589, '1 recall': 0.9259259259259259, '1 f1-score': 0.819672131147541, '1 support': 27, 'accuracy accuracy': 0.75, 'macro avg precision': 0.7676470588235295, 'macro avg recall': 0.6982570806100218, 'macro avg f1-score': 0.7061323618700668, 'macro avg support': 44, 'weighted avg precision': 0.7602941176470588, 'weighted avg recall': 0.75, 'weighted avg f1-score': 0.7319368548876746, 'weighted avg support': 44}\n",
      "Finish\n",
      "Start for corpora:  ../../../Corpora/Preprocessed_Transformers_Less_Preprocessing/Binary/MI02_germeval_Preprocessed_binary_Transformer.tsv\n",
      "Training Model Now\n",
      "                                                   text  labels\n",
      "0      theoretisch kannste dir überall im Kölner Sta...       0\n",
      "1      Mama, der bei der Bahn war so inkompetent, ha...       1\n",
      "2     Störticker Bayern SBahn M Stammstrecke Polizei...       1\n",
      "3     Lokführerstreik geht weiter Wieder viele Zugau...       1\n",
      "4     Bahn fährt bald schneller und öfter von Deutsc...       0\n",
      "...                                                 ...     ...\n",
      "6313  Danke Deutsche Bahn! Zuverlässig unzuverlässig          1\n",
      "6314  Es ist Wocheende und meine Bahn hat nen Oberle...       1\n",
      "6315  Die Reise nach Chur macht in diesen neuen SBah...       1\n",
      "6316  und Bahn verkünden Streikende Ich denk so Ich ...       0\n",
      "6317   Ehrlich! Die Bahn ist kundenfreundlicher als ...       0\n",
      "\n",
      "[6318 rows x 2 columns]\n"
     ]
    },
    {
     "name": "stderr",
     "output_type": "stream",
     "text": [
      "Some weights of BertForSequenceClassification were not initialized from the model checkpoint at nlptown/bert-base-multilingual-uncased-sentiment and are newly initialized because the shapes did not match:\n",
      "- classifier.weight: found shape torch.Size([5, 768]) in the checkpoint and torch.Size([2, 768]) in the model instantiated\n",
      "- classifier.bias: found shape torch.Size([5]) in the checkpoint and torch.Size([2]) in the model instantiated\n",
      "You should probably TRAIN this model on a down-stream task to be able to use it for predictions and inference.\n"
     ]
    },
    {
     "data": {
      "application/vnd.jupyter.widget-view+json": {
       "model_id": "d7edb07635084fed8d6a8484cdfcf2a0",
       "version_major": 2,
       "version_minor": 0
      },
      "text/plain": [
       "Epoch:   0%|          | 0/4 [00:00<?, ?it/s]"
      ]
     },
     "metadata": {},
     "output_type": "display_data"
    },
    {
     "data": {
      "application/vnd.jupyter.widget-view+json": {
       "model_id": "68f3769ae1794de183aad2c32d043046",
       "version_major": 2,
       "version_minor": 0
      },
      "text/plain": [
       "Running Epoch 0 of 4:   0%|          | 0/198 [00:00<?, ?it/s]"
      ]
     },
     "metadata": {},
     "output_type": "display_data"
    },
    {
     "data": {
      "application/vnd.jupyter.widget-view+json": {
       "model_id": "44f7b787400b4cde9cfd0ce5ef955a22",
       "version_major": 2,
       "version_minor": 0
      },
      "text/plain": [
       "Running Epoch 1 of 4:   0%|          | 0/198 [00:00<?, ?it/s]"
      ]
     },
     "metadata": {},
     "output_type": "display_data"
    },
    {
     "data": {
      "application/vnd.jupyter.widget-view+json": {
       "model_id": "5261c1690e3643378dffc91d3f47748a",
       "version_major": 2,
       "version_minor": 0
      },
      "text/plain": [
       "Running Epoch 2 of 4:   0%|          | 0/198 [00:00<?, ?it/s]"
      ]
     },
     "metadata": {},
     "output_type": "display_data"
    },
    {
     "data": {
      "application/vnd.jupyter.widget-view+json": {
       "model_id": "b55e67a3b1d742e68d2cd3a7ef6222e5",
       "version_major": 2,
       "version_minor": 0
      },
      "text/plain": [
       "Running Epoch 3 of 4:   0%|          | 0/198 [00:00<?, ?it/s]"
      ]
     },
     "metadata": {},
     "output_type": "display_data"
    },
    {
     "name": "stdout",
     "output_type": "stream",
     "text": [
      "-------------------------\n"
     ]
    },
    {
     "data": {
      "application/vnd.jupyter.widget-view+json": {
       "model_id": "7441d363c57e4f99b9389841f2ce93f2",
       "version_major": 2,
       "version_minor": 0
      },
      "text/plain": [
       "Running Evaluation:   0%|          | 0/66 [00:00<?, ?it/s]"
      ]
     },
     "metadata": {},
     "output_type": "display_data"
    },
    {
     "name": "stdout",
     "output_type": "stream",
     "text": [
      "{'mcc': 0.5671173801256388, 'tp': 1624, 'tn': 225, 'fp': 160, 'fn': 97, 'auroc': 0.8609921745889206, 'auprc': 0.9541493885080307, 'acc': 0.8779677113010447, 'precision': array([1, 1, 0, ..., 1, 1, 1]), 'eval_loss': 0.47069346701556986}\n",
      "----------------\n",
      "{0: {'precision': 0.6987577639751553, 'recall': 0.5844155844155844, 'f1-score': 0.6364922206506365, 'support': 385}, 1: {'precision': 0.9103139013452914, 'recall': 0.9436374201045904, 'f1-score': 0.926676176890157, 'support': 1721}, 'accuracy': 0.8779677113010447, 'macro avg': {'precision': 0.8045358326602234, 'recall': 0.7640265022600874, 'f1-score': 0.7815841987703968, 'support': 2106}, 'weighted avg': {'precision': 0.8716391089010833, 'recall': 0.8779677113010447, 'f1-score': 0.8736273529812228, 'support': 2106}}\n",
      "DICT: {'0 precision': 0.6987577639751553, '0 recall': 0.5844155844155844, '0 f1-score': 0.6364922206506365, '0 support': 385, '1 precision': 0.9103139013452914, '1 recall': 0.9436374201045904, '1 f1-score': 0.926676176890157, '1 support': 1721, 'accuracy accuracy': 0.8779677113010447, 'macro avg precision': 0.8045358326602234, 'macro avg recall': 0.7640265022600874, 'macro avg f1-score': 0.7815841987703968, 'macro avg support': 2106, 'weighted avg precision': 0.8716391089010833, 'weighted avg recall': 0.8779677113010447, 'weighted avg f1-score': 0.8736273529812228, 'weighted avg support': 2106}\n",
      "Training Model Now\n",
      "                                                   text  labels\n",
      "0     Bahn verspätet sich..gleich kommt noch jemand ...       1\n",
      "1      Mama, der bei der Bahn war so inkompetent, ha...       1\n",
      "2     Störticker Bayern SBahn M Stammstrecke Polizei...       1\n",
      "3     Lokführerstreik geht weiter Wieder viele Zugau...       1\n",
      "4                der  Regierung gibt Probleme beim  zu        1\n",
      "...                                                 ...     ...\n",
      "6313     neue Gleise falsch verlegt vermutlich im Kr...       1\n",
      "6314  Danke Deutsche Bahn! Zuverlässig unzuverlässig          1\n",
      "6315  Es ist Wocheende und meine Bahn hat nen Oberle...       1\n",
      "6316  Die Reise nach Chur macht in diesen neuen SBah...       1\n",
      "6317   Ehrlich! Die Bahn ist kundenfreundlicher als ...       0\n",
      "\n",
      "[6318 rows x 2 columns]\n"
     ]
    },
    {
     "name": "stderr",
     "output_type": "stream",
     "text": [
      "Some weights of BertForSequenceClassification were not initialized from the model checkpoint at nlptown/bert-base-multilingual-uncased-sentiment and are newly initialized because the shapes did not match:\n",
      "- classifier.weight: found shape torch.Size([5, 768]) in the checkpoint and torch.Size([2, 768]) in the model instantiated\n",
      "- classifier.bias: found shape torch.Size([5]) in the checkpoint and torch.Size([2]) in the model instantiated\n",
      "You should probably TRAIN this model on a down-stream task to be able to use it for predictions and inference.\n"
     ]
    },
    {
     "data": {
      "application/vnd.jupyter.widget-view+json": {
       "model_id": "5fdbb7099f0b4150afa03d08bdad27b3",
       "version_major": 2,
       "version_minor": 0
      },
      "text/plain": [
       "Epoch:   0%|          | 0/4 [00:00<?, ?it/s]"
      ]
     },
     "metadata": {},
     "output_type": "display_data"
    },
    {
     "data": {
      "application/vnd.jupyter.widget-view+json": {
       "model_id": "001034ce149f4149989cf49df87d3720",
       "version_major": 2,
       "version_minor": 0
      },
      "text/plain": [
       "Running Epoch 0 of 4:   0%|          | 0/198 [00:00<?, ?it/s]"
      ]
     },
     "metadata": {},
     "output_type": "display_data"
    },
    {
     "data": {
      "application/vnd.jupyter.widget-view+json": {
       "model_id": "0c286d580d0e4911b0774f7a4017cde0",
       "version_major": 2,
       "version_minor": 0
      },
      "text/plain": [
       "Running Epoch 1 of 4:   0%|          | 0/198 [00:00<?, ?it/s]"
      ]
     },
     "metadata": {},
     "output_type": "display_data"
    },
    {
     "data": {
      "application/vnd.jupyter.widget-view+json": {
       "model_id": "d16c0be7d8c74c749a4d454303a3881c",
       "version_major": 2,
       "version_minor": 0
      },
      "text/plain": [
       "Running Epoch 2 of 4:   0%|          | 0/198 [00:00<?, ?it/s]"
      ]
     },
     "metadata": {},
     "output_type": "display_data"
    },
    {
     "data": {
      "application/vnd.jupyter.widget-view+json": {
       "model_id": "eb4d6119afe941af923ee09bf1a2e6b8",
       "version_major": 2,
       "version_minor": 0
      },
      "text/plain": [
       "Running Epoch 3 of 4:   0%|          | 0/198 [00:00<?, ?it/s]"
      ]
     },
     "metadata": {},
     "output_type": "display_data"
    },
    {
     "name": "stdout",
     "output_type": "stream",
     "text": [
      "-------------------------\n"
     ]
    },
    {
     "data": {
      "application/vnd.jupyter.widget-view+json": {
       "model_id": "5ec710fa6b764bc0a8cb810cf9cc0916",
       "version_major": 2,
       "version_minor": 0
      },
      "text/plain": [
       "Running Evaluation:   0%|          | 0/66 [00:00<?, ?it/s]"
      ]
     },
     "metadata": {},
     "output_type": "display_data"
    },
    {
     "name": "stdout",
     "output_type": "stream",
     "text": [
      "{'mcc': 0.5360361916928907, 'tp': 1610, 'tn': 219, 'fp': 165, 'fn': 112, 'auroc': 0.8391428027003485, 'auprc': 0.9447123486866333, 'acc': 0.8684710351377019, 'precision': array([1, 0, 1, ..., 1, 0, 1]), 'eval_loss': 0.5668861522819056}\n",
      "----------------\n",
      "{0: {'precision': 0.6616314199395771, 'recall': 0.5703125, 'f1-score': 0.6125874125874126, 'support': 384}, 1: {'precision': 0.9070422535211268, 'recall': 0.9349593495934959, 'f1-score': 0.9207892479267944, 'support': 1722}, 'accuracy': 0.8684710351377019, 'macro avg': {'precision': 0.7843368367303519, 'recall': 0.752635924796748, 'f1-score': 0.7666883302571035, 'support': 2106}, 'weighted avg': {'precision': 0.8622949790219269, 'recall': 0.8684710351377019, 'f1-score': 0.8645929018820068, 'support': 2106}}\n",
      "DICT: {'0 precision': 0.6616314199395771, '0 recall': 0.5703125, '0 f1-score': 0.6125874125874126, '0 support': 384, '1 precision': 0.9070422535211268, '1 recall': 0.9349593495934959, '1 f1-score': 0.9207892479267944, '1 support': 1722, 'accuracy accuracy': 0.8684710351377019, 'macro avg precision': 0.7843368367303519, 'macro avg recall': 0.752635924796748, 'macro avg f1-score': 0.7666883302571035, 'macro avg support': 2106, 'weighted avg precision': 0.8622949790219269, 'weighted avg recall': 0.8684710351377019, 'weighted avg f1-score': 0.8645929018820068, 'weighted avg support': 2106}\n",
      "Training Model Now\n",
      "                                                   text  labels\n",
      "0      theoretisch kannste dir überall im Kölner Sta...       0\n",
      "1     Bahn verspätet sich..gleich kommt noch jemand ...       1\n",
      "2     Störticker Bayern SBahn M Stammstrecke Polizei...       1\n",
      "3     Lokführerstreik geht weiter Wieder viele Zugau...       1\n",
      "4     Bahn fährt bald schneller und öfter von Deutsc...       0\n",
      "...                                                 ...     ...\n",
      "6313  Wie die Deutsche Bahn AG mitteilte , muss der ...       1\n",
      "6314     neue Gleise falsch verlegt vermutlich im Kr...       1\n",
      "6315  Danke Deutsche Bahn! Zuverlässig unzuverlässig          1\n",
      "6316  und Bahn verkünden Streikende Ich denk so Ich ...       0\n",
      "6317   Ehrlich! Die Bahn ist kundenfreundlicher als ...       0\n",
      "\n",
      "[6318 rows x 2 columns]\n"
     ]
    },
    {
     "name": "stderr",
     "output_type": "stream",
     "text": [
      "Some weights of BertForSequenceClassification were not initialized from the model checkpoint at nlptown/bert-base-multilingual-uncased-sentiment and are newly initialized because the shapes did not match:\n",
      "- classifier.weight: found shape torch.Size([5, 768]) in the checkpoint and torch.Size([2, 768]) in the model instantiated\n",
      "- classifier.bias: found shape torch.Size([5]) in the checkpoint and torch.Size([2]) in the model instantiated\n",
      "You should probably TRAIN this model on a down-stream task to be able to use it for predictions and inference.\n"
     ]
    },
    {
     "data": {
      "application/vnd.jupyter.widget-view+json": {
       "model_id": "916eeae62f0642d38596ef079d8b969c",
       "version_major": 2,
       "version_minor": 0
      },
      "text/plain": [
       "Epoch:   0%|          | 0/4 [00:00<?, ?it/s]"
      ]
     },
     "metadata": {},
     "output_type": "display_data"
    },
    {
     "data": {
      "application/vnd.jupyter.widget-view+json": {
       "model_id": "12cb1bebb130414a9b4efa9d680f7690",
       "version_major": 2,
       "version_minor": 0
      },
      "text/plain": [
       "Running Epoch 0 of 4:   0%|          | 0/198 [00:00<?, ?it/s]"
      ]
     },
     "metadata": {},
     "output_type": "display_data"
    },
    {
     "data": {
      "application/vnd.jupyter.widget-view+json": {
       "model_id": "b32eea64933f4da68ff7b411934c0b63",
       "version_major": 2,
       "version_minor": 0
      },
      "text/plain": [
       "Running Epoch 1 of 4:   0%|          | 0/198 [00:00<?, ?it/s]"
      ]
     },
     "metadata": {},
     "output_type": "display_data"
    },
    {
     "data": {
      "application/vnd.jupyter.widget-view+json": {
       "model_id": "4971c93ba24f4d9693394881cf64d000",
       "version_major": 2,
       "version_minor": 0
      },
      "text/plain": [
       "Running Epoch 2 of 4:   0%|          | 0/198 [00:00<?, ?it/s]"
      ]
     },
     "metadata": {},
     "output_type": "display_data"
    },
    {
     "data": {
      "application/vnd.jupyter.widget-view+json": {
       "model_id": "7f43df110ef44d1485dccf3a9c6eda78",
       "version_major": 2,
       "version_minor": 0
      },
      "text/plain": [
       "Running Epoch 3 of 4:   0%|          | 0/198 [00:00<?, ?it/s]"
      ]
     },
     "metadata": {},
     "output_type": "display_data"
    },
    {
     "name": "stdout",
     "output_type": "stream",
     "text": [
      "-------------------------\n"
     ]
    },
    {
     "data": {
      "application/vnd.jupyter.widget-view+json": {
       "model_id": "5859824030bc4e308e68386b3b2a35c7",
       "version_major": 2,
       "version_minor": 0
      },
      "text/plain": [
       "Running Evaluation:   0%|          | 0/66 [00:00<?, ?it/s]"
      ]
     },
     "metadata": {},
     "output_type": "display_data"
    },
    {
     "name": "stdout",
     "output_type": "stream",
     "text": [
      "{'mcc': 0.5655500933300175, 'tp': 1597, 'tn': 241, 'fp': 143, 'fn': 125, 'auroc': 0.8715179478803716, 'auprc': 0.9621595171756656, 'acc': 0.8727445394112061, 'precision': array([1, 1, 0, ..., 0, 1, 1]), 'eval_loss': 0.5069526424913695}\n",
      "----------------\n",
      "{0: {'precision': 0.6584699453551912, 'recall': 0.6276041666666666, 'f1-score': 0.6426666666666667, 'support': 384}, 1: {'precision': 0.917816091954023, 'recall': 0.9274099883855982, 'f1-score': 0.9225880993645292, 'support': 1722}, 'accuracy': 0.8727445394112061, 'macro avg': {'precision': 0.7881430186546071, 'recall': 0.7775070775261324, 'f1-score': 0.782627383015598, 'support': 2106}, 'weighted avg': {'precision': 0.870527905679592, 'recall': 0.8727445394112061, 'f1-score': 0.8715482939723264, 'support': 2106}}\n",
      "DICT: {'0 precision': 0.6584699453551912, '0 recall': 0.6276041666666666, '0 f1-score': 0.6426666666666667, '0 support': 384, '1 precision': 0.917816091954023, '1 recall': 0.9274099883855982, '1 f1-score': 0.9225880993645292, '1 support': 1722, 'accuracy accuracy': 0.8727445394112061, 'macro avg precision': 0.7881430186546071, 'macro avg recall': 0.7775070775261324, 'macro avg f1-score': 0.782627383015598, 'macro avg support': 2106, 'weighted avg precision': 0.870527905679592, 'weighted avg recall': 0.8727445394112061, 'weighted avg f1-score': 0.8715482939723264, 'weighted avg support': 2106}\n",
      "Training Model Now\n",
      "                                                   text  labels\n",
      "0      theoretisch kannste dir überall im Kölner Sta...       0\n",
      "1     Bahn verspätet sich..gleich kommt noch jemand ...       1\n",
      "2      Mama, der bei der Bahn war so inkompetent, ha...       1\n",
      "3     Bahn fährt bald schneller und öfter von Deutsc...       0\n",
      "4                der  Regierung gibt Probleme beim  zu        1\n",
      "...                                                 ...     ...\n",
      "6313  Danny Liebmann Liebe Deutsche Bahn, Ihr Probeb...       1\n",
      "6314     neue Gleise falsch verlegt vermutlich im Kr...       1\n",
      "6315  Es ist Wocheende und meine Bahn hat nen Oberle...       1\n",
      "6316  Die Reise nach Chur macht in diesen neuen SBah...       1\n",
      "6317  und Bahn verkünden Streikende Ich denk so Ich ...       0\n",
      "\n",
      "[6318 rows x 2 columns]\n"
     ]
    },
    {
     "name": "stderr",
     "output_type": "stream",
     "text": [
      "Some weights of BertForSequenceClassification were not initialized from the model checkpoint at nlptown/bert-base-multilingual-uncased-sentiment and are newly initialized because the shapes did not match:\n",
      "- classifier.weight: found shape torch.Size([5, 768]) in the checkpoint and torch.Size([2, 768]) in the model instantiated\n",
      "- classifier.bias: found shape torch.Size([5]) in the checkpoint and torch.Size([2]) in the model instantiated\n",
      "You should probably TRAIN this model on a down-stream task to be able to use it for predictions and inference.\n"
     ]
    },
    {
     "data": {
      "application/vnd.jupyter.widget-view+json": {
       "model_id": "a3ac12fed9254ecb8e1882539fd37132",
       "version_major": 2,
       "version_minor": 0
      },
      "text/plain": [
       "Epoch:   0%|          | 0/4 [00:00<?, ?it/s]"
      ]
     },
     "metadata": {},
     "output_type": "display_data"
    },
    {
     "data": {
      "application/vnd.jupyter.widget-view+json": {
       "model_id": "da5ae8b3570f4b1e99cea29ce5fa0b5c",
       "version_major": 2,
       "version_minor": 0
      },
      "text/plain": [
       "Running Epoch 0 of 4:   0%|          | 0/198 [00:00<?, ?it/s]"
      ]
     },
     "metadata": {},
     "output_type": "display_data"
    },
    {
     "data": {
      "application/vnd.jupyter.widget-view+json": {
       "model_id": "216a26c783da46bfbc249c650b7019f4",
       "version_major": 2,
       "version_minor": 0
      },
      "text/plain": [
       "Running Epoch 1 of 4:   0%|          | 0/198 [00:00<?, ?it/s]"
      ]
     },
     "metadata": {},
     "output_type": "display_data"
    },
    {
     "data": {
      "application/vnd.jupyter.widget-view+json": {
       "model_id": "613d793dcfb1468696d2bdf9a77ee2be",
       "version_major": 2,
       "version_minor": 0
      },
      "text/plain": [
       "Running Epoch 2 of 4:   0%|          | 0/198 [00:00<?, ?it/s]"
      ]
     },
     "metadata": {},
     "output_type": "display_data"
    },
    {
     "data": {
      "application/vnd.jupyter.widget-view+json": {
       "model_id": "6763d91ee64e46c9923e09049a2f44bd",
       "version_major": 2,
       "version_minor": 0
      },
      "text/plain": [
       "Running Epoch 3 of 4:   0%|          | 0/198 [00:00<?, ?it/s]"
      ]
     },
     "metadata": {},
     "output_type": "display_data"
    },
    {
     "name": "stdout",
     "output_type": "stream",
     "text": [
      "-------------------------\n"
     ]
    },
    {
     "data": {
      "application/vnd.jupyter.widget-view+json": {
       "model_id": "42fbe002e28641b1a0e5ba362c4c6435",
       "version_major": 2,
       "version_minor": 0
      },
      "text/plain": [
       "Running Evaluation:   0%|          | 0/66 [00:00<?, ?it/s]"
      ]
     },
     "metadata": {},
     "output_type": "display_data"
    },
    {
     "name": "stdout",
     "output_type": "stream",
     "text": [
      "{'mcc': 0.5916691630055388, 'tp': 1610, 'tn': 246, 'fp': 138, 'fn': 112, 'auroc': 0.8696895869628338, 'auprc': 0.957024174337657, 'acc': 0.8812915479582146, 'precision': array([1, 1, 0, ..., 1, 0, 0]), 'eval_loss': 0.49243143234740605}\n",
      "----------------\n",
      "{0: {'precision': 0.6871508379888268, 'recall': 0.640625, 'f1-score': 0.6630727762803235, 'support': 384}, 1: {'precision': 0.9210526315789473, 'recall': 0.9349593495934959, 'f1-score': 0.9279538904899134, 'support': 1722}, 'accuracy': 0.8812915479582146, 'macro avg': {'precision': 0.804101734783887, 'recall': 0.787792174796748, 'f1-score': 0.7955133333851184, 'support': 2106}, 'weighted avg': {'precision': 0.878403871494139, 'recall': 0.8812915479582146, 'f1-score': 0.8796564793519824, 'support': 2106}}\n",
      "DICT: {'0 precision': 0.6871508379888268, '0 recall': 0.640625, '0 f1-score': 0.6630727762803235, '0 support': 384, '1 precision': 0.9210526315789473, '1 recall': 0.9349593495934959, '1 f1-score': 0.9279538904899134, '1 support': 1722, 'accuracy accuracy': 0.8812915479582146, 'macro avg precision': 0.804101734783887, 'macro avg recall': 0.787792174796748, 'macro avg f1-score': 0.7955133333851184, 'macro avg support': 2106, 'weighted avg precision': 0.878403871494139, 'weighted avg recall': 0.8812915479582146, 'weighted avg f1-score': 0.8796564793519824, 'weighted avg support': 2106}\n",
      "Finish\n",
      "Start for corpora:  ../../../Corpora/Preprocessed_Transformers_Less_Preprocessing/Binary/MI03_corpusRauh_Preprocessed_binary_Transformer.tsv\n",
      "Training Model Now\n",
      "                                                  text  labels\n",
      "0                           das gegenteil ist der fall       1\n",
      "1           das kann ich ihnen nicht durchgehen lassen       1\n",
      "2    damals wurde uns pausenlos erzählt , da das lo...       1\n",
      "3    thomas rachel , parl. staatssekretär bei der b...       1\n",
      "4    viele  auch ich  kennen ungeheuer viele engagi...       0\n",
      "..                                                 ...     ...\n",
      "601   dass wir in diesem bereich mehr wettbewerb br...       0\n",
      "602  mit dem nochmaligen hinweis der treuhandanstal...       0\n",
      "603  herr kollege singer , da ich mittlerweile auch...       0\n",
      "604  ich gehe davon aus , dass sie das auch tun werden       0\n",
      "605  sind sie mit mir des weiteren der meinung , da...       1\n",
      "\n",
      "[606 rows x 2 columns]\n"
     ]
    },
    {
     "name": "stderr",
     "output_type": "stream",
     "text": [
      "Some weights of BertForSequenceClassification were not initialized from the model checkpoint at nlptown/bert-base-multilingual-uncased-sentiment and are newly initialized because the shapes did not match:\n",
      "- classifier.weight: found shape torch.Size([5, 768]) in the checkpoint and torch.Size([2, 768]) in the model instantiated\n",
      "- classifier.bias: found shape torch.Size([5]) in the checkpoint and torch.Size([2]) in the model instantiated\n",
      "You should probably TRAIN this model on a down-stream task to be able to use it for predictions and inference.\n"
     ]
    },
    {
     "data": {
      "application/vnd.jupyter.widget-view+json": {
       "model_id": "c0e5c5c85e224663b54843f545de986e",
       "version_major": 2,
       "version_minor": 0
      },
      "text/plain": [
       "Epoch:   0%|          | 0/4 [00:00<?, ?it/s]"
      ]
     },
     "metadata": {},
     "output_type": "display_data"
    },
    {
     "data": {
      "application/vnd.jupyter.widget-view+json": {
       "model_id": "11df5e5d65d3406bb9f182d9e73c9056",
       "version_major": 2,
       "version_minor": 0
      },
      "text/plain": [
       "Running Epoch 0 of 4:   0%|          | 0/19 [00:00<?, ?it/s]"
      ]
     },
     "metadata": {},
     "output_type": "display_data"
    },
    {
     "data": {
      "application/vnd.jupyter.widget-view+json": {
       "model_id": "b87e6c1619cd42769bf5818f91eae7f2",
       "version_major": 2,
       "version_minor": 0
      },
      "text/plain": [
       "Running Epoch 1 of 4:   0%|          | 0/19 [00:00<?, ?it/s]"
      ]
     },
     "metadata": {},
     "output_type": "display_data"
    },
    {
     "data": {
      "application/vnd.jupyter.widget-view+json": {
       "model_id": "7129063f29c1478ebb6224cfc9dd4aff",
       "version_major": 2,
       "version_minor": 0
      },
      "text/plain": [
       "Running Epoch 2 of 4:   0%|          | 0/19 [00:00<?, ?it/s]"
      ]
     },
     "metadata": {},
     "output_type": "display_data"
    },
    {
     "data": {
      "application/vnd.jupyter.widget-view+json": {
       "model_id": "8767283cb8ef4a4984f8966c89a4dc46",
       "version_major": 2,
       "version_minor": 0
      },
      "text/plain": [
       "Running Epoch 3 of 4:   0%|          | 0/19 [00:00<?, ?it/s]"
      ]
     },
     "metadata": {},
     "output_type": "display_data"
    },
    {
     "name": "stdout",
     "output_type": "stream",
     "text": [
      "-------------------------\n"
     ]
    },
    {
     "data": {
      "application/vnd.jupyter.widget-view+json": {
       "model_id": "43ea7091bfed43bc9b01a1e615f0388f",
       "version_major": 2,
       "version_minor": 0
      },
      "text/plain": [
       "Running Evaluation:   0%|          | 0/7 [00:00<?, ?it/s]"
      ]
     },
     "metadata": {},
     "output_type": "display_data"
    },
    {
     "name": "stdout",
     "output_type": "stream",
     "text": [
      "{'mcc': 0.5690661407713461, 'tp': 99, 'tn': 61, 'fp': 22, 'fn': 20, 'auroc': 0.8259592993824035, 'auprc': 0.8261370876899221, 'acc': 0.7920792079207921, 'precision': array([1, 1, 1, 0, 0, 0, 1, 0, 0, 1, 0, 1, 1, 1, 1, 0, 0, 0, 1, 1, 1, 0,\n",
      "       0, 0, 0, 1, 1, 1, 0, 0, 0, 1, 0, 0, 1, 1, 0, 0, 1, 1, 0, 1, 1, 0,\n",
      "       1, 0, 1, 0, 1, 0, 1, 0, 1, 1, 1, 1, 0, 0, 0, 0, 0, 1, 0, 1, 0, 0,\n",
      "       1, 1, 1, 0, 1, 1, 1, 0, 1, 1, 0, 1, 1, 0, 1, 1, 0, 0, 0, 1, 1, 0,\n",
      "       1, 0, 0, 1, 0, 0, 1, 1, 1, 0, 1, 1, 1, 1, 1, 1, 1, 1, 1, 0, 1, 0,\n",
      "       1, 1, 1, 1, 1, 0, 1, 0, 0, 1, 0, 0, 1, 1, 0, 1, 1, 0, 1, 0, 1, 1,\n",
      "       1, 0, 0, 0, 0, 1, 0, 1, 1, 1, 1, 1, 1, 0, 0, 1, 1, 0, 1, 1, 1, 0,\n",
      "       1, 0, 0, 1, 1, 0, 0, 1, 1, 0, 1, 1, 1, 1, 1, 1, 1, 0, 1, 1, 0, 1,\n",
      "       1, 0, 1, 1, 1, 0, 1, 0, 1, 1, 0, 0, 0, 1, 1, 0, 1, 1, 1, 0, 1, 1,\n",
      "       1, 1, 1, 1]), 'eval_loss': 0.5795944673674447}\n",
      "----------------\n",
      "{0: {'precision': 0.7530864197530864, 'recall': 0.7349397590361446, 'f1-score': 0.7439024390243902, 'support': 83}, 1: {'precision': 0.8181818181818182, 'recall': 0.8319327731092437, 'f1-score': 0.825, 'support': 119}, 'accuracy': 0.7920792079207921, 'macro avg': {'precision': 0.7856341189674523, 'recall': 0.7834362660726941, 'f1-score': 0.7844512195121951, 'support': 202}, 'weighted avg': {'precision': 0.7914346990254582, 'recall': 0.7920792079207921, 'f1-score': 0.7916777348466554, 'support': 202}}\n",
      "DICT: {'0 precision': 0.7530864197530864, '0 recall': 0.7349397590361446, '0 f1-score': 0.7439024390243902, '0 support': 83, '1 precision': 0.8181818181818182, '1 recall': 0.8319327731092437, '1 f1-score': 0.825, '1 support': 119, 'accuracy accuracy': 0.7920792079207921, 'macro avg precision': 0.7856341189674523, 'macro avg recall': 0.7834362660726941, 'macro avg f1-score': 0.7844512195121951, 'macro avg support': 202, 'weighted avg precision': 0.7914346990254582, 'weighted avg recall': 0.7920792079207921, 'weighted avg f1-score': 0.7916777348466554, 'weighted avg support': 202}\n",
      "Training Model Now\n",
      "                                                  text  labels\n",
      "0                           das gegenteil ist der fall       1\n",
      "1    damals wurde uns pausenlos erzählt , da das lo...       1\n",
      "2    viele  auch ich  kennen ungeheuer viele engagi...       0\n",
      "3    es würde ehrlich beim namen genannt , was mit ...       1\n",
      "4    aber all die aspekte , die sie zum anlass für ...       1\n",
      "..                                                 ...     ...\n",
      "601  mit dem nochmaligen hinweis der treuhandanstal...       0\n",
      "602  herr kollege singer , da ich mittlerweile auch...       0\n",
      "603  sie können uns nicht erzählen , dass es nicht ...       1\n",
      "604  ich gehe davon aus , dass sie das auch tun werden       0\n",
      "605  haben sie nicht auch den eindruck , dass bei d...       1\n",
      "\n",
      "[606 rows x 2 columns]\n"
     ]
    },
    {
     "name": "stderr",
     "output_type": "stream",
     "text": [
      "Some weights of BertForSequenceClassification were not initialized from the model checkpoint at nlptown/bert-base-multilingual-uncased-sentiment and are newly initialized because the shapes did not match:\n",
      "- classifier.weight: found shape torch.Size([5, 768]) in the checkpoint and torch.Size([2, 768]) in the model instantiated\n",
      "- classifier.bias: found shape torch.Size([5]) in the checkpoint and torch.Size([2]) in the model instantiated\n",
      "You should probably TRAIN this model on a down-stream task to be able to use it for predictions and inference.\n"
     ]
    },
    {
     "data": {
      "application/vnd.jupyter.widget-view+json": {
       "model_id": "ca04946aab1547ce8d8baa5398e31d8f",
       "version_major": 2,
       "version_minor": 0
      },
      "text/plain": [
       "Epoch:   0%|          | 0/4 [00:00<?, ?it/s]"
      ]
     },
     "metadata": {},
     "output_type": "display_data"
    },
    {
     "data": {
      "application/vnd.jupyter.widget-view+json": {
       "model_id": "89ba79517fdf4b209596487c45a4bddc",
       "version_major": 2,
       "version_minor": 0
      },
      "text/plain": [
       "Running Epoch 0 of 4:   0%|          | 0/19 [00:00<?, ?it/s]"
      ]
     },
     "metadata": {},
     "output_type": "display_data"
    },
    {
     "data": {
      "application/vnd.jupyter.widget-view+json": {
       "model_id": "60267d5f3aab48f5bdcadde815d1a444",
       "version_major": 2,
       "version_minor": 0
      },
      "text/plain": [
       "Running Epoch 1 of 4:   0%|          | 0/19 [00:00<?, ?it/s]"
      ]
     },
     "metadata": {},
     "output_type": "display_data"
    },
    {
     "data": {
      "application/vnd.jupyter.widget-view+json": {
       "model_id": "fce546bd94454aa48d354ffbab425dec",
       "version_major": 2,
       "version_minor": 0
      },
      "text/plain": [
       "Running Epoch 2 of 4:   0%|          | 0/19 [00:00<?, ?it/s]"
      ]
     },
     "metadata": {},
     "output_type": "display_data"
    },
    {
     "data": {
      "application/vnd.jupyter.widget-view+json": {
       "model_id": "f45df4167dad438cab28f075438dd117",
       "version_major": 2,
       "version_minor": 0
      },
      "text/plain": [
       "Running Epoch 3 of 4:   0%|          | 0/19 [00:00<?, ?it/s]"
      ]
     },
     "metadata": {},
     "output_type": "display_data"
    },
    {
     "name": "stdout",
     "output_type": "stream",
     "text": [
      "-------------------------\n"
     ]
    },
    {
     "data": {
      "application/vnd.jupyter.widget-view+json": {
       "model_id": "bbc6edc5afdb45bf9e6378a85d4d5126",
       "version_major": 2,
       "version_minor": 0
      },
      "text/plain": [
       "Running Evaluation:   0%|          | 0/7 [00:00<?, ?it/s]"
      ]
     },
     "metadata": {},
     "output_type": "display_data"
    },
    {
     "name": "stdout",
     "output_type": "stream",
     "text": [
      "{'mcc': 0.590968917687557, 'tp': 99, 'tn': 63, 'fp': 20, 'fn': 20, 'auroc': 0.877290675306267, 'auprc': 0.8864817986244911, 'acc': 0.801980198019802, 'precision': array([1, 1, 0, 1, 0, 0, 0, 1, 1, 1, 1, 1, 1, 1, 1, 0, 0, 1, 1, 1, 0, 0,\n",
      "       0, 1, 1, 1, 0, 1, 1, 0, 1, 0, 0, 0, 0, 1, 1, 0, 0, 1, 1, 1, 0, 1,\n",
      "       0, 0, 1, 0, 0, 0, 1, 0, 1, 0, 0, 1, 0, 0, 0, 1, 1, 1, 1, 0, 1, 0,\n",
      "       1, 1, 0, 1, 1, 1, 1, 1, 1, 1, 1, 0, 0, 0, 1, 0, 0, 0, 1, 0, 1, 0,\n",
      "       1, 1, 1, 1, 1, 0, 1, 0, 0, 1, 1, 1, 1, 1, 1, 1, 1, 1, 0, 0, 1, 1,\n",
      "       0, 1, 1, 0, 1, 0, 1, 0, 0, 0, 0, 1, 0, 0, 1, 0, 1, 1, 1, 1, 0, 1,\n",
      "       1, 0, 0, 1, 1, 1, 0, 1, 1, 0, 1, 1, 1, 1, 0, 0, 0, 1, 0, 1, 1, 1,\n",
      "       1, 1, 1, 0, 0, 1, 1, 0, 1, 0, 1, 1, 1, 1, 1, 1, 0, 1, 0, 0, 0, 0,\n",
      "       1, 0, 0, 1, 0, 1, 1, 1, 0, 1, 1, 1, 0, 0, 0, 1, 1, 1, 0, 0, 0, 1,\n",
      "       1, 1, 1, 1]), 'eval_loss': 0.5163291969469616}\n",
      "----------------\n",
      "{0: {'precision': 0.7590361445783133, 'recall': 0.7590361445783133, 'f1-score': 0.7590361445783133, 'support': 83}, 1: {'precision': 0.8319327731092437, 'recall': 0.8319327731092437, 'f1-score': 0.8319327731092437, 'support': 119}, 'accuracy': 0.801980198019802, 'macro avg': {'precision': 0.7954844588437785, 'recall': 0.7954844588437785, 'f1-score': 0.7954844588437785, 'support': 202}, 'weighted avg': {'precision': 0.801980198019802, 'recall': 0.801980198019802, 'f1-score': 0.801980198019802, 'support': 202}}\n",
      "DICT: {'0 precision': 0.7590361445783133, '0 recall': 0.7590361445783133, '0 f1-score': 0.7590361445783133, '0 support': 83, '1 precision': 0.8319327731092437, '1 recall': 0.8319327731092437, '1 f1-score': 0.8319327731092437, '1 support': 119, 'accuracy accuracy': 0.801980198019802, 'macro avg precision': 0.7954844588437785, 'macro avg recall': 0.7954844588437785, 'macro avg f1-score': 0.7954844588437785, 'macro avg support': 202, 'weighted avg precision': 0.801980198019802, 'weighted avg recall': 0.801980198019802, 'weighted avg f1-score': 0.801980198019802, 'weighted avg support': 202}\n",
      "Training Model Now\n",
      "                                                  text  labels\n",
      "0           das kann ich ihnen nicht durchgehen lassen       1\n",
      "1    thomas rachel , parl. staatssekretär bei der b...       1\n",
      "2    aber all die aspekte , die sie zum anlass für ...       1\n",
      "3    die cducsufraktion begrüt diesen haushaltsansa...       0\n",
      "4    die zweite frage , die ich stellen möchte  geb...       1\n",
      "..                                                 ...     ...\n",
      "601  es ist nicht einfach , das in brüssel klarzuma...       1\n",
      "602  mit dem nochmaligen hinweis der treuhandanstal...       0\n",
      "603  sie können uns nicht erzählen , dass es nicht ...       1\n",
      "604  haben sie nicht auch den eindruck , dass bei d...       1\n",
      "605  sind sie mit mir des weiteren der meinung , da...       1\n",
      "\n",
      "[606 rows x 2 columns]\n"
     ]
    },
    {
     "name": "stderr",
     "output_type": "stream",
     "text": [
      "Some weights of BertForSequenceClassification were not initialized from the model checkpoint at nlptown/bert-base-multilingual-uncased-sentiment and are newly initialized because the shapes did not match:\n",
      "- classifier.weight: found shape torch.Size([5, 768]) in the checkpoint and torch.Size([2, 768]) in the model instantiated\n",
      "- classifier.bias: found shape torch.Size([5]) in the checkpoint and torch.Size([2]) in the model instantiated\n",
      "You should probably TRAIN this model on a down-stream task to be able to use it for predictions and inference.\n"
     ]
    },
    {
     "data": {
      "application/vnd.jupyter.widget-view+json": {
       "model_id": "b4243b39d60f49b68c6217cd2d08a2c9",
       "version_major": 2,
       "version_minor": 0
      },
      "text/plain": [
       "Epoch:   0%|          | 0/4 [00:00<?, ?it/s]"
      ]
     },
     "metadata": {},
     "output_type": "display_data"
    },
    {
     "data": {
      "application/vnd.jupyter.widget-view+json": {
       "model_id": "02482661d0f048e798008ec5d7b40e52",
       "version_major": 2,
       "version_minor": 0
      },
      "text/plain": [
       "Running Epoch 0 of 4:   0%|          | 0/19 [00:00<?, ?it/s]"
      ]
     },
     "metadata": {},
     "output_type": "display_data"
    },
    {
     "data": {
      "application/vnd.jupyter.widget-view+json": {
       "model_id": "4c23528642b0491db668a78612b17273",
       "version_major": 2,
       "version_minor": 0
      },
      "text/plain": [
       "Running Epoch 1 of 4:   0%|          | 0/19 [00:00<?, ?it/s]"
      ]
     },
     "metadata": {},
     "output_type": "display_data"
    },
    {
     "data": {
      "application/vnd.jupyter.widget-view+json": {
       "model_id": "f927404ff7db470ba82cb46c7e58f263",
       "version_major": 2,
       "version_minor": 0
      },
      "text/plain": [
       "Running Epoch 2 of 4:   0%|          | 0/19 [00:00<?, ?it/s]"
      ]
     },
     "metadata": {},
     "output_type": "display_data"
    },
    {
     "data": {
      "application/vnd.jupyter.widget-view+json": {
       "model_id": "027179c189d945a98a984e3c28268495",
       "version_major": 2,
       "version_minor": 0
      },
      "text/plain": [
       "Running Epoch 3 of 4:   0%|          | 0/19 [00:00<?, ?it/s]"
      ]
     },
     "metadata": {},
     "output_type": "display_data"
    },
    {
     "name": "stdout",
     "output_type": "stream",
     "text": [
      "-------------------------\n"
     ]
    },
    {
     "data": {
      "application/vnd.jupyter.widget-view+json": {
       "model_id": "9aa7b197383c4101bfe574616b1b4831",
       "version_major": 2,
       "version_minor": 0
      },
      "text/plain": [
       "Running Evaluation:   0%|          | 0/7 [00:00<?, ?it/s]"
      ]
     },
     "metadata": {},
     "output_type": "display_data"
    },
    {
     "name": "stdout",
     "output_type": "stream",
     "text": [
      "{'mcc': 0.574099011620114, 'tp': 96, 'tn': 64, 'fp': 19, 'fn': 23, 'auroc': 0.8499544396071682, 'auprc': 0.8728309075118207, 'acc': 0.7920792079207921, 'precision': array([1, 1, 1, 0, 1, 1, 1, 0, 0, 1, 1, 0, 0, 0, 1, 0, 0, 1, 0, 1, 1, 1,\n",
      "       1, 0, 1, 1, 0, 0, 0, 0, 1, 1, 1, 0, 1, 1, 1, 1, 1, 1, 1, 1, 1, 1,\n",
      "       1, 1, 0, 1, 0, 1, 1, 1, 1, 0, 1, 1, 1, 0, 0, 0, 0, 1, 1, 0, 1, 0,\n",
      "       0, 0, 1, 1, 0, 0, 0, 1, 1, 1, 1, 0, 0, 1, 0, 0, 0, 0, 0, 0, 1, 0,\n",
      "       1, 0, 1, 1, 0, 0, 1, 0, 0, 0, 1, 0, 1, 1, 1, 1, 1, 0, 0, 1, 0, 0,\n",
      "       1, 0, 1, 1, 1, 1, 1, 0, 1, 1, 1, 0, 1, 1, 1, 1, 0, 0, 1, 1, 0, 0,\n",
      "       1, 1, 1, 0, 1, 0, 0, 0, 0, 1, 0, 1, 0, 1, 1, 1, 0, 1, 0, 1, 1, 1,\n",
      "       0, 1, 1, 0, 0, 0, 0, 0, 1, 0, 1, 0, 1, 0, 1, 1, 0, 1, 0, 1, 1, 0,\n",
      "       0, 1, 0, 0, 1, 1, 0, 1, 1, 1, 1, 1, 1, 0, 1, 1, 0, 1, 0, 1, 1, 0,\n",
      "       1, 1, 0, 0]), 'eval_loss': 0.5260256230831146}\n",
      "----------------\n",
      "{0: {'precision': 0.735632183908046, 'recall': 0.7710843373493976, 'f1-score': 0.7529411764705882, 'support': 83}, 1: {'precision': 0.8347826086956521, 'recall': 0.8067226890756303, 'f1-score': 0.8205128205128206, 'support': 119}, 'accuracy': 0.7920792079207921, 'macro avg': {'precision': 0.7852073963018491, 'recall': 0.788903513212514, 'f1-score': 0.7867269984917045, 'support': 202}, 'weighted avg': {'precision': 0.7940425826690615, 'recall': 0.7920792079207921, 'f1-score': 0.7927482340994281, 'support': 202}}\n",
      "DICT: {'0 precision': 0.735632183908046, '0 recall': 0.7710843373493976, '0 f1-score': 0.7529411764705882, '0 support': 83, '1 precision': 0.8347826086956521, '1 recall': 0.8067226890756303, '1 f1-score': 0.8205128205128206, '1 support': 119, 'accuracy accuracy': 0.7920792079207921, 'macro avg precision': 0.7852073963018491, 'macro avg recall': 0.788903513212514, 'macro avg f1-score': 0.7867269984917045, 'macro avg support': 202, 'weighted avg precision': 0.7940425826690615, 'weighted avg recall': 0.7920792079207921, 'weighted avg f1-score': 0.7927482340994281, 'weighted avg support': 202}\n",
      "Training Model Now\n",
      "                                                  text  labels\n",
      "0                           das gegenteil ist der fall       1\n",
      "1           das kann ich ihnen nicht durchgehen lassen       1\n",
      "2    damals wurde uns pausenlos erzählt , da das lo...       1\n",
      "3    thomas rachel , parl. staatssekretär bei der b...       1\n",
      "4    viele  auch ich  kennen ungeheuer viele engagi...       0\n",
      "..                                                 ...     ...\n",
      "601  herr kollege singer , da ich mittlerweile auch...       0\n",
      "602  sie können uns nicht erzählen , dass es nicht ...       1\n",
      "603  ich gehe davon aus , dass sie das auch tun werden       0\n",
      "604  haben sie nicht auch den eindruck , dass bei d...       1\n",
      "605  sind sie mit mir des weiteren der meinung , da...       1\n",
      "\n",
      "[606 rows x 2 columns]\n"
     ]
    },
    {
     "name": "stderr",
     "output_type": "stream",
     "text": [
      "Some weights of BertForSequenceClassification were not initialized from the model checkpoint at nlptown/bert-base-multilingual-uncased-sentiment and are newly initialized because the shapes did not match:\n",
      "- classifier.weight: found shape torch.Size([5, 768]) in the checkpoint and torch.Size([2, 768]) in the model instantiated\n",
      "- classifier.bias: found shape torch.Size([5]) in the checkpoint and torch.Size([2]) in the model instantiated\n",
      "You should probably TRAIN this model on a down-stream task to be able to use it for predictions and inference.\n"
     ]
    },
    {
     "data": {
      "application/vnd.jupyter.widget-view+json": {
       "model_id": "6f65a13a9a7547339afa945a8bfa9946",
       "version_major": 2,
       "version_minor": 0
      },
      "text/plain": [
       "Epoch:   0%|          | 0/4 [00:00<?, ?it/s]"
      ]
     },
     "metadata": {},
     "output_type": "display_data"
    },
    {
     "data": {
      "application/vnd.jupyter.widget-view+json": {
       "model_id": "99e142213eb442f99ce9e9d0202ef823",
       "version_major": 2,
       "version_minor": 0
      },
      "text/plain": [
       "Running Epoch 0 of 4:   0%|          | 0/19 [00:00<?, ?it/s]"
      ]
     },
     "metadata": {},
     "output_type": "display_data"
    },
    {
     "data": {
      "application/vnd.jupyter.widget-view+json": {
       "model_id": "f841a083a9414e25a836d11db9fa7bdb",
       "version_major": 2,
       "version_minor": 0
      },
      "text/plain": [
       "Running Epoch 1 of 4:   0%|          | 0/19 [00:00<?, ?it/s]"
      ]
     },
     "metadata": {},
     "output_type": "display_data"
    },
    {
     "data": {
      "application/vnd.jupyter.widget-view+json": {
       "model_id": "d3332bdcc1784c20a2b4091a5a4521e2",
       "version_major": 2,
       "version_minor": 0
      },
      "text/plain": [
       "Running Epoch 2 of 4:   0%|          | 0/19 [00:00<?, ?it/s]"
      ]
     },
     "metadata": {},
     "output_type": "display_data"
    },
    {
     "data": {
      "application/vnd.jupyter.widget-view+json": {
       "model_id": "184330411a8242b798429e75c81808db",
       "version_major": 2,
       "version_minor": 0
      },
      "text/plain": [
       "Running Epoch 3 of 4:   0%|          | 0/19 [00:00<?, ?it/s]"
      ]
     },
     "metadata": {},
     "output_type": "display_data"
    },
    {
     "name": "stdout",
     "output_type": "stream",
     "text": [
      "-------------------------\n"
     ]
    },
    {
     "data": {
      "application/vnd.jupyter.widget-view+json": {
       "model_id": "cbba20d930514ad0b390aa8f9369aae2",
       "version_major": 2,
       "version_minor": 0
      },
      "text/plain": [
       "Running Evaluation:   0%|          | 0/7 [00:00<?, ?it/s]"
      ]
     },
     "metadata": {},
     "output_type": "display_data"
    },
    {
     "name": "stdout",
     "output_type": "stream",
     "text": [
      "{'mcc': 0.6049169726345741, 'tp': 97, 'tn': 66, 'fp': 18, 'fn': 21, 'auroc': 0.8728813559322034, 'auprc': 0.8962632435653728, 'acc': 0.806930693069307, 'precision': array([1, 1, 1, 1, 0, 0, 0, 0, 1, 0, 1, 1, 1, 0, 1, 1, 0, 1, 1, 1, 1, 0,\n",
      "       0, 1, 0, 1, 1, 0, 1, 1, 0, 0, 0, 1, 0, 0, 0, 0, 0, 0, 0, 1, 1, 1,\n",
      "       1, 1, 0, 1, 1, 1, 1, 1, 0, 1, 0, 1, 1, 0, 1, 1, 0, 0, 0, 0, 1, 1,\n",
      "       0, 1, 0, 1, 1, 1, 0, 0, 1, 1, 1, 1, 0, 0, 0, 1, 0, 1, 1, 1, 1, 0,\n",
      "       1, 1, 1, 0, 1, 1, 0, 1, 0, 1, 1, 0, 1, 1, 0, 0, 1, 1, 0, 1, 0, 1,\n",
      "       0, 1, 1, 0, 0, 0, 1, 0, 1, 0, 0, 1, 0, 0, 1, 0, 1, 1, 1, 1, 0, 1,\n",
      "       0, 1, 0, 0, 0, 0, 0, 1, 1, 0, 0, 1, 0, 1, 0, 1, 1, 0, 1, 1, 1, 1,\n",
      "       0, 1, 0, 1, 1, 0, 1, 1, 0, 1, 1, 0, 1, 1, 0, 1, 1, 1, 1, 1, 1, 1,\n",
      "       0, 0, 1, 1, 1, 1, 0, 1, 0, 1, 0, 1, 0, 1, 0, 1, 1, 1, 0, 0, 1, 0,\n",
      "       0, 0, 1, 0]), 'eval_loss': 0.6050693243741989}\n",
      "----------------\n",
      "{0: {'precision': 0.7586206896551724, 'recall': 0.7857142857142857, 'f1-score': 0.7719298245614034, 'support': 84}, 1: {'precision': 0.8434782608695652, 'recall': 0.8220338983050848, 'f1-score': 0.8326180257510729, 'support': 118}, 'accuracy': 0.806930693069307, 'macro avg': {'precision': 0.8010494752623688, 'recall': 0.8038740920096852, 'f1-score': 0.8022739251562381, 'support': 202}, 'weighted avg': {'precision': 0.8081909540279365, 'recall': 0.806930693069307, 'f1-score': 0.807381348028636, 'support': 202}}\n",
      "DICT: {'0 precision': 0.7586206896551724, '0 recall': 0.7857142857142857, '0 f1-score': 0.7719298245614034, '0 support': 84, '1 precision': 0.8434782608695652, '1 recall': 0.8220338983050848, '1 f1-score': 0.8326180257510729, '1 support': 118, 'accuracy accuracy': 0.806930693069307, 'macro avg precision': 0.8010494752623688, 'macro avg recall': 0.8038740920096852, 'macro avg f1-score': 0.8022739251562381, 'macro avg support': 202, 'weighted avg precision': 0.8081909540279365, 'weighted avg recall': 0.806930693069307, 'weighted avg f1-score': 0.807381348028636, 'weighted avg support': 202}\n",
      "Finish\n",
      "Start for corpora:  ../../../Corpora/Preprocessed_Transformers_Less_Preprocessing/Binary/NA01_gersen_Preprocessed_binary_Transformer.tsv\n",
      "Training Model Now\n",
      "                                                  text  labels\n",
      "0    Das heit, von Montag bis Mittwoch ist es dort ...       1\n",
      "1    Die Mietpreisbremse hat mit uns nichts zu tun ...       1\n",
      "2    Aufpassen sollte man bei Cumulonimbus Damit si...       1\n",
      "3    Dazu gehören unter anderem die unverhältnismäi...       1\n",
      "4    Sturmschäden und Orkanböen nehmen in Deutschla...       1\n",
      "..                                                 ...     ...\n",
      "637  Es war eine unvergessliche Stunde und für mein...       0\n",
      "638  Bürgermeister Markus Günther war erfreut, dass...       0\n",
      "639  Man gibt einfach im Navi ein Ziel ein und läss...       0\n",
      "640  Er wurde mit der Plakette in Titan, dem OttoBa...       0\n",
      "641  Durch sein Engagement hat er ein neues, politi...       0\n",
      "\n",
      "[642 rows x 2 columns]\n"
     ]
    },
    {
     "name": "stderr",
     "output_type": "stream",
     "text": [
      "Some weights of BertForSequenceClassification were not initialized from the model checkpoint at nlptown/bert-base-multilingual-uncased-sentiment and are newly initialized because the shapes did not match:\n",
      "- classifier.weight: found shape torch.Size([5, 768]) in the checkpoint and torch.Size([2, 768]) in the model instantiated\n",
      "- classifier.bias: found shape torch.Size([5]) in the checkpoint and torch.Size([2]) in the model instantiated\n",
      "You should probably TRAIN this model on a down-stream task to be able to use it for predictions and inference.\n"
     ]
    },
    {
     "data": {
      "application/vnd.jupyter.widget-view+json": {
       "model_id": "2f6cbb1962c54f149f1661855bf096c7",
       "version_major": 2,
       "version_minor": 0
      },
      "text/plain": [
       "Epoch:   0%|          | 0/4 [00:00<?, ?it/s]"
      ]
     },
     "metadata": {},
     "output_type": "display_data"
    },
    {
     "data": {
      "application/vnd.jupyter.widget-view+json": {
       "model_id": "d06019708f504fc0a8681fe200963bcf",
       "version_major": 2,
       "version_minor": 0
      },
      "text/plain": [
       "Running Epoch 0 of 4:   0%|          | 0/21 [00:00<?, ?it/s]"
      ]
     },
     "metadata": {},
     "output_type": "display_data"
    },
    {
     "data": {
      "application/vnd.jupyter.widget-view+json": {
       "model_id": "a03f79cbde9141d3928f98505038a557",
       "version_major": 2,
       "version_minor": 0
      },
      "text/plain": [
       "Running Epoch 1 of 4:   0%|          | 0/21 [00:00<?, ?it/s]"
      ]
     },
     "metadata": {},
     "output_type": "display_data"
    },
    {
     "data": {
      "application/vnd.jupyter.widget-view+json": {
       "model_id": "94ecdcae78014949a36bb6a50fde968c",
       "version_major": 2,
       "version_minor": 0
      },
      "text/plain": [
       "Running Epoch 2 of 4:   0%|          | 0/21 [00:00<?, ?it/s]"
      ]
     },
     "metadata": {},
     "output_type": "display_data"
    },
    {
     "data": {
      "application/vnd.jupyter.widget-view+json": {
       "model_id": "6f2d0d53c5b14be7a0fe4e5908b3213a",
       "version_major": 2,
       "version_minor": 0
      },
      "text/plain": [
       "Running Epoch 3 of 4:   0%|          | 0/21 [00:00<?, ?it/s]"
      ]
     },
     "metadata": {},
     "output_type": "display_data"
    },
    {
     "name": "stdout",
     "output_type": "stream",
     "text": [
      "-------------------------\n"
     ]
    },
    {
     "data": {
      "application/vnd.jupyter.widget-view+json": {
       "model_id": "58f5b0b575ca48e8a9c99966077c9b02",
       "version_major": 2,
       "version_minor": 0
      },
      "text/plain": [
       "Running Evaluation:   0%|          | 0/7 [00:00<?, ?it/s]"
      ]
     },
     "metadata": {},
     "output_type": "display_data"
    },
    {
     "name": "stdout",
     "output_type": "stream",
     "text": [
      "{'mcc': 0.5821497765333855, 'tp': 101, 'tn': 70, 'fp': 23, 'fn': 21, 'auroc': 0.8726423409130971, 'auprc': 0.8930898243090485, 'acc': 0.7953488372093023, 'precision': array([1, 1, 1, 0, 1, 1, 1, 1, 1, 1, 1, 0, 1, 1, 1, 1, 1, 1, 0, 1, 1, 1,\n",
      "       1, 1, 1, 0, 1, 0, 1, 1, 0, 1, 1, 0, 1, 1, 0, 1, 1, 1, 1, 1, 1, 1,\n",
      "       1, 1, 1, 1, 1, 1, 0, 0, 1, 1, 1, 1, 1, 0, 0, 1, 1, 1, 1, 1, 1, 0,\n",
      "       1, 1, 1, 0, 1, 1, 1, 0, 1, 1, 0, 1, 1, 1, 1, 1, 1, 1, 1, 1, 1, 1,\n",
      "       1, 1, 1, 1, 1, 1, 1, 1, 1, 1, 1, 1, 0, 0, 1, 1, 0, 1, 1, 1, 1, 1,\n",
      "       0, 1, 1, 1, 1, 1, 1, 1, 1, 0, 1, 1, 0, 0, 0, 0, 0, 0, 1, 0, 1, 0,\n",
      "       0, 0, 0, 1, 0, 0, 1, 0, 0, 1, 1, 1, 0, 1, 0, 0, 0, 0, 0, 0, 0, 1,\n",
      "       0, 0, 0, 0, 0, 0, 1, 0, 0, 0, 0, 0, 0, 0, 0, 1, 0, 0, 0, 0, 0, 0,\n",
      "       0, 0, 0, 1, 1, 1, 1, 0, 1, 0, 0, 1, 0, 1, 0, 0, 1, 0, 0, 0, 0, 0,\n",
      "       0, 0, 0, 0, 1, 1, 1, 0, 0, 0, 0, 1, 0, 0, 0, 0, 0]), 'eval_loss': 0.610616534948349}\n",
      "----------------\n",
      "{0: {'precision': 0.7692307692307693, 'recall': 0.7526881720430108, 'f1-score': 0.7608695652173912, 'support': 93}, 1: {'precision': 0.8145161290322581, 'recall': 0.8278688524590164, 'f1-score': 0.8211382113821138, 'support': 122}, 'accuracy': 0.7953488372093023, 'macro avg': {'precision': 0.7918734491315137, 'recall': 0.7902785122510136, 'f1-score': 0.7910038882997525, 'support': 215}, 'weighted avg': {'precision': 0.7949275780483583, 'recall': 0.7953488372093023, 'f1-score': 0.7950685179248153, 'support': 215}}\n",
      "DICT: {'0 precision': 0.7692307692307693, '0 recall': 0.7526881720430108, '0 f1-score': 0.7608695652173912, '0 support': 93, '1 precision': 0.8145161290322581, '1 recall': 0.8278688524590164, '1 f1-score': 0.8211382113821138, '1 support': 122, 'accuracy accuracy': 0.7953488372093023, 'macro avg precision': 0.7918734491315137, 'macro avg recall': 0.7902785122510136, 'macro avg f1-score': 0.7910038882997525, 'macro avg support': 215, 'weighted avg precision': 0.7949275780483583, 'weighted avg recall': 0.7953488372093023, 'weighted avg f1-score': 0.7950685179248153, 'weighted avg support': 215}\n",
      "Training Model Now\n",
      "                                                  text  labels\n",
      "0    Das heit, von Montag bis Mittwoch ist es dort ...       1\n",
      "1    Männer lieen Vorlesungen dagegen eher über sic...       1\n",
      "2    Dazu gehören unter anderem die unverhältnismäi...       1\n",
      "3    Sturmschäden und Orkanböen nehmen in Deutschla...       1\n",
      "4    Darunter befinden sich zunehmend sehr junge Pa...       1\n",
      "..                                                 ...     ...\n",
      "638  Bürgermeister Markus Günther war erfreut, dass...       0\n",
      "639  Wissenschaft  Spitzenforschung ebenso wie exze...       0\n",
      "640  Man gibt einfach im Navi ein Ziel ein und läss...       0\n",
      "641  Er wurde mit der Plakette in Titan, dem OttoBa...       0\n",
      "642  Durch sein Engagement hat er ein neues, politi...       0\n",
      "\n",
      "[643 rows x 2 columns]\n"
     ]
    },
    {
     "name": "stderr",
     "output_type": "stream",
     "text": [
      "Some weights of BertForSequenceClassification were not initialized from the model checkpoint at nlptown/bert-base-multilingual-uncased-sentiment and are newly initialized because the shapes did not match:\n",
      "- classifier.weight: found shape torch.Size([5, 768]) in the checkpoint and torch.Size([2, 768]) in the model instantiated\n",
      "- classifier.bias: found shape torch.Size([5]) in the checkpoint and torch.Size([2]) in the model instantiated\n",
      "You should probably TRAIN this model on a down-stream task to be able to use it for predictions and inference.\n"
     ]
    },
    {
     "data": {
      "application/vnd.jupyter.widget-view+json": {
       "model_id": "3f580144813f4e3a864f124ff415f5fa",
       "version_major": 2,
       "version_minor": 0
      },
      "text/plain": [
       "Epoch:   0%|          | 0/4 [00:00<?, ?it/s]"
      ]
     },
     "metadata": {},
     "output_type": "display_data"
    },
    {
     "data": {
      "application/vnd.jupyter.widget-view+json": {
       "model_id": "b1350deca5454978b017d3a9ccf2337e",
       "version_major": 2,
       "version_minor": 0
      },
      "text/plain": [
       "Running Epoch 0 of 4:   0%|          | 0/21 [00:00<?, ?it/s]"
      ]
     },
     "metadata": {},
     "output_type": "display_data"
    },
    {
     "data": {
      "application/vnd.jupyter.widget-view+json": {
       "model_id": "ff76916f12674be795b38c20d57630d4",
       "version_major": 2,
       "version_minor": 0
      },
      "text/plain": [
       "Running Epoch 1 of 4:   0%|          | 0/21 [00:00<?, ?it/s]"
      ]
     },
     "metadata": {},
     "output_type": "display_data"
    },
    {
     "data": {
      "application/vnd.jupyter.widget-view+json": {
       "model_id": "df4e798288a2454db1a3a736bda42aac",
       "version_major": 2,
       "version_minor": 0
      },
      "text/plain": [
       "Running Epoch 2 of 4:   0%|          | 0/21 [00:00<?, ?it/s]"
      ]
     },
     "metadata": {},
     "output_type": "display_data"
    },
    {
     "data": {
      "application/vnd.jupyter.widget-view+json": {
       "model_id": "c79a3f87804a43c1b34882f15226d8c8",
       "version_major": 2,
       "version_minor": 0
      },
      "text/plain": [
       "Running Epoch 3 of 4:   0%|          | 0/21 [00:00<?, ?it/s]"
      ]
     },
     "metadata": {},
     "output_type": "display_data"
    },
    {
     "name": "stdout",
     "output_type": "stream",
     "text": [
      "-------------------------\n"
     ]
    },
    {
     "data": {
      "application/vnd.jupyter.widget-view+json": {
       "model_id": "8db5412f2e6a40c28bebeab937600468",
       "version_major": 2,
       "version_minor": 0
      },
      "text/plain": [
       "Running Evaluation:   0%|          | 0/7 [00:00<?, ?it/s]"
      ]
     },
     "metadata": {},
     "output_type": "display_data"
    },
    {
     "name": "stdout",
     "output_type": "stream",
     "text": [
      "{'mcc': 0.6700055636442771, 'tp': 101, 'tn': 78, 'fp': 15, 'fn': 20, 'auroc': 0.90198169377055, 'auprc': 0.9174754187975398, 'acc': 0.8364485981308412, 'precision': array([1, 1, 1, 1, 0, 1, 0, 1, 1, 1, 1, 1, 0, 1, 1, 0, 0, 1, 1, 0, 1, 1,\n",
      "       1, 1, 1, 1, 1, 1, 0, 1, 1, 1, 1, 1, 0, 1, 0, 1, 1, 1, 1, 1, 1, 1,\n",
      "       0, 1, 1, 1, 1, 1, 1, 1, 1, 0, 1, 1, 0, 1, 1, 1, 1, 1, 1, 0, 1, 1,\n",
      "       1, 1, 1, 1, 0, 1, 1, 1, 1, 1, 1, 1, 0, 1, 1, 1, 1, 0, 1, 0, 1, 1,\n",
      "       1, 1, 1, 1, 1, 0, 1, 1, 1, 1, 1, 1, 1, 1, 1, 0, 1, 1, 1, 1, 1, 1,\n",
      "       1, 1, 1, 1, 1, 1, 0, 1, 1, 1, 1, 0, 0, 0, 0, 0, 1, 0, 0, 0, 0, 0,\n",
      "       1, 0, 0, 0, 0, 0, 0, 0, 1, 0, 0, 0, 0, 0, 0, 0, 0, 0, 0, 0, 0, 0,\n",
      "       0, 1, 0, 1, 0, 1, 1, 0, 1, 0, 0, 0, 0, 0, 0, 0, 0, 1, 0, 0, 0, 0,\n",
      "       0, 0, 0, 1, 0, 0, 1, 1, 0, 0, 0, 0, 0, 0, 0, 0, 0, 0, 1, 0, 0, 0,\n",
      "       1, 0, 1, 0, 0, 0, 0, 0, 0, 0, 0, 0, 0, 0, 0, 0]), 'eval_loss': 0.49424682344709125}\n",
      "----------------\n",
      "{0: {'precision': 0.7959183673469388, 'recall': 0.8387096774193549, 'f1-score': 0.8167539267015708, 'support': 93}, 1: {'precision': 0.8706896551724138, 'recall': 0.8347107438016529, 'f1-score': 0.8523206751054853, 'support': 121}, 'accuracy': 0.8364485981308412, 'macro avg': {'precision': 0.8333040112596763, 'recall': 0.8367102106105039, 'f1-score': 0.834537300903528, 'support': 214}, 'weighted avg': {'precision': 0.8381955908370439, 'recall': 0.8364485981308412, 'f1-score': 0.8368640975280832, 'support': 214}}\n",
      "DICT: {'0 precision': 0.7959183673469388, '0 recall': 0.8387096774193549, '0 f1-score': 0.8167539267015708, '0 support': 93, '1 precision': 0.8706896551724138, '1 recall': 0.8347107438016529, '1 f1-score': 0.8523206751054853, '1 support': 121, 'accuracy accuracy': 0.8364485981308412, 'macro avg precision': 0.8333040112596763, 'macro avg recall': 0.8367102106105039, 'macro avg f1-score': 0.834537300903528, 'macro avg support': 214, 'weighted avg precision': 0.8381955908370439, 'weighted avg recall': 0.8364485981308412, 'weighted avg f1-score': 0.8368640975280832, 'weighted avg support': 214}\n",
      "Training Model Now\n",
      "                                                  text  labels\n",
      "0    Das heit, von Montag bis Mittwoch ist es dort ...       1\n",
      "1    Die Mietpreisbremse hat mit uns nichts zu tun ...       1\n",
      "2    Aufpassen sollte man bei Cumulonimbus Damit si...       1\n",
      "3    Männer lieen Vorlesungen dagegen eher über sic...       1\n",
      "4    Dazu gehören unter anderem die unverhältnismäi...       1\n",
      "..                                                 ...     ...\n",
      "638  Die Universität biete ideale Forschungsbedingu...       0\n",
      "639  Das 1981 in Freiburg gegründete FraunhoferInst...       0\n",
      "640  Auf dem Arbeitsmarkt sind weibliche Ingenieure...       0\n",
      "641  Wissenschaft  Spitzenforschung ebenso wie exze...       0\n",
      "642  Durch sein Engagement hat er ein neues, politi...       0\n",
      "\n",
      "[643 rows x 2 columns]\n"
     ]
    },
    {
     "name": "stderr",
     "output_type": "stream",
     "text": [
      "Some weights of BertForSequenceClassification were not initialized from the model checkpoint at nlptown/bert-base-multilingual-uncased-sentiment and are newly initialized because the shapes did not match:\n",
      "- classifier.weight: found shape torch.Size([5, 768]) in the checkpoint and torch.Size([2, 768]) in the model instantiated\n",
      "- classifier.bias: found shape torch.Size([5]) in the checkpoint and torch.Size([2]) in the model instantiated\n",
      "You should probably TRAIN this model on a down-stream task to be able to use it for predictions and inference.\n"
     ]
    },
    {
     "data": {
      "application/vnd.jupyter.widget-view+json": {
       "model_id": "f2198097ffb044968f2483082ea599ae",
       "version_major": 2,
       "version_minor": 0
      },
      "text/plain": [
       "Epoch:   0%|          | 0/4 [00:00<?, ?it/s]"
      ]
     },
     "metadata": {},
     "output_type": "display_data"
    },
    {
     "data": {
      "application/vnd.jupyter.widget-view+json": {
       "model_id": "6466ed95e2004434a6d1b1ab4f86ab3b",
       "version_major": 2,
       "version_minor": 0
      },
      "text/plain": [
       "Running Epoch 0 of 4:   0%|          | 0/21 [00:00<?, ?it/s]"
      ]
     },
     "metadata": {},
     "output_type": "display_data"
    },
    {
     "data": {
      "application/vnd.jupyter.widget-view+json": {
       "model_id": "7eb445de85b44c298809f819ab4ca9af",
       "version_major": 2,
       "version_minor": 0
      },
      "text/plain": [
       "Running Epoch 1 of 4:   0%|          | 0/21 [00:00<?, ?it/s]"
      ]
     },
     "metadata": {},
     "output_type": "display_data"
    },
    {
     "data": {
      "application/vnd.jupyter.widget-view+json": {
       "model_id": "cc4d365979be4cb5b2f76589eeca0d9b",
       "version_major": 2,
       "version_minor": 0
      },
      "text/plain": [
       "Running Epoch 2 of 4:   0%|          | 0/21 [00:00<?, ?it/s]"
      ]
     },
     "metadata": {},
     "output_type": "display_data"
    },
    {
     "data": {
      "application/vnd.jupyter.widget-view+json": {
       "model_id": "01c847ee4eb14aff9e0cfdbe55bfc8f6",
       "version_major": 2,
       "version_minor": 0
      },
      "text/plain": [
       "Running Epoch 3 of 4:   0%|          | 0/21 [00:00<?, ?it/s]"
      ]
     },
     "metadata": {},
     "output_type": "display_data"
    },
    {
     "name": "stdout",
     "output_type": "stream",
     "text": [
      "-------------------------\n"
     ]
    },
    {
     "data": {
      "application/vnd.jupyter.widget-view+json": {
       "model_id": "056ae4eceead49f9a55a9b449c60521b",
       "version_major": 2,
       "version_minor": 0
      },
      "text/plain": [
       "Running Evaluation:   0%|          | 0/7 [00:00<?, ?it/s]"
      ]
     },
     "metadata": {},
     "output_type": "display_data"
    },
    {
     "name": "stdout",
     "output_type": "stream",
     "text": [
      "{'mcc': 0.5392776768995728, 'tp': 93, 'tn': 72, 'fp': 21, 'fn': 28, 'auroc': 0.8515951301875055, 'auprc': 0.8686445001308014, 'acc': 0.7710280373831776, 'precision': array([0, 1, 1, 0, 1, 0, 1, 1, 1, 1, 1, 1, 1, 0, 1, 0, 1, 1, 1, 0, 1, 1,\n",
      "       1, 1, 1, 1, 0, 0, 0, 1, 1, 0, 1, 1, 1, 1, 1, 1, 0, 1, 1, 0, 1, 1,\n",
      "       1, 1, 1, 1, 1, 0, 1, 1, 1, 0, 1, 0, 1, 1, 0, 0, 1, 1, 1, 1, 1, 0,\n",
      "       1, 0, 1, 1, 1, 0, 0, 1, 1, 1, 1, 1, 1, 1, 1, 1, 1, 1, 1, 0, 0, 1,\n",
      "       1, 1, 1, 1, 1, 1, 0, 0, 1, 1, 1, 1, 1, 1, 1, 1, 1, 1, 1, 0, 1, 1,\n",
      "       1, 1, 1, 1, 1, 1, 1, 1, 0, 0, 1, 0, 0, 1, 0, 0, 0, 1, 0, 0, 1, 1,\n",
      "       0, 0, 1, 0, 1, 0, 0, 1, 0, 0, 0, 0, 0, 0, 0, 1, 0, 0, 0, 0, 0, 1,\n",
      "       1, 1, 0, 0, 0, 1, 0, 0, 0, 0, 0, 0, 0, 0, 0, 1, 0, 1, 0, 0, 0, 0,\n",
      "       0, 0, 0, 0, 0, 0, 0, 0, 0, 1, 0, 1, 0, 0, 0, 0, 0, 0, 0, 0, 1, 1,\n",
      "       0, 0, 1, 0, 0, 0, 0, 0, 0, 1, 0, 0, 1, 0, 0, 0]), 'eval_loss': 0.7019562678677695}\n",
      "----------------\n",
      "{0: {'precision': 0.72, 'recall': 0.7741935483870968, 'f1-score': 0.7461139896373057, 'support': 93}, 1: {'precision': 0.8157894736842105, 'recall': 0.768595041322314, 'f1-score': 0.7914893617021277, 'support': 121}, 'accuracy': 0.7710280373831776, 'macro avg': {'precision': 0.7678947368421052, 'recall': 0.7713942948547055, 'f1-score': 0.7688016756697167, 'support': 214}, 'weighted avg': {'precision': 0.7741613379242498, 'recall': 0.7710280373831776, 'f1-score': 0.7717701579543312, 'support': 214}}\n",
      "DICT: {'0 precision': 0.72, '0 recall': 0.7741935483870968, '0 f1-score': 0.7461139896373057, '0 support': 93, '1 precision': 0.8157894736842105, '1 recall': 0.768595041322314, '1 f1-score': 0.7914893617021277, '1 support': 121, 'accuracy accuracy': 0.7710280373831776, 'macro avg precision': 0.7678947368421052, 'macro avg recall': 0.7713942948547055, 'macro avg f1-score': 0.7688016756697167, 'macro avg support': 214, 'weighted avg precision': 0.7741613379242498, 'weighted avg recall': 0.7710280373831776, 'weighted avg f1-score': 0.7717701579543312, 'weighted avg support': 214}\n",
      "Training Model Now\n",
      "                                                  text  labels\n",
      "0    Die Mietpreisbremse hat mit uns nichts zu tun ...       1\n",
      "1    Aufpassen sollte man bei Cumulonimbus Damit si...       1\n",
      "2    Männer lieen Vorlesungen dagegen eher über sic...       1\n",
      "3    Darunter befinden sich zunehmend sehr junge Pa...       1\n",
      "4    Ob schon vor dem zweiten Lebensjahr die OP erf...       1\n",
      "..                                                 ...     ...\n",
      "638  Es war eine unvergessliche Stunde und für mein...       0\n",
      "639  Bürgermeister Markus Günther war erfreut, dass...       0\n",
      "640  Wissenschaft  Spitzenforschung ebenso wie exze...       0\n",
      "641  Man gibt einfach im Navi ein Ziel ein und läss...       0\n",
      "642  Er wurde mit der Plakette in Titan, dem OttoBa...       0\n",
      "\n",
      "[643 rows x 2 columns]\n"
     ]
    },
    {
     "name": "stderr",
     "output_type": "stream",
     "text": [
      "Some weights of BertForSequenceClassification were not initialized from the model checkpoint at nlptown/bert-base-multilingual-uncased-sentiment and are newly initialized because the shapes did not match:\n",
      "- classifier.weight: found shape torch.Size([5, 768]) in the checkpoint and torch.Size([2, 768]) in the model instantiated\n",
      "- classifier.bias: found shape torch.Size([5]) in the checkpoint and torch.Size([2]) in the model instantiated\n",
      "You should probably TRAIN this model on a down-stream task to be able to use it for predictions and inference.\n"
     ]
    },
    {
     "data": {
      "application/vnd.jupyter.widget-view+json": {
       "model_id": "9b8844c5ddd342e09f0359f028fc4b66",
       "version_major": 2,
       "version_minor": 0
      },
      "text/plain": [
       "Epoch:   0%|          | 0/4 [00:00<?, ?it/s]"
      ]
     },
     "metadata": {},
     "output_type": "display_data"
    },
    {
     "data": {
      "application/vnd.jupyter.widget-view+json": {
       "model_id": "b78a152563624e2496850de306d20be8",
       "version_major": 2,
       "version_minor": 0
      },
      "text/plain": [
       "Running Epoch 0 of 4:   0%|          | 0/21 [00:00<?, ?it/s]"
      ]
     },
     "metadata": {},
     "output_type": "display_data"
    },
    {
     "data": {
      "application/vnd.jupyter.widget-view+json": {
       "model_id": "f2d21b0458bf431a9495972dcec5b1f9",
       "version_major": 2,
       "version_minor": 0
      },
      "text/plain": [
       "Running Epoch 1 of 4:   0%|          | 0/21 [00:00<?, ?it/s]"
      ]
     },
     "metadata": {},
     "output_type": "display_data"
    },
    {
     "data": {
      "application/vnd.jupyter.widget-view+json": {
       "model_id": "f4a2ea73e55149d08aed9236c615c07d",
       "version_major": 2,
       "version_minor": 0
      },
      "text/plain": [
       "Running Epoch 2 of 4:   0%|          | 0/21 [00:00<?, ?it/s]"
      ]
     },
     "metadata": {},
     "output_type": "display_data"
    },
    {
     "data": {
      "application/vnd.jupyter.widget-view+json": {
       "model_id": "10fbcf6d305b436a87799700d33b7125",
       "version_major": 2,
       "version_minor": 0
      },
      "text/plain": [
       "Running Epoch 3 of 4:   0%|          | 0/21 [00:00<?, ?it/s]"
      ]
     },
     "metadata": {},
     "output_type": "display_data"
    },
    {
     "name": "stdout",
     "output_type": "stream",
     "text": [
      "-------------------------\n"
     ]
    },
    {
     "data": {
      "application/vnd.jupyter.widget-view+json": {
       "model_id": "462d1691dd0d4882a6dbefc24eee0410",
       "version_major": 2,
       "version_minor": 0
      },
      "text/plain": [
       "Running Evaluation:   0%|          | 0/7 [00:00<?, ?it/s]"
      ]
     },
     "metadata": {},
     "output_type": "display_data"
    },
    {
     "name": "stdout",
     "output_type": "stream",
     "text": [
      "{'mcc': 0.5234804410255866, 'tp': 97, 'tn': 67, 'fp': 26, 'fn': 24, 'auroc': 0.8588820758908735, 'auprc': 0.8565027571115902, 'acc': 0.7663551401869159, 'precision': array([1, 0, 1, 1, 1, 1, 1, 1, 1, 1, 0, 1, 0, 1, 1, 0, 1, 0, 1, 1, 1, 0,\n",
      "       1, 1, 0, 1, 1, 1, 0, 0, 1, 1, 1, 0, 1, 1, 0, 1, 1, 1, 1, 1, 1, 1,\n",
      "       1, 1, 1, 0, 1, 1, 1, 1, 1, 1, 1, 0, 1, 1, 1, 1, 0, 1, 1, 1, 1, 0,\n",
      "       1, 1, 0, 1, 1, 1, 1, 1, 0, 1, 1, 1, 1, 1, 1, 1, 0, 1, 1, 1, 1, 1,\n",
      "       1, 1, 1, 0, 1, 1, 1, 0, 1, 1, 0, 1, 0, 1, 1, 1, 1, 1, 1, 1, 1, 1,\n",
      "       1, 1, 1, 1, 1, 0, 1, 1, 1, 0, 1, 0, 0, 0, 0, 1, 0, 0, 0, 0, 0, 0,\n",
      "       0, 0, 0, 0, 0, 1, 0, 0, 1, 0, 0, 0, 1, 0, 0, 0, 0, 0, 1, 0, 1, 0,\n",
      "       0, 0, 1, 1, 1, 1, 1, 1, 0, 0, 0, 1, 0, 0, 1, 0, 0, 0, 0, 1, 0, 0,\n",
      "       0, 0, 0, 0, 0, 1, 0, 0, 0, 1, 0, 0, 0, 0, 1, 1, 1, 0, 0, 1, 0, 1,\n",
      "       1, 1, 0, 0, 0, 0, 0, 1, 0, 0, 0, 0, 0, 0, 1, 0]), 'eval_loss': 0.7056306941168649}\n",
      "----------------\n",
      "{0: {'precision': 0.7362637362637363, 'recall': 0.7204301075268817, 'f1-score': 0.7282608695652175, 'support': 93}, 1: {'precision': 0.7886178861788617, 'recall': 0.8016528925619835, 'f1-score': 0.7950819672131147, 'support': 121}, 'accuracy': 0.7663551401869159, 'macro avg': {'precision': 0.762440811221299, 'recall': 0.7610415000444326, 'f1-score': 0.7616714183891662, 'support': 214}, 'weighted avg': {'precision': 0.7658658490662138, 'recall': 0.7663551401869159, 'f1-score': 0.7660428920670659, 'support': 214}}\n",
      "DICT: {'0 precision': 0.7362637362637363, '0 recall': 0.7204301075268817, '0 f1-score': 0.7282608695652175, '0 support': 93, '1 precision': 0.7886178861788617, '1 recall': 0.8016528925619835, '1 f1-score': 0.7950819672131147, '1 support': 121, 'accuracy accuracy': 0.7663551401869159, 'macro avg precision': 0.762440811221299, 'macro avg recall': 0.7610415000444326, 'macro avg f1-score': 0.7616714183891662, 'macro avg support': 214, 'weighted avg precision': 0.7658658490662138, 'weighted avg recall': 0.7663551401869159, 'weighted avg f1-score': 0.7660428920670659, 'weighted avg support': 214}\n",
      "Finish\n",
      "Start for corpora:  ../../../Corpora/Preprocessed_Transformers_Less_Preprocessing/Binary/NA02_gerom_Preprocessed_binary_Transformer.tsv\n",
      "Training Model Now\n",
      "                                                 text  labels\n",
      "0      Es war das groartigste Erlebnis unseres Lebens       0\n",
      "1     Es ist positiv, dass an die Zeit erinnert wird.       0\n",
      "2   Ich bin das erste Jahr als Trainer in der Bund...       0\n",
      "3   Boateng ist ein sehr guter Spieler und wird ei...       0\n",
      "4   Diese Frauentage sind immer toll, sie Vorträge...       0\n",
      "..                                                ...     ...\n",
      "76  Es handele sich um eine bedauerliche Verwechslung       1\n",
      "77  das Innenministerium selbst sei durch sein Ver...       1\n",
      "78  Dass jemand von der Polizei verdächtigt werde,...       1\n",
      "79       Es hätte schon ein bisschen mehr sein dürfen       1\n",
      "80  Der Text ist in der Beschreibung des Konflikts...       1\n",
      "\n",
      "[81 rows x 2 columns]\n"
     ]
    },
    {
     "name": "stderr",
     "output_type": "stream",
     "text": [
      "Some weights of BertForSequenceClassification were not initialized from the model checkpoint at nlptown/bert-base-multilingual-uncased-sentiment and are newly initialized because the shapes did not match:\n",
      "- classifier.weight: found shape torch.Size([5, 768]) in the checkpoint and torch.Size([2, 768]) in the model instantiated\n",
      "- classifier.bias: found shape torch.Size([5]) in the checkpoint and torch.Size([2]) in the model instantiated\n",
      "You should probably TRAIN this model on a down-stream task to be able to use it for predictions and inference.\n"
     ]
    },
    {
     "data": {
      "application/vnd.jupyter.widget-view+json": {
       "model_id": "4f1bc20967684fa9bd91ef6cd49dde38",
       "version_major": 2,
       "version_minor": 0
      },
      "text/plain": [
       "Epoch:   0%|          | 0/4 [00:00<?, ?it/s]"
      ]
     },
     "metadata": {},
     "output_type": "display_data"
    },
    {
     "data": {
      "application/vnd.jupyter.widget-view+json": {
       "model_id": "6d6bfe7550ce4a01819083a0334e4736",
       "version_major": 2,
       "version_minor": 0
      },
      "text/plain": [
       "Running Epoch 0 of 4:   0%|          | 0/3 [00:00<?, ?it/s]"
      ]
     },
     "metadata": {},
     "output_type": "display_data"
    },
    {
     "data": {
      "application/vnd.jupyter.widget-view+json": {
       "model_id": "ed88ea24773e46e7b32c01326e7b399a",
       "version_major": 2,
       "version_minor": 0
      },
      "text/plain": [
       "Running Epoch 1 of 4:   0%|          | 0/3 [00:00<?, ?it/s]"
      ]
     },
     "metadata": {},
     "output_type": "display_data"
    },
    {
     "data": {
      "application/vnd.jupyter.widget-view+json": {
       "model_id": "139db0779c0740fb82a8e124c5a15f15",
       "version_major": 2,
       "version_minor": 0
      },
      "text/plain": [
       "Running Epoch 2 of 4:   0%|          | 0/3 [00:00<?, ?it/s]"
      ]
     },
     "metadata": {},
     "output_type": "display_data"
    },
    {
     "data": {
      "application/vnd.jupyter.widget-view+json": {
       "model_id": "e7d931f519d04eecac1cd904e28da09f",
       "version_major": 2,
       "version_minor": 0
      },
      "text/plain": [
       "Running Epoch 3 of 4:   0%|          | 0/3 [00:00<?, ?it/s]"
      ]
     },
     "metadata": {},
     "output_type": "display_data"
    },
    {
     "name": "stdout",
     "output_type": "stream",
     "text": [
      "-------------------------\n"
     ]
    },
    {
     "data": {
      "application/vnd.jupyter.widget-view+json": {
       "model_id": "e0458aec099b4ec8b0b2751938767d5d",
       "version_major": 2,
       "version_minor": 0
      },
      "text/plain": [
       "Running Evaluation:   0%|          | 0/1 [00:00<?, ?it/s]"
      ]
     },
     "metadata": {},
     "output_type": "display_data"
    },
    {
     "name": "stdout",
     "output_type": "stream",
     "text": [
      "{'mcc': 0.3522819383711917, 'tp': 7, 'tn': 12, 'fp': 6, 'fn': 3, 'auroc': 0.7944444444444445, 'auprc': 0.7103482546864899, 'acc': 0.6785714285714286, 'precision': array([0, 0, 0, 0, 0, 0, 1, 1, 1, 0, 1, 0, 0, 0, 0, 1, 1, 0, 1, 1, 0, 1,\n",
      "       0, 0, 1, 1, 1, 1]), 'eval_loss': 0.5681842565536499}\n",
      "----------------\n",
      "{0: {'precision': 0.8, 'recall': 0.6666666666666666, 'f1-score': 0.7272727272727272, 'support': 18}, 1: {'precision': 0.5384615384615384, 'recall': 0.7, 'f1-score': 0.608695652173913, 'support': 10}, 'accuracy': 0.6785714285714286, 'macro avg': {'precision': 0.6692307692307693, 'recall': 0.6833333333333333, 'f1-score': 0.6679841897233201, 'support': 28}, 'weighted avg': {'precision': 0.7065934065934066, 'recall': 0.6785714285714286, 'f1-score': 0.6849237718802935, 'support': 28}}\n",
      "DICT: {'0 precision': 0.8, '0 recall': 0.6666666666666666, '0 f1-score': 0.7272727272727272, '0 support': 18, '1 precision': 0.5384615384615384, '1 recall': 0.7, '1 f1-score': 0.608695652173913, '1 support': 10, 'accuracy accuracy': 0.6785714285714286, 'macro avg precision': 0.6692307692307693, 'macro avg recall': 0.6833333333333333, 'macro avg f1-score': 0.6679841897233201, 'macro avg support': 28, 'weighted avg precision': 0.7065934065934066, 'weighted avg recall': 0.6785714285714286, 'weighted avg f1-score': 0.6849237718802935, 'weighted avg support': 28}\n",
      "Training Model Now\n",
      "                                                 text  labels\n",
      "0      Es war das groartigste Erlebnis unseres Lebens       0\n",
      "1                  Darüber habe ich mich sehr gefreut       0\n",
      "2   Ich bin das erste Jahr als Trainer in der Bund...       0\n",
      "3   Diese Frauentage sind immer toll, sie Vorträge...       0\n",
      "4   Aber das ist doch kein Problem. Das ist in vie...       0\n",
      "..                                                ...     ...\n",
      "77  das Innenministerium selbst sei durch sein Ver...       1\n",
      "78  Dass jemand von der Polizei verdächtigt werde,...       1\n",
      "79       Es hätte schon ein bisschen mehr sein dürfen       1\n",
      "80  Ich kann nicht jemanden zum Bundespräsidenten ...       1\n",
      "81  Der Text ist in der Beschreibung des Konflikts...       1\n",
      "\n",
      "[82 rows x 2 columns]\n"
     ]
    },
    {
     "name": "stderr",
     "output_type": "stream",
     "text": [
      "Some weights of BertForSequenceClassification were not initialized from the model checkpoint at nlptown/bert-base-multilingual-uncased-sentiment and are newly initialized because the shapes did not match:\n",
      "- classifier.weight: found shape torch.Size([5, 768]) in the checkpoint and torch.Size([2, 768]) in the model instantiated\n",
      "- classifier.bias: found shape torch.Size([5]) in the checkpoint and torch.Size([2]) in the model instantiated\n",
      "You should probably TRAIN this model on a down-stream task to be able to use it for predictions and inference.\n"
     ]
    },
    {
     "data": {
      "application/vnd.jupyter.widget-view+json": {
       "model_id": "9a92a46208314552baaa483558b8d3c1",
       "version_major": 2,
       "version_minor": 0
      },
      "text/plain": [
       "Epoch:   0%|          | 0/4 [00:00<?, ?it/s]"
      ]
     },
     "metadata": {},
     "output_type": "display_data"
    },
    {
     "data": {
      "application/vnd.jupyter.widget-view+json": {
       "model_id": "2f15374fb3f1460ca9eb137962d9696c",
       "version_major": 2,
       "version_minor": 0
      },
      "text/plain": [
       "Running Epoch 0 of 4:   0%|          | 0/3 [00:00<?, ?it/s]"
      ]
     },
     "metadata": {},
     "output_type": "display_data"
    },
    {
     "data": {
      "application/vnd.jupyter.widget-view+json": {
       "model_id": "b28945aa48b74aaa8c683b9a7c358e98",
       "version_major": 2,
       "version_minor": 0
      },
      "text/plain": [
       "Running Epoch 1 of 4:   0%|          | 0/3 [00:00<?, ?it/s]"
      ]
     },
     "metadata": {},
     "output_type": "display_data"
    },
    {
     "data": {
      "application/vnd.jupyter.widget-view+json": {
       "model_id": "4600eee037a048c5bf52c73c9c0c8fa4",
       "version_major": 2,
       "version_minor": 0
      },
      "text/plain": [
       "Running Epoch 2 of 4:   0%|          | 0/3 [00:00<?, ?it/s]"
      ]
     },
     "metadata": {},
     "output_type": "display_data"
    },
    {
     "data": {
      "application/vnd.jupyter.widget-view+json": {
       "model_id": "31215c90231b48deaa574430ffef0177",
       "version_major": 2,
       "version_minor": 0
      },
      "text/plain": [
       "Running Epoch 3 of 4:   0%|          | 0/3 [00:00<?, ?it/s]"
      ]
     },
     "metadata": {},
     "output_type": "display_data"
    },
    {
     "name": "stdout",
     "output_type": "stream",
     "text": [
      "-------------------------\n"
     ]
    },
    {
     "data": {
      "application/vnd.jupyter.widget-view+json": {
       "model_id": "42db7611a4fc46e38ea49e4e6598abd6",
       "version_major": 2,
       "version_minor": 0
      },
      "text/plain": [
       "Running Evaluation:   0%|          | 0/1 [00:00<?, ?it/s]"
      ]
     },
     "metadata": {},
     "output_type": "display_data"
    },
    {
     "name": "stdout",
     "output_type": "stream",
     "text": [
      "{'mcc': 0.6573757351339166, 'tp': 6, 'tn': 17, 'fp': 1, 'fn': 3, 'auroc': 0.9444444444444444, 'auprc': 0.8321348404681739, 'acc': 0.8518518518518519, 'precision': array([0, 0, 0, 0, 0, 0, 0, 1, 0, 0, 0, 0, 0, 0, 0, 0, 0, 0, 1, 0, 0, 1,\n",
      "       1, 0, 1, 1, 1]), 'eval_loss': 0.3863418698310852}\n",
      "----------------\n",
      "{0: {'precision': 0.85, 'recall': 0.9444444444444444, 'f1-score': 0.8947368421052632, 'support': 18}, 1: {'precision': 0.8571428571428571, 'recall': 0.6666666666666666, 'f1-score': 0.75, 'support': 9}, 'accuracy': 0.8518518518518519, 'macro avg': {'precision': 0.8535714285714285, 'recall': 0.8055555555555556, 'f1-score': 0.8223684210526316, 'support': 27}, 'weighted avg': {'precision': 0.8523809523809524, 'recall': 0.8518518518518519, 'f1-score': 0.8464912280701754, 'support': 27}}\n",
      "DICT: {'0 precision': 0.85, '0 recall': 0.9444444444444444, '0 f1-score': 0.8947368421052632, '0 support': 18, '1 precision': 0.8571428571428571, '1 recall': 0.6666666666666666, '1 f1-score': 0.75, '1 support': 9, 'accuracy accuracy': 0.8518518518518519, 'macro avg precision': 0.8535714285714285, 'macro avg recall': 0.8055555555555556, 'macro avg f1-score': 0.8223684210526316, 'macro avg support': 27, 'weighted avg precision': 0.8523809523809524, 'weighted avg recall': 0.8518518518518519, 'weighted avg f1-score': 0.8464912280701754, 'weighted avg support': 27}\n",
      "Training Model Now\n",
      "                                                 text  labels\n",
      "0      Es war das groartigste Erlebnis unseres Lebens       0\n",
      "1                  Darüber habe ich mich sehr gefreut       0\n",
      "2     Es ist positiv, dass an die Zeit erinnert wird.       0\n",
      "3   Ich bin das erste Jahr als Trainer in der Bund...       0\n",
      "4   Boateng ist ein sehr guter Spieler und wird ei...       0\n",
      "..                                                ...     ...\n",
      "77  Eine weitere Diagnose, die einfach nur bitter ...       1\n",
      "78  Es handele sich um eine bedauerliche Verwechslung       1\n",
      "79  Dass jemand von der Polizei verdächtigt werde,...       1\n",
      "80  Ich kann nicht jemanden zum Bundespräsidenten ...       1\n",
      "81  Der Text ist in der Beschreibung des Konflikts...       1\n",
      "\n",
      "[82 rows x 2 columns]\n"
     ]
    },
    {
     "name": "stderr",
     "output_type": "stream",
     "text": [
      "Some weights of BertForSequenceClassification were not initialized from the model checkpoint at nlptown/bert-base-multilingual-uncased-sentiment and are newly initialized because the shapes did not match:\n",
      "- classifier.weight: found shape torch.Size([5, 768]) in the checkpoint and torch.Size([2, 768]) in the model instantiated\n",
      "- classifier.bias: found shape torch.Size([5]) in the checkpoint and torch.Size([2]) in the model instantiated\n",
      "You should probably TRAIN this model on a down-stream task to be able to use it for predictions and inference.\n"
     ]
    },
    {
     "data": {
      "application/vnd.jupyter.widget-view+json": {
       "model_id": "ca06061559eb46fb8ab5b8054cb5aa46",
       "version_major": 2,
       "version_minor": 0
      },
      "text/plain": [
       "Epoch:   0%|          | 0/4 [00:00<?, ?it/s]"
      ]
     },
     "metadata": {},
     "output_type": "display_data"
    },
    {
     "data": {
      "application/vnd.jupyter.widget-view+json": {
       "model_id": "0af2b1ee7cbc42ecbcb783a5df071f29",
       "version_major": 2,
       "version_minor": 0
      },
      "text/plain": [
       "Running Epoch 0 of 4:   0%|          | 0/3 [00:00<?, ?it/s]"
      ]
     },
     "metadata": {},
     "output_type": "display_data"
    },
    {
     "data": {
      "application/vnd.jupyter.widget-view+json": {
       "model_id": "a0df6ec0691a43f384c7f09b174a1682",
       "version_major": 2,
       "version_minor": 0
      },
      "text/plain": [
       "Running Epoch 1 of 4:   0%|          | 0/3 [00:00<?, ?it/s]"
      ]
     },
     "metadata": {},
     "output_type": "display_data"
    },
    {
     "data": {
      "application/vnd.jupyter.widget-view+json": {
       "model_id": "88e9b05b08b0462fbc5c2ab74270db76",
       "version_major": 2,
       "version_minor": 0
      },
      "text/plain": [
       "Running Epoch 2 of 4:   0%|          | 0/3 [00:00<?, ?it/s]"
      ]
     },
     "metadata": {},
     "output_type": "display_data"
    },
    {
     "data": {
      "application/vnd.jupyter.widget-view+json": {
       "model_id": "445fc4fa17794fe082894f1a2c6a5bb5",
       "version_major": 2,
       "version_minor": 0
      },
      "text/plain": [
       "Running Epoch 3 of 4:   0%|          | 0/3 [00:00<?, ?it/s]"
      ]
     },
     "metadata": {},
     "output_type": "display_data"
    },
    {
     "name": "stdout",
     "output_type": "stream",
     "text": [
      "-------------------------\n"
     ]
    },
    {
     "data": {
      "application/vnd.jupyter.widget-view+json": {
       "model_id": "c72abd44611145a29ba5b44fdbdac047",
       "version_major": 2,
       "version_minor": 0
      },
      "text/plain": [
       "Running Evaluation:   0%|          | 0/1 [00:00<?, ?it/s]"
      ]
     },
     "metadata": {},
     "output_type": "display_data"
    },
    {
     "name": "stdout",
     "output_type": "stream",
     "text": [
      "{'mcc': 0.5735393346764044, 'tp': 6, 'tn': 16, 'fp': 2, 'fn': 3, 'auroc': 0.8580246913580247, 'auprc': 0.8220797720797721, 'acc': 0.8148148148148148, 'precision': array([0, 1, 0, 0, 1, 0, 0, 0, 0, 0, 0, 0, 0, 0, 0, 0, 0, 0, 1, 1, 1, 1,\n",
      "       0, 0, 1, 0, 1]), 'eval_loss': 0.5329640507698059}\n",
      "----------------\n",
      "{0: {'precision': 0.8421052631578947, 'recall': 0.8888888888888888, 'f1-score': 0.8648648648648649, 'support': 18}, 1: {'precision': 0.75, 'recall': 0.6666666666666666, 'f1-score': 0.7058823529411765, 'support': 9}, 'accuracy': 0.8148148148148148, 'macro avg': {'precision': 0.7960526315789473, 'recall': 0.7777777777777777, 'f1-score': 0.7853736089030208, 'support': 27}, 'weighted avg': {'precision': 0.8114035087719297, 'recall': 0.8148148148148148, 'f1-score': 0.8118706942236356, 'support': 27}}\n",
      "DICT: {'0 precision': 0.8421052631578947, '0 recall': 0.8888888888888888, '0 f1-score': 0.8648648648648649, '0 support': 18, '1 precision': 0.75, '1 recall': 0.6666666666666666, '1 f1-score': 0.7058823529411765, '1 support': 9, 'accuracy accuracy': 0.8148148148148148, 'macro avg precision': 0.7960526315789473, 'macro avg recall': 0.7777777777777777, 'macro avg f1-score': 0.7853736089030208, 'macro avg support': 27, 'weighted avg precision': 0.8114035087719297, 'weighted avg recall': 0.8148148148148148, 'weighted avg f1-score': 0.8118706942236356, 'weighted avg support': 27}\n",
      "Training Model Now\n",
      "                                                 text  labels\n",
      "0                  Darüber habe ich mich sehr gefreut       0\n",
      "1     Es ist positiv, dass an die Zeit erinnert wird.       0\n",
      "2   Boateng ist ein sehr guter Spieler und wird ei...       0\n",
      "3                      Ich liebe es da drauen zu sein       0\n",
      "4                Ich bin völlig ausgerastet vor Glück       0\n",
      "..                                                ...     ...\n",
      "77  Eine weitere Diagnose, die einfach nur bitter ...       1\n",
      "78  Es handele sich um eine bedauerliche Verwechslung       1\n",
      "79  das Innenministerium selbst sei durch sein Ver...       1\n",
      "80       Es hätte schon ein bisschen mehr sein dürfen       1\n",
      "81  Ich kann nicht jemanden zum Bundespräsidenten ...       1\n",
      "\n",
      "[82 rows x 2 columns]\n"
     ]
    },
    {
     "name": "stderr",
     "output_type": "stream",
     "text": [
      "Some weights of BertForSequenceClassification were not initialized from the model checkpoint at nlptown/bert-base-multilingual-uncased-sentiment and are newly initialized because the shapes did not match:\n",
      "- classifier.weight: found shape torch.Size([5, 768]) in the checkpoint and torch.Size([2, 768]) in the model instantiated\n",
      "- classifier.bias: found shape torch.Size([5]) in the checkpoint and torch.Size([2]) in the model instantiated\n",
      "You should probably TRAIN this model on a down-stream task to be able to use it for predictions and inference.\n"
     ]
    },
    {
     "data": {
      "application/vnd.jupyter.widget-view+json": {
       "model_id": "ee6c0ee1381541179dde12937f3c7892",
       "version_major": 2,
       "version_minor": 0
      },
      "text/plain": [
       "Epoch:   0%|          | 0/4 [00:00<?, ?it/s]"
      ]
     },
     "metadata": {},
     "output_type": "display_data"
    },
    {
     "data": {
      "application/vnd.jupyter.widget-view+json": {
       "model_id": "e8efb14b86fb4dc09564ef7509bef21d",
       "version_major": 2,
       "version_minor": 0
      },
      "text/plain": [
       "Running Epoch 0 of 4:   0%|          | 0/3 [00:00<?, ?it/s]"
      ]
     },
     "metadata": {},
     "output_type": "display_data"
    },
    {
     "data": {
      "application/vnd.jupyter.widget-view+json": {
       "model_id": "4a2867088cd94c019e0b415a774c6d8e",
       "version_major": 2,
       "version_minor": 0
      },
      "text/plain": [
       "Running Epoch 1 of 4:   0%|          | 0/3 [00:00<?, ?it/s]"
      ]
     },
     "metadata": {},
     "output_type": "display_data"
    },
    {
     "data": {
      "application/vnd.jupyter.widget-view+json": {
       "model_id": "4dc71595c17e414eaa37df5f24c4cf10",
       "version_major": 2,
       "version_minor": 0
      },
      "text/plain": [
       "Running Epoch 2 of 4:   0%|          | 0/3 [00:00<?, ?it/s]"
      ]
     },
     "metadata": {},
     "output_type": "display_data"
    },
    {
     "data": {
      "application/vnd.jupyter.widget-view+json": {
       "model_id": "0a3e7dc2f559411ea7d58d7f87afe6d2",
       "version_major": 2,
       "version_minor": 0
      },
      "text/plain": [
       "Running Epoch 3 of 4:   0%|          | 0/3 [00:00<?, ?it/s]"
      ]
     },
     "metadata": {},
     "output_type": "display_data"
    },
    {
     "name": "stdout",
     "output_type": "stream",
     "text": [
      "-------------------------\n"
     ]
    },
    {
     "data": {
      "application/vnd.jupyter.widget-view+json": {
       "model_id": "66d3833c4d084426b418f1558f400e33",
       "version_major": 2,
       "version_minor": 0
      },
      "text/plain": [
       "Running Evaluation:   0%|          | 0/1 [00:00<?, ?it/s]"
      ]
     },
     "metadata": {},
     "output_type": "display_data"
    },
    {
     "name": "stdout",
     "output_type": "stream",
     "text": [
      "{'mcc': 0.5963474256679911, 'tp': 6, 'tn': 16, 'fp': 1, 'fn': 4, 'auroc': 0.8999999999999999, 'auprc': 0.7928102453102452, 'acc': 0.8148148148148148, 'precision': array([0, 0, 0, 1, 0, 0, 0, 0, 0, 0, 0, 0, 0, 0, 0, 0, 0, 0, 0, 0, 1, 1,\n",
      "       1, 1, 1, 1, 0]), 'eval_loss': 0.43523669242858887}\n",
      "----------------\n",
      "{0: {'precision': 0.8, 'recall': 0.9411764705882353, 'f1-score': 0.8648648648648648, 'support': 17}, 1: {'precision': 0.8571428571428571, 'recall': 0.6, 'f1-score': 0.7058823529411764, 'support': 10}, 'accuracy': 0.8148148148148148, 'macro avg': {'precision': 0.8285714285714285, 'recall': 0.7705882352941176, 'f1-score': 0.7853736089030205, 'support': 27}, 'weighted avg': {'precision': 0.8211640211640211, 'recall': 0.8148148148148148, 'f1-score': 0.8059824530412766, 'support': 27}}\n",
      "DICT: {'0 precision': 0.8, '0 recall': 0.9411764705882353, '0 f1-score': 0.8648648648648648, '0 support': 17, '1 precision': 0.8571428571428571, '1 recall': 0.6, '1 f1-score': 0.7058823529411764, '1 support': 10, 'accuracy accuracy': 0.8148148148148148, 'macro avg precision': 0.8285714285714285, 'macro avg recall': 0.7705882352941176, 'macro avg f1-score': 0.7853736089030205, 'macro avg support': 27, 'weighted avg precision': 0.8211640211640211, 'weighted avg recall': 0.8148148148148148, 'weighted avg f1-score': 0.8059824530412766, 'weighted avg support': 27}\n",
      "Finish\n",
      "Start for corpora:  ../../../Corpora/Preprocessed_Transformers_Less_Preprocessing/Binary/NA03_ompc_Preprocessed_binary_Transformer.tsv\n",
      "Training Model Now\n",
      "                                                   text  labels\n",
      "0     !Verdachtsdiagnose!  weil ich die beschriebene...       1\n",
      "1      saying that securing the Schengen areas outer...       1\n",
      "2      mit den bisherigen sind wir wirtschaftlich ka...       1\n",
      "3      oder wegen dieser Befürchtungen nicht in Ansp...       1\n",
      "4     die wenigen, die es bis hierher geschafft habe...       1\n",
      "...                                                 ...     ...\n",
      "1231  Über einen pauschalen Antisemitismusvorfwürf w...       1\n",
      "1232  Überschrift klingt sehr vorwurfsvoll! Aber was...       1\n",
      "1233  ähm verhältnissmäigkeit ???? die opfer vom deu...       1\n",
      "1234  österreich ist doch ein teil des westens. wüss...       1\n",
      "1235  hoffentlich bekommt er bald Arbeitslosengeld  ...       1\n",
      "\n",
      "[1236 rows x 2 columns]\n"
     ]
    },
    {
     "name": "stderr",
     "output_type": "stream",
     "text": [
      "Some weights of BertForSequenceClassification were not initialized from the model checkpoint at nlptown/bert-base-multilingual-uncased-sentiment and are newly initialized because the shapes did not match:\n",
      "- classifier.weight: found shape torch.Size([5, 768]) in the checkpoint and torch.Size([2, 768]) in the model instantiated\n",
      "- classifier.bias: found shape torch.Size([5]) in the checkpoint and torch.Size([2]) in the model instantiated\n",
      "You should probably TRAIN this model on a down-stream task to be able to use it for predictions and inference.\n"
     ]
    },
    {
     "data": {
      "application/vnd.jupyter.widget-view+json": {
       "model_id": "457edfe257b74b69ab05adbcd638e46f",
       "version_major": 2,
       "version_minor": 0
      },
      "text/plain": [
       "Epoch:   0%|          | 0/4 [00:00<?, ?it/s]"
      ]
     },
     "metadata": {},
     "output_type": "display_data"
    },
    {
     "data": {
      "application/vnd.jupyter.widget-view+json": {
       "model_id": "d63ce210059c409980eda116263ec0dc",
       "version_major": 2,
       "version_minor": 0
      },
      "text/plain": [
       "Running Epoch 0 of 4:   0%|          | 0/39 [00:00<?, ?it/s]"
      ]
     },
     "metadata": {},
     "output_type": "display_data"
    },
    {
     "data": {
      "application/vnd.jupyter.widget-view+json": {
       "model_id": "fd9b28530814450cbef2e9707f1f5d81",
       "version_major": 2,
       "version_minor": 0
      },
      "text/plain": [
       "Running Epoch 1 of 4:   0%|          | 0/39 [00:00<?, ?it/s]"
      ]
     },
     "metadata": {},
     "output_type": "display_data"
    },
    {
     "data": {
      "application/vnd.jupyter.widget-view+json": {
       "model_id": "b48afd7b018c4cdd992f2aa0897495f1",
       "version_major": 2,
       "version_minor": 0
      },
      "text/plain": [
       "Running Epoch 2 of 4:   0%|          | 0/39 [00:00<?, ?it/s]"
      ]
     },
     "metadata": {},
     "output_type": "display_data"
    },
    {
     "data": {
      "application/vnd.jupyter.widget-view+json": {
       "model_id": "cdbd7c0cfeab4b3f972dbec3e1897d0d",
       "version_major": 2,
       "version_minor": 0
      },
      "text/plain": [
       "Running Epoch 3 of 4:   0%|          | 0/39 [00:00<?, ?it/s]"
      ]
     },
     "metadata": {},
     "output_type": "display_data"
    },
    {
     "name": "stdout",
     "output_type": "stream",
     "text": [
      "-------------------------\n"
     ]
    },
    {
     "data": {
      "application/vnd.jupyter.widget-view+json": {
       "model_id": "527daf2a7ac4413d836d02f45d311b7a",
       "version_major": 2,
       "version_minor": 0
      },
      "text/plain": [
       "Running Evaluation:   0%|          | 0/13 [00:00<?, ?it/s]"
      ]
     },
     "metadata": {},
     "output_type": "display_data"
    },
    {
     "name": "stdout",
     "output_type": "stream",
     "text": [
      "{'mcc': 0.21128098445580412, 'tp': 397, 'tn': 2, 'fp': 9, 'fn': 5, 'auroc': 0.9140660334690186, 'auprc': 0.9974597181316289, 'acc': 0.9661016949152542, 'precision': array([1, 1, 1, 1, 1, 1, 1, 1, 1, 1, 1, 1, 1, 1, 0, 1, 1, 1, 1, 1, 1, 1,\n",
      "       1, 1, 1, 1, 1, 1, 0, 1, 1, 1, 1, 1, 1, 1, 1, 1, 1, 1, 1, 1, 1, 1,\n",
      "       1, 1, 1, 1, 1, 1, 1, 1, 1, 1, 1, 1, 1, 1, 1, 1, 1, 1, 1, 1, 1, 1,\n",
      "       1, 1, 1, 1, 1, 1, 1, 1, 1, 1, 1, 1, 1, 1, 1, 1, 1, 1, 1, 1, 1, 1,\n",
      "       1, 1, 1, 1, 1, 1, 1, 1, 1, 1, 1, 1, 1, 1, 1, 1, 1, 1, 1, 1, 1, 1,\n",
      "       1, 1, 1, 1, 1, 1, 1, 1, 1, 1, 1, 1, 1, 1, 1, 1, 1, 1, 1, 1, 1, 1,\n",
      "       1, 1, 1, 1, 1, 1, 1, 1, 1, 1, 1, 1, 1, 1, 1, 1, 1, 1, 1, 1, 1, 1,\n",
      "       1, 1, 1, 1, 1, 1, 0, 1, 1, 1, 1, 1, 1, 1, 1, 1, 1, 1, 1, 1, 1, 1,\n",
      "       1, 1, 1, 1, 1, 1, 1, 1, 1, 1, 1, 1, 1, 1, 1, 1, 1, 1, 1, 1, 1, 1,\n",
      "       1, 1, 1, 1, 1, 1, 1, 1, 1, 1, 1, 1, 1, 1, 1, 1, 1, 1, 1, 1, 1, 1,\n",
      "       1, 1, 1, 1, 1, 1, 1, 1, 1, 1, 1, 1, 1, 1, 1, 1, 1, 1, 1, 1, 1, 1,\n",
      "       1, 1, 1, 1, 1, 1, 1, 1, 1, 1, 1, 1, 1, 1, 1, 1, 1, 1, 1, 1, 1, 1,\n",
      "       1, 1, 1, 1, 1, 1, 1, 1, 1, 1, 1, 1, 1, 1, 1, 1, 1, 1, 1, 1, 1, 1,\n",
      "       1, 1, 1, 1, 1, 1, 1, 1, 1, 1, 1, 1, 1, 1, 1, 1, 1, 1, 1, 1, 1, 1,\n",
      "       1, 1, 1, 1, 1, 1, 1, 1, 1, 1, 1, 1, 1, 1, 1, 1, 1, 1, 1, 1, 1, 1,\n",
      "       1, 1, 1, 1, 1, 1, 1, 1, 1, 1, 1, 1, 1, 1, 1, 1, 1, 1, 1, 1, 1, 1,\n",
      "       1, 1, 1, 1, 1, 1, 1, 1, 1, 1, 1, 1, 1, 1, 1, 1, 1, 1, 1, 1, 1, 1,\n",
      "       1, 1, 1, 1, 1, 1, 1, 1, 1, 1, 1, 1, 1, 1, 1, 1, 1, 1, 0, 1, 1, 1,\n",
      "       1, 1, 1, 1, 1, 1, 1, 1, 1, 1, 1, 0, 0, 0, 1, 1, 1]), 'eval_loss': 0.10589563474059105}\n",
      "----------------\n",
      "{0: {'precision': 0.2857142857142857, 'recall': 0.18181818181818182, 'f1-score': 0.2222222222222222, 'support': 11}, 1: {'precision': 0.9778325123152709, 'recall': 0.9875621890547264, 'f1-score': 0.9826732673267327, 'support': 402}, 'accuracy': 0.9661016949152542, 'macro avg': {'precision': 0.6317733990147782, 'recall': 0.5846901854364541, 'f1-score': 0.6024477447744774, 'support': 413}, 'weighted avg': {'precision': 0.9593983706866733, 'recall': 0.9661016949152542, 'f1-score': 0.9624191232682591, 'support': 413}}\n",
      "DICT: {'0 precision': 0.2857142857142857, '0 recall': 0.18181818181818182, '0 f1-score': 0.2222222222222222, '0 support': 11, '1 precision': 0.9778325123152709, '1 recall': 0.9875621890547264, '1 f1-score': 0.9826732673267327, '1 support': 402, 'accuracy accuracy': 0.9661016949152542, 'macro avg precision': 0.6317733990147782, 'macro avg recall': 0.5846901854364541, 'macro avg f1-score': 0.6024477447744774, 'macro avg support': 413, 'weighted avg precision': 0.9593983706866733, 'weighted avg recall': 0.9661016949152542, 'weighted avg f1-score': 0.9624191232682591, 'weighted avg support': 413}\n",
      "Training Model Now\n",
      "                                                   text  labels\n",
      "0     !Verdachtsdiagnose!  weil ich die beschriebene...       1\n",
      "1      saying that securing the Schengen areas outer...       1\n",
      "2      Idomeni Polizei setzte erneut Tränengas gegen...       1\n",
      "3      mit den bisherigen sind wir wirtschaftlich ka...       1\n",
      "4     die wenigen, die es bis hierher geschafft habe...       1\n",
      "...                                                 ...     ...\n",
      "1232  Ähnlichkeiten gibt es immer und zu allem. Dama...       1\n",
      "1233  Övp, cdu sind doch rechts liberale parteien ge...       1\n",
      "1234  Überlasst die Bewertungen der Postings doch de...       1\n",
      "1235  Überschrift klingt sehr vorwurfsvoll! Aber was...       1\n",
      "1236  hoffentlich bekommt er bald Arbeitslosengeld  ...       1\n",
      "\n",
      "[1237 rows x 2 columns]\n"
     ]
    },
    {
     "name": "stderr",
     "output_type": "stream",
     "text": [
      "Some weights of BertForSequenceClassification were not initialized from the model checkpoint at nlptown/bert-base-multilingual-uncased-sentiment and are newly initialized because the shapes did not match:\n",
      "- classifier.weight: found shape torch.Size([5, 768]) in the checkpoint and torch.Size([2, 768]) in the model instantiated\n",
      "- classifier.bias: found shape torch.Size([5]) in the checkpoint and torch.Size([2]) in the model instantiated\n",
      "You should probably TRAIN this model on a down-stream task to be able to use it for predictions and inference.\n"
     ]
    },
    {
     "data": {
      "application/vnd.jupyter.widget-view+json": {
       "model_id": "5fa4bdd3ee36453c826fec8fd6b2c144",
       "version_major": 2,
       "version_minor": 0
      },
      "text/plain": [
       "Epoch:   0%|          | 0/4 [00:00<?, ?it/s]"
      ]
     },
     "metadata": {},
     "output_type": "display_data"
    },
    {
     "data": {
      "application/vnd.jupyter.widget-view+json": {
       "model_id": "157a3d7a3a214bbb81ba9818ea9201dd",
       "version_major": 2,
       "version_minor": 0
      },
      "text/plain": [
       "Running Epoch 0 of 4:   0%|          | 0/39 [00:00<?, ?it/s]"
      ]
     },
     "metadata": {},
     "output_type": "display_data"
    },
    {
     "data": {
      "application/vnd.jupyter.widget-view+json": {
       "model_id": "12df90d4818e4318bcdbb0378c691ef9",
       "version_major": 2,
       "version_minor": 0
      },
      "text/plain": [
       "Running Epoch 1 of 4:   0%|          | 0/39 [00:00<?, ?it/s]"
      ]
     },
     "metadata": {},
     "output_type": "display_data"
    },
    {
     "data": {
      "application/vnd.jupyter.widget-view+json": {
       "model_id": "89eaad3cf7884c63b95a44488ceee9f7",
       "version_major": 2,
       "version_minor": 0
      },
      "text/plain": [
       "Running Epoch 2 of 4:   0%|          | 0/39 [00:00<?, ?it/s]"
      ]
     },
     "metadata": {},
     "output_type": "display_data"
    },
    {
     "data": {
      "application/vnd.jupyter.widget-view+json": {
       "model_id": "2bc70dbadd1948f1a265a40fd5acc339",
       "version_major": 2,
       "version_minor": 0
      },
      "text/plain": [
       "Running Epoch 3 of 4:   0%|          | 0/39 [00:00<?, ?it/s]"
      ]
     },
     "metadata": {},
     "output_type": "display_data"
    },
    {
     "name": "stdout",
     "output_type": "stream",
     "text": [
      "-------------------------\n"
     ]
    },
    {
     "data": {
      "application/vnd.jupyter.widget-view+json": {
       "model_id": "eca21cb079ff4886923eeac62165a4ce",
       "version_major": 2,
       "version_minor": 0
      },
      "text/plain": [
       "Running Evaluation:   0%|          | 0/13 [00:00<?, ?it/s]"
      ]
     },
     "metadata": {},
     "output_type": "display_data"
    },
    {
     "name": "stdout",
     "output_type": "stream",
     "text": [
      "{'mcc': 0.21590669739013496, 'tp': 401, 'tn': 1, 'fp': 9, 'fn': 1, 'auroc': 0.735820895522388, 'auprc': 0.9884963465104881, 'acc': 0.9757281553398058, 'precision': array([1, 1, 1, 1, 1, 1, 1, 1, 1, 1, 1, 1, 1, 1, 1, 1, 1, 1, 1, 1, 1, 1,\n",
      "       1, 1, 1, 1, 1, 1, 1, 1, 1, 1, 1, 1, 1, 1, 1, 1, 1, 1, 1, 1, 1, 1,\n",
      "       1, 1, 1, 1, 1, 1, 1, 1, 1, 1, 1, 1, 1, 0, 1, 1, 1, 1, 1, 1, 1, 1,\n",
      "       1, 1, 1, 1, 1, 1, 1, 1, 1, 1, 1, 1, 1, 1, 1, 1, 1, 1, 1, 1, 1, 1,\n",
      "       1, 1, 1, 1, 1, 1, 1, 1, 1, 1, 1, 1, 1, 1, 1, 1, 1, 1, 1, 1, 1, 1,\n",
      "       1, 1, 1, 1, 1, 1, 1, 1, 1, 1, 1, 1, 1, 1, 1, 1, 1, 1, 1, 1, 1, 1,\n",
      "       1, 1, 1, 1, 1, 1, 1, 1, 1, 1, 1, 1, 1, 1, 1, 1, 1, 1, 1, 1, 1, 1,\n",
      "       1, 1, 1, 1, 1, 1, 1, 1, 1, 1, 1, 1, 1, 1, 1, 1, 1, 1, 1, 1, 1, 1,\n",
      "       1, 1, 1, 1, 1, 1, 1, 1, 1, 1, 1, 1, 1, 1, 1, 1, 1, 1, 1, 1, 1, 1,\n",
      "       1, 1, 1, 1, 1, 1, 1, 1, 1, 1, 1, 1, 1, 1, 1, 1, 1, 1, 1, 1, 1, 1,\n",
      "       1, 1, 1, 1, 1, 1, 1, 1, 1, 1, 1, 1, 1, 1, 1, 1, 1, 1, 1, 1, 1, 1,\n",
      "       1, 1, 1, 1, 1, 1, 1, 1, 1, 1, 1, 1, 1, 1, 1, 1, 1, 1, 1, 1, 1, 1,\n",
      "       1, 1, 1, 1, 1, 1, 1, 1, 1, 1, 1, 1, 1, 1, 1, 1, 1, 1, 1, 1, 1, 1,\n",
      "       1, 1, 1, 1, 1, 1, 1, 1, 1, 1, 1, 1, 1, 1, 1, 1, 1, 1, 1, 1, 1, 1,\n",
      "       1, 1, 1, 1, 0, 1, 1, 1, 1, 1, 1, 1, 1, 1, 1, 1, 1, 1, 1, 1, 1, 1,\n",
      "       1, 1, 1, 1, 1, 1, 1, 1, 1, 1, 1, 1, 1, 1, 1, 1, 1, 1, 1, 1, 1, 1,\n",
      "       1, 1, 1, 1, 1, 1, 1, 1, 1, 1, 1, 1, 1, 1, 1, 1, 1, 1, 1, 1, 1, 1,\n",
      "       1, 1, 1, 1, 1, 1, 1, 1, 1, 1, 1, 1, 1, 1, 1, 1, 1, 1, 1, 1, 1, 1,\n",
      "       1, 1, 1, 1, 1, 1, 1, 1, 1, 1, 1, 1, 1, 1, 1, 1]), 'eval_loss': 0.1144237552697842}\n",
      "----------------\n",
      "{0: {'precision': 0.5, 'recall': 0.1, 'f1-score': 0.16666666666666669, 'support': 10}, 1: {'precision': 0.9780487804878049, 'recall': 0.9975124378109452, 'f1-score': 0.9876847290640394, 'support': 402}, 'accuracy': 0.9757281553398058, 'macro avg': {'precision': 0.7390243902439024, 'recall': 0.5487562189054727, 'f1-score': 0.577175697865353, 'support': 412}, 'weighted avg': {'precision': 0.9664456547478096, 'recall': 0.9757281553398058, 'f1-score': 0.9677571061903167, 'support': 412}}\n",
      "DICT: {'0 precision': 0.5, '0 recall': 0.1, '0 f1-score': 0.16666666666666669, '0 support': 10, '1 precision': 0.9780487804878049, '1 recall': 0.9975124378109452, '1 f1-score': 0.9876847290640394, '1 support': 402, 'accuracy accuracy': 0.9757281553398058, 'macro avg precision': 0.7390243902439024, 'macro avg recall': 0.5487562189054727, 'macro avg f1-score': 0.577175697865353, 'macro avg support': 412, 'weighted avg precision': 0.9664456547478096, 'weighted avg recall': 0.9757281553398058, 'weighted avg f1-score': 0.9677571061903167, 'weighted avg support': 412}\n",
      "Training Model Now\n",
      "                                                   text  labels\n",
      "0     !Verdachtsdiagnose!  weil ich die beschriebene...       1\n",
      "1      Idomeni Polizei setzte erneut Tränengas gegen...       1\n",
      "2      mit den bisherigen sind wir wirtschaftlich ka...       1\n",
      "3      oder wegen dieser Befürchtungen nicht in Ansp...       1\n",
      "4     die wenigen, die es bis hierher geschafft habe...       1\n",
      "...                                                 ...     ...\n",
      "1232  Über einen pauschalen Antisemitismusvorfwürf w...       1\n",
      "1233  Überlasst die Bewertungen der Postings doch de...       1\n",
      "1234  Überschrift klingt sehr vorwurfsvoll! Aber was...       1\n",
      "1235  ähm verhältnissmäigkeit ???? die opfer vom deu...       1\n",
      "1236  österreich ist doch ein teil des westens. wüss...       1\n",
      "\n",
      "[1237 rows x 2 columns]\n"
     ]
    },
    {
     "name": "stderr",
     "output_type": "stream",
     "text": [
      "Some weights of BertForSequenceClassification were not initialized from the model checkpoint at nlptown/bert-base-multilingual-uncased-sentiment and are newly initialized because the shapes did not match:\n",
      "- classifier.weight: found shape torch.Size([5, 768]) in the checkpoint and torch.Size([2, 768]) in the model instantiated\n",
      "- classifier.bias: found shape torch.Size([5]) in the checkpoint and torch.Size([2]) in the model instantiated\n",
      "You should probably TRAIN this model on a down-stream task to be able to use it for predictions and inference.\n"
     ]
    },
    {
     "data": {
      "application/vnd.jupyter.widget-view+json": {
       "model_id": "a8fb0a35f42c4a0d8d41922b23ae1d88",
       "version_major": 2,
       "version_minor": 0
      },
      "text/plain": [
       "Epoch:   0%|          | 0/4 [00:00<?, ?it/s]"
      ]
     },
     "metadata": {},
     "output_type": "display_data"
    },
    {
     "data": {
      "application/vnd.jupyter.widget-view+json": {
       "model_id": "35bb402c08bc4c5da1027882d8757079",
       "version_major": 2,
       "version_minor": 0
      },
      "text/plain": [
       "Running Epoch 0 of 4:   0%|          | 0/39 [00:00<?, ?it/s]"
      ]
     },
     "metadata": {},
     "output_type": "display_data"
    },
    {
     "data": {
      "application/vnd.jupyter.widget-view+json": {
       "model_id": "0b1bf8d3993046d6b64498d777c01e53",
       "version_major": 2,
       "version_minor": 0
      },
      "text/plain": [
       "Running Epoch 1 of 4:   0%|          | 0/39 [00:00<?, ?it/s]"
      ]
     },
     "metadata": {},
     "output_type": "display_data"
    },
    {
     "data": {
      "application/vnd.jupyter.widget-view+json": {
       "model_id": "7a34c085a07841c4a81821d645038300",
       "version_major": 2,
       "version_minor": 0
      },
      "text/plain": [
       "Running Epoch 2 of 4:   0%|          | 0/39 [00:00<?, ?it/s]"
      ]
     },
     "metadata": {},
     "output_type": "display_data"
    },
    {
     "data": {
      "application/vnd.jupyter.widget-view+json": {
       "model_id": "6aa51f24de104da58eea97a05d6c55d7",
       "version_major": 2,
       "version_minor": 0
      },
      "text/plain": [
       "Running Epoch 3 of 4:   0%|          | 0/39 [00:00<?, ?it/s]"
      ]
     },
     "metadata": {},
     "output_type": "display_data"
    },
    {
     "name": "stdout",
     "output_type": "stream",
     "text": [
      "-------------------------\n"
     ]
    },
    {
     "data": {
      "application/vnd.jupyter.widget-view+json": {
       "model_id": "07b7b6b7684e4d64b6b2227951852723",
       "version_major": 2,
       "version_minor": 0
      },
      "text/plain": [
       "Running Evaluation:   0%|          | 0/13 [00:00<?, ?it/s]"
      ]
     },
     "metadata": {},
     "output_type": "display_data"
    },
    {
     "name": "stdout",
     "output_type": "stream",
     "text": [
      "{'mcc': 0.1949277228566345, 'tp': 395, 'tn': 2, 'fp': 9, 'fn': 6, 'auroc': 0.825663114939923, 'auprc': 0.9933903321544396, 'acc': 0.9635922330097088, 'precision': array([1, 1, 1, 1, 1, 1, 1, 1, 1, 1, 1, 1, 1, 1, 1, 1, 1, 1, 1, 1, 1, 1,\n",
      "       1, 1, 1, 1, 1, 1, 1, 1, 1, 1, 1, 1, 1, 1, 1, 1, 1, 1, 1, 1, 1, 1,\n",
      "       1, 1, 1, 1, 1, 1, 1, 1, 1, 1, 1, 1, 1, 1, 1, 1, 1, 1, 1, 1, 1, 1,\n",
      "       1, 1, 1, 1, 1, 1, 0, 1, 1, 1, 1, 1, 1, 1, 1, 1, 1, 1, 1, 1, 1, 1,\n",
      "       1, 1, 1, 1, 1, 1, 1, 1, 1, 1, 1, 1, 1, 1, 1, 1, 1, 1, 1, 1, 1, 1,\n",
      "       1, 1, 1, 1, 1, 1, 1, 1, 1, 1, 1, 1, 1, 1, 1, 1, 1, 1, 1, 1, 1, 1,\n",
      "       1, 1, 1, 1, 1, 1, 1, 1, 1, 1, 1, 1, 1, 1, 1, 1, 1, 1, 1, 1, 1, 1,\n",
      "       1, 1, 1, 1, 1, 1, 1, 0, 1, 1, 1, 1, 1, 1, 1, 1, 1, 1, 1, 1, 1, 1,\n",
      "       0, 1, 1, 1, 0, 1, 1, 1, 1, 1, 1, 1, 1, 1, 1, 1, 1, 1, 1, 1, 1, 1,\n",
      "       1, 1, 1, 1, 1, 1, 1, 1, 1, 1, 1, 1, 1, 1, 1, 1, 1, 0, 1, 1, 1, 1,\n",
      "       1, 1, 1, 1, 1, 1, 1, 1, 1, 1, 1, 1, 1, 1, 1, 1, 1, 1, 1, 1, 1, 1,\n",
      "       1, 1, 1, 1, 1, 1, 1, 1, 1, 1, 1, 1, 1, 1, 1, 1, 1, 1, 1, 1, 1, 1,\n",
      "       1, 1, 1, 1, 1, 1, 1, 1, 1, 1, 1, 1, 1, 1, 1, 1, 1, 1, 1, 1, 1, 1,\n",
      "       1, 1, 1, 1, 1, 1, 1, 1, 1, 1, 1, 1, 1, 1, 1, 1, 1, 1, 1, 1, 1, 1,\n",
      "       1, 1, 1, 1, 1, 1, 1, 1, 1, 1, 1, 1, 1, 1, 1, 1, 1, 1, 0, 1, 1, 1,\n",
      "       1, 1, 1, 1, 1, 1, 1, 1, 1, 1, 1, 1, 1, 1, 1, 1, 1, 1, 1, 1, 1, 1,\n",
      "       1, 1, 1, 1, 1, 1, 1, 1, 1, 1, 1, 1, 1, 1, 1, 1, 1, 1, 1, 1, 1, 1,\n",
      "       1, 1, 1, 1, 1, 0, 1, 1, 1, 1, 1, 1, 1, 1, 1, 1, 1, 1, 1, 1, 1, 1,\n",
      "       1, 1, 1, 1, 1, 1, 1, 1, 1, 1, 1, 1, 0, 1, 1, 1]), 'eval_loss': 0.1482928791978898}\n",
      "----------------\n",
      "{0: {'precision': 0.25, 'recall': 0.18181818181818182, 'f1-score': 0.2105263157894737, 'support': 11}, 1: {'precision': 0.9777227722772277, 'recall': 0.9850374064837906, 'f1-score': 0.9813664596273293, 'support': 401}, 'accuracy': 0.9635922330097088, 'macro avg': {'precision': 0.6138613861386139, 'recall': 0.5834277941509862, 'f1-score': 0.5959463877084015, 'support': 412}, 'weighted avg': {'precision': 0.958293280784389, 'recall': 0.9635922330097088, 'f1-score': 0.9607857761753478, 'support': 412}}\n",
      "DICT: {'0 precision': 0.25, '0 recall': 0.18181818181818182, '0 f1-score': 0.2105263157894737, '0 support': 11, '1 precision': 0.9777227722772277, '1 recall': 0.9850374064837906, '1 f1-score': 0.9813664596273293, '1 support': 401, 'accuracy accuracy': 0.9635922330097088, 'macro avg precision': 0.6138613861386139, 'macro avg recall': 0.5834277941509862, 'macro avg f1-score': 0.5959463877084015, 'macro avg support': 412, 'weighted avg precision': 0.958293280784389, 'weighted avg recall': 0.9635922330097088, 'weighted avg f1-score': 0.9607857761753478, 'weighted avg support': 412}\n",
      "Training Model Now\n",
      "                                                   text  labels\n",
      "0      saying that securing the Schengen areas outer...       1\n",
      "1      Idomeni Polizei setzte erneut Tränengas gegen...       1\n",
      "2      oder wegen dieser Befürchtungen nicht in Ansp...       1\n",
      "3     ..hatte die Schwedin als Assistentin eingestel...       1\n",
      "4     Aggressive Kriminelle attackieren und beschädi...       1\n",
      "...                                                 ...     ...\n",
      "1232  Über einen pauschalen Antisemitismusvorfwürf w...       1\n",
      "1233  Überlasst die Bewertungen der Postings doch de...       1\n",
      "1234  ähm verhältnissmäigkeit ???? die opfer vom deu...       1\n",
      "1235  österreich ist doch ein teil des westens. wüss...       1\n",
      "1236  hoffentlich bekommt er bald Arbeitslosengeld  ...       1\n",
      "\n",
      "[1237 rows x 2 columns]\n"
     ]
    },
    {
     "name": "stderr",
     "output_type": "stream",
     "text": [
      "Some weights of BertForSequenceClassification were not initialized from the model checkpoint at nlptown/bert-base-multilingual-uncased-sentiment and are newly initialized because the shapes did not match:\n",
      "- classifier.weight: found shape torch.Size([5, 768]) in the checkpoint and torch.Size([2, 768]) in the model instantiated\n",
      "- classifier.bias: found shape torch.Size([5]) in the checkpoint and torch.Size([2]) in the model instantiated\n",
      "You should probably TRAIN this model on a down-stream task to be able to use it for predictions and inference.\n"
     ]
    },
    {
     "data": {
      "application/vnd.jupyter.widget-view+json": {
       "model_id": "c597796b1030463daa550e08e6f9bd3f",
       "version_major": 2,
       "version_minor": 0
      },
      "text/plain": [
       "Epoch:   0%|          | 0/4 [00:00<?, ?it/s]"
      ]
     },
     "metadata": {},
     "output_type": "display_data"
    },
    {
     "data": {
      "application/vnd.jupyter.widget-view+json": {
       "model_id": "3e5d812a6284491d862bca9605ef6444",
       "version_major": 2,
       "version_minor": 0
      },
      "text/plain": [
       "Running Epoch 0 of 4:   0%|          | 0/39 [00:00<?, ?it/s]"
      ]
     },
     "metadata": {},
     "output_type": "display_data"
    },
    {
     "data": {
      "application/vnd.jupyter.widget-view+json": {
       "model_id": "e2524935a1534f25b2c3bb61712f42ff",
       "version_major": 2,
       "version_minor": 0
      },
      "text/plain": [
       "Running Epoch 1 of 4:   0%|          | 0/39 [00:00<?, ?it/s]"
      ]
     },
     "metadata": {},
     "output_type": "display_data"
    },
    {
     "data": {
      "application/vnd.jupyter.widget-view+json": {
       "model_id": "234f5a6c648443d189532751b86928da",
       "version_major": 2,
       "version_minor": 0
      },
      "text/plain": [
       "Running Epoch 2 of 4:   0%|          | 0/39 [00:00<?, ?it/s]"
      ]
     },
     "metadata": {},
     "output_type": "display_data"
    },
    {
     "data": {
      "application/vnd.jupyter.widget-view+json": {
       "model_id": "f6c6dcadf54e4864bb17971e70e6d354",
       "version_major": 2,
       "version_minor": 0
      },
      "text/plain": [
       "Running Epoch 3 of 4:   0%|          | 0/39 [00:00<?, ?it/s]"
      ]
     },
     "metadata": {},
     "output_type": "display_data"
    },
    {
     "name": "stdout",
     "output_type": "stream",
     "text": [
      "-------------------------\n"
     ]
    },
    {
     "data": {
      "application/vnd.jupyter.widget-view+json": {
       "model_id": "b66a2258196a4a51b12fd9eb3aa0650e",
       "version_major": 2,
       "version_minor": 0
      },
      "text/plain": [
       "Running Evaluation:   0%|          | 0/13 [00:00<?, ?it/s]"
      ]
     },
     "metadata": {},
     "output_type": "display_data"
    },
    {
     "name": "stdout",
     "output_type": "stream",
     "text": [
      "{'mcc': 0.32774673613252153, 'tp': 397, 'tn': 3, 'fp': 8, 'fn': 4, 'auroc': 0.8102471094989798, 'auprc': 0.9926837147155086, 'acc': 0.970873786407767, 'precision': array([1, 1, 1, 1, 1, 1, 1, 1, 1, 1, 1, 1, 1, 1, 1, 1, 1, 1, 0, 1, 1, 1,\n",
      "       1, 0, 1, 1, 1, 1, 1, 1, 1, 1, 1, 1, 1, 1, 1, 1, 1, 1, 1, 1, 1, 1,\n",
      "       1, 1, 1, 1, 1, 1, 1, 1, 1, 1, 1, 1, 1, 1, 1, 1, 1, 1, 1, 1, 1, 1,\n",
      "       1, 1, 1, 1, 1, 1, 1, 1, 1, 1, 1, 1, 1, 1, 1, 1, 1, 1, 1, 1, 1, 1,\n",
      "       1, 1, 1, 1, 1, 1, 1, 1, 1, 1, 1, 1, 1, 1, 1, 1, 1, 1, 1, 1, 1, 1,\n",
      "       1, 1, 1, 1, 1, 1, 1, 1, 1, 1, 1, 1, 1, 1, 1, 1, 1, 1, 1, 1, 1, 1,\n",
      "       1, 1, 1, 1, 1, 1, 1, 1, 1, 1, 1, 1, 1, 1, 1, 1, 1, 1, 1, 1, 1, 1,\n",
      "       1, 1, 1, 1, 1, 1, 1, 1, 1, 1, 1, 1, 1, 1, 1, 1, 1, 1, 1, 1, 1, 1,\n",
      "       1, 1, 1, 1, 1, 1, 1, 1, 1, 1, 1, 1, 1, 1, 1, 1, 1, 1, 1, 1, 1, 1,\n",
      "       1, 1, 1, 1, 1, 1, 1, 1, 1, 1, 1, 1, 1, 1, 1, 1, 1, 1, 1, 1, 1, 1,\n",
      "       1, 1, 1, 1, 1, 1, 1, 1, 1, 1, 1, 1, 1, 1, 1, 1, 1, 1, 1, 1, 1, 1,\n",
      "       1, 1, 1, 1, 1, 1, 1, 1, 1, 1, 1, 1, 1, 1, 1, 1, 1, 1, 1, 1, 1, 1,\n",
      "       1, 1, 1, 1, 1, 1, 1, 1, 1, 1, 1, 1, 1, 1, 1, 1, 1, 1, 1, 1, 1, 1,\n",
      "       1, 1, 1, 1, 1, 1, 1, 1, 1, 1, 1, 1, 1, 1, 1, 0, 0, 1, 1, 0, 1, 1,\n",
      "       1, 1, 1, 1, 1, 1, 1, 1, 1, 1, 1, 1, 1, 1, 1, 1, 1, 1, 1, 1, 1, 1,\n",
      "       1, 1, 1, 0, 1, 1, 1, 1, 0, 1, 1, 1, 1, 1, 1, 1, 1, 1, 1, 1, 1, 1,\n",
      "       1, 1, 1, 1, 1, 1, 1, 1, 1, 1, 1, 1, 1, 1, 1, 1, 1, 1, 1, 1, 1, 1,\n",
      "       1, 1, 1, 1, 1, 1, 1, 1, 1, 1, 1, 1, 1, 1, 1, 1, 1, 1, 1, 1, 1, 1,\n",
      "       1, 1, 1, 1, 1, 1, 1, 1, 1, 1, 1, 1, 1, 1, 1, 1]), 'eval_loss': 0.12020314244840008}\n",
      "----------------\n",
      "{0: {'precision': 0.42857142857142855, 'recall': 0.2727272727272727, 'f1-score': 0.33333333333333326, 'support': 11}, 1: {'precision': 0.980246913580247, 'recall': 0.9900249376558603, 'f1-score': 0.9851116625310173, 'support': 401}, 'accuracy': 0.970873786407767, 'macro avg': {'precision': 0.7044091710758378, 'recall': 0.6313761051915665, 'f1-score': 0.6592224979321752, 'support': 412}, 'weighted avg': {'precision': 0.9655177137377785, 'recall': 0.970873786407767, 'f1-score': 0.9677098139359337, 'support': 412}}\n",
      "DICT: {'0 precision': 0.42857142857142855, '0 recall': 0.2727272727272727, '0 f1-score': 0.33333333333333326, '0 support': 11, '1 precision': 0.980246913580247, '1 recall': 0.9900249376558603, '1 f1-score': 0.9851116625310173, '1 support': 401, 'accuracy accuracy': 0.970873786407767, 'macro avg precision': 0.7044091710758378, 'macro avg recall': 0.6313761051915665, 'macro avg f1-score': 0.6592224979321752, 'macro avg support': 412, 'weighted avg precision': 0.9655177137377785, 'weighted avg recall': 0.970873786407767, 'weighted avg f1-score': 0.9677098139359337, 'weighted avg support': 412}\n",
      "Finish\n",
      "Start for corpora:  ../../../Corpora/Preprocessed_Transformers_Less_Preprocessing/Binary/RE01_usage_Preprocessed_binary_Transformer.tsv\n",
      "Training Model Now\n",
      "                                                  text  labels\n",
      "0    Der Mülleimer war wirklich sehr einfach unter ...       0\n",
      "1    Dieses Modell hat bei uns den Vorgänger aus gl...       0\n",
      "2    Für den Preis ist das Produkt völlig ok. Ich h...       0\n",
      "3    Einfach praktisch, laufruhig passt ganz genau....       0\n",
      "4    Habe den Mülleimer jetzt schon ewig und er wir...       0\n",
      "..                                                 ...     ...\n",
      "412  Die Kaffeemaschine wurde ohne Schäden und in O...       0\n",
      "413  Dies war ein Muttertagsgeschenk an meine Mutte...       0\n",
      "414  Als Ich auf meinem Arbeitsplatz, diese Kaffeem...       0\n",
      "415  supper schnell mit tolle OR.verpackung und die...       0\n",
      "416  Die Farbe des Toasters ist wie auf dem Bild ab...       0\n",
      "\n",
      "[417 rows x 2 columns]\n"
     ]
    },
    {
     "name": "stderr",
     "output_type": "stream",
     "text": [
      "Some weights of BertForSequenceClassification were not initialized from the model checkpoint at nlptown/bert-base-multilingual-uncased-sentiment and are newly initialized because the shapes did not match:\n",
      "- classifier.weight: found shape torch.Size([5, 768]) in the checkpoint and torch.Size([2, 768]) in the model instantiated\n",
      "- classifier.bias: found shape torch.Size([5]) in the checkpoint and torch.Size([2]) in the model instantiated\n",
      "You should probably TRAIN this model on a down-stream task to be able to use it for predictions and inference.\n"
     ]
    },
    {
     "data": {
      "application/vnd.jupyter.widget-view+json": {
       "model_id": "ec244bc3004541bb8bc2e6727a5f7041",
       "version_major": 2,
       "version_minor": 0
      },
      "text/plain": [
       "Epoch:   0%|          | 0/4 [00:00<?, ?it/s]"
      ]
     },
     "metadata": {},
     "output_type": "display_data"
    },
    {
     "data": {
      "application/vnd.jupyter.widget-view+json": {
       "model_id": "b474350a9d004743ac86d01666ca9e36",
       "version_major": 2,
       "version_minor": 0
      },
      "text/plain": [
       "Running Epoch 0 of 4:   0%|          | 0/14 [00:00<?, ?it/s]"
      ]
     },
     "metadata": {},
     "output_type": "display_data"
    },
    {
     "data": {
      "application/vnd.jupyter.widget-view+json": {
       "model_id": "18db5253aa59456b9241cb44b8f020cf",
       "version_major": 2,
       "version_minor": 0
      },
      "text/plain": [
       "Running Epoch 1 of 4:   0%|          | 0/14 [00:00<?, ?it/s]"
      ]
     },
     "metadata": {},
     "output_type": "display_data"
    },
    {
     "data": {
      "application/vnd.jupyter.widget-view+json": {
       "model_id": "e334b0ddf0b84dc89c740b8778e30e25",
       "version_major": 2,
       "version_minor": 0
      },
      "text/plain": [
       "Running Epoch 2 of 4:   0%|          | 0/14 [00:00<?, ?it/s]"
      ]
     },
     "metadata": {},
     "output_type": "display_data"
    },
    {
     "data": {
      "application/vnd.jupyter.widget-view+json": {
       "model_id": "015b22e65233473886cf79feae3032cb",
       "version_major": 2,
       "version_minor": 0
      },
      "text/plain": [
       "Running Epoch 3 of 4:   0%|          | 0/14 [00:00<?, ?it/s]"
      ]
     },
     "metadata": {},
     "output_type": "display_data"
    },
    {
     "name": "stdout",
     "output_type": "stream",
     "text": [
      "-------------------------\n"
     ]
    },
    {
     "data": {
      "application/vnd.jupyter.widget-view+json": {
       "model_id": "895787c57eab412b9ad8f98470426b90",
       "version_major": 2,
       "version_minor": 0
      },
      "text/plain": [
       "Running Evaluation:   0%|          | 0/5 [00:00<?, ?it/s]"
      ]
     },
     "metadata": {},
     "output_type": "display_data"
    },
    {
     "name": "stdout",
     "output_type": "stream",
     "text": [
      "{'mcc': 0.6443868596565185, 'tp': 10, 'tn': 119, 'fp': 8, 'fn': 2, 'auroc': 0.9304461942257218, 'auprc': 0.7562256847183318, 'acc': 0.9280575539568345, 'precision': array([0, 0, 0, 0, 0, 0, 0, 1, 0, 0, 0, 1, 0, 0, 0, 1, 0, 0, 1, 0, 0, 0,\n",
      "       0, 0, 0, 0, 0, 0, 0, 0, 0, 0, 0, 0, 0, 0, 0, 0, 0, 0, 0, 0, 0, 1,\n",
      "       0, 1, 0, 0, 0, 0, 0, 0, 1, 0, 0, 0, 0, 0, 0, 0, 0, 1, 1, 0, 0, 0,\n",
      "       1, 0, 0, 0, 0, 0, 0, 0, 0, 1, 0, 0, 0, 0, 0, 0, 0, 0, 0, 0, 0, 0,\n",
      "       0, 1, 0, 0, 0, 0, 0, 1, 0, 0, 0, 0, 0, 0, 0, 1, 0, 0, 1, 0, 0, 0,\n",
      "       0, 0, 0, 0, 0, 0, 0, 0, 0, 0, 0, 0, 0, 0, 0, 1, 0, 1, 0, 0, 0, 0,\n",
      "       0, 0, 1, 0, 0, 0, 0]), 'eval_loss': 0.21280408501625062}\n",
      "----------------\n",
      "{0: {'precision': 0.9834710743801653, 'recall': 0.937007874015748, 'f1-score': 0.9596774193548386, 'support': 127}, 1: {'precision': 0.5555555555555556, 'recall': 0.8333333333333334, 'f1-score': 0.6666666666666667, 'support': 12}, 'accuracy': 0.9280575539568345, 'macro avg': {'precision': 0.7695133149678605, 'recall': 0.8851706036745407, 'f1-score': 0.8131720430107527, 'support': 139}, 'weighted avg': {'precision': 0.9465287274312781, 'recall': 0.9280575539568345, 'f1-score': 0.9343815270364353, 'support': 139}}\n",
      "DICT: {'0 precision': 0.9834710743801653, '0 recall': 0.937007874015748, '0 f1-score': 0.9596774193548386, '0 support': 127, '1 precision': 0.5555555555555556, '1 recall': 0.8333333333333334, '1 f1-score': 0.6666666666666667, '1 support': 12, 'accuracy accuracy': 0.9280575539568345, 'macro avg precision': 0.7695133149678605, 'macro avg recall': 0.8851706036745407, 'macro avg f1-score': 0.8131720430107527, 'macro avg support': 139, 'weighted avg precision': 0.9465287274312781, 'weighted avg recall': 0.9280575539568345, 'weighted avg f1-score': 0.9343815270364353, 'weighted avg support': 139}\n",
      "Training Model Now\n",
      "                                                  text  labels\n",
      "0    Der Mülleimer war wirklich sehr einfach unter ...       0\n",
      "1    Für den Preis ist das Produkt völlig ok. Ich h...       0\n",
      "2    Habe den Mülleimer jetzt schon ewig und er wir...       0\n",
      "3    Das Produkt ist praktisch, stabil gebaut und i...       0\n",
      "4    ist schon gro und trotzdem platzsparend und da...       0\n",
      "..                                                 ...     ...\n",
      "412  Als Ich auf meinem Arbeitsplatz, diese Kaffeem...       0\n",
      "413  Die Kaffeemaschine sieht nicht nur toll aus, s...       0\n",
      "414  Nachdem man den Toaster ausgepackt hat fällt e...       0\n",
      "415  supper schnell mit tolle OR.verpackung und die...       0\n",
      "416  Der Toaster ist super, sieht gut aus, es klapp...       0\n",
      "\n",
      "[417 rows x 2 columns]\n"
     ]
    },
    {
     "name": "stderr",
     "output_type": "stream",
     "text": [
      "Some weights of BertForSequenceClassification were not initialized from the model checkpoint at nlptown/bert-base-multilingual-uncased-sentiment and are newly initialized because the shapes did not match:\n",
      "- classifier.weight: found shape torch.Size([5, 768]) in the checkpoint and torch.Size([2, 768]) in the model instantiated\n",
      "- classifier.bias: found shape torch.Size([5]) in the checkpoint and torch.Size([2]) in the model instantiated\n",
      "You should probably TRAIN this model on a down-stream task to be able to use it for predictions and inference.\n"
     ]
    },
    {
     "data": {
      "application/vnd.jupyter.widget-view+json": {
       "model_id": "18d2cb67cbb84824b16de61778acd311",
       "version_major": 2,
       "version_minor": 0
      },
      "text/plain": [
       "Epoch:   0%|          | 0/4 [00:00<?, ?it/s]"
      ]
     },
     "metadata": {},
     "output_type": "display_data"
    },
    {
     "data": {
      "application/vnd.jupyter.widget-view+json": {
       "model_id": "85a27a7f43bc4e3bbc48453248a4af64",
       "version_major": 2,
       "version_minor": 0
      },
      "text/plain": [
       "Running Epoch 0 of 4:   0%|          | 0/14 [00:00<?, ?it/s]"
      ]
     },
     "metadata": {},
     "output_type": "display_data"
    },
    {
     "data": {
      "application/vnd.jupyter.widget-view+json": {
       "model_id": "4623e52f07604e16be6fdc45a04407ec",
       "version_major": 2,
       "version_minor": 0
      },
      "text/plain": [
       "Running Epoch 1 of 4:   0%|          | 0/14 [00:00<?, ?it/s]"
      ]
     },
     "metadata": {},
     "output_type": "display_data"
    },
    {
     "data": {
      "application/vnd.jupyter.widget-view+json": {
       "model_id": "70dd69058fd2452bba0688900389c04d",
       "version_major": 2,
       "version_minor": 0
      },
      "text/plain": [
       "Running Epoch 2 of 4:   0%|          | 0/14 [00:00<?, ?it/s]"
      ]
     },
     "metadata": {},
     "output_type": "display_data"
    },
    {
     "data": {
      "application/vnd.jupyter.widget-view+json": {
       "model_id": "7dc0983706b64d71be072c283ddb2d95",
       "version_major": 2,
       "version_minor": 0
      },
      "text/plain": [
       "Running Epoch 3 of 4:   0%|          | 0/14 [00:00<?, ?it/s]"
      ]
     },
     "metadata": {},
     "output_type": "display_data"
    },
    {
     "name": "stdout",
     "output_type": "stream",
     "text": [
      "-------------------------\n"
     ]
    },
    {
     "data": {
      "application/vnd.jupyter.widget-view+json": {
       "model_id": "3b7058b04e7e48ba8667f0522dfd1076",
       "version_major": 2,
       "version_minor": 0
      },
      "text/plain": [
       "Running Evaluation:   0%|          | 0/5 [00:00<?, ?it/s]"
      ]
     },
     "metadata": {},
     "output_type": "display_data"
    },
    {
     "name": "stdout",
     "output_type": "stream",
     "text": [
      "{'mcc': 0.5741193505383793, 'tp': 7, 'tn': 123, 'fp': 4, 'fn': 5, 'auroc': 0.9225721784776904, 'auprc': 0.694657296383639, 'acc': 0.935251798561151, 'precision': array([0, 0, 0, 0, 0, 0, 0, 0, 0, 0, 0, 0, 0, 0, 0, 0, 0, 0, 0, 0, 0, 0,\n",
      "       0, 0, 0, 1, 0, 0, 0, 0, 0, 0, 0, 0, 0, 0, 0, 0, 0, 0, 0, 0, 0, 0,\n",
      "       0, 0, 0, 0, 0, 0, 0, 0, 0, 0, 0, 0, 0, 0, 1, 0, 0, 1, 0, 1, 0, 1,\n",
      "       0, 1, 0, 0, 0, 0, 0, 0, 0, 0, 0, 0, 0, 0, 0, 0, 0, 0, 0, 0, 0, 0,\n",
      "       1, 1, 0, 0, 0, 0, 0, 0, 0, 0, 0, 0, 0, 0, 0, 0, 0, 0, 0, 0, 0, 0,\n",
      "       0, 0, 0, 0, 0, 0, 0, 0, 0, 0, 0, 0, 0, 0, 0, 0, 0, 0, 1, 0, 1, 0,\n",
      "       0, 0, 0, 1, 0, 0, 0]), 'eval_loss': 0.1937940653413534}\n",
      "----------------\n",
      "{0: {'precision': 0.9609375, 'recall': 0.968503937007874, 'f1-score': 0.9647058823529412, 'support': 127}, 1: {'precision': 0.6363636363636364, 'recall': 0.5833333333333334, 'f1-score': 0.6086956521739131, 'support': 12}, 'accuracy': 0.935251798561151, 'macro avg': {'precision': 0.7986505681818181, 'recall': 0.7759186351706037, 'f1-score': 0.7867007672634272, 'support': 139}, 'weighted avg': {'precision': 0.932916734793983, 'recall': 0.935251798561151, 'f1-score': 0.9339711862223775, 'support': 139}}\n",
      "DICT: {'0 precision': 0.9609375, '0 recall': 0.968503937007874, '0 f1-score': 0.9647058823529412, '0 support': 127, '1 precision': 0.6363636363636364, '1 recall': 0.5833333333333334, '1 f1-score': 0.6086956521739131, '1 support': 12, 'accuracy accuracy': 0.935251798561151, 'macro avg precision': 0.7986505681818181, 'macro avg recall': 0.7759186351706037, 'macro avg f1-score': 0.7867007672634272, 'macro avg support': 139, 'weighted avg precision': 0.932916734793983, 'weighted avg recall': 0.935251798561151, 'weighted avg f1-score': 0.9339711862223775, 'weighted avg support': 139}\n",
      "Training Model Now\n",
      "                                                  text  labels\n",
      "0    Der Mülleimer war wirklich sehr einfach unter ...       0\n",
      "1    Dieses Modell hat bei uns den Vorgänger aus gl...       0\n",
      "2    Einfach praktisch, laufruhig passt ganz genau....       0\n",
      "3    Habe den Mülleimer jetzt schon ewig und er wir...       0\n",
      "4    Die Lieferung war schnell. Der Preis ist absol...       0\n",
      "..                                                 ...     ...\n",
      "412  Die Kaffeemaschine sieht nicht nur toll aus, s...       0\n",
      "413  Nachdem man den Toaster ausgepackt hat fällt e...       0\n",
      "414  supper schnell mit tolle OR.verpackung und die...       0\n",
      "415  Der Toaster ist super, sieht gut aus, es klapp...       0\n",
      "416  Die Farbe des Toasters ist wie auf dem Bild ab...       0\n",
      "\n",
      "[417 rows x 2 columns]\n"
     ]
    },
    {
     "name": "stderr",
     "output_type": "stream",
     "text": [
      "Some weights of BertForSequenceClassification were not initialized from the model checkpoint at nlptown/bert-base-multilingual-uncased-sentiment and are newly initialized because the shapes did not match:\n",
      "- classifier.weight: found shape torch.Size([5, 768]) in the checkpoint and torch.Size([2, 768]) in the model instantiated\n",
      "- classifier.bias: found shape torch.Size([5]) in the checkpoint and torch.Size([2]) in the model instantiated\n",
      "You should probably TRAIN this model on a down-stream task to be able to use it for predictions and inference.\n"
     ]
    },
    {
     "data": {
      "application/vnd.jupyter.widget-view+json": {
       "model_id": "268311d916024430a43484dc7caad8ee",
       "version_major": 2,
       "version_minor": 0
      },
      "text/plain": [
       "Epoch:   0%|          | 0/4 [00:00<?, ?it/s]"
      ]
     },
     "metadata": {},
     "output_type": "display_data"
    },
    {
     "data": {
      "application/vnd.jupyter.widget-view+json": {
       "model_id": "8f6720e374754016b2c9644975a6db82",
       "version_major": 2,
       "version_minor": 0
      },
      "text/plain": [
       "Running Epoch 0 of 4:   0%|          | 0/14 [00:00<?, ?it/s]"
      ]
     },
     "metadata": {},
     "output_type": "display_data"
    },
    {
     "data": {
      "application/vnd.jupyter.widget-view+json": {
       "model_id": "de8bf43733b94789ad8b578b2da33a02",
       "version_major": 2,
       "version_minor": 0
      },
      "text/plain": [
       "Running Epoch 1 of 4:   0%|          | 0/14 [00:00<?, ?it/s]"
      ]
     },
     "metadata": {},
     "output_type": "display_data"
    },
    {
     "data": {
      "application/vnd.jupyter.widget-view+json": {
       "model_id": "85341adf05f543a4943dab89edb6f42d",
       "version_major": 2,
       "version_minor": 0
      },
      "text/plain": [
       "Running Epoch 2 of 4:   0%|          | 0/14 [00:00<?, ?it/s]"
      ]
     },
     "metadata": {},
     "output_type": "display_data"
    },
    {
     "data": {
      "application/vnd.jupyter.widget-view+json": {
       "model_id": "61dd2ca1f493472aa5c19b756cff8b27",
       "version_major": 2,
       "version_minor": 0
      },
      "text/plain": [
       "Running Epoch 3 of 4:   0%|          | 0/14 [00:00<?, ?it/s]"
      ]
     },
     "metadata": {},
     "output_type": "display_data"
    },
    {
     "name": "stdout",
     "output_type": "stream",
     "text": [
      "-------------------------\n"
     ]
    },
    {
     "data": {
      "application/vnd.jupyter.widget-view+json": {
       "model_id": "7a168c6f457d40ceb611956b9382d52c",
       "version_major": 2,
       "version_minor": 0
      },
      "text/plain": [
       "Running Evaluation:   0%|          | 0/5 [00:00<?, ?it/s]"
      ]
     },
     "metadata": {},
     "output_type": "display_data"
    },
    {
     "name": "stdout",
     "output_type": "stream",
     "text": [
      "{'mcc': 0.78102642423711, 'tp': 10, 'tn': 124, 'fp': 2, 'fn': 3, 'auroc': 0.94993894993895, 'auprc': 0.8829131652661062, 'acc': 0.9640287769784173, 'precision': array([0, 0, 0, 0, 0, 0, 0, 0, 0, 1, 0, 0, 0, 1, 0, 1, 0, 0, 0, 0, 0, 0,\n",
      "       0, 0, 0, 0, 0, 0, 1, 0, 0, 0, 0, 1, 0, 1, 0, 0, 0, 0, 0, 1, 0, 0,\n",
      "       0, 0, 0, 0, 0, 0, 0, 0, 0, 0, 0, 0, 0, 0, 0, 0, 1, 0, 1, 0, 0, 1,\n",
      "       0, 0, 0, 0, 0, 0, 0, 0, 0, 0, 0, 0, 0, 0, 0, 0, 0, 0, 0, 0, 0, 0,\n",
      "       0, 0, 0, 0, 0, 0, 0, 0, 0, 0, 0, 0, 0, 0, 0, 0, 0, 0, 0, 0, 0, 0,\n",
      "       0, 0, 0, 0, 0, 0, 0, 0, 0, 0, 0, 0, 0, 0, 1, 0, 1, 0, 0, 0, 0, 0,\n",
      "       0, 0, 0, 0, 0, 0, 0]), 'eval_loss': 0.1328202772885561}\n",
      "----------------\n",
      "{0: {'precision': 0.9763779527559056, 'recall': 0.9841269841269841, 'f1-score': 0.9802371541501976, 'support': 126}, 1: {'precision': 0.8333333333333334, 'recall': 0.7692307692307693, 'f1-score': 0.8, 'support': 13}, 'accuracy': 0.9640287769784173, 'macro avg': {'precision': 0.9048556430446195, 'recall': 0.8766788766788767, 'f1-score': 0.8901185770750988, 'support': 139}, 'weighted avg': {'precision': 0.9629996789969599, 'recall': 0.9640287769784173, 'f1-score': 0.9633804418915461, 'support': 139}}\n",
      "DICT: {'0 precision': 0.9763779527559056, '0 recall': 0.9841269841269841, '0 f1-score': 0.9802371541501976, '0 support': 126, '1 precision': 0.8333333333333334, '1 recall': 0.7692307692307693, '1 f1-score': 0.8, '1 support': 13, 'accuracy accuracy': 0.9640287769784173, 'macro avg precision': 0.9048556430446195, 'macro avg recall': 0.8766788766788767, 'macro avg f1-score': 0.8901185770750988, 'macro avg support': 139, 'weighted avg precision': 0.9629996789969599, 'weighted avg recall': 0.9640287769784173, 'weighted avg f1-score': 0.9633804418915461, 'weighted avg support': 139}\n",
      "Training Model Now\n",
      "                                                  text  labels\n",
      "0    Dieses Modell hat bei uns den Vorgänger aus gl...       0\n",
      "1    Für den Preis ist das Produkt völlig ok. Ich h...       0\n",
      "2    Einfach praktisch, laufruhig passt ganz genau....       0\n",
      "3    Die Lieferung war schnell. Der Preis ist absol...       0\n",
      "4    Habe mir diesen Luxus Eimer aus 2 Gründen geka...       0\n",
      "..                                                 ...     ...\n",
      "412  Als Ich auf meinem Arbeitsplatz, diese Kaffeem...       0\n",
      "413  Die Kaffeemaschine sieht nicht nur toll aus, s...       0\n",
      "414  Nachdem man den Toaster ausgepackt hat fällt e...       0\n",
      "415  Der Toaster ist super, sieht gut aus, es klapp...       0\n",
      "416  Die Farbe des Toasters ist wie auf dem Bild ab...       0\n",
      "\n",
      "[417 rows x 2 columns]\n"
     ]
    },
    {
     "name": "stderr",
     "output_type": "stream",
     "text": [
      "Some weights of BertForSequenceClassification were not initialized from the model checkpoint at nlptown/bert-base-multilingual-uncased-sentiment and are newly initialized because the shapes did not match:\n",
      "- classifier.weight: found shape torch.Size([5, 768]) in the checkpoint and torch.Size([2, 768]) in the model instantiated\n",
      "- classifier.bias: found shape torch.Size([5]) in the checkpoint and torch.Size([2]) in the model instantiated\n",
      "You should probably TRAIN this model on a down-stream task to be able to use it for predictions and inference.\n"
     ]
    },
    {
     "data": {
      "application/vnd.jupyter.widget-view+json": {
       "model_id": "6919735ab25741419c7a315d14d5040a",
       "version_major": 2,
       "version_minor": 0
      },
      "text/plain": [
       "Epoch:   0%|          | 0/4 [00:00<?, ?it/s]"
      ]
     },
     "metadata": {},
     "output_type": "display_data"
    },
    {
     "data": {
      "application/vnd.jupyter.widget-view+json": {
       "model_id": "36c22e2c631a41e9b8cf99416d57dd5b",
       "version_major": 2,
       "version_minor": 0
      },
      "text/plain": [
       "Running Epoch 0 of 4:   0%|          | 0/14 [00:00<?, ?it/s]"
      ]
     },
     "metadata": {},
     "output_type": "display_data"
    },
    {
     "data": {
      "application/vnd.jupyter.widget-view+json": {
       "model_id": "e81cfe2f239c4d5096babd83a8359ecc",
       "version_major": 2,
       "version_minor": 0
      },
      "text/plain": [
       "Running Epoch 1 of 4:   0%|          | 0/14 [00:00<?, ?it/s]"
      ]
     },
     "metadata": {},
     "output_type": "display_data"
    },
    {
     "data": {
      "application/vnd.jupyter.widget-view+json": {
       "model_id": "c115dbbed1fd43108402fc5d884b1097",
       "version_major": 2,
       "version_minor": 0
      },
      "text/plain": [
       "Running Epoch 2 of 4:   0%|          | 0/14 [00:00<?, ?it/s]"
      ]
     },
     "metadata": {},
     "output_type": "display_data"
    },
    {
     "data": {
      "application/vnd.jupyter.widget-view+json": {
       "model_id": "c3f8fd1d882d4f3fa9bc96503222fff1",
       "version_major": 2,
       "version_minor": 0
      },
      "text/plain": [
       "Running Epoch 3 of 4:   0%|          | 0/14 [00:00<?, ?it/s]"
      ]
     },
     "metadata": {},
     "output_type": "display_data"
    },
    {
     "name": "stdout",
     "output_type": "stream",
     "text": [
      "-------------------------\n"
     ]
    },
    {
     "data": {
      "application/vnd.jupyter.widget-view+json": {
       "model_id": "ecb8e95c1f6b4ee7afbaecb49f621423",
       "version_major": 2,
       "version_minor": 0
      },
      "text/plain": [
       "Running Evaluation:   0%|          | 0/5 [00:00<?, ?it/s]"
      ]
     },
     "metadata": {},
     "output_type": "display_data"
    },
    {
     "name": "stdout",
     "output_type": "stream",
     "text": [
      "{'mcc': 0.6039428991728533, 'tp': 6, 'tn': 125, 'fp': 1, 'fn': 7, 'auroc': 0.9603174603174602, 'auprc': 0.7584611969227353, 'acc': 0.9424460431654677, 'precision': array([0, 0, 0, 0, 0, 0, 0, 0, 1, 0, 0, 0, 0, 0, 0, 0, 0, 0, 0, 0, 0, 0,\n",
      "       0, 0, 0, 0, 0, 0, 0, 0, 0, 0, 0, 0, 0, 0, 0, 0, 0, 0, 0, 0, 0, 0,\n",
      "       1, 0, 0, 1, 0, 0, 0, 0, 0, 0, 0, 0, 0, 0, 0, 0, 1, 0, 0, 0, 0, 0,\n",
      "       0, 0, 0, 0, 0, 0, 0, 0, 0, 0, 0, 0, 0, 0, 0, 0, 0, 0, 0, 0, 0, 0,\n",
      "       0, 0, 0, 0, 0, 1, 0, 0, 0, 0, 0, 1, 0, 0, 0, 0, 0, 0, 0, 0, 0, 0,\n",
      "       0, 0, 0, 0, 0, 1, 0, 0, 0, 0, 0, 0, 0, 0, 0, 0, 0, 0, 0, 0, 0, 0,\n",
      "       0, 0, 0, 0, 0, 0, 0]), 'eval_loss': 0.26949923634529116}\n",
      "----------------\n",
      "{0: {'precision': 0.946969696969697, 'recall': 0.9920634920634921, 'f1-score': 0.9689922480620156, 'support': 126}, 1: {'precision': 0.8571428571428571, 'recall': 0.46153846153846156, 'f1-score': 0.6, 'support': 13}, 'accuracy': 0.9424460431654677, 'macro avg': {'precision': 0.902056277056277, 'recall': 0.7268009768009769, 'f1-score': 0.7844961240310078, 'support': 139}, 'weighted avg': {'precision': 0.9385686256189855, 'recall': 0.9424460431654677, 'f1-score': 0.9344821816965034, 'support': 139}}\n",
      "DICT: {'0 precision': 0.946969696969697, '0 recall': 0.9920634920634921, '0 f1-score': 0.9689922480620156, '0 support': 126, '1 precision': 0.8571428571428571, '1 recall': 0.46153846153846156, '1 f1-score': 0.6, '1 support': 13, 'accuracy accuracy': 0.9424460431654677, 'macro avg precision': 0.902056277056277, 'macro avg recall': 0.7268009768009769, 'macro avg f1-score': 0.7844961240310078, 'macro avg support': 139, 'weighted avg precision': 0.9385686256189855, 'weighted avg recall': 0.9424460431654677, 'weighted avg f1-score': 0.9344821816965034, 'weighted avg support': 139}\n",
      "Finish\n",
      "Start for corpora:  ../../../Corpora/Preprocessed_Transformers_Less_Preprocessing/Binary/RE03_critics_Preprocessed_binary_Transformer.tsv\n",
      "Training Model Now\n",
      "                                                  text  labels\n",
      "0    Die letzten Stücke Anzengrubers, alle aus dem ...       1\n",
      "1    In dieser Erzählung passirt Rosegger, was auch...       1\n",
      "2    Doch immerhin bleibt das Bedauern übrig, da An...       1\n",
      "3     Auch mit der Einschleppung gewisser unschönen...       1\n",
      "4    Auerbach gehört nicht zu den Dichtern, welche ...       1\n",
      "..                                                 ...     ...\n",
      "751  So ein Stück Ibsen hineingestellt in die Welt ...       0\n",
      "752  So erscheint es uns nicht nur erklärlich, sond...       0\n",
      "753  Unaufhörlich, wie im täglichen Leben, kehren d...       0\n",
      "754  Was mich persönlich betrifft, so gestehe ich g...       0\n",
      "755  Wir verbleiben, auch in der Welt des Traumes, ...       0\n",
      "\n",
      "[756 rows x 2 columns]\n"
     ]
    },
    {
     "name": "stderr",
     "output_type": "stream",
     "text": [
      "Some weights of BertForSequenceClassification were not initialized from the model checkpoint at nlptown/bert-base-multilingual-uncased-sentiment and are newly initialized because the shapes did not match:\n",
      "- classifier.weight: found shape torch.Size([5, 768]) in the checkpoint and torch.Size([2, 768]) in the model instantiated\n",
      "- classifier.bias: found shape torch.Size([5]) in the checkpoint and torch.Size([2]) in the model instantiated\n",
      "You should probably TRAIN this model on a down-stream task to be able to use it for predictions and inference.\n"
     ]
    },
    {
     "data": {
      "application/vnd.jupyter.widget-view+json": {
       "model_id": "4eeacb43543140169c9713d387be433c",
       "version_major": 2,
       "version_minor": 0
      },
      "text/plain": [
       "Epoch:   0%|          | 0/4 [00:00<?, ?it/s]"
      ]
     },
     "metadata": {},
     "output_type": "display_data"
    },
    {
     "data": {
      "application/vnd.jupyter.widget-view+json": {
       "model_id": "ed13fbb823164608a62d853696dee75b",
       "version_major": 2,
       "version_minor": 0
      },
      "text/plain": [
       "Running Epoch 0 of 4:   0%|          | 0/24 [00:00<?, ?it/s]"
      ]
     },
     "metadata": {},
     "output_type": "display_data"
    },
    {
     "data": {
      "application/vnd.jupyter.widget-view+json": {
       "model_id": "ba7d5bf388684e049b0e6e9562646f01",
       "version_major": 2,
       "version_minor": 0
      },
      "text/plain": [
       "Running Epoch 1 of 4:   0%|          | 0/24 [00:00<?, ?it/s]"
      ]
     },
     "metadata": {},
     "output_type": "display_data"
    },
    {
     "data": {
      "application/vnd.jupyter.widget-view+json": {
       "model_id": "7790f748a583416fb241c1796aa23a35",
       "version_major": 2,
       "version_minor": 0
      },
      "text/plain": [
       "Running Epoch 2 of 4:   0%|          | 0/24 [00:00<?, ?it/s]"
      ]
     },
     "metadata": {},
     "output_type": "display_data"
    },
    {
     "data": {
      "application/vnd.jupyter.widget-view+json": {
       "model_id": "85f79763175345e89405e5476218c560",
       "version_major": 2,
       "version_minor": 0
      },
      "text/plain": [
       "Running Epoch 3 of 4:   0%|          | 0/24 [00:00<?, ?it/s]"
      ]
     },
     "metadata": {},
     "output_type": "display_data"
    },
    {
     "name": "stdout",
     "output_type": "stream",
     "text": [
      "-------------------------\n"
     ]
    },
    {
     "data": {
      "application/vnd.jupyter.widget-view+json": {
       "model_id": "2a4f63be1d3b43238d8dc25b4a1b9c48",
       "version_major": 2,
       "version_minor": 0
      },
      "text/plain": [
       "Running Evaluation:   0%|          | 0/8 [00:00<?, ?it/s]"
      ]
     },
     "metadata": {},
     "output_type": "display_data"
    },
    {
     "name": "stdout",
     "output_type": "stream",
     "text": [
      "{'mcc': 0.4432016895731352, 'tp': 36, 'tn': 162, 'fp': 17, 'fn': 37, 'auroc': 0.7825055483278488, 'auprc': 0.6416739288345412, 'acc': 0.7857142857142857, 'precision': array([0, 1, 0, 1, 0, 1, 1, 0, 0, 0, 0, 0, 0, 1, 1, 1, 0, 0, 0, 0, 0, 0,\n",
      "       0, 1, 1, 0, 1, 1, 1, 1, 1, 0, 1, 0, 0, 1, 0, 0, 1, 1, 1, 0, 1, 1,\n",
      "       0, 0, 0, 1, 0, 1, 1, 0, 0, 1, 0, 1, 1, 1, 0, 0, 1, 1, 1, 0, 1, 0,\n",
      "       0, 1, 1, 0, 0, 1, 1, 0, 0, 0, 0, 0, 1, 0, 0, 0, 0, 0, 0, 0, 0, 0,\n",
      "       0, 0, 0, 0, 0, 0, 0, 0, 0, 0, 0, 0, 0, 0, 0, 0, 0, 0, 0, 1, 0, 0,\n",
      "       0, 0, 0, 0, 0, 0, 0, 0, 1, 0, 0, 0, 0, 0, 0, 0, 0, 0, 0, 0, 1, 0,\n",
      "       0, 0, 0, 0, 0, 0, 0, 0, 1, 0, 0, 0, 0, 0, 0, 0, 0, 0, 0, 1, 0, 1,\n",
      "       0, 0, 0, 0, 0, 0, 0, 0, 0, 0, 0, 0, 0, 0, 0, 0, 0, 0, 1, 0, 0, 0,\n",
      "       1, 0, 0, 0, 0, 0, 0, 1, 0, 0, 0, 0, 0, 0, 0, 1, 0, 0, 0, 1, 0, 1,\n",
      "       0, 0, 1, 0, 0, 0, 0, 0, 0, 0, 0, 0, 0, 0, 0, 0, 0, 0, 1, 0, 0, 0,\n",
      "       0, 0, 0, 0, 0, 0, 0, 0, 0, 0, 0, 0, 0, 0, 0, 0, 0, 0, 1, 0, 0, 0,\n",
      "       0, 0, 0, 0, 0, 0, 0, 1, 0, 0]), 'eval_loss': 0.5655076801776886}\n",
      "----------------\n",
      "{0: {'precision': 0.8140703517587939, 'recall': 0.9050279329608939, 'f1-score': 0.8571428571428572, 'support': 179}, 1: {'precision': 0.6792452830188679, 'recall': 0.4931506849315068, 'f1-score': 0.5714285714285714, 'support': 73}, 'accuracy': 0.7857142857142857, 'macro avg': {'precision': 0.746657817388831, 'recall': 0.6990893089462004, 'f1-score': 0.7142857142857143, 'support': 252}, 'weighted avg': {'precision': 0.7750138834333392, 'recall': 0.7857142857142857, 'f1-score': 0.7743764172335602, 'support': 252}}\n",
      "DICT: {'0 precision': 0.8140703517587939, '0 recall': 0.9050279329608939, '0 f1-score': 0.8571428571428572, '0 support': 179, '1 precision': 0.6792452830188679, '1 recall': 0.4931506849315068, '1 f1-score': 0.5714285714285714, '1 support': 73, 'accuracy accuracy': 0.7857142857142857, 'macro avg precision': 0.746657817388831, 'macro avg recall': 0.6990893089462004, 'macro avg f1-score': 0.7142857142857143, 'macro avg support': 252, 'weighted avg precision': 0.7750138834333392, 'weighted avg recall': 0.7857142857142857, 'weighted avg f1-score': 0.7743764172335602, 'weighted avg support': 252}\n",
      "Training Model Now\n",
      "                                                  text  labels\n",
      "0    Bei alledem bleibt doch auch für Anzengruber w...       1\n",
      "1    Die letzten Stücke Anzengrubers, alle aus dem ...       1\n",
      "2    Doch immerhin bleibt das Bedauern übrig, da An...       1\n",
      "3     Auch mit der Einschleppung gewisser unschönen...       1\n",
      "4    Auch hiermit zerstört sich Auerbach nur die Fe...       1\n",
      "..                                                 ...     ...\n",
      "751  Wenn aber ein Kunstwerk im besten Sinne aus de...       0\n",
      "752  Wir verbleiben, auch in der Welt des Traumes, ...       0\n",
      "753  Zola schildert ein Geschlecht, das sich in sei...       0\n",
      "754  Zunächst wird Zola, sowohl was die künstlerisc...       0\n",
      "755  Das ist das Prinzip aller echten Poesie, das j...       0\n",
      "\n",
      "[756 rows x 2 columns]\n"
     ]
    },
    {
     "name": "stderr",
     "output_type": "stream",
     "text": [
      "Some weights of BertForSequenceClassification were not initialized from the model checkpoint at nlptown/bert-base-multilingual-uncased-sentiment and are newly initialized because the shapes did not match:\n",
      "- classifier.weight: found shape torch.Size([5, 768]) in the checkpoint and torch.Size([2, 768]) in the model instantiated\n",
      "- classifier.bias: found shape torch.Size([5]) in the checkpoint and torch.Size([2]) in the model instantiated\n",
      "You should probably TRAIN this model on a down-stream task to be able to use it for predictions and inference.\n"
     ]
    },
    {
     "data": {
      "application/vnd.jupyter.widget-view+json": {
       "model_id": "dcfcd1d380cb4f32b69ba5f3a436276f",
       "version_major": 2,
       "version_minor": 0
      },
      "text/plain": [
       "Epoch:   0%|          | 0/4 [00:00<?, ?it/s]"
      ]
     },
     "metadata": {},
     "output_type": "display_data"
    },
    {
     "data": {
      "application/vnd.jupyter.widget-view+json": {
       "model_id": "042b5378dfa64690a55177ad370e9ece",
       "version_major": 2,
       "version_minor": 0
      },
      "text/plain": [
       "Running Epoch 0 of 4:   0%|          | 0/24 [00:00<?, ?it/s]"
      ]
     },
     "metadata": {},
     "output_type": "display_data"
    },
    {
     "data": {
      "application/vnd.jupyter.widget-view+json": {
       "model_id": "589522c96961459ab268c5c12f4822b7",
       "version_major": 2,
       "version_minor": 0
      },
      "text/plain": [
       "Running Epoch 1 of 4:   0%|          | 0/24 [00:00<?, ?it/s]"
      ]
     },
     "metadata": {},
     "output_type": "display_data"
    },
    {
     "data": {
      "application/vnd.jupyter.widget-view+json": {
       "model_id": "a0c67c1af93a40749476220ad456b21c",
       "version_major": 2,
       "version_minor": 0
      },
      "text/plain": [
       "Running Epoch 2 of 4:   0%|          | 0/24 [00:00<?, ?it/s]"
      ]
     },
     "metadata": {},
     "output_type": "display_data"
    },
    {
     "data": {
      "application/vnd.jupyter.widget-view+json": {
       "model_id": "2a7db36e80b047f7b9753e001e035d09",
       "version_major": 2,
       "version_minor": 0
      },
      "text/plain": [
       "Running Epoch 3 of 4:   0%|          | 0/24 [00:00<?, ?it/s]"
      ]
     },
     "metadata": {},
     "output_type": "display_data"
    },
    {
     "name": "stdout",
     "output_type": "stream",
     "text": [
      "-------------------------\n"
     ]
    },
    {
     "data": {
      "application/vnd.jupyter.widget-view+json": {
       "model_id": "732631b39fba4f6d89370bc0be93f1a6",
       "version_major": 2,
       "version_minor": 0
      },
      "text/plain": [
       "Running Evaluation:   0%|          | 0/8 [00:00<?, ?it/s]"
      ]
     },
     "metadata": {},
     "output_type": "display_data"
    },
    {
     "name": "stdout",
     "output_type": "stream",
     "text": [
      "{'mcc': 0.49865134521849225, 'tp': 45, 'tn': 156, 'fp': 23, 'fn': 28, 'auroc': 0.8239840820387234, 'auprc': 0.6240055577171651, 'acc': 0.7976190476190477, 'precision': array([1, 1, 1, 0, 0, 0, 1, 0, 1, 1, 1, 0, 1, 1, 1, 1, 1, 0, 1, 1, 0, 0,\n",
      "       0, 1, 1, 1, 0, 0, 1, 0, 1, 0, 0, 0, 1, 1, 1, 1, 1, 1, 1, 1, 0, 0,\n",
      "       1, 0, 0, 0, 1, 0, 1, 1, 0, 1, 1, 1, 1, 1, 1, 0, 1, 1, 0, 1, 1, 1,\n",
      "       1, 1, 1, 0, 0, 0, 0, 0, 0, 0, 0, 0, 1, 0, 0, 0, 0, 0, 0, 0, 0, 0,\n",
      "       0, 0, 1, 0, 1, 0, 0, 0, 0, 1, 0, 0, 0, 0, 0, 0, 0, 0, 1, 0, 0, 1,\n",
      "       0, 0, 0, 0, 1, 0, 1, 0, 0, 0, 0, 0, 0, 0, 0, 0, 0, 0, 0, 0, 0, 0,\n",
      "       0, 0, 0, 0, 0, 0, 0, 0, 0, 1, 0, 0, 1, 0, 0, 0, 1, 0, 0, 1, 0, 0,\n",
      "       0, 0, 0, 0, 0, 0, 0, 0, 0, 0, 0, 0, 0, 0, 0, 0, 0, 0, 0, 1, 0, 0,\n",
      "       1, 1, 0, 0, 0, 0, 0, 0, 0, 0, 0, 0, 1, 0, 0, 0, 0, 0, 0, 0, 0, 0,\n",
      "       0, 0, 0, 0, 0, 0, 0, 1, 0, 0, 0, 1, 0, 0, 0, 0, 0, 0, 0, 0, 0, 0,\n",
      "       0, 0, 0, 1, 0, 0, 0, 1, 0, 0, 0, 0, 0, 0, 0, 0, 0, 0, 0, 1, 0, 0,\n",
      "       0, 0, 0, 1, 1, 0, 0, 0, 0, 0]), 'eval_loss': 0.5518190935254097}\n",
      "----------------\n",
      "{0: {'precision': 0.8478260869565217, 'recall': 0.8715083798882681, 'f1-score': 0.8595041322314049, 'support': 179}, 1: {'precision': 0.6617647058823529, 'recall': 0.6164383561643836, 'f1-score': 0.6382978723404255, 'support': 73}, 'accuracy': 0.7976190476190477, 'macro avg': {'precision': 0.7547953964194374, 'recall': 0.7439733680263259, 'f1-score': 0.7489010022859152, 'support': 252}, 'weighted avg': {'precision': 0.7939273535501157, 'recall': 0.7976190476190477, 'f1-score': 0.7954245410725099, 'support': 252}}\n",
      "DICT: {'0 precision': 0.8478260869565217, '0 recall': 0.8715083798882681, '0 f1-score': 0.8595041322314049, '0 support': 179, '1 precision': 0.6617647058823529, '1 recall': 0.6164383561643836, '1 f1-score': 0.6382978723404255, '1 support': 73, 'accuracy accuracy': 0.7976190476190477, 'macro avg precision': 0.7547953964194374, 'macro avg recall': 0.7439733680263259, 'macro avg f1-score': 0.7489010022859152, 'macro avg support': 252, 'weighted avg precision': 0.7939273535501157, 'weighted avg recall': 0.7976190476190477, 'weighted avg f1-score': 0.7954245410725099, 'weighted avg support': 252}\n",
      "Training Model Now\n",
      "                                                  text  labels\n",
      "0    Bei alledem bleibt doch auch für Anzengruber w...       1\n",
      "1    In dieser Erzählung passirt Rosegger, was auch...       1\n",
      "2     Auch mit der Einschleppung gewisser unschönen...       1\n",
      "3    Auch hiermit zerstört sich Auerbach nur die Fe...       1\n",
      "4    Auerbach gehört nicht zu den Dichtern, welche ...       1\n",
      "..                                                 ...     ...\n",
      "751  Was mich persönlich betrifft, so gestehe ich g...       0\n",
      "752  Wenn aber ein Kunstwerk im besten Sinne aus de...       0\n",
      "753  Zola schildert ein Geschlecht, das sich in sei...       0\n",
      "754  Zunächst wird Zola, sowohl was die künstlerisc...       0\n",
      "755  Das ist das Prinzip aller echten Poesie, das j...       0\n",
      "\n",
      "[756 rows x 2 columns]\n"
     ]
    },
    {
     "name": "stderr",
     "output_type": "stream",
     "text": [
      "Some weights of BertForSequenceClassification were not initialized from the model checkpoint at nlptown/bert-base-multilingual-uncased-sentiment and are newly initialized because the shapes did not match:\n",
      "- classifier.weight: found shape torch.Size([5, 768]) in the checkpoint and torch.Size([2, 768]) in the model instantiated\n",
      "- classifier.bias: found shape torch.Size([5]) in the checkpoint and torch.Size([2]) in the model instantiated\n",
      "You should probably TRAIN this model on a down-stream task to be able to use it for predictions and inference.\n"
     ]
    },
    {
     "data": {
      "application/vnd.jupyter.widget-view+json": {
       "model_id": "f775c036e7414c2f8e6c470c4e84eed1",
       "version_major": 2,
       "version_minor": 0
      },
      "text/plain": [
       "Epoch:   0%|          | 0/4 [00:00<?, ?it/s]"
      ]
     },
     "metadata": {},
     "output_type": "display_data"
    },
    {
     "data": {
      "application/vnd.jupyter.widget-view+json": {
       "model_id": "d7bb88bd50cf49bcb2ae771d71679936",
       "version_major": 2,
       "version_minor": 0
      },
      "text/plain": [
       "Running Epoch 0 of 4:   0%|          | 0/24 [00:00<?, ?it/s]"
      ]
     },
     "metadata": {},
     "output_type": "display_data"
    },
    {
     "data": {
      "application/vnd.jupyter.widget-view+json": {
       "model_id": "e2592a9df10d47ffad6960c5ef17c2c9",
       "version_major": 2,
       "version_minor": 0
      },
      "text/plain": [
       "Running Epoch 1 of 4:   0%|          | 0/24 [00:00<?, ?it/s]"
      ]
     },
     "metadata": {},
     "output_type": "display_data"
    },
    {
     "data": {
      "application/vnd.jupyter.widget-view+json": {
       "model_id": "2686a4b08ed84eb091cf69ace86cb917",
       "version_major": 2,
       "version_minor": 0
      },
      "text/plain": [
       "Running Epoch 2 of 4:   0%|          | 0/24 [00:00<?, ?it/s]"
      ]
     },
     "metadata": {},
     "output_type": "display_data"
    },
    {
     "data": {
      "application/vnd.jupyter.widget-view+json": {
       "model_id": "b95a92d43209486cb6014bdeaa5bab3b",
       "version_major": 2,
       "version_minor": 0
      },
      "text/plain": [
       "Running Epoch 3 of 4:   0%|          | 0/24 [00:00<?, ?it/s]"
      ]
     },
     "metadata": {},
     "output_type": "display_data"
    },
    {
     "name": "stdout",
     "output_type": "stream",
     "text": [
      "-------------------------\n"
     ]
    },
    {
     "data": {
      "application/vnd.jupyter.widget-view+json": {
       "model_id": "f06de55eeed74dac8d3ac839faf5662f",
       "version_major": 2,
       "version_minor": 0
      },
      "text/plain": [
       "Running Evaluation:   0%|          | 0/8 [00:00<?, ?it/s]"
      ]
     },
     "metadata": {},
     "output_type": "display_data"
    },
    {
     "name": "stdout",
     "output_type": "stream",
     "text": [
      "{'mcc': 0.46391309602580194, 'tp': 34, 'tn': 167, 'fp': 13, 'fn': 38, 'auroc': 0.7878086419753086, 'auprc': 0.592543148544258, 'acc': 0.7976190476190477, 'precision': array([0, 1, 1, 1, 1, 0, 1, 0, 0, 0, 1, 0, 1, 1, 1, 1, 0, 0, 0, 0, 0, 1,\n",
      "       0, 0, 1, 1, 0, 1, 0, 0, 1, 0, 0, 0, 1, 0, 1, 0, 1, 1, 0, 0, 1, 0,\n",
      "       0, 0, 0, 1, 1, 0, 1, 1, 1, 0, 0, 0, 1, 0, 1, 0, 1, 1, 0, 1, 0, 0,\n",
      "       1, 0, 1, 0, 1, 1, 0, 0, 0, 0, 0, 1, 0, 1, 0, 1, 0, 0, 0, 0, 0, 0,\n",
      "       0, 0, 0, 0, 0, 0, 0, 0, 0, 0, 0, 0, 1, 0, 0, 0, 0, 0, 0, 0, 0, 1,\n",
      "       0, 0, 0, 0, 0, 0, 0, 0, 0, 0, 0, 0, 0, 1, 0, 0, 0, 0, 0, 0, 0, 0,\n",
      "       0, 0, 0, 1, 0, 0, 0, 0, 1, 0, 0, 0, 0, 0, 0, 0, 0, 0, 0, 0, 0, 0,\n",
      "       0, 0, 0, 0, 0, 0, 0, 0, 0, 0, 0, 0, 0, 0, 0, 1, 0, 0, 0, 0, 0, 0,\n",
      "       0, 0, 0, 0, 0, 0, 0, 0, 0, 0, 0, 0, 0, 0, 0, 0, 0, 0, 0, 0, 0, 0,\n",
      "       0, 0, 0, 0, 0, 0, 0, 0, 0, 1, 0, 0, 0, 1, 0, 0, 0, 0, 0, 0, 0, 0,\n",
      "       0, 0, 0, 0, 0, 0, 0, 0, 0, 0, 0, 1, 0, 0, 0, 0, 0, 0, 0, 0, 0, 0,\n",
      "       0, 0, 0, 0, 0, 0, 0, 0, 1, 0]), 'eval_loss': 0.5305469632148743}\n",
      "----------------\n",
      "{0: {'precision': 0.8146341463414634, 'recall': 0.9277777777777778, 'f1-score': 0.8675324675324675, 'support': 180}, 1: {'precision': 0.723404255319149, 'recall': 0.4722222222222222, 'f1-score': 0.5714285714285714, 'support': 72}, 'accuracy': 0.7976190476190477, 'macro avg': {'precision': 0.7690192008303062, 'recall': 0.7, 'f1-score': 0.7194805194805194, 'support': 252}, 'weighted avg': {'precision': 0.7885684631922306, 'recall': 0.7976190476190477, 'f1-score': 0.7829313543599257, 'support': 252}}\n",
      "DICT: {'0 precision': 0.8146341463414634, '0 recall': 0.9277777777777778, '0 f1-score': 0.8675324675324675, '0 support': 180, '1 precision': 0.723404255319149, '1 recall': 0.4722222222222222, '1 f1-score': 0.5714285714285714, '1 support': 72, 'accuracy accuracy': 0.7976190476190477, 'macro avg precision': 0.7690192008303062, 'macro avg recall': 0.7, 'macro avg f1-score': 0.7194805194805194, 'macro avg support': 252, 'weighted avg precision': 0.7885684631922306, 'weighted avg recall': 0.7976190476190477, 'weighted avg f1-score': 0.7829313543599257, 'weighted avg support': 252}\n",
      "Training Model Now\n",
      "                                                  text  labels\n",
      "0    Bei alledem bleibt doch auch für Anzengruber w...       1\n",
      "1    Die letzten Stücke Anzengrubers, alle aus dem ...       1\n",
      "2    In dieser Erzählung passirt Rosegger, was auch...       1\n",
      "3    Doch immerhin bleibt das Bedauern übrig, da An...       1\n",
      "4    Auch hiermit zerstört sich Auerbach nur die Fe...       1\n",
      "..                                                 ...     ...\n",
      "751  Wenn aber ein Kunstwerk im besten Sinne aus de...       0\n",
      "752  Wir verbleiben, auch in der Welt des Traumes, ...       0\n",
      "753  Zola schildert ein Geschlecht, das sich in sei...       0\n",
      "754  Zunächst wird Zola, sowohl was die künstlerisc...       0\n",
      "755  Das ist das Prinzip aller echten Poesie, das j...       0\n",
      "\n",
      "[756 rows x 2 columns]\n"
     ]
    },
    {
     "name": "stderr",
     "output_type": "stream",
     "text": [
      "Some weights of BertForSequenceClassification were not initialized from the model checkpoint at nlptown/bert-base-multilingual-uncased-sentiment and are newly initialized because the shapes did not match:\n",
      "- classifier.weight: found shape torch.Size([5, 768]) in the checkpoint and torch.Size([2, 768]) in the model instantiated\n",
      "- classifier.bias: found shape torch.Size([5]) in the checkpoint and torch.Size([2]) in the model instantiated\n",
      "You should probably TRAIN this model on a down-stream task to be able to use it for predictions and inference.\n"
     ]
    },
    {
     "data": {
      "application/vnd.jupyter.widget-view+json": {
       "model_id": "66dc165b7828464082873394f36f42ce",
       "version_major": 2,
       "version_minor": 0
      },
      "text/plain": [
       "Epoch:   0%|          | 0/4 [00:00<?, ?it/s]"
      ]
     },
     "metadata": {},
     "output_type": "display_data"
    },
    {
     "data": {
      "application/vnd.jupyter.widget-view+json": {
       "model_id": "fd95c4e6411545eaab79f9bfd806fc5b",
       "version_major": 2,
       "version_minor": 0
      },
      "text/plain": [
       "Running Epoch 0 of 4:   0%|          | 0/24 [00:00<?, ?it/s]"
      ]
     },
     "metadata": {},
     "output_type": "display_data"
    },
    {
     "data": {
      "application/vnd.jupyter.widget-view+json": {
       "model_id": "c55fe98448424714b43037621b827051",
       "version_major": 2,
       "version_minor": 0
      },
      "text/plain": [
       "Running Epoch 1 of 4:   0%|          | 0/24 [00:00<?, ?it/s]"
      ]
     },
     "metadata": {},
     "output_type": "display_data"
    },
    {
     "data": {
      "application/vnd.jupyter.widget-view+json": {
       "model_id": "51a414568e2e430fb3a319d630b4038b",
       "version_major": 2,
       "version_minor": 0
      },
      "text/plain": [
       "Running Epoch 2 of 4:   0%|          | 0/24 [00:00<?, ?it/s]"
      ]
     },
     "metadata": {},
     "output_type": "display_data"
    },
    {
     "data": {
      "application/vnd.jupyter.widget-view+json": {
       "model_id": "8b975f392aaf47f4a96a22af5750b2dd",
       "version_major": 2,
       "version_minor": 0
      },
      "text/plain": [
       "Running Epoch 3 of 4:   0%|          | 0/24 [00:00<?, ?it/s]"
      ]
     },
     "metadata": {},
     "output_type": "display_data"
    },
    {
     "name": "stdout",
     "output_type": "stream",
     "text": [
      "-------------------------\n"
     ]
    },
    {
     "data": {
      "application/vnd.jupyter.widget-view+json": {
       "model_id": "e3ad3b4a3931473ebb9de970a62b21c7",
       "version_major": 2,
       "version_minor": 0
      },
      "text/plain": [
       "Running Evaluation:   0%|          | 0/8 [00:00<?, ?it/s]"
      ]
     },
     "metadata": {},
     "output_type": "display_data"
    },
    {
     "name": "stdout",
     "output_type": "stream",
     "text": [
      "{'mcc': 0.4539066264042537, 'tp': 48, 'tn': 145, 'fp': 35, 'fn': 24, 'auroc': 0.7970679012345678, 'auprc': 0.6522209136872698, 'acc': 0.7658730158730159, 'precision': array([0, 1, 1, 0, 1, 1, 0, 1, 0, 1, 0, 1, 1, 0, 0, 1, 0, 0, 1, 1, 1, 0,\n",
      "       1, 1, 1, 1, 1, 1, 0, 0, 1, 1, 1, 1, 1, 0, 0, 0, 1, 1, 0, 1, 0, 1,\n",
      "       1, 0, 0, 1, 1, 1, 1, 0, 0, 1, 1, 1, 1, 1, 1, 0, 1, 1, 1, 1, 1, 1,\n",
      "       1, 1, 1, 0, 0, 1, 1, 0, 1, 1, 0, 0, 0, 0, 0, 0, 0, 1, 0, 0, 0, 0,\n",
      "       0, 0, 0, 0, 0, 0, 0, 0, 1, 0, 0, 0, 0, 1, 1, 1, 0, 0, 0, 0, 1, 1,\n",
      "       1, 0, 1, 0, 0, 0, 0, 0, 0, 0, 0, 0, 0, 1, 0, 0, 0, 0, 1, 0, 1, 0,\n",
      "       0, 0, 1, 1, 0, 1, 0, 0, 0, 0, 0, 1, 0, 0, 0, 0, 0, 1, 0, 0, 0, 1,\n",
      "       0, 0, 0, 0, 0, 0, 0, 0, 0, 0, 0, 0, 0, 0, 0, 0, 0, 0, 0, 0, 1, 0,\n",
      "       0, 0, 0, 0, 0, 0, 0, 0, 0, 0, 0, 0, 0, 0, 0, 0, 0, 0, 0, 0, 0, 0,\n",
      "       0, 0, 0, 0, 1, 0, 0, 0, 0, 1, 0, 0, 0, 0, 1, 0, 0, 0, 0, 1, 0, 0,\n",
      "       1, 0, 1, 1, 0, 1, 0, 0, 0, 0, 0, 1, 0, 0, 0, 1, 1, 0, 1, 0, 0, 0,\n",
      "       0, 0, 0, 0, 0, 0, 0, 0, 0, 1]), 'eval_loss': 0.5649983510375023}\n",
      "----------------\n",
      "{0: {'precision': 0.8579881656804734, 'recall': 0.8055555555555556, 'f1-score': 0.8309455587392551, 'support': 180}, 1: {'precision': 0.5783132530120482, 'recall': 0.6666666666666666, 'f1-score': 0.6193548387096774, 'support': 72}, 'accuracy': 0.7658730158730159, 'macro avg': {'precision': 0.7181507093462608, 'recall': 0.7361111111111112, 'f1-score': 0.7251501987244663, 'support': 252}, 'weighted avg': {'precision': 0.7780810477752091, 'recall': 0.7658730158730159, 'f1-score': 0.7704910673022329, 'support': 252}}\n",
      "DICT: {'0 precision': 0.8579881656804734, '0 recall': 0.8055555555555556, '0 f1-score': 0.8309455587392551, '0 support': 180, '1 precision': 0.5783132530120482, '1 recall': 0.6666666666666666, '1 f1-score': 0.6193548387096774, '1 support': 72, 'accuracy accuracy': 0.7658730158730159, 'macro avg precision': 0.7181507093462608, 'macro avg recall': 0.7361111111111112, 'macro avg f1-score': 0.7251501987244663, 'macro avg support': 252, 'weighted avg precision': 0.7780810477752091, 'weighted avg recall': 0.7658730158730159, 'weighted avg f1-score': 0.7704910673022329, 'weighted avg support': 252}\n",
      "Finish\n",
      "Start for corpora:  ../../../Corpora/Preprocessed_Transformers_Less_Preprocessing/Binary/SM01_sb10k_Preprocessed_binary_Transformer.tsv\n",
      "Training Model Now\n",
      "                                                   text  labels\n",
      "0      So ein HearthstoneKey von  für den netten You...       0\n",
      "1                               Glück breitet sich aus        0\n",
      "2                                       unachtsam seufz       1\n",
      "3                                           Moi????           1\n",
      "4      Jop und wenn sich die Agenda nicht noch änder...       1\n",
      "...                                                 ...     ...\n",
      "2130  waah the guys are here, joining our partyy, wa...       0\n",
      "2131                           Deprimierend                   1\n",
      "2132                         Okay.  Machse einfach! EU.       1\n",
      "2133  Ich muss gerade irgendwem, der mich nicht dafü...       0\n",
      "2134   Ich mag ihn auch echt gerne, haste fein gemacht!       0\n",
      "\n",
      "[2135 rows x 2 columns]\n"
     ]
    },
    {
     "name": "stderr",
     "output_type": "stream",
     "text": [
      "Some weights of BertForSequenceClassification were not initialized from the model checkpoint at nlptown/bert-base-multilingual-uncased-sentiment and are newly initialized because the shapes did not match:\n",
      "- classifier.weight: found shape torch.Size([5, 768]) in the checkpoint and torch.Size([2, 768]) in the model instantiated\n",
      "- classifier.bias: found shape torch.Size([5]) in the checkpoint and torch.Size([2]) in the model instantiated\n",
      "You should probably TRAIN this model on a down-stream task to be able to use it for predictions and inference.\n"
     ]
    },
    {
     "data": {
      "application/vnd.jupyter.widget-view+json": {
       "model_id": "6f2b519e6d2c48d6a1dacf4e348f1832",
       "version_major": 2,
       "version_minor": 0
      },
      "text/plain": [
       "Epoch:   0%|          | 0/4 [00:00<?, ?it/s]"
      ]
     },
     "metadata": {},
     "output_type": "display_data"
    },
    {
     "data": {
      "application/vnd.jupyter.widget-view+json": {
       "model_id": "c330de42926f43fcadce993d952959b8",
       "version_major": 2,
       "version_minor": 0
      },
      "text/plain": [
       "Running Epoch 0 of 4:   0%|          | 0/67 [00:00<?, ?it/s]"
      ]
     },
     "metadata": {},
     "output_type": "display_data"
    },
    {
     "data": {
      "application/vnd.jupyter.widget-view+json": {
       "model_id": "0e425cfbc6764ef4bcb20dd53bd1d431",
       "version_major": 2,
       "version_minor": 0
      },
      "text/plain": [
       "Running Epoch 1 of 4:   0%|          | 0/67 [00:00<?, ?it/s]"
      ]
     },
     "metadata": {},
     "output_type": "display_data"
    },
    {
     "data": {
      "application/vnd.jupyter.widget-view+json": {
       "model_id": "45b2e2a6930f41b485c7853a1552b9f4",
       "version_major": 2,
       "version_minor": 0
      },
      "text/plain": [
       "Running Epoch 2 of 4:   0%|          | 0/67 [00:00<?, ?it/s]"
      ]
     },
     "metadata": {},
     "output_type": "display_data"
    },
    {
     "data": {
      "application/vnd.jupyter.widget-view+json": {
       "model_id": "426ab8d7e9414fdf9fdb4640c30a6aaf",
       "version_major": 2,
       "version_minor": 0
      },
      "text/plain": [
       "Running Epoch 3 of 4:   0%|          | 0/67 [00:00<?, ?it/s]"
      ]
     },
     "metadata": {},
     "output_type": "display_data"
    },
    {
     "name": "stdout",
     "output_type": "stream",
     "text": [
      "-------------------------\n"
     ]
    },
    {
     "data": {
      "application/vnd.jupyter.widget-view+json": {
       "model_id": "ded370388a7a48a5aa607efb07fd9c81",
       "version_major": 2,
       "version_minor": 0
      },
      "text/plain": [
       "Running Evaluation:   0%|          | 0/23 [00:00<?, ?it/s]"
      ]
     },
     "metadata": {},
     "output_type": "display_data"
    },
    {
     "name": "stdout",
     "output_type": "stream",
     "text": [
      "{'mcc': 0.42204670768627783, 'tp': 176, 'tn': 341, 'fp': 89, 'fn': 106, 'auroc': 0.7884628071911596, 'auprc': 0.7231280535267741, 'acc': 0.726123595505618, 'precision': array([1, 0, 0, 0, 1, 0, 0, 1, 0, 0, 0, 1, 1, 1, 1, 0, 1, 0, 0, 0, 0, 0,\n",
      "       0, 0, 1, 0, 0, 0, 0, 0, 1, 0, 1, 1, 0, 0, 1, 1, 0, 0, 0, 1, 0, 0,\n",
      "       1, 0, 0, 0, 0, 1, 0, 0, 0, 0, 1, 0, 0, 0, 1, 0, 1, 0, 1, 0, 0, 0,\n",
      "       0, 0, 0, 0, 0, 1, 1, 0, 1, 0, 0, 0, 1, 0, 0, 0, 0, 0, 1, 0, 0, 0,\n",
      "       1, 0, 0, 1, 0, 1, 0, 1, 0, 1, 1, 0, 1, 0, 0, 0, 0, 0, 1, 0, 0, 0,\n",
      "       1, 0, 0, 1, 0, 0, 0, 0, 0, 1, 1, 0, 1, 0, 0, 0, 0, 1, 1, 1, 0, 0,\n",
      "       0, 1, 0, 0, 0, 0, 1, 0, 1, 1, 0, 1, 1, 0, 1, 0, 0, 0, 0, 1, 1, 1,\n",
      "       1, 0, 0, 0, 0, 1, 0, 1, 1, 1, 1, 0, 0, 1, 0, 1, 0, 0, 1, 0, 1, 0,\n",
      "       1, 1, 1, 0, 1, 0, 0, 1, 0, 0, 1, 0, 1, 1, 0, 0, 0, 1, 0, 1, 0, 0,\n",
      "       0, 1, 0, 0, 0, 1, 1, 1, 0, 0, 1, 0, 0, 0, 0, 0, 1, 1, 0, 0, 0, 0,\n",
      "       0, 0, 1, 1, 0, 0, 1, 1, 0, 0, 1, 1, 1, 1, 1, 0, 0, 0, 0, 0, 1, 0,\n",
      "       0, 1, 1, 1, 0, 1, 0, 0, 0, 0, 0, 0, 0, 0, 1, 1, 0, 0, 0, 1, 1, 1,\n",
      "       0, 0, 1, 1, 0, 0, 1, 1, 0, 0, 0, 0, 1, 1, 1, 1, 1, 0, 0, 0, 0, 1,\n",
      "       0, 1, 0, 0, 0, 1, 0, 0, 1, 1, 0, 1, 0, 0, 0, 1, 0, 1, 1, 0, 0, 0,\n",
      "       0, 1, 1, 1, 0, 1, 1, 0, 1, 1, 1, 0, 0, 1, 1, 0, 0, 0, 1, 0, 0, 1,\n",
      "       1, 0, 1, 1, 0, 1, 1, 1, 0, 0, 0, 0, 0, 1, 1, 0, 0, 1, 1, 1, 1, 0,\n",
      "       0, 0, 0, 0, 1, 1, 0, 0, 0, 0, 0, 0, 0, 0, 0, 0, 1, 0, 0, 0, 0, 1,\n",
      "       1, 0, 0, 0, 1, 1, 0, 0, 0, 0, 0, 0, 0, 1, 0, 1, 1, 1, 1, 1, 1, 0,\n",
      "       1, 0, 0, 0, 0, 0, 0, 0, 0, 0, 1, 0, 0, 0, 0, 0, 1, 0, 0, 1, 0, 1,\n",
      "       0, 1, 0, 1, 1, 0, 0, 0, 0, 1, 1, 0, 0, 0, 1, 0, 1, 0, 0, 0, 1, 0,\n",
      "       1, 0, 0, 1, 0, 0, 0, 0, 1, 1, 0, 1, 0, 1, 0, 0, 0, 0, 1, 0, 0, 1,\n",
      "       1, 0, 0, 1, 0, 0, 0, 1, 0, 0, 0, 1, 0, 0, 1, 0, 1, 0, 0, 0, 0, 0,\n",
      "       0, 1, 1, 0, 0, 1, 1, 0, 0, 0, 0, 0, 0, 0, 0, 0, 1, 0, 1, 0, 0, 0,\n",
      "       0, 0, 1, 0, 0, 1, 0, 0, 0, 0, 0, 1, 1, 0, 1, 0, 1, 0, 0, 0, 1, 0,\n",
      "       1, 0, 0, 0, 1, 0, 1, 1, 1, 0, 0, 1, 0, 1, 0, 1, 1, 1, 0, 1, 0, 1,\n",
      "       0, 0, 0, 0, 0, 1, 1, 0, 1, 1, 1, 1, 0, 0, 0, 1, 0, 1, 1, 0, 1, 0,\n",
      "       1, 0, 0, 0, 1, 0, 1, 1, 0, 0, 0, 0, 0, 0, 1, 0, 1, 1, 0, 1, 1, 0,\n",
      "       0, 0, 0, 1, 1, 0, 0, 0, 0, 0, 0, 0, 0, 0, 1, 0, 0, 0, 0, 1, 0, 0,\n",
      "       1, 1, 0, 0, 1, 0, 0, 0, 0, 1, 0, 1, 0, 0, 0, 0, 0, 0, 0, 0, 0, 0,\n",
      "       0, 1, 0, 0, 0, 1, 0, 0, 0, 1, 0, 1, 1, 0, 0, 1, 1, 0, 1, 0, 0, 0,\n",
      "       0, 0, 1, 0, 0, 1, 0, 0, 0, 0, 0, 0, 1, 1, 0, 1, 0, 1, 0, 0, 1, 0,\n",
      "       1, 0, 1, 1, 0, 1, 0, 1, 1, 0, 0, 0, 0, 1, 0, 1, 0, 1, 1, 1, 1, 0,\n",
      "       1, 0, 1, 0, 1, 0, 0, 1]), 'eval_loss': 0.8464353926803755}\n",
      "----------------\n",
      "{0: {'precision': 0.7628635346756152, 'recall': 0.7930232558139535, 'f1-score': 0.7776510832383124, 'support': 430}, 1: {'precision': 0.6641509433962264, 'recall': 0.624113475177305, 'f1-score': 0.643510054844607, 'support': 282}, 'accuracy': 0.726123595505618, 'macro avg': {'precision': 0.7135072390359207, 'recall': 0.7085683654956292, 'f1-score': 0.7105805690414597, 'support': 712}, 'weighted avg': {'precision': 0.7237666937475427, 'recall': 0.726123595505618, 'f1-score': 0.7245221927790078, 'support': 712}}\n",
      "DICT: {'0 precision': 0.7628635346756152, '0 recall': 0.7930232558139535, '0 f1-score': 0.7776510832383124, '0 support': 430, '1 precision': 0.6641509433962264, '1 recall': 0.624113475177305, '1 f1-score': 0.643510054844607, '1 support': 282, 'accuracy accuracy': 0.726123595505618, 'macro avg precision': 0.7135072390359207, 'macro avg recall': 0.7085683654956292, 'macro avg f1-score': 0.7105805690414597, 'macro avg support': 712, 'weighted avg precision': 0.7237666937475427, 'weighted avg recall': 0.726123595505618, 'weighted avg f1-score': 0.7245221927790078, 'weighted avg support': 712}\n",
      "Training Model Now\n",
      "                                                   text  labels\n",
      "0                               Glück breitet sich aus        0\n",
      "1                                       unachtsam seufz       1\n",
      "2                                           Moi????           1\n",
      "3      Jop und wenn sich die Agenda nicht noch änder...       1\n",
      "4               Tumblr, Internet, allein sein, nerven.        1\n",
      "...                                                 ...     ...\n",
      "2130  Hab morgen nicht viel Zeit zu packen &amp; noc...       1\n",
      "2131  Wir wünschen unserem FC Carl Zeiss viel Erfolg...       0\n",
      "2132                           Deprimierend                   1\n",
      "2133                         Okay.  Machse einfach! EU.       1\n",
      "2134   Ich mag ihn auch echt gerne, haste fein gemacht!       0\n",
      "\n",
      "[2135 rows x 2 columns]\n"
     ]
    },
    {
     "name": "stderr",
     "output_type": "stream",
     "text": [
      "Some weights of BertForSequenceClassification were not initialized from the model checkpoint at nlptown/bert-base-multilingual-uncased-sentiment and are newly initialized because the shapes did not match:\n",
      "- classifier.weight: found shape torch.Size([5, 768]) in the checkpoint and torch.Size([2, 768]) in the model instantiated\n",
      "- classifier.bias: found shape torch.Size([5]) in the checkpoint and torch.Size([2]) in the model instantiated\n",
      "You should probably TRAIN this model on a down-stream task to be able to use it for predictions and inference.\n"
     ]
    },
    {
     "data": {
      "application/vnd.jupyter.widget-view+json": {
       "model_id": "9684aa92c54348cba50160ff26168433",
       "version_major": 2,
       "version_minor": 0
      },
      "text/plain": [
       "Epoch:   0%|          | 0/4 [00:00<?, ?it/s]"
      ]
     },
     "metadata": {},
     "output_type": "display_data"
    },
    {
     "data": {
      "application/vnd.jupyter.widget-view+json": {
       "model_id": "38a60db42f6049eba3c4b5003475d4af",
       "version_major": 2,
       "version_minor": 0
      },
      "text/plain": [
       "Running Epoch 0 of 4:   0%|          | 0/67 [00:00<?, ?it/s]"
      ]
     },
     "metadata": {},
     "output_type": "display_data"
    },
    {
     "data": {
      "application/vnd.jupyter.widget-view+json": {
       "model_id": "a828f0fa1d3a401f863420f3a747200e",
       "version_major": 2,
       "version_minor": 0
      },
      "text/plain": [
       "Running Epoch 1 of 4:   0%|          | 0/67 [00:00<?, ?it/s]"
      ]
     },
     "metadata": {},
     "output_type": "display_data"
    },
    {
     "data": {
      "application/vnd.jupyter.widget-view+json": {
       "model_id": "0167f86dd2f540d8be6b4833bfba08b4",
       "version_major": 2,
       "version_minor": 0
      },
      "text/plain": [
       "Running Epoch 2 of 4:   0%|          | 0/67 [00:00<?, ?it/s]"
      ]
     },
     "metadata": {},
     "output_type": "display_data"
    },
    {
     "data": {
      "application/vnd.jupyter.widget-view+json": {
       "model_id": "2575bf15f568497eb68976fec359165d",
       "version_major": 2,
       "version_minor": 0
      },
      "text/plain": [
       "Running Epoch 3 of 4:   0%|          | 0/67 [00:00<?, ?it/s]"
      ]
     },
     "metadata": {},
     "output_type": "display_data"
    },
    {
     "name": "stdout",
     "output_type": "stream",
     "text": [
      "-------------------------\n"
     ]
    },
    {
     "data": {
      "application/vnd.jupyter.widget-view+json": {
       "model_id": "a84ceedc497e4cc58a6206c79fc4b3eb",
       "version_major": 2,
       "version_minor": 0
      },
      "text/plain": [
       "Running Evaluation:   0%|          | 0/23 [00:00<?, ?it/s]"
      ]
     },
     "metadata": {},
     "output_type": "display_data"
    },
    {
     "name": "stdout",
     "output_type": "stream",
     "text": [
      "{'mcc': 0.47300282604177435, 'tp': 190, 'tn': 343, 'fp': 86, 'fn': 93, 'auroc': 0.815784921791989, 'auprc': 0.7480834450562288, 'acc': 0.7485955056179775, 'precision': array([0, 0, 0, 0, 0, 0, 1, 0, 0, 0, 0, 1, 0, 0, 0, 0, 1, 0, 1, 1, 0, 1,\n",
      "       0, 1, 0, 0, 1, 0, 0, 1, 0, 0, 0, 0, 0, 0, 1, 0, 0, 0, 1, 1, 0, 1,\n",
      "       0, 0, 1, 0, 1, 1, 0, 0, 0, 1, 0, 0, 0, 0, 1, 0, 0, 1, 0, 0, 1, 0,\n",
      "       0, 1, 0, 0, 1, 0, 0, 0, 0, 1, 1, 0, 0, 0, 0, 0, 0, 1, 0, 0, 1, 1,\n",
      "       0, 0, 1, 0, 1, 1, 0, 0, 1, 1, 0, 0, 1, 1, 1, 0, 0, 1, 1, 1, 1, 0,\n",
      "       1, 0, 0, 1, 0, 0, 1, 0, 0, 0, 0, 0, 0, 1, 0, 0, 0, 0, 0, 0, 1, 0,\n",
      "       0, 1, 0, 0, 0, 1, 0, 0, 1, 0, 0, 0, 0, 1, 0, 1, 0, 1, 0, 0, 1, 1,\n",
      "       0, 1, 1, 1, 0, 0, 0, 0, 0, 1, 1, 1, 0, 1, 0, 1, 1, 0, 0, 0, 1, 0,\n",
      "       0, 0, 0, 0, 1, 0, 1, 0, 1, 1, 0, 0, 1, 0, 0, 0, 0, 1, 1, 0, 0, 1,\n",
      "       0, 0, 0, 1, 1, 1, 0, 1, 1, 1, 0, 1, 1, 0, 0, 0, 1, 0, 0, 0, 0, 0,\n",
      "       1, 1, 0, 0, 0, 0, 0, 0, 1, 1, 0, 0, 0, 0, 0, 0, 1, 0, 0, 1, 0, 1,\n",
      "       1, 1, 1, 0, 0, 0, 1, 0, 0, 0, 0, 0, 0, 1, 0, 0, 0, 1, 0, 1, 0, 1,\n",
      "       1, 1, 1, 0, 0, 1, 1, 0, 0, 0, 0, 0, 1, 0, 0, 0, 0, 0, 1, 1, 0, 0,\n",
      "       1, 1, 0, 1, 0, 1, 0, 0, 0, 1, 0, 0, 0, 0, 0, 0, 0, 1, 1, 0, 1, 1,\n",
      "       0, 1, 1, 0, 1, 1, 1, 1, 0, 1, 0, 1, 0, 1, 0, 0, 0, 1, 0, 1, 1, 0,\n",
      "       0, 0, 0, 1, 0, 1, 0, 0, 1, 0, 0, 1, 1, 0, 0, 0, 0, 1, 0, 0, 1, 0,\n",
      "       0, 0, 0, 0, 0, 1, 1, 1, 1, 1, 1, 0, 0, 0, 1, 0, 0, 0, 0, 1, 0, 0,\n",
      "       0, 1, 1, 1, 0, 0, 1, 1, 1, 0, 0, 1, 1, 0, 1, 1, 0, 0, 0, 0, 1, 1,\n",
      "       0, 0, 1, 1, 0, 0, 1, 1, 1, 0, 0, 1, 0, 1, 0, 0, 0, 1, 1, 0, 0, 1,\n",
      "       0, 1, 0, 1, 0, 0, 0, 0, 0, 0, 0, 0, 0, 1, 1, 1, 1, 0, 0, 0, 1, 0,\n",
      "       1, 1, 0, 1, 0, 0, 0, 1, 1, 0, 1, 1, 1, 0, 0, 0, 0, 1, 0, 1, 1, 0,\n",
      "       0, 0, 0, 1, 0, 0, 1, 0, 0, 1, 0, 0, 0, 0, 1, 0, 0, 1, 0, 0, 0, 0,\n",
      "       0, 0, 0, 0, 1, 0, 1, 0, 1, 1, 0, 1, 1, 0, 1, 0, 1, 1, 0, 0, 1, 0,\n",
      "       0, 1, 1, 0, 1, 1, 1, 1, 0, 0, 0, 0, 1, 0, 1, 1, 1, 0, 1, 0, 0, 0,\n",
      "       1, 0, 0, 0, 0, 1, 0, 0, 0, 0, 1, 1, 0, 1, 1, 1, 0, 1, 0, 0, 1, 0,\n",
      "       1, 0, 0, 0, 0, 0, 0, 0, 0, 0, 1, 1, 0, 1, 0, 1, 1, 1, 0, 0, 1, 0,\n",
      "       1, 1, 0, 0, 1, 0, 0, 0, 1, 0, 1, 0, 0, 1, 1, 1, 1, 1, 1, 0, 0, 0,\n",
      "       0, 1, 1, 0, 0, 1, 1, 0, 1, 1, 1, 0, 0, 0, 1, 1, 0, 0, 0, 1, 0, 1,\n",
      "       0, 0, 0, 0, 0, 0, 0, 1, 0, 0, 1, 1, 1, 0, 1, 1, 1, 0, 0, 0, 0, 0,\n",
      "       0, 0, 1, 1, 0, 0, 0, 0, 0, 0, 1, 0, 1, 0, 1, 0, 0, 0, 1, 0, 0, 0,\n",
      "       1, 1, 1, 0, 1, 0, 0, 0, 1, 1, 0, 1, 1, 0, 0, 0, 0, 0, 0, 0, 0, 1,\n",
      "       1, 1, 0, 0, 0, 0, 0, 1, 0, 1, 0, 0, 1, 0, 1, 0, 1, 1, 0, 0, 0, 0,\n",
      "       0, 1, 0, 0, 0, 1, 0, 1]), 'eval_loss': 0.6896471899488698}\n",
      "----------------\n",
      "{0: {'precision': 0.786697247706422, 'recall': 0.7995337995337995, 'f1-score': 0.7930635838150288, 'support': 429}, 1: {'precision': 0.6884057971014492, 'recall': 0.6713780918727915, 'f1-score': 0.6797853309481217, 'support': 283}, 'accuracy': 0.7485955056179775, 'macro avg': {'precision': 0.7375515224039356, 'recall': 0.7354559457032955, 'f1-score': 0.7364244573815752, 'support': 712}, 'weighted avg': {'precision': 0.7476291570867488, 'recall': 0.7485955056179775, 'f1-score': 0.7480386602738284, 'support': 712}}\n",
      "DICT: {'0 precision': 0.786697247706422, '0 recall': 0.7995337995337995, '0 f1-score': 0.7930635838150288, '0 support': 429, '1 precision': 0.6884057971014492, '1 recall': 0.6713780918727915, '1 f1-score': 0.6797853309481217, '1 support': 283, 'accuracy accuracy': 0.7485955056179775, 'macro avg precision': 0.7375515224039356, 'macro avg recall': 0.7354559457032955, 'macro avg f1-score': 0.7364244573815752, 'macro avg support': 712, 'weighted avg precision': 0.7476291570867488, 'weighted avg recall': 0.7485955056179775, 'weighted avg f1-score': 0.7480386602738284, 'weighted avg support': 712}\n",
      "Training Model Now\n",
      "                                                   text  labels\n",
      "0      So ein HearthstoneKey von  für den netten You...       0\n",
      "1                               Glück breitet sich aus        0\n",
      "2                                           Moi????           1\n",
      "3      Jop und wenn sich die Agenda nicht noch änder...       1\n",
      "4               Tumblr, Internet, allein sein, nerven.        1\n",
      "...                                                 ...     ...\n",
      "2130  Hab morgen nicht viel Zeit zu packen &amp; noc...       1\n",
      "2131  Wir wünschen unserem FC Carl Zeiss viel Erfolg...       0\n",
      "2132  waah the guys are here, joining our partyy, wa...       0\n",
      "2133                           Deprimierend                   1\n",
      "2134  Ich muss gerade irgendwem, der mich nicht dafü...       0\n",
      "\n",
      "[2135 rows x 2 columns]\n"
     ]
    },
    {
     "name": "stderr",
     "output_type": "stream",
     "text": [
      "Some weights of BertForSequenceClassification were not initialized from the model checkpoint at nlptown/bert-base-multilingual-uncased-sentiment and are newly initialized because the shapes did not match:\n",
      "- classifier.weight: found shape torch.Size([5, 768]) in the checkpoint and torch.Size([2, 768]) in the model instantiated\n",
      "- classifier.bias: found shape torch.Size([5]) in the checkpoint and torch.Size([2]) in the model instantiated\n",
      "You should probably TRAIN this model on a down-stream task to be able to use it for predictions and inference.\n"
     ]
    },
    {
     "data": {
      "application/vnd.jupyter.widget-view+json": {
       "model_id": "d3906f2a849444d8805e01377e46fe20",
       "version_major": 2,
       "version_minor": 0
      },
      "text/plain": [
       "Epoch:   0%|          | 0/4 [00:00<?, ?it/s]"
      ]
     },
     "metadata": {},
     "output_type": "display_data"
    },
    {
     "data": {
      "application/vnd.jupyter.widget-view+json": {
       "model_id": "4d9645b5241c4261ba3eec8b8eb1c7cb",
       "version_major": 2,
       "version_minor": 0
      },
      "text/plain": [
       "Running Epoch 0 of 4:   0%|          | 0/67 [00:00<?, ?it/s]"
      ]
     },
     "metadata": {},
     "output_type": "display_data"
    },
    {
     "data": {
      "application/vnd.jupyter.widget-view+json": {
       "model_id": "25ec90062b33427fb3c3ff798208dd72",
       "version_major": 2,
       "version_minor": 0
      },
      "text/plain": [
       "Running Epoch 1 of 4:   0%|          | 0/67 [00:00<?, ?it/s]"
      ]
     },
     "metadata": {},
     "output_type": "display_data"
    },
    {
     "data": {
      "application/vnd.jupyter.widget-view+json": {
       "model_id": "88e26d4d4640441a9683c9a3f9173d40",
       "version_major": 2,
       "version_minor": 0
      },
      "text/plain": [
       "Running Epoch 2 of 4:   0%|          | 0/67 [00:00<?, ?it/s]"
      ]
     },
     "metadata": {},
     "output_type": "display_data"
    },
    {
     "data": {
      "application/vnd.jupyter.widget-view+json": {
       "model_id": "fd97ed8e2b774824ae96867dba1b0254",
       "version_major": 2,
       "version_minor": 0
      },
      "text/plain": [
       "Running Epoch 3 of 4:   0%|          | 0/67 [00:00<?, ?it/s]"
      ]
     },
     "metadata": {},
     "output_type": "display_data"
    },
    {
     "name": "stdout",
     "output_type": "stream",
     "text": [
      "-------------------------\n"
     ]
    },
    {
     "data": {
      "application/vnd.jupyter.widget-view+json": {
       "model_id": "337b41c449b84cf4aed1bbbc21c9d1fe",
       "version_major": 2,
       "version_minor": 0
      },
      "text/plain": [
       "Running Evaluation:   0%|          | 0/23 [00:00<?, ?it/s]"
      ]
     },
     "metadata": {},
     "output_type": "display_data"
    },
    {
     "name": "stdout",
     "output_type": "stream",
     "text": [
      "{'mcc': 0.4376849004405869, 'tp': 188, 'tn': 332, 'fp': 97, 'fn': 95, 'auroc': 0.8039198728244663, 'auprc': 0.7314760831314026, 'acc': 0.7303370786516854, 'precision': array([1, 0, 0, 1, 0, 1, 1, 0, 0, 0, 0, 0, 0, 0, 1, 0, 0, 0, 0, 1, 0, 1,\n",
      "       1, 0, 1, 1, 0, 0, 1, 0, 0, 1, 0, 1, 0, 1, 0, 1, 0, 1, 0, 0, 0, 1,\n",
      "       0, 0, 0, 0, 0, 0, 0, 0, 1, 0, 0, 0, 0, 1, 0, 1, 0, 0, 0, 0, 0, 1,\n",
      "       0, 1, 0, 1, 0, 1, 0, 0, 0, 1, 1, 1, 1, 0, 1, 1, 0, 0, 1, 0, 1, 1,\n",
      "       1, 0, 1, 0, 0, 1, 1, 1, 0, 0, 0, 1, 1, 0, 0, 1, 1, 0, 0, 0, 1, 1,\n",
      "       1, 0, 1, 1, 0, 1, 1, 0, 0, 1, 0, 0, 0, 1, 1, 0, 0, 0, 1, 0, 0, 0,\n",
      "       1, 0, 1, 1, 1, 0, 1, 1, 1, 0, 1, 0, 0, 0, 0, 0, 0, 0, 0, 1, 1, 0,\n",
      "       0, 0, 0, 1, 1, 1, 0, 1, 1, 1, 0, 0, 0, 0, 0, 0, 0, 0, 1, 0, 1, 0,\n",
      "       1, 1, 0, 0, 0, 1, 0, 1, 1, 0, 1, 1, 0, 1, 0, 0, 0, 0, 0, 0, 0, 0,\n",
      "       0, 1, 1, 1, 0, 1, 1, 0, 0, 0, 0, 0, 0, 0, 0, 0, 1, 0, 0, 0, 1, 0,\n",
      "       0, 1, 0, 0, 0, 0, 0, 1, 0, 1, 0, 1, 0, 1, 1, 1, 0, 0, 0, 0, 1, 0,\n",
      "       0, 1, 0, 0, 1, 1, 1, 0, 1, 1, 0, 0, 0, 0, 0, 0, 0, 1, 0, 0, 0, 0,\n",
      "       0, 1, 0, 1, 0, 0, 1, 0, 1, 0, 1, 1, 0, 1, 0, 1, 0, 0, 1, 1, 0, 0,\n",
      "       0, 1, 0, 0, 0, 1, 0, 1, 1, 1, 0, 0, 0, 0, 0, 1, 0, 1, 1, 0, 0, 1,\n",
      "       1, 0, 1, 1, 0, 0, 0, 0, 0, 0, 0, 1, 0, 1, 0, 0, 1, 0, 0, 0, 0, 0,\n",
      "       0, 1, 1, 1, 0, 1, 0, 0, 1, 0, 0, 0, 0, 0, 0, 0, 0, 0, 0, 1, 1, 0,\n",
      "       0, 0, 0, 0, 1, 0, 1, 1, 0, 1, 0, 0, 0, 0, 1, 1, 0, 1, 0, 1, 0, 1,\n",
      "       0, 0, 1, 0, 0, 1, 1, 1, 1, 0, 0, 1, 0, 0, 1, 0, 0, 1, 0, 1, 0, 0,\n",
      "       0, 0, 1, 0, 0, 1, 0, 1, 0, 1, 1, 1, 0, 0, 1, 1, 1, 1, 1, 0, 0, 0,\n",
      "       0, 0, 0, 1, 1, 1, 0, 0, 0, 0, 0, 1, 0, 0, 1, 1, 0, 1, 0, 0, 0, 0,\n",
      "       1, 0, 0, 0, 1, 0, 0, 0, 1, 1, 0, 0, 0, 1, 0, 0, 1, 0, 0, 1, 1, 1,\n",
      "       1, 0, 0, 0, 0, 0, 0, 1, 0, 1, 1, 1, 0, 0, 0, 0, 1, 0, 0, 0, 1, 0,\n",
      "       1, 0, 0, 1, 0, 1, 0, 1, 0, 0, 1, 0, 1, 1, 1, 0, 0, 0, 1, 1, 0, 0,\n",
      "       1, 0, 0, 1, 1, 1, 0, 1, 0, 1, 1, 0, 1, 0, 1, 0, 0, 0, 0, 1, 0, 1,\n",
      "       0, 0, 0, 0, 0, 0, 1, 0, 1, 0, 1, 1, 0, 0, 0, 1, 0, 0, 1, 1, 0, 0,\n",
      "       0, 0, 0, 1, 0, 0, 1, 0, 0, 1, 1, 0, 0, 0, 1, 0, 1, 0, 1, 0, 0, 1,\n",
      "       1, 0, 1, 0, 1, 1, 1, 1, 1, 0, 0, 0, 1, 0, 1, 0, 0, 0, 1, 1, 0, 1,\n",
      "       0, 1, 0, 0, 0, 0, 1, 0, 1, 1, 0, 0, 1, 0, 0, 0, 1, 1, 0, 1, 1, 1,\n",
      "       1, 1, 1, 0, 0, 1, 1, 0, 0, 0, 0, 1, 0, 0, 0, 0, 0, 0, 1, 0, 0, 1,\n",
      "       0, 1, 1, 0, 1, 1, 0, 0, 0, 0, 0, 1, 1, 1, 1, 1, 1, 0, 1, 0, 0, 1,\n",
      "       0, 0, 1, 1, 0, 0, 1, 0, 1, 0, 1, 0, 0, 0, 1, 0, 0, 0, 1, 1, 0, 0,\n",
      "       0, 0, 0, 0, 0, 0, 0, 1, 0, 1, 0, 0, 1, 1, 1, 0, 1, 0, 1, 1, 0, 1,\n",
      "       1, 1, 0, 1, 1, 1, 0, 0]), 'eval_loss': 0.7735283867172573}\n",
      "----------------\n",
      "{0: {'precision': 0.7775175644028103, 'recall': 0.7738927738927739, 'f1-score': 0.7757009345794392, 'support': 429}, 1: {'precision': 0.6596491228070176, 'recall': 0.6643109540636042, 'f1-score': 0.6619718309859154, 'support': 283}, 'accuracy': 0.7303370786516854, 'macro avg': {'precision': 0.7185833436049139, 'recall': 0.719101863978189, 'f1-score': 0.7188363827826774, 'support': 712}, 'weighted avg': {'precision': 0.7306681697797636, 'recall': 0.7303370786516854, 'f1-score': 0.7304968105387549, 'support': 712}}\n",
      "DICT: {'0 precision': 0.7775175644028103, '0 recall': 0.7738927738927739, '0 f1-score': 0.7757009345794392, '0 support': 429, '1 precision': 0.6596491228070176, '1 recall': 0.6643109540636042, '1 f1-score': 0.6619718309859154, '1 support': 283, 'accuracy accuracy': 0.7303370786516854, 'macro avg precision': 0.7185833436049139, 'macro avg recall': 0.719101863978189, 'macro avg f1-score': 0.7188363827826774, 'macro avg support': 712, 'weighted avg precision': 0.7306681697797636, 'weighted avg recall': 0.7303370786516854, 'weighted avg f1-score': 0.7304968105387549, 'weighted avg support': 712}\n",
      "Training Model Now\n",
      "                                                   text  labels\n",
      "0      So ein HearthstoneKey von  für den netten You...       0\n",
      "1                                       unachtsam seufz       1\n",
      "2               Tumblr, Internet, allein sein, nerven.        1\n",
      "3      Ich wünsche euch ne guttttte Nacht my loves &...       0\n",
      "4                                     Ce ciel                 0\n",
      "...                                                 ...     ...\n",
      "2131  Hab morgen nicht viel Zeit zu packen &amp; noc...       1\n",
      "2132  waah the guys are here, joining our partyy, wa...       0\n",
      "2133                         Okay.  Machse einfach! EU.       1\n",
      "2134  Ich muss gerade irgendwem, der mich nicht dafü...       0\n",
      "2135   Ich mag ihn auch echt gerne, haste fein gemacht!       0\n",
      "\n",
      "[2136 rows x 2 columns]\n"
     ]
    },
    {
     "name": "stderr",
     "output_type": "stream",
     "text": [
      "Some weights of BertForSequenceClassification were not initialized from the model checkpoint at nlptown/bert-base-multilingual-uncased-sentiment and are newly initialized because the shapes did not match:\n",
      "- classifier.weight: found shape torch.Size([5, 768]) in the checkpoint and torch.Size([2, 768]) in the model instantiated\n",
      "- classifier.bias: found shape torch.Size([5]) in the checkpoint and torch.Size([2]) in the model instantiated\n",
      "You should probably TRAIN this model on a down-stream task to be able to use it for predictions and inference.\n"
     ]
    },
    {
     "data": {
      "application/vnd.jupyter.widget-view+json": {
       "model_id": "f6ebda31cedb46a1bf95c0cf06d86426",
       "version_major": 2,
       "version_minor": 0
      },
      "text/plain": [
       "Epoch:   0%|          | 0/4 [00:00<?, ?it/s]"
      ]
     },
     "metadata": {},
     "output_type": "display_data"
    },
    {
     "data": {
      "application/vnd.jupyter.widget-view+json": {
       "model_id": "9cc6cdc8de484055959240ee415d1745",
       "version_major": 2,
       "version_minor": 0
      },
      "text/plain": [
       "Running Epoch 0 of 4:   0%|          | 0/67 [00:00<?, ?it/s]"
      ]
     },
     "metadata": {},
     "output_type": "display_data"
    },
    {
     "data": {
      "application/vnd.jupyter.widget-view+json": {
       "model_id": "fd496ff9224f48a7b0c32ea12ccdf19c",
       "version_major": 2,
       "version_minor": 0
      },
      "text/plain": [
       "Running Epoch 1 of 4:   0%|          | 0/67 [00:00<?, ?it/s]"
      ]
     },
     "metadata": {},
     "output_type": "display_data"
    },
    {
     "data": {
      "application/vnd.jupyter.widget-view+json": {
       "model_id": "7e00fc4ca7ce4389aff45fd2518a8a61",
       "version_major": 2,
       "version_minor": 0
      },
      "text/plain": [
       "Running Epoch 2 of 4:   0%|          | 0/67 [00:00<?, ?it/s]"
      ]
     },
     "metadata": {},
     "output_type": "display_data"
    },
    {
     "data": {
      "application/vnd.jupyter.widget-view+json": {
       "model_id": "fa067db78dd8475f966c4a226855092d",
       "version_major": 2,
       "version_minor": 0
      },
      "text/plain": [
       "Running Epoch 3 of 4:   0%|          | 0/67 [00:00<?, ?it/s]"
      ]
     },
     "metadata": {},
     "output_type": "display_data"
    },
    {
     "name": "stdout",
     "output_type": "stream",
     "text": [
      "-------------------------\n"
     ]
    },
    {
     "data": {
      "application/vnd.jupyter.widget-view+json": {
       "model_id": "193ab900e39041aa88b05cb1971fdd07",
       "version_major": 2,
       "version_minor": 0
      },
      "text/plain": [
       "Running Evaluation:   0%|          | 0/23 [00:00<?, ?it/s]"
      ]
     },
     "metadata": {},
     "output_type": "display_data"
    },
    {
     "name": "stdout",
     "output_type": "stream",
     "text": [
      "{'mcc': 0.43629775762138484, 'tp': 173, 'tn': 349, 'fp': 80, 'fn': 109, 'auroc': 0.7981864471226172, 'auprc': 0.7387310052432753, 'acc': 0.7341772151898734, 'precision': array([1, 1, 0, 1, 0, 0, 0, 0, 1, 0, 0, 1, 0, 0, 0, 0, 1, 0, 1, 1, 0, 0,\n",
      "       1, 0, 0, 0, 1, 0, 0, 0, 1, 0, 0, 0, 0, 1, 0, 0, 1, 0, 0, 1, 0, 0,\n",
      "       0, 0, 1, 1, 0, 0, 1, 1, 0, 0, 1, 0, 0, 0, 0, 0, 0, 0, 1, 0, 0, 1,\n",
      "       0, 0, 1, 1, 0, 1, 1, 0, 0, 0, 1, 0, 0, 1, 1, 0, 1, 1, 0, 0, 0, 1,\n",
      "       0, 1, 1, 0, 0, 0, 1, 1, 0, 0, 0, 0, 0, 0, 1, 0, 1, 0, 1, 1, 0, 0,\n",
      "       1, 0, 1, 0, 0, 0, 1, 0, 1, 0, 0, 1, 1, 1, 1, 0, 0, 0, 0, 0, 1, 0,\n",
      "       0, 0, 0, 1, 0, 0, 0, 0, 1, 1, 1, 1, 1, 1, 1, 0, 1, 0, 1, 0, 1, 1,\n",
      "       0, 1, 0, 0, 1, 0, 1, 0, 1, 0, 0, 0, 0, 0, 0, 0, 0, 0, 1, 0, 0, 0,\n",
      "       1, 1, 1, 0, 0, 0, 0, 1, 0, 0, 0, 1, 0, 1, 0, 0, 0, 1, 0, 0, 1, 1,\n",
      "       1, 1, 1, 1, 0, 1, 0, 0, 1, 0, 0, 0, 0, 1, 0, 0, 0, 0, 0, 0, 0, 0,\n",
      "       0, 0, 0, 0, 1, 0, 1, 1, 1, 1, 1, 0, 0, 1, 0, 0, 0, 0, 0, 1, 0, 1,\n",
      "       1, 1, 0, 0, 0, 0, 0, 0, 0, 1, 1, 0, 0, 0, 0, 0, 1, 1, 0, 0, 1, 0,\n",
      "       1, 1, 0, 0, 0, 1, 0, 0, 0, 1, 1, 1, 0, 0, 1, 0, 0, 1, 1, 1, 1, 0,\n",
      "       1, 1, 0, 1, 1, 1, 0, 0, 0, 1, 1, 0, 0, 1, 1, 1, 0, 1, 0, 1, 0, 0,\n",
      "       0, 0, 0, 1, 1, 0, 0, 0, 0, 0, 0, 0, 0, 0, 1, 0, 0, 1, 1, 1, 1, 0,\n",
      "       0, 0, 0, 0, 1, 1, 1, 0, 1, 0, 0, 1, 0, 1, 0, 0, 1, 0, 0, 0, 0, 0,\n",
      "       0, 0, 0, 1, 0, 1, 0, 0, 0, 0, 1, 0, 0, 1, 1, 1, 0, 0, 0, 1, 0, 1,\n",
      "       1, 0, 1, 0, 0, 0, 0, 0, 0, 0, 1, 0, 0, 0, 0, 0, 0, 1, 0, 0, 1, 0,\n",
      "       1, 0, 1, 1, 0, 0, 0, 0, 0, 0, 0, 0, 0, 0, 0, 0, 1, 1, 0, 0, 0, 0,\n",
      "       0, 1, 1, 1, 0, 1, 1, 0, 1, 1, 0, 0, 0, 0, 1, 1, 1, 1, 0, 0, 0, 1,\n",
      "       0, 0, 0, 0, 1, 0, 0, 0, 1, 0, 1, 1, 0, 0, 0, 0, 1, 1, 1, 1, 0, 0,\n",
      "       0, 0, 1, 0, 0, 0, 1, 0, 1, 0, 0, 0, 0, 0, 0, 0, 1, 0, 0, 1, 1, 1,\n",
      "       0, 0, 1, 0, 0, 1, 0, 1, 0, 0, 0, 1, 1, 1, 0, 0, 0, 0, 0, 0, 0, 1,\n",
      "       1, 0, 0, 0, 1, 0, 1, 0, 0, 1, 0, 1, 0, 1, 0, 1, 0, 0, 1, 0, 0, 0,\n",
      "       0, 1, 0, 1, 0, 0, 1, 0, 1, 1, 0, 0, 0, 0, 0, 1, 0, 0, 0, 0, 0, 0,\n",
      "       1, 0, 0, 1, 0, 1, 1, 1, 1, 0, 1, 0, 1, 0, 1, 1, 0, 1, 0, 0, 0, 1,\n",
      "       0, 1, 0, 0, 0, 0, 0, 1, 0, 0, 0, 0, 0, 0, 0, 0, 1, 0, 0, 1, 0, 0,\n",
      "       0, 0, 0, 0, 0, 1, 0, 0, 0, 0, 0, 0, 0, 0, 0, 0, 1, 0, 1, 1, 0, 0,\n",
      "       0, 0, 1, 0, 0, 1, 1, 0, 0, 0, 0, 0, 1, 1, 0, 0, 0, 1, 0, 1, 0, 0,\n",
      "       1, 0, 1, 1, 1, 0, 1, 1, 0, 0, 0, 0, 0, 0, 0, 0, 0, 1, 1, 1, 1, 0,\n",
      "       1, 1, 0, 0, 0, 0, 0, 0, 0, 0, 0, 0, 0, 0, 0, 1, 0, 0, 0, 1, 0, 1,\n",
      "       0, 1, 1, 1, 0, 0, 1, 1, 1, 0, 0, 0, 0, 0, 0, 0, 1, 0, 0, 0, 0, 0,\n",
      "       1, 1, 1, 0, 1, 0, 0]), 'eval_loss': 0.7919714230558147}\n",
      "----------------\n",
      "{0: {'precision': 0.7620087336244541, 'recall': 0.8135198135198135, 'f1-score': 0.7869222096956032, 'support': 429}, 1: {'precision': 0.6837944664031621, 'recall': 0.6134751773049646, 'f1-score': 0.6467289719626168, 'support': 282}, 'accuracy': 0.7341772151898734, 'macro avg': {'precision': 0.7229016000138081, 'recall': 0.713497495412389, 'f1-score': 0.71682559082911, 'support': 711}, 'weighted avg': {'precision': 0.7309870411400599, 'recall': 0.7341772151898734, 'f1-score': 0.7313181407213385, 'support': 711}}\n",
      "DICT: {'0 precision': 0.7620087336244541, '0 recall': 0.8135198135198135, '0 f1-score': 0.7869222096956032, '0 support': 429, '1 precision': 0.6837944664031621, '1 recall': 0.6134751773049646, '1 f1-score': 0.6467289719626168, '1 support': 282, 'accuracy accuracy': 0.7341772151898734, 'macro avg precision': 0.7229016000138081, 'macro avg recall': 0.713497495412389, 'macro avg f1-score': 0.71682559082911, 'macro avg support': 711, 'weighted avg precision': 0.7309870411400599, 'weighted avg recall': 0.7341772151898734, 'weighted avg f1-score': 0.7313181407213385, 'weighted avg support': 711}\n",
      "Finish\n",
      "Start for corpora:  ../../../Corpora/Preprocessed_Transformers_Less_Preprocessing/Binary/SM02_potts_Preprocessed_binary_Transformer.tsv\n",
      "Training Model Now\n",
      "                                                   text  labels\n",
      "0       für die  reicht es halt noch nicht , wir übe...       0\n",
      "1         ja mach das mal ich will unedingt eien läc...       0\n",
      "2     Omg ich komm von der Schule und sehe dass  mir...       0\n",
      "3        ein tag voller adrenalin und kalorien lächeln        0\n",
      "4     Das war vielleicht ein Wochenende lächeln Der ...       0\n",
      "...                                                 ...     ...\n",
      "3639               Sieht ja nich mehr so frisch aus xO        1\n",
      "3640  Wird hier hetzt von jedem ein papst  tweet erw...       0\n",
      "3641  Irgendwie bizzarr , wenn im Stadion News über ...       1\n",
      "3642     Welches Gras rauchen eigentlich all die hun...       0\n",
      "3643     Francisco nahm sich Franz von Assisi zum Vo...       0\n",
      "\n",
      "[3644 rows x 2 columns]\n"
     ]
    },
    {
     "name": "stderr",
     "output_type": "stream",
     "text": [
      "Some weights of BertForSequenceClassification were not initialized from the model checkpoint at nlptown/bert-base-multilingual-uncased-sentiment and are newly initialized because the shapes did not match:\n",
      "- classifier.weight: found shape torch.Size([5, 768]) in the checkpoint and torch.Size([2, 768]) in the model instantiated\n",
      "- classifier.bias: found shape torch.Size([5]) in the checkpoint and torch.Size([2]) in the model instantiated\n",
      "You should probably TRAIN this model on a down-stream task to be able to use it for predictions and inference.\n"
     ]
    },
    {
     "data": {
      "application/vnd.jupyter.widget-view+json": {
       "model_id": "51c86feb13fd4b609613c68fa6d0e234",
       "version_major": 2,
       "version_minor": 0
      },
      "text/plain": [
       "Epoch:   0%|          | 0/4 [00:00<?, ?it/s]"
      ]
     },
     "metadata": {},
     "output_type": "display_data"
    },
    {
     "data": {
      "application/vnd.jupyter.widget-view+json": {
       "model_id": "dd3f9a257efb47e1b2469d30c64e67af",
       "version_major": 2,
       "version_minor": 0
      },
      "text/plain": [
       "Running Epoch 0 of 4:   0%|          | 0/114 [00:00<?, ?it/s]"
      ]
     },
     "metadata": {},
     "output_type": "display_data"
    },
    {
     "data": {
      "application/vnd.jupyter.widget-view+json": {
       "model_id": "c36c3657aee34f54b406d0c2c6382cf4",
       "version_major": 2,
       "version_minor": 0
      },
      "text/plain": [
       "Running Epoch 1 of 4:   0%|          | 0/114 [00:00<?, ?it/s]"
      ]
     },
     "metadata": {},
     "output_type": "display_data"
    },
    {
     "data": {
      "application/vnd.jupyter.widget-view+json": {
       "model_id": "fd4fd1b7173b429da40f70fe7d81c945",
       "version_major": 2,
       "version_minor": 0
      },
      "text/plain": [
       "Running Epoch 2 of 4:   0%|          | 0/114 [00:00<?, ?it/s]"
      ]
     },
     "metadata": {},
     "output_type": "display_data"
    },
    {
     "data": {
      "application/vnd.jupyter.widget-view+json": {
       "model_id": "766c571dbaca4295b7913e49bd72d6f2",
       "version_major": 2,
       "version_minor": 0
      },
      "text/plain": [
       "Running Epoch 3 of 4:   0%|          | 0/114 [00:00<?, ?it/s]"
      ]
     },
     "metadata": {},
     "output_type": "display_data"
    },
    {
     "name": "stdout",
     "output_type": "stream",
     "text": [
      "-------------------------\n"
     ]
    },
    {
     "data": {
      "application/vnd.jupyter.widget-view+json": {
       "model_id": "e93f1f47db954644b97243342dd7b00a",
       "version_major": 2,
       "version_minor": 0
      },
      "text/plain": [
       "Running Evaluation:   0%|          | 0/38 [00:00<?, ?it/s]"
      ]
     },
     "metadata": {},
     "output_type": "display_data"
    },
    {
     "name": "stdout",
     "output_type": "stream",
     "text": [
      "{'mcc': 0.37845589915813616, 'tp': 210, 'tn': 685, 'fp': 153, 'fn': 167, 'auroc': 0.7488668232434179, 'auprc': 0.5737000694302908, 'acc': 0.7366255144032922, 'precision': array([0, 0, 0, ..., 0, 1, 1]), 'eval_loss': 0.8207092567494041}\n",
      "----------------\n",
      "{0: {'precision': 0.8039906103286385, 'recall': 0.8174224343675418, 'f1-score': 0.8106508875739645, 'support': 838}, 1: {'precision': 0.5785123966942148, 'recall': 0.5570291777188329, 'f1-score': 0.5675675675675675, 'support': 377}, 'accuracy': 0.7366255144032922, 'macro avg': {'precision': 0.6912515035114266, 'recall': 0.6872258060431873, 'f1-score': 0.689109227570766, 'support': 1215}, 'weighted avg': {'precision': 0.7340274115301383, 'recall': 0.7366255144032922, 'f1-score': 0.7352250343703335, 'support': 1215}}\n",
      "DICT: {'0 precision': 0.8039906103286385, '0 recall': 0.8174224343675418, '0 f1-score': 0.8106508875739645, '0 support': 838, '1 precision': 0.5785123966942148, '1 recall': 0.5570291777188329, '1 f1-score': 0.5675675675675675, '1 support': 377, 'accuracy accuracy': 0.7366255144032922, 'macro avg precision': 0.6912515035114266, 'macro avg recall': 0.6872258060431873, 'macro avg f1-score': 0.689109227570766, 'macro avg support': 1215, 'weighted avg precision': 0.7340274115301383, 'weighted avg recall': 0.7366255144032922, 'weighted avg f1-score': 0.7352250343703335, 'weighted avg support': 1215}\n",
      "Training Model Now\n",
      "                                                   text  labels\n",
      "0         ja mach das mal ich will unedingt eien läc...       0\n",
      "1     Rating  Update bei Cache me if you can ! läche...       0\n",
      "2        ein tag voller adrenalin und kalorien lächeln        0\n",
      "3       dann wäre ich bestimmt weiter gekommen zwinkern       0\n",
      "4      nein haha lachen ich holsir iwann wenn ich me...       0\n",
      "...                                                 ...     ...\n",
      "3639               Sieht ja nich mehr so frisch aus xO        1\n",
      "3640  Wird hier hetzt von jedem ein papst  tweet erw...       0\n",
      "3641  Irgendwie bizzarr , wenn im Stadion News über ...       1\n",
      "3642     Welches Gras rauchen eigentlich all die hun...       0\n",
      "3643     Francisco nahm sich Franz von Assisi zum Vo...       0\n",
      "\n",
      "[3644 rows x 2 columns]\n"
     ]
    },
    {
     "name": "stderr",
     "output_type": "stream",
     "text": [
      "Some weights of BertForSequenceClassification were not initialized from the model checkpoint at nlptown/bert-base-multilingual-uncased-sentiment and are newly initialized because the shapes did not match:\n",
      "- classifier.weight: found shape torch.Size([5, 768]) in the checkpoint and torch.Size([2, 768]) in the model instantiated\n",
      "- classifier.bias: found shape torch.Size([5]) in the checkpoint and torch.Size([2]) in the model instantiated\n",
      "You should probably TRAIN this model on a down-stream task to be able to use it for predictions and inference.\n"
     ]
    },
    {
     "data": {
      "application/vnd.jupyter.widget-view+json": {
       "model_id": "37766e9d9a7c4240a80a4934bea8d945",
       "version_major": 2,
       "version_minor": 0
      },
      "text/plain": [
       "Epoch:   0%|          | 0/4 [00:00<?, ?it/s]"
      ]
     },
     "metadata": {},
     "output_type": "display_data"
    },
    {
     "data": {
      "application/vnd.jupyter.widget-view+json": {
       "model_id": "0aa3531b2a254cf7ac0022ed7e21477a",
       "version_major": 2,
       "version_minor": 0
      },
      "text/plain": [
       "Running Epoch 0 of 4:   0%|          | 0/114 [00:00<?, ?it/s]"
      ]
     },
     "metadata": {},
     "output_type": "display_data"
    },
    {
     "data": {
      "application/vnd.jupyter.widget-view+json": {
       "model_id": "a609817debbb41359f3d6ab50e42b774",
       "version_major": 2,
       "version_minor": 0
      },
      "text/plain": [
       "Running Epoch 1 of 4:   0%|          | 0/114 [00:00<?, ?it/s]"
      ]
     },
     "metadata": {},
     "output_type": "display_data"
    },
    {
     "data": {
      "application/vnd.jupyter.widget-view+json": {
       "model_id": "bfdc65dc67244d7abcf96e7a26994045",
       "version_major": 2,
       "version_minor": 0
      },
      "text/plain": [
       "Running Epoch 2 of 4:   0%|          | 0/114 [00:00<?, ?it/s]"
      ]
     },
     "metadata": {},
     "output_type": "display_data"
    },
    {
     "data": {
      "application/vnd.jupyter.widget-view+json": {
       "model_id": "93ed5a68ee8f48f29a6ce54b903d7fd0",
       "version_major": 2,
       "version_minor": 0
      },
      "text/plain": [
       "Running Epoch 3 of 4:   0%|          | 0/114 [00:00<?, ?it/s]"
      ]
     },
     "metadata": {},
     "output_type": "display_data"
    },
    {
     "name": "stdout",
     "output_type": "stream",
     "text": [
      "-------------------------\n"
     ]
    },
    {
     "data": {
      "application/vnd.jupyter.widget-view+json": {
       "model_id": "0dac66a33f3140b2a4323ef849fbfb4d",
       "version_major": 2,
       "version_minor": 0
      },
      "text/plain": [
       "Running Evaluation:   0%|          | 0/38 [00:00<?, ?it/s]"
      ]
     },
     "metadata": {},
     "output_type": "display_data"
    },
    {
     "name": "stdout",
     "output_type": "stream",
     "text": [
      "{'mcc': 0.3353911165510208, 'tp': 197, 'tn': 677, 'fp': 160, 'fn': 181, 'auroc': 0.7568745140429727, 'auprc': 0.5763110000249306, 'acc': 0.7193415637860082, 'precision': array([0, 0, 1, ..., 1, 1, 1]), 'eval_loss': 0.7587541977041646}\n",
      "----------------\n",
      "{0: {'precision': 0.789044289044289, 'recall': 0.8088410991636799, 'f1-score': 0.7988200589970501, 'support': 837}, 1: {'precision': 0.5518207282913166, 'recall': 0.5211640211640212, 'f1-score': 0.5360544217687074, 'support': 378}, 'accuracy': 0.7193415637860082, 'macro avg': {'precision': 0.6704325086678028, 'recall': 0.6650025601638505, 'f1-score': 0.6674372403828788, 'support': 1215}, 'weighted avg': {'precision': 0.7152414034766975, 'recall': 0.7193415637860082, 'f1-score': 0.7170707496371213, 'support': 1215}}\n",
      "DICT: {'0 precision': 0.789044289044289, '0 recall': 0.8088410991636799, '0 f1-score': 0.7988200589970501, '0 support': 837, '1 precision': 0.5518207282913166, '1 recall': 0.5211640211640212, '1 f1-score': 0.5360544217687074, '1 support': 378, 'accuracy accuracy': 0.7193415637860082, 'macro avg precision': 0.6704325086678028, 'macro avg recall': 0.6650025601638505, 'macro avg f1-score': 0.6674372403828788, 'macro avg support': 1215, 'weighted avg precision': 0.7152414034766975, 'weighted avg recall': 0.7193415637860082, 'weighted avg f1-score': 0.7170707496371213, 'weighted avg support': 1215}\n",
      "Training Model Now\n",
      "                                                   text  labels\n",
      "0       für die  reicht es halt noch nicht , wir übe...       0\n",
      "1         ja mach das mal ich will unedingt eien läc...       0\n",
      "2     Rating  Update bei Cache me if you can ! läche...       0\n",
      "3     Omg ich komm von der Schule und sehe dass  mir...       0\n",
      "4        ein tag voller adrenalin und kalorien lächeln        0\n",
      "...                                                 ...     ...\n",
      "3639  Dieser oder jeder andere  kratzt mich nicht . ...       1\n",
      "3640  Wird hier hetzt von jedem ein papst  tweet erw...       0\n",
      "3641  Irgendwie bizzarr , wenn im Stadion News über ...       1\n",
      "3642     Welches Gras rauchen eigentlich all die hun...       0\n",
      "3643     Francisco nahm sich Franz von Assisi zum Vo...       0\n",
      "\n",
      "[3644 rows x 2 columns]\n"
     ]
    },
    {
     "name": "stderr",
     "output_type": "stream",
     "text": [
      "Some weights of BertForSequenceClassification were not initialized from the model checkpoint at nlptown/bert-base-multilingual-uncased-sentiment and are newly initialized because the shapes did not match:\n",
      "- classifier.weight: found shape torch.Size([5, 768]) in the checkpoint and torch.Size([2, 768]) in the model instantiated\n",
      "- classifier.bias: found shape torch.Size([5]) in the checkpoint and torch.Size([2]) in the model instantiated\n",
      "You should probably TRAIN this model on a down-stream task to be able to use it for predictions and inference.\n"
     ]
    },
    {
     "data": {
      "application/vnd.jupyter.widget-view+json": {
       "model_id": "68c434aea5304262a0239591a67098ba",
       "version_major": 2,
       "version_minor": 0
      },
      "text/plain": [
       "Epoch:   0%|          | 0/4 [00:00<?, ?it/s]"
      ]
     },
     "metadata": {},
     "output_type": "display_data"
    },
    {
     "data": {
      "application/vnd.jupyter.widget-view+json": {
       "model_id": "55eae4901bd54db3ab6795b4451108e0",
       "version_major": 2,
       "version_minor": 0
      },
      "text/plain": [
       "Running Epoch 0 of 4:   0%|          | 0/114 [00:00<?, ?it/s]"
      ]
     },
     "metadata": {},
     "output_type": "display_data"
    },
    {
     "data": {
      "application/vnd.jupyter.widget-view+json": {
       "model_id": "f1e6edb96c4a4168859fbd803d829bef",
       "version_major": 2,
       "version_minor": 0
      },
      "text/plain": [
       "Running Epoch 1 of 4:   0%|          | 0/114 [00:00<?, ?it/s]"
      ]
     },
     "metadata": {},
     "output_type": "display_data"
    },
    {
     "data": {
      "application/vnd.jupyter.widget-view+json": {
       "model_id": "92cad98f40fe4c75ae37bea580f45c3a",
       "version_major": 2,
       "version_minor": 0
      },
      "text/plain": [
       "Running Epoch 2 of 4:   0%|          | 0/114 [00:00<?, ?it/s]"
      ]
     },
     "metadata": {},
     "output_type": "display_data"
    },
    {
     "data": {
      "application/vnd.jupyter.widget-view+json": {
       "model_id": "882ece42d2e044a99fb35186ad38cc59",
       "version_major": 2,
       "version_minor": 0
      },
      "text/plain": [
       "Running Epoch 3 of 4:   0%|          | 0/114 [00:00<?, ?it/s]"
      ]
     },
     "metadata": {},
     "output_type": "display_data"
    },
    {
     "name": "stdout",
     "output_type": "stream",
     "text": [
      "-------------------------\n"
     ]
    },
    {
     "data": {
      "application/vnd.jupyter.widget-view+json": {
       "model_id": "7a0596980d4e4bf0b2a8840c170877c0",
       "version_major": 2,
       "version_minor": 0
      },
      "text/plain": [
       "Running Evaluation:   0%|          | 0/38 [00:00<?, ?it/s]"
      ]
     },
     "metadata": {},
     "output_type": "display_data"
    },
    {
     "name": "stdout",
     "output_type": "stream",
     "text": [
      "{'mcc': 0.36621278001966634, 'tp': 201, 'tn': 691, 'fp': 146, 'fn': 177, 'auroc': 0.7497487246591189, 'auprc': 0.5839436033156109, 'acc': 0.7341563786008231, 'precision': array([0, 1, 0, ..., 0, 0, 0]), 'eval_loss': 0.7833035596107182}\n",
      "----------------\n",
      "{0: {'precision': 0.7960829493087558, 'recall': 0.8255675029868578, 'f1-score': 0.810557184750733, 'support': 837}, 1: {'precision': 0.579250720461095, 'recall': 0.5317460317460317, 'f1-score': 0.5544827586206896, 'support': 378}, 'accuracy': 0.7341563786008231, 'macro avg': {'precision': 0.6876668348849254, 'recall': 0.6786567673664448, 'f1-score': 0.6825199716857113, 'support': 1215}, 'weighted avg': {'precision': 0.7286240336672614, 'recall': 0.7341563786008231, 'f1-score': 0.730889585510275, 'support': 1215}}\n",
      "DICT: {'0 precision': 0.7960829493087558, '0 recall': 0.8255675029868578, '0 f1-score': 0.810557184750733, '0 support': 837, '1 precision': 0.579250720461095, '1 recall': 0.5317460317460317, '1 f1-score': 0.5544827586206896, '1 support': 378, 'accuracy accuracy': 0.7341563786008231, 'macro avg precision': 0.6876668348849254, 'macro avg recall': 0.6786567673664448, 'macro avg f1-score': 0.6825199716857113, 'macro avg support': 1215, 'weighted avg precision': 0.7286240336672614, 'weighted avg recall': 0.7341563786008231, 'weighted avg f1-score': 0.730889585510275, 'weighted avg support': 1215}\n",
      "Training Model Now\n",
      "                                                   text  labels\n",
      "0       für die  reicht es halt noch nicht , wir übe...       0\n",
      "1     Rating  Update bei Cache me if you can ! läche...       0\n",
      "2     Omg ich komm von der Schule und sehe dass  mir...       0\n",
      "3     Das war vielleicht ein Wochenende lächeln Der ...       0\n",
      "4      ich kann kein niederländisch traurig well I u...       1\n",
      "...                                                 ...     ...\n",
      "3640  Ich möchte gar nicht über dieses Papst schreib...       1\n",
      "3641  Vermutlich verbrennen die nur nen Autoreifen i...       1\n",
      "3642  Der  sieht aus wie Johannes Paul II nur mit br...       0\n",
      "3643  Dieser oder jeder andere  kratzt mich nicht . ...       1\n",
      "3644               Sieht ja nich mehr so frisch aus xO        1\n",
      "\n",
      "[3645 rows x 2 columns]\n"
     ]
    },
    {
     "name": "stderr",
     "output_type": "stream",
     "text": [
      "Some weights of BertForSequenceClassification were not initialized from the model checkpoint at nlptown/bert-base-multilingual-uncased-sentiment and are newly initialized because the shapes did not match:\n",
      "- classifier.weight: found shape torch.Size([5, 768]) in the checkpoint and torch.Size([2, 768]) in the model instantiated\n",
      "- classifier.bias: found shape torch.Size([5]) in the checkpoint and torch.Size([2]) in the model instantiated\n",
      "You should probably TRAIN this model on a down-stream task to be able to use it for predictions and inference.\n"
     ]
    },
    {
     "data": {
      "application/vnd.jupyter.widget-view+json": {
       "model_id": "5381ec39a0244eaabf2f0b25f338ac81",
       "version_major": 2,
       "version_minor": 0
      },
      "text/plain": [
       "Epoch:   0%|          | 0/4 [00:00<?, ?it/s]"
      ]
     },
     "metadata": {},
     "output_type": "display_data"
    },
    {
     "data": {
      "application/vnd.jupyter.widget-view+json": {
       "model_id": "dd415b579609435394bfc4f860b93d2d",
       "version_major": 2,
       "version_minor": 0
      },
      "text/plain": [
       "Running Epoch 0 of 4:   0%|          | 0/114 [00:00<?, ?it/s]"
      ]
     },
     "metadata": {},
     "output_type": "display_data"
    },
    {
     "data": {
      "application/vnd.jupyter.widget-view+json": {
       "model_id": "894e525ed09c43b19f103e1a5c696d14",
       "version_major": 2,
       "version_minor": 0
      },
      "text/plain": [
       "Running Epoch 1 of 4:   0%|          | 0/114 [00:00<?, ?it/s]"
      ]
     },
     "metadata": {},
     "output_type": "display_data"
    },
    {
     "data": {
      "application/vnd.jupyter.widget-view+json": {
       "model_id": "22d832cfe657499694f2f584e4cbb508",
       "version_major": 2,
       "version_minor": 0
      },
      "text/plain": [
       "Running Epoch 2 of 4:   0%|          | 0/114 [00:00<?, ?it/s]"
      ]
     },
     "metadata": {},
     "output_type": "display_data"
    },
    {
     "data": {
      "application/vnd.jupyter.widget-view+json": {
       "model_id": "ec353c5ac26345a6af383e8fc936f055",
       "version_major": 2,
       "version_minor": 0
      },
      "text/plain": [
       "Running Epoch 3 of 4:   0%|          | 0/114 [00:00<?, ?it/s]"
      ]
     },
     "metadata": {},
     "output_type": "display_data"
    },
    {
     "name": "stdout",
     "output_type": "stream",
     "text": [
      "-------------------------\n"
     ]
    },
    {
     "data": {
      "application/vnd.jupyter.widget-view+json": {
       "model_id": "774fa90f2f8d46bb9c9f2474330f20c0",
       "version_major": 2,
       "version_minor": 0
      },
      "text/plain": [
       "Running Evaluation:   0%|          | 0/38 [00:00<?, ?it/s]"
      ]
     },
     "metadata": {},
     "output_type": "display_data"
    },
    {
     "name": "stdout",
     "output_type": "stream",
     "text": [
      "{'mcc': 0.3743103407701867, 'tp': 200, 'tn': 697, 'fp': 140, 'fn': 177, 'auroc': 0.7448003321195757, 'auprc': 0.5661106804861317, 'acc': 0.7388797364085667, 'precision': array([0, 0, 1, ..., 0, 0, 0]), 'eval_loss': 0.7693315564017547}\n",
      "----------------\n",
      "{0: {'precision': 0.7974828375286042, 'recall': 0.8327359617682198, 'f1-score': 0.8147282291057861, 'support': 837}, 1: {'precision': 0.5882352941176471, 'recall': 0.5305039787798409, 'f1-score': 0.5578800557880057, 'support': 377}, 'accuracy': 0.7388797364085667, 'macro avg': {'precision': 0.6928590658231256, 'recall': 0.6816199702740304, 'f1-score': 0.6863041424468959, 'support': 1214}, 'weighted avg': {'precision': 0.7325023401102098, 'recall': 0.7388797364085667, 'f1-score': 0.7349656579848608, 'support': 1214}}\n",
      "DICT: {'0 precision': 0.7974828375286042, '0 recall': 0.8327359617682198, '0 f1-score': 0.8147282291057861, '0 support': 837, '1 precision': 0.5882352941176471, '1 recall': 0.5305039787798409, '1 f1-score': 0.5578800557880057, '1 support': 377, 'accuracy accuracy': 0.7388797364085667, 'macro avg precision': 0.6928590658231256, 'macro avg recall': 0.6816199702740304, 'macro avg f1-score': 0.6863041424468959, 'macro avg support': 1214, 'weighted avg precision': 0.7325023401102098, 'weighted avg recall': 0.7388797364085667, 'weighted avg f1-score': 0.7349656579848608, 'weighted avg support': 1214}\n",
      "Finish\n",
      "Start for corpora:  ../../../Corpora/Preprocessed_Transformers_Less_Preprocessing/Binary/SM03_multiSe_Preprocessed_binary_Transformer.tsv\n",
      "Training Model Now\n",
      "                                                  text  labels\n",
      "0                                            zu Hause        0\n",
      "1    Okay der straenbahnfahrer is besoffen Oo fährt...       1\n",
      "2    Frohe Weihnachten alle zusammen. Ich hoffe ihr...       0\n",
      "3    Die  und ich haben heute einen besonders tolle...       0\n",
      "4          Schlafen.  Morgen Arbeiten; dann Jule hier        0\n",
      "..                                                 ...     ...\n",
      "435  Wenn du jeden Tag denkst es waere dein letzter...       1\n",
      "436  Sehr gut!  Twitter verhandelt m. Google & Micr...       0\n",
      "437                            Blöde Vettelwirtschaft.       1\n",
      "438  Mit einem schnellen; gekonnten Schlag zerbrach...       0\n",
      "439  Der Abzug des Holzkohlegrill in seiner vollen ...       1\n",
      "\n",
      "[440 rows x 2 columns]\n"
     ]
    },
    {
     "name": "stderr",
     "output_type": "stream",
     "text": [
      "Some weights of BertForSequenceClassification were not initialized from the model checkpoint at nlptown/bert-base-multilingual-uncased-sentiment and are newly initialized because the shapes did not match:\n",
      "- classifier.weight: found shape torch.Size([5, 768]) in the checkpoint and torch.Size([2, 768]) in the model instantiated\n",
      "- classifier.bias: found shape torch.Size([5]) in the checkpoint and torch.Size([2]) in the model instantiated\n",
      "You should probably TRAIN this model on a down-stream task to be able to use it for predictions and inference.\n"
     ]
    },
    {
     "data": {
      "application/vnd.jupyter.widget-view+json": {
       "model_id": "908d694b285145e7a6f593cdfe0d2248",
       "version_major": 2,
       "version_minor": 0
      },
      "text/plain": [
       "Epoch:   0%|          | 0/4 [00:00<?, ?it/s]"
      ]
     },
     "metadata": {},
     "output_type": "display_data"
    },
    {
     "data": {
      "application/vnd.jupyter.widget-view+json": {
       "model_id": "eaef61c51ccb48e8ad09751b4280545a",
       "version_major": 2,
       "version_minor": 0
      },
      "text/plain": [
       "Running Epoch 0 of 4:   0%|          | 0/14 [00:00<?, ?it/s]"
      ]
     },
     "metadata": {},
     "output_type": "display_data"
    },
    {
     "data": {
      "application/vnd.jupyter.widget-view+json": {
       "model_id": "77d8cd1bb6f0492ab603e03093a27134",
       "version_major": 2,
       "version_minor": 0
      },
      "text/plain": [
       "Running Epoch 1 of 4:   0%|          | 0/14 [00:00<?, ?it/s]"
      ]
     },
     "metadata": {},
     "output_type": "display_data"
    },
    {
     "data": {
      "application/vnd.jupyter.widget-view+json": {
       "model_id": "e8e47bf0c755442f956ae47417ed5dfc",
       "version_major": 2,
       "version_minor": 0
      },
      "text/plain": [
       "Running Epoch 2 of 4:   0%|          | 0/14 [00:00<?, ?it/s]"
      ]
     },
     "metadata": {},
     "output_type": "display_data"
    },
    {
     "data": {
      "application/vnd.jupyter.widget-view+json": {
       "model_id": "f8b1a945f388435c99da8289ce42aeef",
       "version_major": 2,
       "version_minor": 0
      },
      "text/plain": [
       "Running Epoch 3 of 4:   0%|          | 0/14 [00:00<?, ?it/s]"
      ]
     },
     "metadata": {},
     "output_type": "display_data"
    },
    {
     "name": "stdout",
     "output_type": "stream",
     "text": [
      "-------------------------\n"
     ]
    },
    {
     "data": {
      "application/vnd.jupyter.widget-view+json": {
       "model_id": "13124ed0f73a41a0af8def006ae20bbb",
       "version_major": 2,
       "version_minor": 0
      },
      "text/plain": [
       "Running Evaluation:   0%|          | 0/5 [00:00<?, ?it/s]"
      ]
     },
     "metadata": {},
     "output_type": "display_data"
    },
    {
     "name": "stdout",
     "output_type": "stream",
     "text": [
      "{'mcc': 0.44971841565160114, 'tp': 32, 'tn': 77, 'fp': 11, 'fn': 27, 'auroc': 0.8091294298921418, 'auprc': 0.6813147317393612, 'acc': 0.7414965986394558, 'precision': array([0, 0, 0, 1, 0, 0, 0, 0, 1, 0, 1, 0, 0, 0, 0, 0, 0, 1, 1, 0, 0, 0,\n",
      "       0, 0, 0, 0, 0, 0, 0, 1, 0, 0, 0, 0, 0, 0, 1, 0, 0, 1, 1, 0, 0, 1,\n",
      "       1, 0, 1, 0, 0, 1, 0, 1, 0, 1, 0, 0, 0, 0, 0, 0, 0, 0, 0, 0, 0, 0,\n",
      "       1, 0, 0, 1, 1, 0, 1, 1, 0, 0, 0, 1, 1, 1, 0, 0, 0, 0, 0, 0, 0, 1,\n",
      "       0, 0, 0, 1, 0, 0, 0, 0, 1, 1, 0, 0, 0, 1, 0, 1, 0, 1, 0, 1, 0, 1,\n",
      "       0, 1, 0, 1, 0, 0, 0, 1, 0, 1, 0, 0, 0, 0, 1, 0, 1, 0, 0, 1, 0, 0,\n",
      "       0, 0, 1, 0, 1, 0, 0, 0, 1, 0, 0, 1, 0, 0, 0]), 'eval_loss': 0.8447207927703857}\n",
      "----------------\n",
      "{0: {'precision': 0.7403846153846154, 'recall': 0.875, 'f1-score': 0.8020833333333334, 'support': 88}, 1: {'precision': 0.7441860465116279, 'recall': 0.5423728813559322, 'f1-score': 0.6274509803921569, 'support': 59}, 'accuracy': 0.7414965986394558, 'macro avg': {'precision': 0.7422853309481217, 'recall': 0.708686440677966, 'f1-score': 0.7147671568627452, 'support': 147}, 'weighted avg': {'precision': 0.7419103598505592, 'recall': 0.7414965986394558, 'f1-score': 0.7319927971188476, 'support': 147}}\n",
      "DICT: {'0 precision': 0.7403846153846154, '0 recall': 0.875, '0 f1-score': 0.8020833333333334, '0 support': 88, '1 precision': 0.7441860465116279, '1 recall': 0.5423728813559322, '1 f1-score': 0.6274509803921569, '1 support': 59, 'accuracy accuracy': 0.7414965986394558, 'macro avg precision': 0.7422853309481217, 'macro avg recall': 0.708686440677966, 'macro avg f1-score': 0.7147671568627452, 'macro avg support': 147, 'weighted avg precision': 0.7419103598505592, 'weighted avg recall': 0.7414965986394558, 'weighted avg f1-score': 0.7319927971188476, 'weighted avg support': 147}\n",
      "Training Model Now\n",
      "                                                  text  labels\n",
      "0          Dank  geht es mir jetzt schon besser  &lt;3       0\n",
      "1                                            zu Hause        0\n",
      "2    Frohe Weihnachten alle zusammen. Ich hoffe ihr...       0\n",
      "3    Die  und ich haben heute einen besonders tolle...       0\n",
      "4          Schlafen.  Morgen Arbeiten; dann Jule hier        0\n",
      "..                                                 ...     ...\n",
      "435                            Blöde Vettelwirtschaft.       1\n",
      "436  SecondRadio.de wird die 5jahres Feier von nfo ...       0\n",
      "437  Endlich; der ganz besondere Kindersparplan mit...       0\n",
      "438       heut erstma voll fett 6 stunden rad gefahren       0\n",
      "439  Der Abzug des Holzkohlegrill in seiner vollen ...       1\n",
      "\n",
      "[440 rows x 2 columns]\n"
     ]
    },
    {
     "name": "stderr",
     "output_type": "stream",
     "text": [
      "Some weights of BertForSequenceClassification were not initialized from the model checkpoint at nlptown/bert-base-multilingual-uncased-sentiment and are newly initialized because the shapes did not match:\n",
      "- classifier.weight: found shape torch.Size([5, 768]) in the checkpoint and torch.Size([2, 768]) in the model instantiated\n",
      "- classifier.bias: found shape torch.Size([5]) in the checkpoint and torch.Size([2]) in the model instantiated\n",
      "You should probably TRAIN this model on a down-stream task to be able to use it for predictions and inference.\n"
     ]
    },
    {
     "data": {
      "application/vnd.jupyter.widget-view+json": {
       "model_id": "9c3a6f90b08846c8b937efa48de9021d",
       "version_major": 2,
       "version_minor": 0
      },
      "text/plain": [
       "Epoch:   0%|          | 0/4 [00:00<?, ?it/s]"
      ]
     },
     "metadata": {},
     "output_type": "display_data"
    },
    {
     "data": {
      "application/vnd.jupyter.widget-view+json": {
       "model_id": "3bb65c263cbf4ea69c8a0c91b4ab8056",
       "version_major": 2,
       "version_minor": 0
      },
      "text/plain": [
       "Running Epoch 0 of 4:   0%|          | 0/14 [00:00<?, ?it/s]"
      ]
     },
     "metadata": {},
     "output_type": "display_data"
    },
    {
     "data": {
      "application/vnd.jupyter.widget-view+json": {
       "model_id": "54f5c76ca995445f93d83eadb77533e9",
       "version_major": 2,
       "version_minor": 0
      },
      "text/plain": [
       "Running Epoch 1 of 4:   0%|          | 0/14 [00:00<?, ?it/s]"
      ]
     },
     "metadata": {},
     "output_type": "display_data"
    },
    {
     "data": {
      "application/vnd.jupyter.widget-view+json": {
       "model_id": "23cd4a60dce64450bd4785a62aba2311",
       "version_major": 2,
       "version_minor": 0
      },
      "text/plain": [
       "Running Epoch 2 of 4:   0%|          | 0/14 [00:00<?, ?it/s]"
      ]
     },
     "metadata": {},
     "output_type": "display_data"
    },
    {
     "data": {
      "application/vnd.jupyter.widget-view+json": {
       "model_id": "782c6c0fc337492eb0ce011b3ff3a948",
       "version_major": 2,
       "version_minor": 0
      },
      "text/plain": [
       "Running Epoch 3 of 4:   0%|          | 0/14 [00:00<?, ?it/s]"
      ]
     },
     "metadata": {},
     "output_type": "display_data"
    },
    {
     "name": "stdout",
     "output_type": "stream",
     "text": [
      "-------------------------\n"
     ]
    },
    {
     "data": {
      "application/vnd.jupyter.widget-view+json": {
       "model_id": "6ca78467ac7245fea18229db8e2d464e",
       "version_major": 2,
       "version_minor": 0
      },
      "text/plain": [
       "Running Evaluation:   0%|          | 0/5 [00:00<?, ?it/s]"
      ]
     },
     "metadata": {},
     "output_type": "display_data"
    },
    {
     "name": "stdout",
     "output_type": "stream",
     "text": [
      "{'mcc': 0.5906667535511015, 'tp': 45, 'tn': 73, 'fp': 15, 'fn': 14, 'auroc': 0.8852080123266564, 'auprc': 0.8302923696483667, 'acc': 0.8027210884353742, 'precision': array([1, 1, 0, 1, 0, 1, 1, 0, 0, 1, 0, 0, 0, 1, 1, 0, 1, 0, 0, 1, 0, 0,\n",
      "       0, 1, 0, 0, 0, 0, 1, 1, 1, 0, 0, 1, 0, 1, 0, 1, 0, 0, 1, 1, 0, 0,\n",
      "       1, 0, 0, 1, 1, 1, 0, 0, 1, 0, 0, 1, 1, 0, 0, 1, 0, 1, 1, 0, 0, 1,\n",
      "       0, 0, 1, 1, 0, 0, 0, 0, 1, 0, 1, 0, 0, 0, 0, 1, 0, 0, 0, 1, 0, 0,\n",
      "       0, 0, 0, 0, 1, 1, 1, 1, 1, 0, 1, 1, 0, 1, 0, 1, 0, 0, 0, 0, 1, 1,\n",
      "       1, 0, 0, 1, 0, 0, 1, 1, 0, 0, 1, 0, 1, 1, 0, 0, 0, 1, 0, 0, 0, 0,\n",
      "       0, 0, 1, 0, 1, 0, 0, 0, 0, 0, 0, 1, 1, 1, 0]), 'eval_loss': 0.5104846000671387}\n",
      "----------------\n",
      "{0: {'precision': 0.8390804597701149, 'recall': 0.8295454545454546, 'f1-score': 0.8342857142857142, 'support': 88}, 1: {'precision': 0.75, 'recall': 0.7627118644067796, 'f1-score': 0.7563025210084034, 'support': 59}, 'accuracy': 0.8027210884353742, 'macro avg': {'precision': 0.7945402298850575, 'recall': 0.7961286594761171, 'f1-score': 0.7952941176470588, 'support': 147}, 'weighted avg': {'precision': 0.8033270779576198, 'recall': 0.8027210884353742, 'f1-score': 0.8029863373920997, 'support': 147}}\n",
      "DICT: {'0 precision': 0.8390804597701149, '0 recall': 0.8295454545454546, '0 f1-score': 0.8342857142857142, '0 support': 88, '1 precision': 0.75, '1 recall': 0.7627118644067796, '1 f1-score': 0.7563025210084034, '1 support': 59, 'accuracy accuracy': 0.8027210884353742, 'macro avg precision': 0.7945402298850575, 'macro avg recall': 0.7961286594761171, 'macro avg f1-score': 0.7952941176470588, 'macro avg support': 147, 'weighted avg precision': 0.8033270779576198, 'weighted avg recall': 0.8027210884353742, 'weighted avg f1-score': 0.8029863373920997, 'weighted avg support': 147}\n",
      "Training Model Now\n",
      "                                                  text  labels\n",
      "0          Dank  geht es mir jetzt schon besser  &lt;3       0\n",
      "1    Okay der straenbahnfahrer is besoffen Oo fährt...       1\n",
      "2    Frohe Weihnachten alle zusammen. Ich hoffe ihr...       0\n",
      "3    Die  und ich haben heute einen besonders tolle...       0\n",
      "4              Caprica ist eine geile Serie! Schauen !       0\n",
      "..                                                 ...     ...\n",
      "435  SecondRadio.de wird die 5jahres Feier von nfo ...       0\n",
      "436  Endlich; der ganz besondere Kindersparplan mit...       0\n",
      "437       heut erstma voll fett 6 stunden rad gefahren       0\n",
      "438  Mit einem schnellen; gekonnten Schlag zerbrach...       0\n",
      "439  Der Abzug des Holzkohlegrill in seiner vollen ...       1\n",
      "\n",
      "[440 rows x 2 columns]\n"
     ]
    },
    {
     "name": "stderr",
     "output_type": "stream",
     "text": [
      "Some weights of BertForSequenceClassification were not initialized from the model checkpoint at nlptown/bert-base-multilingual-uncased-sentiment and are newly initialized because the shapes did not match:\n",
      "- classifier.weight: found shape torch.Size([5, 768]) in the checkpoint and torch.Size([2, 768]) in the model instantiated\n",
      "- classifier.bias: found shape torch.Size([5]) in the checkpoint and torch.Size([2]) in the model instantiated\n",
      "You should probably TRAIN this model on a down-stream task to be able to use it for predictions and inference.\n"
     ]
    },
    {
     "data": {
      "application/vnd.jupyter.widget-view+json": {
       "model_id": "701d51ace70e47e7b6be1eba11efacb5",
       "version_major": 2,
       "version_minor": 0
      },
      "text/plain": [
       "Epoch:   0%|          | 0/4 [00:00<?, ?it/s]"
      ]
     },
     "metadata": {},
     "output_type": "display_data"
    },
    {
     "data": {
      "application/vnd.jupyter.widget-view+json": {
       "model_id": "5c79ebdf15e743a4959e70445ed9abff",
       "version_major": 2,
       "version_minor": 0
      },
      "text/plain": [
       "Running Epoch 0 of 4:   0%|          | 0/14 [00:00<?, ?it/s]"
      ]
     },
     "metadata": {},
     "output_type": "display_data"
    },
    {
     "data": {
      "application/vnd.jupyter.widget-view+json": {
       "model_id": "d8b1c5447f0c451f810fadabe63a02cf",
       "version_major": 2,
       "version_minor": 0
      },
      "text/plain": [
       "Running Epoch 1 of 4:   0%|          | 0/14 [00:00<?, ?it/s]"
      ]
     },
     "metadata": {},
     "output_type": "display_data"
    },
    {
     "data": {
      "application/vnd.jupyter.widget-view+json": {
       "model_id": "125dc983563843c68c590acc0b23e322",
       "version_major": 2,
       "version_minor": 0
      },
      "text/plain": [
       "Running Epoch 2 of 4:   0%|          | 0/14 [00:00<?, ?it/s]"
      ]
     },
     "metadata": {},
     "output_type": "display_data"
    },
    {
     "data": {
      "application/vnd.jupyter.widget-view+json": {
       "model_id": "fc5d952cfb1047c7b26871372cd20063",
       "version_major": 2,
       "version_minor": 0
      },
      "text/plain": [
       "Running Epoch 3 of 4:   0%|          | 0/14 [00:00<?, ?it/s]"
      ]
     },
     "metadata": {},
     "output_type": "display_data"
    },
    {
     "name": "stdout",
     "output_type": "stream",
     "text": [
      "-------------------------\n"
     ]
    },
    {
     "data": {
      "application/vnd.jupyter.widget-view+json": {
       "model_id": "0a534019f06848c6a4b12e4345a7baf5",
       "version_major": 2,
       "version_minor": 0
      },
      "text/plain": [
       "Running Evaluation:   0%|          | 0/5 [00:00<?, ?it/s]"
      ]
     },
     "metadata": {},
     "output_type": "display_data"
    },
    {
     "name": "stdout",
     "output_type": "stream",
     "text": [
      "{'mcc': 0.46009527902652225, 'tp': 39, 'tn': 70, 'fp': 17, 'fn': 21, 'auroc': 0.8256704980842913, 'auprc': 0.796926031427819, 'acc': 0.7414965986394558, 'precision': array([0, 0, 1, 0, 1, 1, 0, 0, 1, 0, 0, 0, 1, 0, 0, 0, 1, 1, 0, 0, 0, 1,\n",
      "       0, 0, 0, 0, 0, 0, 0, 0, 1, 0, 0, 1, 0, 0, 0, 0, 1, 0, 1, 1, 1, 1,\n",
      "       1, 1, 1, 0, 1, 1, 0, 0, 0, 0, 1, 1, 1, 1, 0, 0, 1, 1, 1, 0, 1, 0,\n",
      "       1, 0, 0, 1, 0, 0, 1, 0, 0, 0, 0, 0, 1, 0, 0, 0, 1, 0, 1, 1, 0, 1,\n",
      "       1, 1, 1, 0, 0, 0, 0, 1, 0, 1, 0, 1, 0, 0, 1, 0, 0, 0, 0, 0, 0, 1,\n",
      "       1, 1, 0, 0, 0, 0, 1, 0, 0, 0, 0, 0, 1, 0, 0, 0, 0, 1, 1, 1, 0, 1,\n",
      "       1, 0, 0, 0, 0, 0, 0, 0, 0, 0, 0, 1, 1, 1, 0]), 'eval_loss': 0.6483482182025909}\n",
      "----------------\n",
      "{0: {'precision': 0.7692307692307693, 'recall': 0.8045977011494253, 'f1-score': 0.7865168539325844, 'support': 87}, 1: {'precision': 0.6964285714285714, 'recall': 0.65, 'f1-score': 0.6724137931034482, 'support': 60}, 'accuracy': 0.7414965986394558, 'macro avg': {'precision': 0.7328296703296704, 'recall': 0.7272988505747127, 'f1-score': 0.7294653235180163, 'support': 147}, 'weighted avg': {'precision': 0.739515586454362, 'recall': 0.7414965986394558, 'f1-score': 0.7399441760431411, 'support': 147}}\n",
      "DICT: {'0 precision': 0.7692307692307693, '0 recall': 0.8045977011494253, '0 f1-score': 0.7865168539325844, '0 support': 87, '1 precision': 0.6964285714285714, '1 recall': 0.65, '1 f1-score': 0.6724137931034482, '1 support': 60, 'accuracy accuracy': 0.7414965986394558, 'macro avg precision': 0.7328296703296704, 'macro avg recall': 0.7272988505747127, 'macro avg f1-score': 0.7294653235180163, 'macro avg support': 147, 'weighted avg precision': 0.739515586454362, 'weighted avg recall': 0.7414965986394558, 'weighted avg f1-score': 0.7399441760431411, 'weighted avg support': 147}\n",
      "Training Model Now\n",
      "                                                  text  labels\n",
      "0          Dank  geht es mir jetzt schon besser  &lt;3       0\n",
      "1                                            zu Hause        0\n",
      "2    Okay der straenbahnfahrer is besoffen Oo fährt...       1\n",
      "3          Schlafen.  Morgen Arbeiten; dann Jule hier        0\n",
      "4    Boa heute ist wieder nur assis im Zug Tag. Lau...       1\n",
      "..                                                 ...     ...\n",
      "436                            Blöde Vettelwirtschaft.       1\n",
      "437  SecondRadio.de wird die 5jahres Feier von nfo ...       0\n",
      "438  Endlich; der ganz besondere Kindersparplan mit...       0\n",
      "439       heut erstma voll fett 6 stunden rad gefahren       0\n",
      "440  Mit einem schnellen; gekonnten Schlag zerbrach...       0\n",
      "\n",
      "[441 rows x 2 columns]\n"
     ]
    },
    {
     "name": "stderr",
     "output_type": "stream",
     "text": [
      "Some weights of BertForSequenceClassification were not initialized from the model checkpoint at nlptown/bert-base-multilingual-uncased-sentiment and are newly initialized because the shapes did not match:\n",
      "- classifier.weight: found shape torch.Size([5, 768]) in the checkpoint and torch.Size([2, 768]) in the model instantiated\n",
      "- classifier.bias: found shape torch.Size([5]) in the checkpoint and torch.Size([2]) in the model instantiated\n",
      "You should probably TRAIN this model on a down-stream task to be able to use it for predictions and inference.\n"
     ]
    },
    {
     "data": {
      "application/vnd.jupyter.widget-view+json": {
       "model_id": "8eed76bca91e489db98de143c254d8d1",
       "version_major": 2,
       "version_minor": 0
      },
      "text/plain": [
       "Epoch:   0%|          | 0/4 [00:00<?, ?it/s]"
      ]
     },
     "metadata": {},
     "output_type": "display_data"
    },
    {
     "data": {
      "application/vnd.jupyter.widget-view+json": {
       "model_id": "e79e1b45862344e5af30dbeb56618c01",
       "version_major": 2,
       "version_minor": 0
      },
      "text/plain": [
       "Running Epoch 0 of 4:   0%|          | 0/14 [00:00<?, ?it/s]"
      ]
     },
     "metadata": {},
     "output_type": "display_data"
    },
    {
     "data": {
      "application/vnd.jupyter.widget-view+json": {
       "model_id": "5117d7b7eceb48298d53727317ddff3c",
       "version_major": 2,
       "version_minor": 0
      },
      "text/plain": [
       "Running Epoch 1 of 4:   0%|          | 0/14 [00:00<?, ?it/s]"
      ]
     },
     "metadata": {},
     "output_type": "display_data"
    },
    {
     "data": {
      "application/vnd.jupyter.widget-view+json": {
       "model_id": "c5aa00d236bb4bba9e5d4f20e56338da",
       "version_major": 2,
       "version_minor": 0
      },
      "text/plain": [
       "Running Epoch 2 of 4:   0%|          | 0/14 [00:00<?, ?it/s]"
      ]
     },
     "metadata": {},
     "output_type": "display_data"
    },
    {
     "data": {
      "application/vnd.jupyter.widget-view+json": {
       "model_id": "369343081103489f92105ff8a6671903",
       "version_major": 2,
       "version_minor": 0
      },
      "text/plain": [
       "Running Epoch 3 of 4:   0%|          | 0/14 [00:00<?, ?it/s]"
      ]
     },
     "metadata": {},
     "output_type": "display_data"
    },
    {
     "name": "stdout",
     "output_type": "stream",
     "text": [
      "-------------------------\n"
     ]
    },
    {
     "data": {
      "application/vnd.jupyter.widget-view+json": {
       "model_id": "1ba155a8fbd94b53a22f53e83a1aec15",
       "version_major": 2,
       "version_minor": 0
      },
      "text/plain": [
       "Running Evaluation:   0%|          | 0/5 [00:00<?, ?it/s]"
      ]
     },
     "metadata": {},
     "output_type": "display_data"
    },
    {
     "name": "stdout",
     "output_type": "stream",
     "text": [
      "{'mcc': 0.3816029437517555, 'tp': 39, 'tn': 63, 'fp': 24, 'fn': 20, 'auroc': 0.780440288330411, 'auprc': 0.7029175955563052, 'acc': 0.6986301369863014, 'precision': array([0, 0, 0, 0, 1, 1, 1, 0, 1, 0, 0, 1, 0, 0, 1, 1, 1, 0, 0, 0, 1, 1,\n",
      "       1, 1, 1, 1, 1, 1, 0, 1, 1, 1, 0, 0, 0, 1, 0, 1, 1, 0, 0, 0, 0, 0,\n",
      "       1, 0, 1, 0, 0, 1, 0, 0, 0, 0, 0, 1, 0, 1, 1, 0, 1, 1, 0, 1, 0, 0,\n",
      "       0, 1, 0, 1, 1, 0, 1, 1, 0, 1, 1, 0, 1, 0, 0, 0, 0, 0, 0, 0, 0, 0,\n",
      "       0, 0, 0, 0, 1, 1, 1, 1, 0, 1, 1, 0, 0, 1, 1, 0, 0, 0, 0, 1, 0, 0,\n",
      "       1, 1, 0, 0, 1, 0, 1, 1, 0, 0, 1, 0, 0, 1, 0, 1, 0, 0, 1, 1, 0, 1,\n",
      "       0, 0, 0, 0, 0, 0, 1, 1, 0, 1, 0, 1, 0, 0]), 'eval_loss': 0.7107523024082184}\n",
      "----------------\n",
      "{0: {'precision': 0.7590361445783133, 'recall': 0.7241379310344828, 'f1-score': 0.7411764705882353, 'support': 87}, 1: {'precision': 0.6190476190476191, 'recall': 0.6610169491525424, 'f1-score': 0.6393442622950819, 'support': 59}, 'accuracy': 0.6986301369863014, 'macro avg': {'precision': 0.6890418818129662, 'recall': 0.6925774400935125, 'f1-score': 0.6902603664416587, 'support': 146}, 'weighted avg': {'precision': 0.7024654390556355, 'recall': 0.6986301369863014, 'f1-score': 0.7000250987437419, 'support': 146}}\n",
      "DICT: {'0 precision': 0.7590361445783133, '0 recall': 0.7241379310344828, '0 f1-score': 0.7411764705882353, '0 support': 87, '1 precision': 0.6190476190476191, '1 recall': 0.6610169491525424, '1 f1-score': 0.6393442622950819, '1 support': 59, 'accuracy accuracy': 0.6986301369863014, 'macro avg precision': 0.6890418818129662, 'macro avg recall': 0.6925774400935125, 'macro avg f1-score': 0.6902603664416587, 'macro avg support': 146, 'weighted avg precision': 0.7024654390556355, 'weighted avg recall': 0.6986301369863014, 'weighted avg f1-score': 0.7000250987437419, 'weighted avg support': 146}\n",
      "Finish\n",
      "Start for corpora:  ../../../Corpora/Preprocessed_Transformers_Less_Preprocessing/Binary/SM04_gertwittersent_Preprocessed_binary_Transformer.tsv\n",
      "Training Model Now\n",
      "                                                    text  labels\n",
      "0                               Pass blo auf!!! zwinkern       0\n",
      "1        Es gibt nichts antikeres als Stephan. Das is...       1\n",
      "2      Endlich mal wieder eine herrlich spaige Diskus...       0\n",
      "3                                     So schlafe er gut!       0\n",
      "4                                      mein Held lächeln       0\n",
      "...                                                  ...     ...\n",
      "21141  . U5 bis Dienstag unterbrochen. Busse statt UB...       1\n",
      "21142  Habt Ihr schon ein neues Outfit? Wenn nicht, k...       0\n",
      "21143                    Wind und Rock  keine gute Kombi       1\n",
      "21144   Ich wei, leider, aber das ist schon heftig, m...       1\n",
      "21145  33 Gratulation  für den Weitblick und das Durc...       0\n",
      "\n",
      "[21146 rows x 2 columns]\n"
     ]
    },
    {
     "name": "stderr",
     "output_type": "stream",
     "text": [
      "Some weights of BertForSequenceClassification were not initialized from the model checkpoint at nlptown/bert-base-multilingual-uncased-sentiment and are newly initialized because the shapes did not match:\n",
      "- classifier.weight: found shape torch.Size([5, 768]) in the checkpoint and torch.Size([2, 768]) in the model instantiated\n",
      "- classifier.bias: found shape torch.Size([5]) in the checkpoint and torch.Size([2]) in the model instantiated\n",
      "You should probably TRAIN this model on a down-stream task to be able to use it for predictions and inference.\n"
     ]
    },
    {
     "data": {
      "application/vnd.jupyter.widget-view+json": {
       "model_id": "4b6fcd7d6acb40a68357bacd5296a14f",
       "version_major": 2,
       "version_minor": 0
      },
      "text/plain": [
       "Epoch:   0%|          | 0/4 [00:00<?, ?it/s]"
      ]
     },
     "metadata": {},
     "output_type": "display_data"
    },
    {
     "data": {
      "application/vnd.jupyter.widget-view+json": {
       "model_id": "ed4b82504d72433ba2b7137a39f757a3",
       "version_major": 2,
       "version_minor": 0
      },
      "text/plain": [
       "Running Epoch 0 of 4:   0%|          | 0/661 [00:00<?, ?it/s]"
      ]
     },
     "metadata": {},
     "output_type": "display_data"
    },
    {
     "data": {
      "application/vnd.jupyter.widget-view+json": {
       "model_id": "98f61c3ac09d498f86989359548b41eb",
       "version_major": 2,
       "version_minor": 0
      },
      "text/plain": [
       "Running Epoch 1 of 4:   0%|          | 0/661 [00:00<?, ?it/s]"
      ]
     },
     "metadata": {},
     "output_type": "display_data"
    },
    {
     "data": {
      "application/vnd.jupyter.widget-view+json": {
       "model_id": "e4b406107ef14e8189f624faef189fe3",
       "version_major": 2,
       "version_minor": 0
      },
      "text/plain": [
       "Running Epoch 2 of 4:   0%|          | 0/661 [00:00<?, ?it/s]"
      ]
     },
     "metadata": {},
     "output_type": "display_data"
    },
    {
     "data": {
      "application/vnd.jupyter.widget-view+json": {
       "model_id": "e28d6d6321eb4ca88bb04f8e5cd6bb71",
       "version_major": 2,
       "version_minor": 0
      },
      "text/plain": [
       "Running Epoch 3 of 4:   0%|          | 0/661 [00:00<?, ?it/s]"
      ]
     },
     "metadata": {},
     "output_type": "display_data"
    },
    {
     "name": "stdout",
     "output_type": "stream",
     "text": [
      "-------------------------\n"
     ]
    },
    {
     "data": {
      "application/vnd.jupyter.widget-view+json": {
       "model_id": "87432be8d35d47a1ae3154b31a7b7de5",
       "version_major": 2,
       "version_minor": 0
      },
      "text/plain": [
       "Running Evaluation:   0%|          | 0/221 [00:00<?, ?it/s]"
      ]
     },
     "metadata": {},
     "output_type": "display_data"
    },
    {
     "name": "stdout",
     "output_type": "stream",
     "text": [
      "{'mcc': 0.48211433094825773, 'tp': 1971, 'tn': 3317, 'fp': 808, 'fn': 953, 'auroc': 0.8186117398333541, 'auprc': 0.7511480248237234, 'acc': 0.7501773301177472, 'precision': array([0, 0, 0, ..., 0, 0, 0]), 'eval_loss': 0.7125804745908236}\n",
      "----------------\n",
      "{0: {'precision': 0.7768149882903981, 'recall': 0.8041212121212121, 'f1-score': 0.790232281119714, 'support': 4125}, 1: {'precision': 0.7092479309103994, 'recall': 0.6740766073871409, 'f1-score': 0.6912151499210941, 'support': 2924}, 'accuracy': 0.7501773301177472, 'macro avg': {'precision': 0.7430314596003987, 'recall': 0.7390989097541765, 'f1-score': 0.7407237155204041, 'support': 7049}, 'weighted avg': {'precision': 0.7487874559057881, 'recall': 0.7501773301177472, 'f1-score': 0.7491589243847496, 'support': 7049}}\n",
      "DICT: {'0 precision': 0.7768149882903981, '0 recall': 0.8041212121212121, '0 f1-score': 0.790232281119714, '0 support': 4125, '1 precision': 0.7092479309103994, '1 recall': 0.6740766073871409, '1 f1-score': 0.6912151499210941, '1 support': 2924, 'accuracy accuracy': 0.7501773301177472, 'macro avg precision': 0.7430314596003987, 'macro avg recall': 0.7390989097541765, 'macro avg f1-score': 0.7407237155204041, 'macro avg support': 7049, 'weighted avg precision': 0.7487874559057881, 'weighted avg recall': 0.7501773301177472, 'weighted avg f1-score': 0.7491589243847496, 'weighted avg support': 7049}\n",
      "Training Model Now\n",
      "                                                    text  labels\n",
      "0       so einen Rasen hätte sich Hoene damals beim P...       1\n",
      "1                               Pass blo auf!!! zwinkern       0\n",
      "2         Abstiegsangst!  Kind will mit Korkut sprechen        1\n",
      "3      Endlich mal wieder eine herrlich spaige Diskus...       0\n",
      "4                                                 Nacht!       0\n",
      "...                                                  ...     ...\n",
      "21141                 danke, freut mich, dass es gefällt       0\n",
      "21142   Erst das Spiel seiner Truppe, nun die Komment...       1\n",
      "21143                    Wind und Rock  keine gute Kombi       1\n",
      "21144  Bitte beachten Sie auch weiterhin die Einschrä...       1\n",
      "21145   Ich wei, leider, aber das ist schon heftig, m...       1\n",
      "\n",
      "[21146 rows x 2 columns]\n"
     ]
    },
    {
     "name": "stderr",
     "output_type": "stream",
     "text": [
      "Some weights of BertForSequenceClassification were not initialized from the model checkpoint at nlptown/bert-base-multilingual-uncased-sentiment and are newly initialized because the shapes did not match:\n",
      "- classifier.weight: found shape torch.Size([5, 768]) in the checkpoint and torch.Size([2, 768]) in the model instantiated\n",
      "- classifier.bias: found shape torch.Size([5]) in the checkpoint and torch.Size([2]) in the model instantiated\n",
      "You should probably TRAIN this model on a down-stream task to be able to use it for predictions and inference.\n"
     ]
    },
    {
     "data": {
      "application/vnd.jupyter.widget-view+json": {
       "model_id": "5876ad84ee00455fa580d85fe25e15d5",
       "version_major": 2,
       "version_minor": 0
      },
      "text/plain": [
       "Epoch:   0%|          | 0/4 [00:00<?, ?it/s]"
      ]
     },
     "metadata": {},
     "output_type": "display_data"
    },
    {
     "data": {
      "application/vnd.jupyter.widget-view+json": {
       "model_id": "c9d17f8ae0864be0bc595213188eb674",
       "version_major": 2,
       "version_minor": 0
      },
      "text/plain": [
       "Running Epoch 0 of 4:   0%|          | 0/661 [00:00<?, ?it/s]"
      ]
     },
     "metadata": {},
     "output_type": "display_data"
    },
    {
     "data": {
      "application/vnd.jupyter.widget-view+json": {
       "model_id": "b2bd0d9c2a334884bba894e8e96de878",
       "version_major": 2,
       "version_minor": 0
      },
      "text/plain": [
       "Running Epoch 1 of 4:   0%|          | 0/661 [00:00<?, ?it/s]"
      ]
     },
     "metadata": {},
     "output_type": "display_data"
    },
    {
     "data": {
      "application/vnd.jupyter.widget-view+json": {
       "model_id": "a82f09c5a36745738389fa386ca0a411",
       "version_major": 2,
       "version_minor": 0
      },
      "text/plain": [
       "Running Epoch 2 of 4:   0%|          | 0/661 [00:00<?, ?it/s]"
      ]
     },
     "metadata": {},
     "output_type": "display_data"
    },
    {
     "data": {
      "application/vnd.jupyter.widget-view+json": {
       "model_id": "cc1d91b7c5ba411abb73ae1d833f58ad",
       "version_major": 2,
       "version_minor": 0
      },
      "text/plain": [
       "Running Epoch 3 of 4:   0%|          | 0/661 [00:00<?, ?it/s]"
      ]
     },
     "metadata": {},
     "output_type": "display_data"
    },
    {
     "name": "stdout",
     "output_type": "stream",
     "text": [
      "-------------------------\n"
     ]
    },
    {
     "data": {
      "application/vnd.jupyter.widget-view+json": {
       "model_id": "c97b3a3b518442a9937dbeb2b150f4ec",
       "version_major": 2,
       "version_minor": 0
      },
      "text/plain": [
       "Running Evaluation:   0%|          | 0/221 [00:00<?, ?it/s]"
      ]
     },
     "metadata": {},
     "output_type": "display_data"
    },
    {
     "name": "stdout",
     "output_type": "stream",
     "text": [
      "{'mcc': 0.5048774000220706, 'tp': 2080, 'tn': 3274, 'fp': 852, 'fn': 843, 'auroc': 0.8289102391997281, 'auprc': 0.7635079230716467, 'acc': 0.7595403603347992, 'precision': array([0, 0, 1, ..., 0, 0, 0]), 'eval_loss': 0.6556019117524721}\n",
      "----------------\n",
      "{0: {'precision': 0.7952392518824387, 'recall': 0.7935046049442559, 'f1-score': 0.7943709814387966, 'support': 4126}, 1: {'precision': 0.7094133697135061, 'recall': 0.7115976736229901, 'f1-score': 0.7105038428693425, 'support': 2923}, 'accuracy': 0.7595403603347992, 'macro avg': {'precision': 0.7523263107979724, 'recall': 0.752551139283623, 'f1-score': 0.7524374121540696, 'support': 7049}, 'weighted avg': {'precision': 0.7596499408340929, 'recall': 0.7595403603347992, 'f1-score': 0.7595939001452068, 'support': 7049}}\n",
      "DICT: {'0 precision': 0.7952392518824387, '0 recall': 0.7935046049442559, '0 f1-score': 0.7943709814387966, '0 support': 4126, '1 precision': 0.7094133697135061, '1 recall': 0.7115976736229901, '1 f1-score': 0.7105038428693425, '1 support': 2923, 'accuracy accuracy': 0.7595403603347992, 'macro avg precision': 0.7523263107979724, 'macro avg recall': 0.752551139283623, 'macro avg f1-score': 0.7524374121540696, 'macro avg support': 7049, 'weighted avg precision': 0.7596499408340929, 'weighted avg recall': 0.7595403603347992, 'weighted avg f1-score': 0.7595939001452068, 'weighted avg support': 7049}\n",
      "Training Model Now\n",
      "                                                    text  labels\n",
      "0       so einen Rasen hätte sich Hoene damals beim P...       1\n",
      "1                               Pass blo auf!!! zwinkern       0\n",
      "2        Es gibt nichts antikeres als Stephan. Das is...       1\n",
      "3         Abstiegsangst!  Kind will mit Korkut sprechen        1\n",
      "4                                                 Nacht!       0\n",
      "...                                                  ...     ...\n",
      "21141   Frankfurter Allgemeine Zeitung Frank Schirrma...       1\n",
      "21142                 danke, freut mich, dass es gefällt       0\n",
      "21143   Erst das Spiel seiner Truppe, nun die Komment...       1\n",
      "21144  Bitte beachten Sie auch weiterhin die Einschrä...       1\n",
      "21145  33 Gratulation  für den Weitblick und das Durc...       0\n",
      "\n",
      "[21146 rows x 2 columns]\n"
     ]
    },
    {
     "name": "stderr",
     "output_type": "stream",
     "text": [
      "Some weights of BertForSequenceClassification were not initialized from the model checkpoint at nlptown/bert-base-multilingual-uncased-sentiment and are newly initialized because the shapes did not match:\n",
      "- classifier.weight: found shape torch.Size([5, 768]) in the checkpoint and torch.Size([2, 768]) in the model instantiated\n",
      "- classifier.bias: found shape torch.Size([5]) in the checkpoint and torch.Size([2]) in the model instantiated\n",
      "You should probably TRAIN this model on a down-stream task to be able to use it for predictions and inference.\n"
     ]
    },
    {
     "data": {
      "application/vnd.jupyter.widget-view+json": {
       "model_id": "5d8810b0e99b4a538ccc1895c6832751",
       "version_major": 2,
       "version_minor": 0
      },
      "text/plain": [
       "Epoch:   0%|          | 0/4 [00:00<?, ?it/s]"
      ]
     },
     "metadata": {},
     "output_type": "display_data"
    },
    {
     "data": {
      "application/vnd.jupyter.widget-view+json": {
       "model_id": "59e2262fb2564f8580637db611b796a7",
       "version_major": 2,
       "version_minor": 0
      },
      "text/plain": [
       "Running Epoch 0 of 4:   0%|          | 0/661 [00:00<?, ?it/s]"
      ]
     },
     "metadata": {},
     "output_type": "display_data"
    },
    {
     "data": {
      "application/vnd.jupyter.widget-view+json": {
       "model_id": "6e01d66e8cd8415cb9f94c374f6b7584",
       "version_major": 2,
       "version_minor": 0
      },
      "text/plain": [
       "Running Epoch 1 of 4:   0%|          | 0/661 [00:00<?, ?it/s]"
      ]
     },
     "metadata": {},
     "output_type": "display_data"
    },
    {
     "data": {
      "application/vnd.jupyter.widget-view+json": {
       "model_id": "9359b1d4ad0d4041b7413bccc60bfff4",
       "version_major": 2,
       "version_minor": 0
      },
      "text/plain": [
       "Running Epoch 2 of 4:   0%|          | 0/661 [00:00<?, ?it/s]"
      ]
     },
     "metadata": {},
     "output_type": "display_data"
    },
    {
     "data": {
      "application/vnd.jupyter.widget-view+json": {
       "model_id": "9e55978d77a64801a279aca53de53907",
       "version_major": 2,
       "version_minor": 0
      },
      "text/plain": [
       "Running Epoch 3 of 4:   0%|          | 0/661 [00:00<?, ?it/s]"
      ]
     },
     "metadata": {},
     "output_type": "display_data"
    },
    {
     "name": "stdout",
     "output_type": "stream",
     "text": [
      "-------------------------\n"
     ]
    },
    {
     "data": {
      "application/vnd.jupyter.widget-view+json": {
       "model_id": "72005abae224477abb36e996c7ffbbaa",
       "version_major": 2,
       "version_minor": 0
      },
      "text/plain": [
       "Running Evaluation:   0%|          | 0/221 [00:00<?, ?it/s]"
      ]
     },
     "metadata": {},
     "output_type": "display_data"
    },
    {
     "name": "stdout",
     "output_type": "stream",
     "text": [
      "{'mcc': 0.4809154061577902, 'tp': 1962, 'tn': 3323, 'fp': 803, 'fn': 961, 'auroc': 0.8148912240808643, 'auprc': 0.7459686537769256, 'acc': 0.7497517378351539, 'precision': array([0, 1, 0, ..., 0, 1, 1]), 'eval_loss': 0.7240271610776763}\n",
      "----------------\n",
      "{0: {'precision': 0.7756769374416433, 'recall': 0.8053805138148328, 'f1-score': 0.7902497027348395, 'support': 4126}, 1: {'precision': 0.7095840867992766, 'recall': 0.671228190215532, 'f1-score': 0.689873417721519, 'support': 2923}, 'accuracy': 0.7497517378351539, 'macro avg': {'precision': 0.7426305121204599, 'recall': 0.7383043520151824, 'f1-score': 0.7400615602281793, 'support': 7049}, 'weighted avg': {'precision': 0.7482702978576402, 'recall': 0.7497517378351539, 'f1-score': 0.7486267943657182, 'support': 7049}}\n",
      "DICT: {'0 precision': 0.7756769374416433, '0 recall': 0.8053805138148328, '0 f1-score': 0.7902497027348395, '0 support': 4126, '1 precision': 0.7095840867992766, '1 recall': 0.671228190215532, '1 f1-score': 0.689873417721519, '1 support': 2923, 'accuracy accuracy': 0.7497517378351539, 'macro avg precision': 0.7426305121204599, 'macro avg recall': 0.7383043520151824, 'macro avg f1-score': 0.7400615602281793, 'macro avg support': 7049, 'weighted avg precision': 0.7482702978576402, 'weighted avg recall': 0.7497517378351539, 'weighted avg f1-score': 0.7486267943657182, 'weighted avg support': 7049}\n",
      "Training Model Now\n",
      "                                                    text  labels\n",
      "0       so einen Rasen hätte sich Hoene damals beim P...       1\n",
      "1        Es gibt nichts antikeres als Stephan. Das is...       1\n",
      "2         Abstiegsangst!  Kind will mit Korkut sprechen        1\n",
      "3      Endlich mal wieder eine herrlich spaige Diskus...       0\n",
      "4                                                 Nacht!       0\n",
      "...                                                  ...     ...\n",
      "21142   Erst das Spiel seiner Truppe, nun die Komment...       1\n",
      "21143                    Wind und Rock  keine gute Kombi       1\n",
      "21144  Bitte beachten Sie auch weiterhin die Einschrä...       1\n",
      "21145   Ich wei, leider, aber das ist schon heftig, m...       1\n",
      "21146  33 Gratulation  für den Weitblick und das Durc...       0\n",
      "\n",
      "[21147 rows x 2 columns]\n"
     ]
    },
    {
     "name": "stderr",
     "output_type": "stream",
     "text": [
      "Some weights of BertForSequenceClassification were not initialized from the model checkpoint at nlptown/bert-base-multilingual-uncased-sentiment and are newly initialized because the shapes did not match:\n",
      "- classifier.weight: found shape torch.Size([5, 768]) in the checkpoint and torch.Size([2, 768]) in the model instantiated\n",
      "- classifier.bias: found shape torch.Size([5]) in the checkpoint and torch.Size([2]) in the model instantiated\n",
      "You should probably TRAIN this model on a down-stream task to be able to use it for predictions and inference.\n"
     ]
    },
    {
     "data": {
      "application/vnd.jupyter.widget-view+json": {
       "model_id": "2cb779660b4047578fa1b5ecd58224f6",
       "version_major": 2,
       "version_minor": 0
      },
      "text/plain": [
       "Epoch:   0%|          | 0/4 [00:00<?, ?it/s]"
      ]
     },
     "metadata": {},
     "output_type": "display_data"
    },
    {
     "data": {
      "application/vnd.jupyter.widget-view+json": {
       "model_id": "285bb631126d44e3b6c9abf534e873e3",
       "version_major": 2,
       "version_minor": 0
      },
      "text/plain": [
       "Running Epoch 0 of 4:   0%|          | 0/661 [00:00<?, ?it/s]"
      ]
     },
     "metadata": {},
     "output_type": "display_data"
    },
    {
     "data": {
      "application/vnd.jupyter.widget-view+json": {
       "model_id": "f563ca29d2c343e8abb6cc8494826981",
       "version_major": 2,
       "version_minor": 0
      },
      "text/plain": [
       "Running Epoch 1 of 4:   0%|          | 0/661 [00:00<?, ?it/s]"
      ]
     },
     "metadata": {},
     "output_type": "display_data"
    },
    {
     "data": {
      "application/vnd.jupyter.widget-view+json": {
       "model_id": "7dc0abae452a4a3ab122f27c0db50276",
       "version_major": 2,
       "version_minor": 0
      },
      "text/plain": [
       "Running Epoch 2 of 4:   0%|          | 0/661 [00:00<?, ?it/s]"
      ]
     },
     "metadata": {},
     "output_type": "display_data"
    },
    {
     "data": {
      "application/vnd.jupyter.widget-view+json": {
       "model_id": "197cafcfe62c4565bb4a2696e6ca6dc5",
       "version_major": 2,
       "version_minor": 0
      },
      "text/plain": [
       "Running Epoch 3 of 4:   0%|          | 0/661 [00:00<?, ?it/s]"
      ]
     },
     "metadata": {},
     "output_type": "display_data"
    },
    {
     "name": "stdout",
     "output_type": "stream",
     "text": [
      "-------------------------\n"
     ]
    },
    {
     "data": {
      "application/vnd.jupyter.widget-view+json": {
       "model_id": "3ca078fc8ab44ffcbde0255594520f4b",
       "version_major": 2,
       "version_minor": 0
      },
      "text/plain": [
       "Running Evaluation:   0%|          | 0/221 [00:00<?, ?it/s]"
      ]
     },
     "metadata": {},
     "output_type": "display_data"
    },
    {
     "name": "stdout",
     "output_type": "stream",
     "text": [
      "{'mcc': 0.4833807327045378, 'tp': 1990, 'tn': 3299, 'fp': 826, 'fn': 933, 'auroc': 0.8176698078976561, 'auprc': 0.7513944643529801, 'acc': 0.7504256526674233, 'precision': array([0, 0, 0, ..., 1, 1, 1]), 'eval_loss': 0.7018917519177786}\n",
      "----------------\n",
      "{0: {'precision': 0.7795368620037807, 'recall': 0.7997575757575758, 'f1-score': 0.789517769534522, 'support': 4125}, 1: {'precision': 0.7066761363636364, 'recall': 0.6808073896681491, 'f1-score': 0.6935006098623453, 'support': 2923}, 'accuracy': 0.7504256526674233, 'macro avg': {'precision': 0.7431064991837085, 'recall': 0.7402824827128625, 'f1-score': 0.7415091896984336, 'support': 7048}, 'weighted avg': {'precision': 0.7493195094149411, 'recall': 0.7504256526674233, 'f1-score': 0.7496968050450538, 'support': 7048}}\n",
      "DICT: {'0 precision': 0.7795368620037807, '0 recall': 0.7997575757575758, '0 f1-score': 0.789517769534522, '0 support': 4125, '1 precision': 0.7066761363636364, '1 recall': 0.6808073896681491, '1 f1-score': 0.6935006098623453, '1 support': 2923, 'accuracy accuracy': 0.7504256526674233, 'macro avg precision': 0.7431064991837085, 'macro avg recall': 0.7402824827128625, 'macro avg f1-score': 0.7415091896984336, 'macro avg support': 7048, 'weighted avg precision': 0.7493195094149411, 'weighted avg recall': 0.7504256526674233, 'weighted avg f1-score': 0.7496968050450538, 'weighted avg support': 7048}\n",
      "Finish\n",
      "Start for corpora:  ../../../Corpora/Preprocessed_Transformers_Less_Preprocessing/Binary/SM05_ironycorpus_Preprocessed_binary_Transformer.tsv\n",
      "Training Model Now\n",
      "                                                  text  labels\n",
      "0    Muss sich der  den Pyros bei  als Veranstalter...       1\n",
      "1     gratuliert Arsenal, aber nicht der Borussia  ...       1\n",
      "2     Hätte nie gedacht, dass Fuballfans so musikal...       1\n",
      "3    Auch mit HolzhammerReimen wie Leben auf leben ...       1\n",
      "4    Das beste am heutigen Abend ist, dass sich die...       0\n",
      "..                                                 ...     ...\n",
      "112  Man kann von  halten was man will, aber es gab...       0\n",
      "113  Starkes Spiel von beiden, aber am Ende kann nu...       0\n",
      "114  Ok, er ist ein Nimmersatt! Nein, nicht nur  au...       0\n",
      "115  So laut haben sich die Fans nicht mal bei der ...       1\n",
      "116  Eins ist klar, solche Halbzeitshows wie von He...       1\n",
      "\n",
      "[117 rows x 2 columns]\n"
     ]
    },
    {
     "name": "stderr",
     "output_type": "stream",
     "text": [
      "Some weights of BertForSequenceClassification were not initialized from the model checkpoint at nlptown/bert-base-multilingual-uncased-sentiment and are newly initialized because the shapes did not match:\n",
      "- classifier.weight: found shape torch.Size([5, 768]) in the checkpoint and torch.Size([2, 768]) in the model instantiated\n",
      "- classifier.bias: found shape torch.Size([5]) in the checkpoint and torch.Size([2]) in the model instantiated\n",
      "You should probably TRAIN this model on a down-stream task to be able to use it for predictions and inference.\n"
     ]
    },
    {
     "data": {
      "application/vnd.jupyter.widget-view+json": {
       "model_id": "90e46ced89a0473eb62628c5f11fbd92",
       "version_major": 2,
       "version_minor": 0
      },
      "text/plain": [
       "Epoch:   0%|          | 0/4 [00:00<?, ?it/s]"
      ]
     },
     "metadata": {},
     "output_type": "display_data"
    },
    {
     "data": {
      "application/vnd.jupyter.widget-view+json": {
       "model_id": "010d95ead11843d9b3b19907bc72d24f",
       "version_major": 2,
       "version_minor": 0
      },
      "text/plain": [
       "Running Epoch 0 of 4:   0%|          | 0/4 [00:00<?, ?it/s]"
      ]
     },
     "metadata": {},
     "output_type": "display_data"
    },
    {
     "data": {
      "application/vnd.jupyter.widget-view+json": {
       "model_id": "4ad1857ea7ab48ea977964a7573e984c",
       "version_major": 2,
       "version_minor": 0
      },
      "text/plain": [
       "Running Epoch 1 of 4:   0%|          | 0/4 [00:00<?, ?it/s]"
      ]
     },
     "metadata": {},
     "output_type": "display_data"
    },
    {
     "data": {
      "application/vnd.jupyter.widget-view+json": {
       "model_id": "fdb1574b6fe3486b8962146101ecb186",
       "version_major": 2,
       "version_minor": 0
      },
      "text/plain": [
       "Running Epoch 2 of 4:   0%|          | 0/4 [00:00<?, ?it/s]"
      ]
     },
     "metadata": {},
     "output_type": "display_data"
    },
    {
     "data": {
      "application/vnd.jupyter.widget-view+json": {
       "model_id": "fe75637604994a82a75474db2b683b37",
       "version_major": 2,
       "version_minor": 0
      },
      "text/plain": [
       "Running Epoch 3 of 4:   0%|          | 0/4 [00:00<?, ?it/s]"
      ]
     },
     "metadata": {},
     "output_type": "display_data"
    },
    {
     "name": "stdout",
     "output_type": "stream",
     "text": [
      "-------------------------\n"
     ]
    },
    {
     "data": {
      "application/vnd.jupyter.widget-view+json": {
       "model_id": "1f5d7cb11297447a8c44b83caa9648c8",
       "version_major": 2,
       "version_minor": 0
      },
      "text/plain": [
       "Running Evaluation:   0%|          | 0/2 [00:00<?, ?it/s]"
      ]
     },
     "metadata": {},
     "output_type": "display_data"
    },
    {
     "name": "stdout",
     "output_type": "stream",
     "text": [
      "{'mcc': 0.22452510468485445, 'tp': 26, 'tn': 2, 'fp': 10, 'fn': 1, 'auroc': 0.7469135802469136, 'auprc': 0.8747906792194067, 'acc': 0.717948717948718, 'precision': array([1, 1, 1, 1, 1, 1, 1, 1, 1, 1, 1, 1, 1, 1, 1, 1, 1, 1, 1, 1, 0, 1,\n",
      "       1, 1, 1, 1, 1, 1, 1, 1, 1, 0, 1, 0, 1, 1, 1, 1, 1]), 'eval_loss': 0.638480931520462}\n",
      "----------------\n",
      "{0: {'precision': 0.6666666666666666, 'recall': 0.16666666666666666, 'f1-score': 0.26666666666666666, 'support': 12}, 1: {'precision': 0.7222222222222222, 'recall': 0.9629629629629629, 'f1-score': 0.8253968253968254, 'support': 27}, 'accuracy': 0.717948717948718, 'macro avg': {'precision': 0.6944444444444444, 'recall': 0.5648148148148148, 'f1-score': 0.546031746031746, 'support': 39}, 'weighted avg': {'precision': 0.7051282051282052, 'recall': 0.717948717948718, 'f1-score': 0.6534798534798535, 'support': 39}}\n",
      "DICT: {'0 precision': 0.6666666666666666, '0 recall': 0.16666666666666666, '0 f1-score': 0.26666666666666666, '0 support': 12, '1 precision': 0.7222222222222222, '1 recall': 0.9629629629629629, '1 f1-score': 0.8253968253968254, '1 support': 27, 'accuracy accuracy': 0.717948717948718, 'macro avg precision': 0.6944444444444444, 'macro avg recall': 0.5648148148148148, 'macro avg f1-score': 0.546031746031746, 'macro avg support': 39, 'weighted avg precision': 0.7051282051282052, 'weighted avg recall': 0.717948717948718, 'weighted avg f1-score': 0.6534798534798535, 'weighted avg support': 39}\n",
      "Training Model Now\n",
      "                                                  text  labels\n",
      "0    Muss sich der  den Pyros bei  als Veranstalter...       1\n",
      "1     gratuliert Arsenal, aber nicht der Borussia  ...       1\n",
      "2     Hätte nie gedacht, dass Fuballfans so musikal...       1\n",
      "3    Wenn Helene Fischers Auftritt ein Symbol der K...       1\n",
      "4    Helene Fischer ins Programm aufnehmen und sich...       1\n",
      "..                                                 ...     ...\n",
      "112  Starkes Spiel von beiden, aber am Ende kann nu...       0\n",
      "113  Ok, er ist ein Nimmersatt! Nein, nicht nur  au...       0\n",
      "114  Krass, wie die die Stadionmikros runterdreht, ...       1\n",
      "115  So laut haben sich die Fans nicht mal bei der ...       1\n",
      "116  Wie das Playback nicht mal die Pfiffe übertönt...       1\n",
      "\n",
      "[117 rows x 2 columns]\n"
     ]
    },
    {
     "name": "stderr",
     "output_type": "stream",
     "text": [
      "Some weights of BertForSequenceClassification were not initialized from the model checkpoint at nlptown/bert-base-multilingual-uncased-sentiment and are newly initialized because the shapes did not match:\n",
      "- classifier.weight: found shape torch.Size([5, 768]) in the checkpoint and torch.Size([2, 768]) in the model instantiated\n",
      "- classifier.bias: found shape torch.Size([5]) in the checkpoint and torch.Size([2]) in the model instantiated\n",
      "You should probably TRAIN this model on a down-stream task to be able to use it for predictions and inference.\n"
     ]
    },
    {
     "data": {
      "application/vnd.jupyter.widget-view+json": {
       "model_id": "716dbd09885743f99181e5e04a7198d1",
       "version_major": 2,
       "version_minor": 0
      },
      "text/plain": [
       "Epoch:   0%|          | 0/4 [00:00<?, ?it/s]"
      ]
     },
     "metadata": {},
     "output_type": "display_data"
    },
    {
     "data": {
      "application/vnd.jupyter.widget-view+json": {
       "model_id": "2522529e989f4f4e968c1ebd3861eaca",
       "version_major": 2,
       "version_minor": 0
      },
      "text/plain": [
       "Running Epoch 0 of 4:   0%|          | 0/4 [00:00<?, ?it/s]"
      ]
     },
     "metadata": {},
     "output_type": "display_data"
    },
    {
     "data": {
      "application/vnd.jupyter.widget-view+json": {
       "model_id": "d47ce074bbfe4dddbb3169ccdafa5a2c",
       "version_major": 2,
       "version_minor": 0
      },
      "text/plain": [
       "Running Epoch 1 of 4:   0%|          | 0/4 [00:00<?, ?it/s]"
      ]
     },
     "metadata": {},
     "output_type": "display_data"
    },
    {
     "data": {
      "application/vnd.jupyter.widget-view+json": {
       "model_id": "8b282c2eb99341aabdebd4fa751994c4",
       "version_major": 2,
       "version_minor": 0
      },
      "text/plain": [
       "Running Epoch 2 of 4:   0%|          | 0/4 [00:00<?, ?it/s]"
      ]
     },
     "metadata": {},
     "output_type": "display_data"
    },
    {
     "data": {
      "application/vnd.jupyter.widget-view+json": {
       "model_id": "043a5c6c5df248ba90dfff4da2538dc0",
       "version_major": 2,
       "version_minor": 0
      },
      "text/plain": [
       "Running Epoch 3 of 4:   0%|          | 0/4 [00:00<?, ?it/s]"
      ]
     },
     "metadata": {},
     "output_type": "display_data"
    },
    {
     "name": "stdout",
     "output_type": "stream",
     "text": [
      "-------------------------\n"
     ]
    },
    {
     "data": {
      "application/vnd.jupyter.widget-view+json": {
       "model_id": "bfebd3da49194cdb897a9cde0f19998a",
       "version_major": 2,
       "version_minor": 0
      },
      "text/plain": [
       "Running Evaluation:   0%|          | 0/2 [00:00<?, ?it/s]"
      ]
     },
     "metadata": {},
     "output_type": "display_data"
    },
    {
     "name": "stdout",
     "output_type": "stream",
     "text": [
      "{'mcc': 0.14085904245475275, 'tp': 25, 'tn': 2, 'fp': 10, 'fn': 2, 'auroc': 0.7469135802469136, 'auprc': 0.8798335680669966, 'acc': 0.6923076923076923, 'precision': array([1, 1, 1, 1, 1, 1, 1, 1, 1, 1, 1, 1, 1, 1, 1, 1, 1, 1, 1, 1, 1, 1,\n",
      "       1, 1, 0, 1, 0, 0, 1, 1, 1, 1, 1, 0, 1, 1, 1, 1, 1]), 'eval_loss': 0.6413215696811676}\n",
      "----------------\n",
      "{0: {'precision': 0.5, 'recall': 0.16666666666666666, 'f1-score': 0.25, 'support': 12}, 1: {'precision': 0.7142857142857143, 'recall': 0.9259259259259259, 'f1-score': 0.8064516129032259, 'support': 27}, 'accuracy': 0.6923076923076923, 'macro avg': {'precision': 0.6071428571428572, 'recall': 0.5462962962962963, 'f1-score': 0.528225806451613, 'support': 39}, 'weighted avg': {'precision': 0.6483516483516484, 'recall': 0.6923076923076923, 'f1-score': 0.6352357320099257, 'support': 39}}\n",
      "DICT: {'0 precision': 0.5, '0 recall': 0.16666666666666666, '0 f1-score': 0.25, '0 support': 12, '1 precision': 0.7142857142857143, '1 recall': 0.9259259259259259, '1 f1-score': 0.8064516129032259, '1 support': 27, 'accuracy accuracy': 0.6923076923076923, 'macro avg precision': 0.6071428571428572, 'macro avg recall': 0.5462962962962963, 'macro avg f1-score': 0.528225806451613, 'macro avg support': 39, 'weighted avg precision': 0.6483516483516484, 'weighted avg recall': 0.6923076923076923, 'weighted avg f1-score': 0.6352357320099257, 'weighted avg support': 39}\n",
      "Training Model Now\n",
      "                                                  text  labels\n",
      "0    Auch mit HolzhammerReimen wie Leben auf leben ...       1\n",
      "1    Wenn Helene Fischers Auftritt ein Symbol der K...       1\n",
      "2    Helene Fischer ins Programm aufnehmen und sich...       1\n",
      "3    Was ich mich frage Sind d. Verlierer eigentlic...       1\n",
      "4                                   Bierdusche. Geil.        0\n",
      "..                                                 ...     ...\n",
      "112  Man kann von  halten was man will, aber es gab...       0\n",
      "113  Starkes Spiel von beiden, aber am Ende kann nu...       0\n",
      "114  Krass, wie die die Stadionmikros runterdreht, ...       1\n",
      "115  Wie das Playback nicht mal die Pfiffe übertönt...       1\n",
      "116  Eins ist klar, solche Halbzeitshows wie von He...       1\n",
      "\n",
      "[117 rows x 2 columns]\n"
     ]
    },
    {
     "name": "stderr",
     "output_type": "stream",
     "text": [
      "Some weights of BertForSequenceClassification were not initialized from the model checkpoint at nlptown/bert-base-multilingual-uncased-sentiment and are newly initialized because the shapes did not match:\n",
      "- classifier.weight: found shape torch.Size([5, 768]) in the checkpoint and torch.Size([2, 768]) in the model instantiated\n",
      "- classifier.bias: found shape torch.Size([5]) in the checkpoint and torch.Size([2]) in the model instantiated\n",
      "You should probably TRAIN this model on a down-stream task to be able to use it for predictions and inference.\n"
     ]
    },
    {
     "data": {
      "application/vnd.jupyter.widget-view+json": {
       "model_id": "489fbed1713c488c81263d157e396815",
       "version_major": 2,
       "version_minor": 0
      },
      "text/plain": [
       "Epoch:   0%|          | 0/4 [00:00<?, ?it/s]"
      ]
     },
     "metadata": {},
     "output_type": "display_data"
    },
    {
     "data": {
      "application/vnd.jupyter.widget-view+json": {
       "model_id": "099ec06a83c342f584105dfa89a482ce",
       "version_major": 2,
       "version_minor": 0
      },
      "text/plain": [
       "Running Epoch 0 of 4:   0%|          | 0/4 [00:00<?, ?it/s]"
      ]
     },
     "metadata": {},
     "output_type": "display_data"
    },
    {
     "data": {
      "application/vnd.jupyter.widget-view+json": {
       "model_id": "7b583caf45234755bfc6a0e8b56c4088",
       "version_major": 2,
       "version_minor": 0
      },
      "text/plain": [
       "Running Epoch 1 of 4:   0%|          | 0/4 [00:00<?, ?it/s]"
      ]
     },
     "metadata": {},
     "output_type": "display_data"
    },
    {
     "data": {
      "application/vnd.jupyter.widget-view+json": {
       "model_id": "e60801427031411fb90ef8944faeffcb",
       "version_major": 2,
       "version_minor": 0
      },
      "text/plain": [
       "Running Epoch 2 of 4:   0%|          | 0/4 [00:00<?, ?it/s]"
      ]
     },
     "metadata": {},
     "output_type": "display_data"
    },
    {
     "data": {
      "application/vnd.jupyter.widget-view+json": {
       "model_id": "d6147b844bb24051893c51de516036d9",
       "version_major": 2,
       "version_minor": 0
      },
      "text/plain": [
       "Running Epoch 3 of 4:   0%|          | 0/4 [00:00<?, ?it/s]"
      ]
     },
     "metadata": {},
     "output_type": "display_data"
    },
    {
     "name": "stdout",
     "output_type": "stream",
     "text": [
      "-------------------------\n"
     ]
    },
    {
     "data": {
      "application/vnd.jupyter.widget-view+json": {
       "model_id": "70dd65c37ae945a6bc93fa632be3140c",
       "version_major": 2,
       "version_minor": 0
      },
      "text/plain": [
       "Running Evaluation:   0%|          | 0/2 [00:00<?, ?it/s]"
      ]
     },
     "metadata": {},
     "output_type": "display_data"
    },
    {
     "name": "stdout",
     "output_type": "stream",
     "text": [
      "{'mcc': 0.5578655678293358, 'tp': 25, 'tn': 7, 'fp': 5, 'fn': 2, 'auroc': 0.8641975308641975, 'auprc': 0.9347246473824857, 'acc': 0.8205128205128205, 'precision': array([1, 1, 1, 1, 0, 1, 1, 1, 1, 1, 1, 0, 0, 1, 0, 1, 1, 1, 1, 1, 1, 1,\n",
      "       1, 1, 1, 1, 1, 1, 1, 1, 1, 0, 1, 0, 0, 1, 0, 0, 1]), 'eval_loss': 0.4523492306470871}\n",
      "----------------\n",
      "{0: {'precision': 0.7777777777777778, 'recall': 0.5833333333333334, 'f1-score': 0.6666666666666666, 'support': 12}, 1: {'precision': 0.8333333333333334, 'recall': 0.9259259259259259, 'f1-score': 0.8771929824561403, 'support': 27}, 'accuracy': 0.8205128205128205, 'macro avg': {'precision': 0.8055555555555556, 'recall': 0.7546296296296297, 'f1-score': 0.7719298245614035, 'support': 39}, 'weighted avg': {'precision': 0.8162393162393163, 'recall': 0.8205128205128205, 'f1-score': 0.8124156545209177, 'support': 39}}\n",
      "DICT: {'0 precision': 0.7777777777777778, '0 recall': 0.5833333333333334, '0 f1-score': 0.6666666666666666, '0 support': 12, '1 precision': 0.8333333333333334, '1 recall': 0.9259259259259259, '1 f1-score': 0.8771929824561403, '1 support': 27, 'accuracy accuracy': 0.8205128205128205, 'macro avg precision': 0.8055555555555556, 'macro avg recall': 0.7546296296296297, 'macro avg f1-score': 0.7719298245614035, 'macro avg support': 39, 'weighted avg precision': 0.8162393162393163, 'weighted avg recall': 0.8205128205128205, 'weighted avg f1-score': 0.8124156545209177, 'weighted avg support': 39}\n",
      "Training Model Now\n",
      "                                                  text  labels\n",
      "0    Muss sich der  den Pyros bei  als Veranstalter...       1\n",
      "1     gratuliert Arsenal, aber nicht der Borussia  ...       1\n",
      "2     Hätte nie gedacht, dass Fuballfans so musikal...       1\n",
      "3    Auch mit HolzhammerReimen wie Leben auf leben ...       1\n",
      "4    Wenn Helene Fischers Auftritt ein Symbol der K...       1\n",
      "..                                                 ...     ...\n",
      "112  Ok, er ist ein Nimmersatt! Nein, nicht nur  au...       0\n",
      "113  Krass, wie die die Stadionmikros runterdreht, ...       1\n",
      "114  So laut haben sich die Fans nicht mal bei der ...       1\n",
      "115  Wie das Playback nicht mal die Pfiffe übertönt...       1\n",
      "116  Eins ist klar, solche Halbzeitshows wie von He...       1\n",
      "\n",
      "[117 rows x 2 columns]\n"
     ]
    },
    {
     "name": "stderr",
     "output_type": "stream",
     "text": [
      "Some weights of BertForSequenceClassification were not initialized from the model checkpoint at nlptown/bert-base-multilingual-uncased-sentiment and are newly initialized because the shapes did not match:\n",
      "- classifier.weight: found shape torch.Size([5, 768]) in the checkpoint and torch.Size([2, 768]) in the model instantiated\n",
      "- classifier.bias: found shape torch.Size([5]) in the checkpoint and torch.Size([2]) in the model instantiated\n",
      "You should probably TRAIN this model on a down-stream task to be able to use it for predictions and inference.\n"
     ]
    },
    {
     "data": {
      "application/vnd.jupyter.widget-view+json": {
       "model_id": "157bda7c923e45f3a1ea4490b9e51030",
       "version_major": 2,
       "version_minor": 0
      },
      "text/plain": [
       "Epoch:   0%|          | 0/4 [00:00<?, ?it/s]"
      ]
     },
     "metadata": {},
     "output_type": "display_data"
    },
    {
     "data": {
      "application/vnd.jupyter.widget-view+json": {
       "model_id": "9acc92ee968545479cb3ff306e8e94d2",
       "version_major": 2,
       "version_minor": 0
      },
      "text/plain": [
       "Running Epoch 0 of 4:   0%|          | 0/4 [00:00<?, ?it/s]"
      ]
     },
     "metadata": {},
     "output_type": "display_data"
    },
    {
     "data": {
      "application/vnd.jupyter.widget-view+json": {
       "model_id": "ae90b30ddeb3483cbd4651db552d4b99",
       "version_major": 2,
       "version_minor": 0
      },
      "text/plain": [
       "Running Epoch 1 of 4:   0%|          | 0/4 [00:00<?, ?it/s]"
      ]
     },
     "metadata": {},
     "output_type": "display_data"
    },
    {
     "data": {
      "application/vnd.jupyter.widget-view+json": {
       "model_id": "d727f787b4d7462f8f70bca40223c302",
       "version_major": 2,
       "version_minor": 0
      },
      "text/plain": [
       "Running Epoch 2 of 4:   0%|          | 0/4 [00:00<?, ?it/s]"
      ]
     },
     "metadata": {},
     "output_type": "display_data"
    },
    {
     "data": {
      "application/vnd.jupyter.widget-view+json": {
       "model_id": "e8bbf3e11d8f4ff9995157625de1ed63",
       "version_major": 2,
       "version_minor": 0
      },
      "text/plain": [
       "Running Epoch 3 of 4:   0%|          | 0/4 [00:00<?, ?it/s]"
      ]
     },
     "metadata": {},
     "output_type": "display_data"
    },
    {
     "name": "stdout",
     "output_type": "stream",
     "text": [
      "-------------------------\n"
     ]
    },
    {
     "data": {
      "application/vnd.jupyter.widget-view+json": {
       "model_id": "a2870185e70049f9a7f14dc1cf0c92f9",
       "version_major": 2,
       "version_minor": 0
      },
      "text/plain": [
       "Running Evaluation:   0%|          | 0/2 [00:00<?, ?it/s]"
      ]
     },
     "metadata": {},
     "output_type": "display_data"
    },
    {
     "name": "stdout",
     "output_type": "stream",
     "text": [
      "{'mcc': 0.05423261445466405, 'tp': 23, 'tn': 2, 'fp': 11, 'fn': 3, 'auroc': 0.7174556213017751, 'auprc': 0.8155609843024335, 'acc': 0.6410256410256411, 'precision': array([1, 1, 1, 1, 1, 1, 1, 1, 1, 1, 1, 1, 1, 1, 1, 1, 0, 1, 1, 1, 1, 0,\n",
      "       1, 1, 1, 1, 1, 0, 1, 1, 0, 1, 1, 1, 1, 1, 0, 1, 1]), 'eval_loss': 0.7841962277889252}\n",
      "----------------\n",
      "{0: {'precision': 0.4, 'recall': 0.15384615384615385, 'f1-score': 0.2222222222222222, 'support': 13}, 1: {'precision': 0.6764705882352942, 'recall': 0.8846153846153846, 'f1-score': 0.7666666666666666, 'support': 26}, 'accuracy': 0.6410256410256411, 'macro avg': {'precision': 0.5382352941176471, 'recall': 0.5192307692307692, 'f1-score': 0.4944444444444444, 'support': 39}, 'weighted avg': {'precision': 0.5843137254901961, 'recall': 0.6410256410256411, 'f1-score': 0.5851851851851851, 'support': 39}}\n",
      "DICT: {'0 precision': 0.4, '0 recall': 0.15384615384615385, '0 f1-score': 0.2222222222222222, '0 support': 13, '1 precision': 0.6764705882352942, '1 recall': 0.8846153846153846, '1 f1-score': 0.7666666666666666, '1 support': 26, 'accuracy accuracy': 0.6410256410256411, 'macro avg precision': 0.5382352941176471, 'macro avg recall': 0.5192307692307692, 'macro avg f1-score': 0.4944444444444444, 'macro avg support': 39, 'weighted avg precision': 0.5843137254901961, 'weighted avg recall': 0.6410256410256411, 'weighted avg f1-score': 0.5851851851851851, 'weighted avg support': 39}\n",
      "Finish\n",
      "Start for corpora:  ../../../Corpora/Preprocessed_Transformers_Less_Preprocessing/Binary/SM06_celeb_Preprocessed_binary_Transformer.tsv\n",
      "Training Model Now\n",
      "                                                  text  labels\n",
      "0    ! Du bist unser Held! Wann kommt eine von dein...       0\n",
      "1    Super geil der alte Haudegen wie in alten Zeit...       0\n",
      "2    läuft seit Donnerstag dank Amazon bei mir im P...       0\n",
      "3    Lief bereits auf HDsehr geil, der alte Mann ka...       0\n",
      "4    is ja echt erstaunlich!!Da wohnt Udo ein paar ...       0\n",
      "..                                                 ...     ...\n",
      "346  Nina Hagen und seriös, das war die frau die er...       1\n",
      "347  nina is schon ne crazy chick, aber auf eine se...       0\n",
      "348  sie ist einfach klasse. nur ich finde ihren so...       0\n",
      "349                     Man mu die Süe einfach lieben.       0\n",
      "350  Als Künstlerin ist sie mindestens so seriös wi...       0\n",
      "\n",
      "[351 rows x 2 columns]\n"
     ]
    },
    {
     "name": "stderr",
     "output_type": "stream",
     "text": [
      "Some weights of BertForSequenceClassification were not initialized from the model checkpoint at nlptown/bert-base-multilingual-uncased-sentiment and are newly initialized because the shapes did not match:\n",
      "- classifier.weight: found shape torch.Size([5, 768]) in the checkpoint and torch.Size([2, 768]) in the model instantiated\n",
      "- classifier.bias: found shape torch.Size([5]) in the checkpoint and torch.Size([2]) in the model instantiated\n",
      "You should probably TRAIN this model on a down-stream task to be able to use it for predictions and inference.\n"
     ]
    },
    {
     "data": {
      "application/vnd.jupyter.widget-view+json": {
       "model_id": "3c78124d7f78488a96470262889c6589",
       "version_major": 2,
       "version_minor": 0
      },
      "text/plain": [
       "Epoch:   0%|          | 0/4 [00:00<?, ?it/s]"
      ]
     },
     "metadata": {},
     "output_type": "display_data"
    },
    {
     "data": {
      "application/vnd.jupyter.widget-view+json": {
       "model_id": "196b52502bd34eba8e22f375b8bacc81",
       "version_major": 2,
       "version_minor": 0
      },
      "text/plain": [
       "Running Epoch 0 of 4:   0%|          | 0/11 [00:00<?, ?it/s]"
      ]
     },
     "metadata": {},
     "output_type": "display_data"
    },
    {
     "data": {
      "application/vnd.jupyter.widget-view+json": {
       "model_id": "baec6d6859994c84bdeb3367a77d886c",
       "version_major": 2,
       "version_minor": 0
      },
      "text/plain": [
       "Running Epoch 1 of 4:   0%|          | 0/11 [00:00<?, ?it/s]"
      ]
     },
     "metadata": {},
     "output_type": "display_data"
    },
    {
     "data": {
      "application/vnd.jupyter.widget-view+json": {
       "model_id": "784941729b784746a80edb418aae3f3c",
       "version_major": 2,
       "version_minor": 0
      },
      "text/plain": [
       "Running Epoch 2 of 4:   0%|          | 0/11 [00:00<?, ?it/s]"
      ]
     },
     "metadata": {},
     "output_type": "display_data"
    },
    {
     "data": {
      "application/vnd.jupyter.widget-view+json": {
       "model_id": "eb3ba44fbd544374843e7c63dcc8531a",
       "version_major": 2,
       "version_minor": 0
      },
      "text/plain": [
       "Running Epoch 3 of 4:   0%|          | 0/11 [00:00<?, ?it/s]"
      ]
     },
     "metadata": {},
     "output_type": "display_data"
    },
    {
     "name": "stdout",
     "output_type": "stream",
     "text": [
      "-------------------------\n"
     ]
    },
    {
     "data": {
      "application/vnd.jupyter.widget-view+json": {
       "model_id": "83d203d511e54c33914d44c30e3997b6",
       "version_major": 2,
       "version_minor": 0
      },
      "text/plain": [
       "Running Evaluation:   0%|          | 0/4 [00:00<?, ?it/s]"
      ]
     },
     "metadata": {},
     "output_type": "display_data"
    },
    {
     "name": "stdout",
     "output_type": "stream",
     "text": [
      "{'mcc': 0.5054087628824254, 'tp': 33, 'tn': 57, 'fp': 13, 'fn': 15, 'auroc': 0.8318452380952381, 'auprc': 0.7962040916542501, 'acc': 0.7627118644067796, 'precision': array([0, 0, 0, 0, 0, 1, 1, 0, 0, 1, 0, 1, 0, 1, 1, 0, 0, 1, 0, 1, 0, 0,\n",
      "       0, 1, 0, 0, 1, 1, 0, 0, 1, 0, 1, 0, 1, 0, 0, 1, 1, 0, 0, 0, 1, 0,\n",
      "       1, 0, 1, 1, 0, 0, 1, 1, 1, 0, 0, 0, 0, 0, 0, 0, 0, 0, 0, 0, 1, 1,\n",
      "       1, 1, 0, 1, 0, 0, 1, 1, 0, 0, 0, 0, 1, 1, 0, 1, 1, 1, 0, 1, 1, 0,\n",
      "       1, 0, 1, 0, 0, 0, 0, 0, 0, 0, 1, 1, 0, 0, 0, 0, 0, 1, 0, 0, 0, 0,\n",
      "       1, 1, 0, 0, 1, 0, 0, 1]), 'eval_loss': 0.5229413509368896}\n",
      "----------------\n",
      "{0: {'precision': 0.7916666666666666, 'recall': 0.8142857142857143, 'f1-score': 0.8028169014084506, 'support': 70}, 1: {'precision': 0.717391304347826, 'recall': 0.6875, 'f1-score': 0.702127659574468, 'support': 48}, 'accuracy': 0.7627118644067796, 'macro avg': {'precision': 0.7545289855072463, 'recall': 0.7508928571428571, 'f1-score': 0.7524722804914593, 'support': 118}, 'weighted avg': {'precision': 0.7614529599606976, 'recall': 0.7627118644067796, 'f1-score': 0.7618585657471696, 'support': 118}}\n",
      "DICT: {'0 precision': 0.7916666666666666, '0 recall': 0.8142857142857143, '0 f1-score': 0.8028169014084506, '0 support': 70, '1 precision': 0.717391304347826, '1 recall': 0.6875, '1 f1-score': 0.702127659574468, '1 support': 48, 'accuracy accuracy': 0.7627118644067796, 'macro avg precision': 0.7545289855072463, 'macro avg recall': 0.7508928571428571, 'macro avg f1-score': 0.7524722804914593, 'macro avg support': 118, 'weighted avg precision': 0.7614529599606976, 'weighted avg recall': 0.7627118644067796, 'weighted avg f1-score': 0.7618585657471696, 'weighted avg support': 118}\n",
      "Training Model Now\n",
      "                                                  text  labels\n",
      "0    ! Du bist unser Held! Wann kommt eine von dein...       0\n",
      "1               Das war schon vor Jahren mein Lied!!!!       0\n",
      "2    Udo,du bist der schärfste auf diesem Planeten ...       0\n",
      "3    Das Album ist der absolute Oberhammer! lindenb...       0\n",
      "4    Die Songs auf diesem Album sind so etwas wie d...       1\n",
      "..                                                 ...     ...\n",
      "347  nina is schon ne crazy chick, aber auf eine se...       0\n",
      "348  Nina ist und bleibt eine der gröten Künstler i...       0\n",
      "349  Die Dame ist eben ein wenighmm ich sag mal man...       0\n",
      "350         Die Frau ist aber alles andere als seriös.       1\n",
      "351  Als Künstlerin ist sie mindestens so seriös wi...       0\n",
      "\n",
      "[352 rows x 2 columns]\n"
     ]
    },
    {
     "name": "stderr",
     "output_type": "stream",
     "text": [
      "Some weights of BertForSequenceClassification were not initialized from the model checkpoint at nlptown/bert-base-multilingual-uncased-sentiment and are newly initialized because the shapes did not match:\n",
      "- classifier.weight: found shape torch.Size([5, 768]) in the checkpoint and torch.Size([2, 768]) in the model instantiated\n",
      "- classifier.bias: found shape torch.Size([5]) in the checkpoint and torch.Size([2]) in the model instantiated\n",
      "You should probably TRAIN this model on a down-stream task to be able to use it for predictions and inference.\n"
     ]
    },
    {
     "data": {
      "application/vnd.jupyter.widget-view+json": {
       "model_id": "d04372026c914633a22ad658c1e25e2f",
       "version_major": 2,
       "version_minor": 0
      },
      "text/plain": [
       "Epoch:   0%|          | 0/4 [00:00<?, ?it/s]"
      ]
     },
     "metadata": {},
     "output_type": "display_data"
    },
    {
     "data": {
      "application/vnd.jupyter.widget-view+json": {
       "model_id": "356b4f0fae0043648b543a97f58114dc",
       "version_major": 2,
       "version_minor": 0
      },
      "text/plain": [
       "Running Epoch 0 of 4:   0%|          | 0/11 [00:00<?, ?it/s]"
      ]
     },
     "metadata": {},
     "output_type": "display_data"
    },
    {
     "data": {
      "application/vnd.jupyter.widget-view+json": {
       "model_id": "d75fcbc14aed4e09a2da952c9c20bfb6",
       "version_major": 2,
       "version_minor": 0
      },
      "text/plain": [
       "Running Epoch 1 of 4:   0%|          | 0/11 [00:00<?, ?it/s]"
      ]
     },
     "metadata": {},
     "output_type": "display_data"
    },
    {
     "data": {
      "application/vnd.jupyter.widget-view+json": {
       "model_id": "2183cdb5307b407897da18c3423aeac4",
       "version_major": 2,
       "version_minor": 0
      },
      "text/plain": [
       "Running Epoch 2 of 4:   0%|          | 0/11 [00:00<?, ?it/s]"
      ]
     },
     "metadata": {},
     "output_type": "display_data"
    },
    {
     "data": {
      "application/vnd.jupyter.widget-view+json": {
       "model_id": "128ff1acad5843fdbeeca9a00c51e9a7",
       "version_major": 2,
       "version_minor": 0
      },
      "text/plain": [
       "Running Epoch 3 of 4:   0%|          | 0/11 [00:00<?, ?it/s]"
      ]
     },
     "metadata": {},
     "output_type": "display_data"
    },
    {
     "name": "stdout",
     "output_type": "stream",
     "text": [
      "-------------------------\n"
     ]
    },
    {
     "data": {
      "application/vnd.jupyter.widget-view+json": {
       "model_id": "4cb32b041d3648649b5e3e7eb94dd45e",
       "version_major": 2,
       "version_minor": 0
      },
      "text/plain": [
       "Running Evaluation:   0%|          | 0/4 [00:00<?, ?it/s]"
      ]
     },
     "metadata": {},
     "output_type": "display_data"
    },
    {
     "name": "stdout",
     "output_type": "stream",
     "text": [
      "{'mcc': 0.4549798579502281, 'tp': 25, 'tn': 62, 'fp': 8, 'fn': 22, 'auroc': 0.789969604863222, 'auprc': 0.7306890913532584, 'acc': 0.7435897435897436, 'precision': array([0, 0, 0, 0, 0, 1, 0, 0, 0, 1, 0, 0, 0, 0, 1, 0, 1, 0, 1, 0, 1, 0,\n",
      "       0, 0, 0, 1, 0, 0, 0, 0, 1, 1, 0, 1, 1, 0, 0, 0, 0, 0, 0, 0, 0, 1,\n",
      "       0, 0, 1, 1, 0, 1, 0, 1, 0, 0, 0, 0, 0, 1, 0, 1, 0, 0, 0, 1, 0, 1,\n",
      "       0, 0, 0, 0, 0, 0, 0, 0, 1, 1, 0, 0, 0, 0, 0, 1, 1, 0, 1, 0, 0, 0,\n",
      "       1, 0, 1, 0, 0, 0, 0, 0, 0, 0, 0, 1, 0, 0, 0, 1, 1, 0, 0, 0, 0, 0,\n",
      "       1, 0, 0, 1, 1, 0, 0]), 'eval_loss': 0.6869600340723991}\n",
      "----------------\n",
      "{0: {'precision': 0.7380952380952381, 'recall': 0.8857142857142857, 'f1-score': 0.8051948051948051, 'support': 70}, 1: {'precision': 0.7575757575757576, 'recall': 0.5319148936170213, 'f1-score': 0.625, 'support': 47}, 'accuracy': 0.7435897435897436, 'macro avg': {'precision': 0.7478354978354979, 'recall': 0.7088145896656535, 'f1-score': 0.7150974025974026, 'support': 117}, 'weighted avg': {'precision': 0.745920745920746, 'recall': 0.7435897435897436, 'f1-score': 0.7328088578088577, 'support': 117}}\n",
      "DICT: {'0 precision': 0.7380952380952381, '0 recall': 0.8857142857142857, '0 f1-score': 0.8051948051948051, '0 support': 70, '1 precision': 0.7575757575757576, '1 recall': 0.5319148936170213, '1 f1-score': 0.625, '1 support': 47, 'accuracy accuracy': 0.7435897435897436, 'macro avg precision': 0.7478354978354979, 'macro avg recall': 0.7088145896656535, 'macro avg f1-score': 0.7150974025974026, 'macro avg support': 117, 'weighted avg precision': 0.745920745920746, 'weighted avg recall': 0.7435897435897436, 'weighted avg f1-score': 0.7328088578088577, 'weighted avg support': 117}\n",
      "Training Model Now\n",
      "                                                  text  labels\n",
      "0               Das war schon vor Jahren mein Lied!!!!       0\n",
      "1    Super geil der alte Haudegen wie in alten Zeit...       0\n",
      "2    Udo,du bist der schärfste auf diesem Planeten ...       0\n",
      "3    läuft seit Donnerstag dank Amazon bei mir im P...       0\n",
      "4    Lief bereits auf HDsehr geil, der alte Mann ka...       0\n",
      "..                                                 ...     ...\n",
      "347  sie ist einfach klasse. nur ich finde ihren so...       0\n",
      "348  Nina ist und bleibt eine der gröten Künstler i...       0\n",
      "349                     Man mu die Süe einfach lieben.       0\n",
      "350  Die Dame ist eben ein wenighmm ich sag mal man...       0\n",
      "351         Die Frau ist aber alles andere als seriös.       1\n",
      "\n",
      "[352 rows x 2 columns]\n"
     ]
    },
    {
     "name": "stderr",
     "output_type": "stream",
     "text": [
      "Some weights of BertForSequenceClassification were not initialized from the model checkpoint at nlptown/bert-base-multilingual-uncased-sentiment and are newly initialized because the shapes did not match:\n",
      "- classifier.weight: found shape torch.Size([5, 768]) in the checkpoint and torch.Size([2, 768]) in the model instantiated\n",
      "- classifier.bias: found shape torch.Size([5]) in the checkpoint and torch.Size([2]) in the model instantiated\n",
      "You should probably TRAIN this model on a down-stream task to be able to use it for predictions and inference.\n"
     ]
    },
    {
     "data": {
      "application/vnd.jupyter.widget-view+json": {
       "model_id": "cb8a7968f572455e8c1997b4b53a1440",
       "version_major": 2,
       "version_minor": 0
      },
      "text/plain": [
       "Epoch:   0%|          | 0/4 [00:00<?, ?it/s]"
      ]
     },
     "metadata": {},
     "output_type": "display_data"
    },
    {
     "data": {
      "application/vnd.jupyter.widget-view+json": {
       "model_id": "aa1393a12bc946c99413af5ec582e0c1",
       "version_major": 2,
       "version_minor": 0
      },
      "text/plain": [
       "Running Epoch 0 of 4:   0%|          | 0/11 [00:00<?, ?it/s]"
      ]
     },
     "metadata": {},
     "output_type": "display_data"
    },
    {
     "data": {
      "application/vnd.jupyter.widget-view+json": {
       "model_id": "ac8753c4e2904c0bb28b5bd75d06662c",
       "version_major": 2,
       "version_minor": 0
      },
      "text/plain": [
       "Running Epoch 1 of 4:   0%|          | 0/11 [00:00<?, ?it/s]"
      ]
     },
     "metadata": {},
     "output_type": "display_data"
    },
    {
     "data": {
      "application/vnd.jupyter.widget-view+json": {
       "model_id": "a190bf300feb43aaa80cea11135d0372",
       "version_major": 2,
       "version_minor": 0
      },
      "text/plain": [
       "Running Epoch 2 of 4:   0%|          | 0/11 [00:00<?, ?it/s]"
      ]
     },
     "metadata": {},
     "output_type": "display_data"
    },
    {
     "data": {
      "application/vnd.jupyter.widget-view+json": {
       "model_id": "b1014881b65b4502ab031d282f6b557b",
       "version_major": 2,
       "version_minor": 0
      },
      "text/plain": [
       "Running Epoch 3 of 4:   0%|          | 0/11 [00:00<?, ?it/s]"
      ]
     },
     "metadata": {},
     "output_type": "display_data"
    },
    {
     "name": "stdout",
     "output_type": "stream",
     "text": [
      "-------------------------\n"
     ]
    },
    {
     "data": {
      "application/vnd.jupyter.widget-view+json": {
       "model_id": "c881adc4275748629cd0c79564d340cf",
       "version_major": 2,
       "version_minor": 0
      },
      "text/plain": [
       "Running Evaluation:   0%|          | 0/4 [00:00<?, ?it/s]"
      ]
     },
     "metadata": {},
     "output_type": "display_data"
    },
    {
     "name": "stdout",
     "output_type": "stream",
     "text": [
      "{'mcc': 0.4627417790863248, 'tp': 35, 'tn': 51, 'fp': 18, 'fn': 13, 'auroc': 0.7632850241545893, 'auprc': 0.6723679615208968, 'acc': 0.7350427350427351, 'precision': array([0, 0, 0, 0, 0, 1, 1, 0, 0, 1, 1, 0, 0, 0, 0, 0, 0, 1, 0, 0, 0, 1,\n",
      "       1, 1, 1, 1, 0, 0, 1, 0, 1, 0, 1, 0, 1, 1, 1, 1, 1, 0, 0, 0, 0, 0,\n",
      "       0, 0, 0, 1, 1, 0, 0, 0, 0, 0, 1, 1, 1, 1, 0, 0, 0, 1, 0, 1, 0, 1,\n",
      "       1, 1, 1, 1, 0, 1, 0, 0, 1, 0, 1, 0, 1, 0, 0, 0, 1, 0, 0, 1, 1, 1,\n",
      "       1, 1, 1, 0, 1, 1, 0, 0, 0, 0, 0, 1, 0, 0, 0, 0, 0, 1, 1, 0, 1, 1,\n",
      "       0, 0, 1, 1, 1, 0, 1]), 'eval_loss': 0.6726728677749634}\n",
      "----------------\n",
      "{0: {'precision': 0.796875, 'recall': 0.7391304347826086, 'f1-score': 0.7669172932330827, 'support': 69}, 1: {'precision': 0.660377358490566, 'recall': 0.7291666666666666, 'f1-score': 0.693069306930693, 'support': 48}, 'accuracy': 0.7350427350427351, 'macro avg': {'precision': 0.7286261792452831, 'recall': 0.7341485507246377, 'f1-score': 0.7299933000818879, 'support': 117}, 'weighted avg': {'precision': 0.7408759675858733, 'recall': 0.7350427350427351, 'f1-score': 0.7366206834679998, 'support': 117}}\n",
      "DICT: {'0 precision': 0.796875, '0 recall': 0.7391304347826086, '0 f1-score': 0.7669172932330827, '0 support': 69, '1 precision': 0.660377358490566, '1 recall': 0.7291666666666666, '1 f1-score': 0.693069306930693, '1 support': 48, 'accuracy accuracy': 0.7350427350427351, 'macro avg precision': 0.7286261792452831, 'macro avg recall': 0.7341485507246377, 'macro avg f1-score': 0.7299933000818879, 'macro avg support': 117, 'weighted avg precision': 0.7408759675858733, 'weighted avg recall': 0.7350427350427351, 'weighted avg f1-score': 0.7366206834679998, 'weighted avg support': 117}\n",
      "Training Model Now\n",
      "                                                  text  labels\n",
      "0    ! Du bist unser Held! Wann kommt eine von dein...       0\n",
      "1               Das war schon vor Jahren mein Lied!!!!       0\n",
      "2    Super geil der alte Haudegen wie in alten Zeit...       0\n",
      "3    Udo,du bist der schärfste auf diesem Planeten ...       0\n",
      "4    läuft seit Donnerstag dank Amazon bei mir im P...       0\n",
      "..                                                 ...     ...\n",
      "347  Nina ist und bleibt eine der gröten Künstler i...       0\n",
      "348                     Man mu die Süe einfach lieben.       0\n",
      "349  Die Dame ist eben ein wenighmm ich sag mal man...       0\n",
      "350         Die Frau ist aber alles andere als seriös.       1\n",
      "351  Als Künstlerin ist sie mindestens so seriös wi...       0\n",
      "\n",
      "[352 rows x 2 columns]\n"
     ]
    },
    {
     "name": "stderr",
     "output_type": "stream",
     "text": [
      "Some weights of BertForSequenceClassification were not initialized from the model checkpoint at nlptown/bert-base-multilingual-uncased-sentiment and are newly initialized because the shapes did not match:\n",
      "- classifier.weight: found shape torch.Size([5, 768]) in the checkpoint and torch.Size([2, 768]) in the model instantiated\n",
      "- classifier.bias: found shape torch.Size([5]) in the checkpoint and torch.Size([2]) in the model instantiated\n",
      "You should probably TRAIN this model on a down-stream task to be able to use it for predictions and inference.\n"
     ]
    },
    {
     "data": {
      "application/vnd.jupyter.widget-view+json": {
       "model_id": "5586a3b78204488485df2485b857de40",
       "version_major": 2,
       "version_minor": 0
      },
      "text/plain": [
       "Epoch:   0%|          | 0/4 [00:00<?, ?it/s]"
      ]
     },
     "metadata": {},
     "output_type": "display_data"
    },
    {
     "data": {
      "application/vnd.jupyter.widget-view+json": {
       "model_id": "87a28643f94e409cae5051b30994b1f9",
       "version_major": 2,
       "version_minor": 0
      },
      "text/plain": [
       "Running Epoch 0 of 4:   0%|          | 0/11 [00:00<?, ?it/s]"
      ]
     },
     "metadata": {},
     "output_type": "display_data"
    },
    {
     "data": {
      "application/vnd.jupyter.widget-view+json": {
       "model_id": "9136948bb96b4eab9ab429ff64a2f303",
       "version_major": 2,
       "version_minor": 0
      },
      "text/plain": [
       "Running Epoch 1 of 4:   0%|          | 0/11 [00:00<?, ?it/s]"
      ]
     },
     "metadata": {},
     "output_type": "display_data"
    },
    {
     "data": {
      "application/vnd.jupyter.widget-view+json": {
       "model_id": "503e208eea0d4237931e5934182b2024",
       "version_major": 2,
       "version_minor": 0
      },
      "text/plain": [
       "Running Epoch 2 of 4:   0%|          | 0/11 [00:00<?, ?it/s]"
      ]
     },
     "metadata": {},
     "output_type": "display_data"
    },
    {
     "data": {
      "application/vnd.jupyter.widget-view+json": {
       "model_id": "fea767c2810d48ca8cf93449f5661fd3",
       "version_major": 2,
       "version_minor": 0
      },
      "text/plain": [
       "Running Epoch 3 of 4:   0%|          | 0/11 [00:00<?, ?it/s]"
      ]
     },
     "metadata": {},
     "output_type": "display_data"
    },
    {
     "name": "stdout",
     "output_type": "stream",
     "text": [
      "-------------------------\n"
     ]
    },
    {
     "data": {
      "application/vnd.jupyter.widget-view+json": {
       "model_id": "332c243c0f5c4f1ea1ccb148a800a53f",
       "version_major": 2,
       "version_minor": 0
      },
      "text/plain": [
       "Running Evaluation:   0%|          | 0/4 [00:00<?, ?it/s]"
      ]
     },
     "metadata": {},
     "output_type": "display_data"
    },
    {
     "name": "stdout",
     "output_type": "stream",
     "text": [
      "{'mcc': 0.5226545983167423, 'tp': 38, 'tn': 51, 'fp': 18, 'fn': 10, 'auroc': 0.8100845410628019, 'auprc': 0.7467277539979483, 'acc': 0.7606837606837606, 'precision': array([1, 0, 0, 1, 1, 1, 1, 1, 0, 1, 1, 1, 0, 0, 0, 1, 1, 1, 0, 1, 1, 1,\n",
      "       0, 1, 1, 0, 1, 0, 0, 1, 1, 0, 0, 1, 1, 1, 1, 0, 1, 0, 0, 0, 1, 0,\n",
      "       1, 1, 1, 1, 0, 1, 0, 1, 0, 0, 1, 0, 0, 0, 0, 0, 1, 0, 1, 1, 0, 1,\n",
      "       0, 1, 0, 0, 0, 1, 0, 0, 0, 0, 0, 0, 0, 1, 1, 1, 0, 0, 1, 0, 0, 1,\n",
      "       1, 1, 0, 1, 0, 1, 1, 0, 0, 1, 1, 0, 0, 0, 1, 0, 0, 0, 1, 0, 0, 0,\n",
      "       0, 0, 1, 0, 1, 1, 0]), 'eval_loss': 0.5674490258097649}\n",
      "----------------\n",
      "{0: {'precision': 0.8360655737704918, 'recall': 0.7391304347826086, 'f1-score': 0.7846153846153846, 'support': 69}, 1: {'precision': 0.6785714285714286, 'recall': 0.7916666666666666, 'f1-score': 0.7307692307692307, 'support': 48}, 'accuracy': 0.7606837606837606, 'macro avg': {'precision': 0.7573185011709602, 'recall': 0.7653985507246377, 'f1-score': 0.7576923076923077, 'support': 117}, 'weighted avg': {'precision': 0.7714525911247223, 'recall': 0.7606837606837606, 'f1-score': 0.7625246548323471, 'support': 117}}\n",
      "DICT: {'0 precision': 0.8360655737704918, '0 recall': 0.7391304347826086, '0 f1-score': 0.7846153846153846, '0 support': 69, '1 precision': 0.6785714285714286, '1 recall': 0.7916666666666666, '1 f1-score': 0.7307692307692307, '1 support': 48, 'accuracy accuracy': 0.7606837606837606, 'macro avg precision': 0.7573185011709602, 'macro avg recall': 0.7653985507246377, 'macro avg f1-score': 0.7576923076923077, 'macro avg support': 117, 'weighted avg precision': 0.7714525911247223, 'weighted avg recall': 0.7606837606837606, 'weighted avg f1-score': 0.7625246548323471, 'weighted avg support': 117}\n",
      "Finish\n",
      "Start for corpora:  ../../../Corpora/Preprocessed_Transformers_Less_Preprocessing/Binary/RE02_scare_Preprocessed_binary_Transformer_balanced.tsv\n",
      "Training Model Now\n",
      "                                                    text  labels\n",
      "0      Durchgehend begeisternd, mitreiend und spaig! ...       0\n",
      "1      Leicht zu bedienen, ziemlich genau. Standort w...       0\n",
      "2      Bin , beeindruckt, das geht ruck zuck,torjubel...       0\n",
      "3                                        Gut und sicher.       0\n",
      "4      Ich spiele das jetzt seit einem jahr und es is...       0\n",
      "...                                                  ...     ...\n",
      "52495  Nun läd gar nichts mehr. Die App ist damit hin...       1\n",
      "52496                                           Ganz oke       1\n",
      "52497  Zuviel Werbung zuviel nervende pop ups . Ganz ...       1\n",
      "52498  ohne die ganzen Rechte die sie verlangt. Dank ...       1\n",
      "52499  Updates updates jeden Tag updates. Und wenn ma...       1\n",
      "\n",
      "[52500 rows x 2 columns]\n"
     ]
    },
    {
     "name": "stderr",
     "output_type": "stream",
     "text": [
      "Some weights of BertForSequenceClassification were not initialized from the model checkpoint at nlptown/bert-base-multilingual-uncased-sentiment and are newly initialized because the shapes did not match:\n",
      "- classifier.weight: found shape torch.Size([5, 768]) in the checkpoint and torch.Size([2, 768]) in the model instantiated\n",
      "- classifier.bias: found shape torch.Size([5]) in the checkpoint and torch.Size([2]) in the model instantiated\n",
      "You should probably TRAIN this model on a down-stream task to be able to use it for predictions and inference.\n"
     ]
    },
    {
     "data": {
      "application/vnd.jupyter.widget-view+json": {
       "model_id": "7c55131aa9ae4e7cb000d75eeda1c88b",
       "version_major": 2,
       "version_minor": 0
      },
      "text/plain": [
       "Epoch:   0%|          | 0/4 [00:00<?, ?it/s]"
      ]
     },
     "metadata": {},
     "output_type": "display_data"
    },
    {
     "data": {
      "application/vnd.jupyter.widget-view+json": {
       "model_id": "e13a8f6ceb5a404897e3e774673df6c5",
       "version_major": 2,
       "version_minor": 0
      },
      "text/plain": [
       "Running Epoch 0 of 4:   0%|          | 0/1641 [00:00<?, ?it/s]"
      ]
     },
     "metadata": {},
     "output_type": "display_data"
    },
    {
     "data": {
      "application/vnd.jupyter.widget-view+json": {
       "model_id": "e10afd1acc1542968768f2e1dc8c7608",
       "version_major": 2,
       "version_minor": 0
      },
      "text/plain": [
       "Running Epoch 1 of 4:   0%|          | 0/1641 [00:00<?, ?it/s]"
      ]
     },
     "metadata": {},
     "output_type": "display_data"
    },
    {
     "data": {
      "application/vnd.jupyter.widget-view+json": {
       "model_id": "d50e9b9a54434a2f802cd326cae5ed76",
       "version_major": 2,
       "version_minor": 0
      },
      "text/plain": [
       "Running Epoch 2 of 4:   0%|          | 0/1641 [00:00<?, ?it/s]"
      ]
     },
     "metadata": {},
     "output_type": "display_data"
    },
    {
     "data": {
      "application/vnd.jupyter.widget-view+json": {
       "model_id": "9c93be83a9c64fcd8e56c9862881fc17",
       "version_major": 2,
       "version_minor": 0
      },
      "text/plain": [
       "Running Epoch 3 of 4:   0%|          | 0/1641 [00:00<?, ?it/s]"
      ]
     },
     "metadata": {},
     "output_type": "display_data"
    },
    {
     "name": "stdout",
     "output_type": "stream",
     "text": [
      "-------------------------\n"
     ]
    },
    {
     "data": {
      "application/vnd.jupyter.widget-view+json": {
       "model_id": "4fb6476a17f84eba8157234a8060f4fe",
       "version_major": 2,
       "version_minor": 0
      },
      "text/plain": [
       "Running Evaluation:   0%|          | 0/547 [00:00<?, ?it/s]"
      ]
     },
     "metadata": {},
     "output_type": "display_data"
    },
    {
     "name": "stdout",
     "output_type": "stream",
     "text": [
      "{'mcc': 0.7291845967191436, 'tp': 7474, 'tn': 7655, 'fp': 1095, 'fn': 1276, 'auroc': 0.9246590302040818, 'auprc': 0.9192681182861636, 'acc': 0.8645142857142857, 'precision': array([0, 0, 0, ..., 1, 1, 1]), 'eval_loss': 0.439310677782028}\n",
      "----------------\n",
      "{0: {'precision': 0.8571268614936737, 'recall': 0.8748571428571429, 'f1-score': 0.8659012499293027, 'support': 8750}, 1: {'precision': 0.872213793908274, 'recall': 0.8541714285714286, 'f1-score': 0.8630983313124314, 'support': 8750}, 'accuracy': 0.8645142857142857, 'macro avg': {'precision': 0.8646703277009739, 'recall': 0.8645142857142858, 'f1-score': 0.8644997906208671, 'support': 17500}, 'weighted avg': {'precision': 0.8646703277009739, 'recall': 0.8645142857142857, 'f1-score': 0.864499790620867, 'support': 17500}}\n",
      "DICT: {'0 precision': 0.8571268614936737, '0 recall': 0.8748571428571429, '0 f1-score': 0.8659012499293027, '0 support': 8750, '1 precision': 0.872213793908274, '1 recall': 0.8541714285714286, '1 f1-score': 0.8630983313124314, '1 support': 8750, 'accuracy accuracy': 0.8645142857142857, 'macro avg precision': 0.8646703277009739, 'macro avg recall': 0.8645142857142858, 'macro avg f1-score': 0.8644997906208671, 'macro avg support': 17500, 'weighted avg precision': 0.8646703277009739, 'weighted avg recall': 0.8645142857142857, 'weighted avg f1-score': 0.864499790620867, 'weighted avg support': 17500}\n",
      "Training Model Now\n",
      "                                                    text  labels\n",
      "0      Durchgehend begeisternd, mitreiend und spaig! ...       0\n",
      "1      Bin , beeindruckt, das geht ruck zuck,torjubel...       0\n",
      "2                                        Gut und sicher.       0\n",
      "3      Ich spiele das jetzt seit einem jahr und es is...       0\n",
      "4      Nach dem ich die app bezahlt hatte bekam ich e...       0\n",
      "...                                                  ...     ...\n",
      "52495                                           Ganz oke       1\n",
      "52496  ohne die ganzen Rechte die sie verlangt. Dank ...       1\n",
      "52497  Updates updates jeden Tag updates. Und wenn ma...       1\n",
      "52498                                    Mega schlecht .       1\n",
      "52499  Eigentlich sehr gut aber ich kapier nicht was ...       1\n",
      "\n",
      "[52500 rows x 2 columns]\n"
     ]
    },
    {
     "name": "stderr",
     "output_type": "stream",
     "text": [
      "Some weights of BertForSequenceClassification were not initialized from the model checkpoint at nlptown/bert-base-multilingual-uncased-sentiment and are newly initialized because the shapes did not match:\n",
      "- classifier.weight: found shape torch.Size([5, 768]) in the checkpoint and torch.Size([2, 768]) in the model instantiated\n",
      "- classifier.bias: found shape torch.Size([5]) in the checkpoint and torch.Size([2]) in the model instantiated\n",
      "You should probably TRAIN this model on a down-stream task to be able to use it for predictions and inference.\n"
     ]
    },
    {
     "data": {
      "application/vnd.jupyter.widget-view+json": {
       "model_id": "9b91c5579dec41498c759a6234bb33b5",
       "version_major": 2,
       "version_minor": 0
      },
      "text/plain": [
       "Epoch:   0%|          | 0/4 [00:00<?, ?it/s]"
      ]
     },
     "metadata": {},
     "output_type": "display_data"
    },
    {
     "data": {
      "application/vnd.jupyter.widget-view+json": {
       "model_id": "b39c50a49cf84f58af3898887587c0a0",
       "version_major": 2,
       "version_minor": 0
      },
      "text/plain": [
       "Running Epoch 0 of 4:   0%|          | 0/1641 [00:00<?, ?it/s]"
      ]
     },
     "metadata": {},
     "output_type": "display_data"
    },
    {
     "data": {
      "application/vnd.jupyter.widget-view+json": {
       "model_id": "d1d47cac72db4ec7be2f961048ea4158",
       "version_major": 2,
       "version_minor": 0
      },
      "text/plain": [
       "Running Epoch 1 of 4:   0%|          | 0/1641 [00:00<?, ?it/s]"
      ]
     },
     "metadata": {},
     "output_type": "display_data"
    },
    {
     "data": {
      "application/vnd.jupyter.widget-view+json": {
       "model_id": "68988e28a20340429e1ab8bf90c69e86",
       "version_major": 2,
       "version_minor": 0
      },
      "text/plain": [
       "Running Epoch 2 of 4:   0%|          | 0/1641 [00:00<?, ?it/s]"
      ]
     },
     "metadata": {},
     "output_type": "display_data"
    }
   ],
   "source": [
    "filesBinaryTest=[\"../../../Corpora/Preprocessed_Transformers_Less_Preprocessing/Binary/LT01_gnd_Preprocessed_binary_Transformer.tsv\",\n",
    "                  \"../../../Corpora/Preprocessed_Transformers_Less_Preprocessing/Binary/LT02_speechLessing_Preprocessed_binary_Transformer.tsv\",\n",
    "                 \"../../../Corpora/Preprocessed_Transformers_Less_Preprocessing/Binary/LT03_historicplays_Preprocessed_binary_Transformer.tsv\",\n",
    "                 \"../../../Corpora/Preprocessed_Transformers_Less_Preprocessing/Binary/MI01_mlsa_Preprocessed_binary_Transformer.tsv\",\n",
    "                 \"../../../Corpora/Preprocessed_Transformers_Less_Preprocessing/Binary/MI02_germeval_Preprocessed_binary_Transformer.tsv\",\n",
    "                 \"../../../Corpora/Preprocessed_Transformers_Less_Preprocessing/Binary/MI03_corpusRauh_Preprocessed_binary_Transformer.tsv\",\n",
    "                 \"../../../Corpora/Preprocessed_Transformers_Less_Preprocessing/Binary/NA01_gersen_Preprocessed_binary_Transformer.tsv\",\n",
    "                 \"../../../Corpora/Preprocessed_Transformers_Less_Preprocessing/Binary/NA02_gerom_Preprocessed_binary_Transformer.tsv\",\n",
    "                 \"../../../Corpora/Preprocessed_Transformers_Less_Preprocessing/Binary/NA03_ompc_Preprocessed_binary_Transformer.tsv\",\n",
    "                 \"../../../Corpora/Preprocessed_Transformers_Less_Preprocessing/Binary/RE01_usage_Preprocessed_binary_Transformer.tsv\",\n",
    "                 \"../../../Corpora/Preprocessed_Transformers_Less_Preprocessing/Binary/RE03_critics_Preprocessed_binary_Transformer.tsv\",\n",
    "                 \"../../../Corpora/Preprocessed_Transformers_Less_Preprocessing/Binary/SM01_sb10k_Preprocessed_binary_Transformer.tsv\",\n",
    "                 \"../../../Corpora/Preprocessed_Transformers_Less_Preprocessing/Binary/SM02_potts_Preprocessed_binary_Transformer.tsv\",\n",
    "                 \"../../../Corpora/Preprocessed_Transformers_Less_Preprocessing/Binary/SM03_multiSe_Preprocessed_binary_Transformer.tsv\",\n",
    "                 \"../../../Corpora/Preprocessed_Transformers_Less_Preprocessing/Binary/SM04_gertwittersent_Preprocessed_binary_Transformer.tsv\",\n",
    "                 \"../../../Corpora/Preprocessed_Transformers_Less_Preprocessing/Binary/SM05_ironycorpus_Preprocessed_binary_Transformer.tsv\",\n",
    "                 \"../../../Corpora/Preprocessed_Transformers_Less_Preprocessing/Binary/SM06_celeb_Preprocessed_binary_Transformer.tsv\",\n",
    "                 \"../../../Corpora/Preprocessed_Transformers_Less_Preprocessing/Binary/RE02_scare_Preprocessed_binary_Transformer_balanced.tsv\",\n",
    "                 \"../../../Corpora/Preprocessed_Transformers_Less_Preprocessing/Binary/RE04_filmstarts_all_Preprocessed_binary_Transformer.tsv\",\n",
    "                \"../../../Corpora/Preprocessed_Transformers_Less_Preprocessing/Binary/RE05_amazonreviews_Preprocessed_binary_Transformer_balanced.tsv\"]\n",
    "        \n",
    "\n",
    "\n",
    "\n",
    "\n",
    "#\"../../../Corpora/Preprocessed_Transformers_Less_Preprocessing/Binary/LT01_gnd_Preprocessed_binary_Transformer.tsv\"\n",
    "#../../../Corpora/Preprocessed_Transformers_Less_Preprocessing/Binary/SM04_gertwittersent_Preprocessed_binary_Transformer.tsv\n",
    "#NA01_gersen_Preprocessed_binary_Transformer.tsv\n",
    "def main():\n",
    "    global data, file\n",
    "    for file in filesBinaryTest:\n",
    "        print(\"Start for corpora: \",file)\n",
    "        data=pd.read_csv(file, sep=\"\\t\")\n",
    "        #updateFile(data)\n",
    "        splitData(data)\n",
    "        #print(data)\n",
    "        print(\"Finish\")\n",
    "\n",
    "main()\n"
   ]
  },
  {
   "cell_type": "markdown",
   "id": "fcdda702-4e2a-46a7-ba68-79afc309806f",
   "metadata": {},
   "source": [
    "file=\"../shared/Corpora/Preprocessed_Transformers_Less_Preprocessing/Binary/LT03_historicplays_Preprocessed_binary_Transformer.tsv\"\n",
    "data=pd.read_csv(file, sep=\"\\t\")\n",
    "data.labels = data.labels.astype(int)\n",
    "\n",
    "data.to_csv(\"LT03_historicplays_Preprocessed_binary_Transformer.tsv\", sep=\"\\t\",index=False)\n",
    "\n",
    "filesBinaryTest=[\"../shared/Corpora/Preprocessed_Transformers_Less_Preprocessing/Binary/LT01_gnd_Preprocessed_binary_Transformer.tsv\",\n",
    "                 \"../shared/Corpora/Preprocessed_Transformers_Less_Preprocessing/Binary/LT02_speechLessing_Preprocessed_binary_Transformer.tsv\",\n",
    "                 \"../shared/Corpora/Preprocessed_Transformers_Less_Preprocessing/Binary/LT03_historicplays_Preprocessed_binary_Transformer.tsv\",\n",
    "                 \"../shared/Corpora/Preprocessed_Transformers_Less_Preprocessing/Binary/MI01_mlsa_Preprocessed_binary_Transformer.tsv\",\n",
    "                 \"../shared/Corpora/Preprocessed_Transformers_Less_Preprocessing/Binary/MI02_germeval_Preprocessed_binary_Transformer.tsv\",\n",
    "                 \"../shared/Corpora/Preprocessed_Transformers_Less_Preprocessing/Binary/MI03_corpusRauh_Preprocessed_binary_Transformer.tsv\",\n",
    "                 \"../shared/Corpora/Preprocessed_Transformers_Less_Preprocessing/Binary/NA01_gersen_Preprocessed_binary_Transformer.tsv\",\n",
    "                 \"../shared/Corpora/Preprocessed_Transformers_Less_Preprocessing/Binary/NA02_gerom_Preprocessed_binary_Transformer.tsv\",\n",
    "                 \"../shared/Corpora/Preprocessed_Transformers_Less_Preprocessing/Binary/NA03_ompc_Preprocessed_binary_Transformer.tsv\",\n",
    "                 \"../shared/Corpora/Preprocessed_Transformers_Less_Preprocessing/Binary/RE01_usage_Preprocessed_binary_Transformer.tsv\",\n",
    "                 \"../shared/Corpora/Preprocessed_Transformers_Less_Preprocessing/Binary/RE03_critics_Preprocessed_binary_Transformer.tsv\",\n",
    "                 \"../shared/Corpora/Preprocessed_Transformers_Less_Preprocessing/Binary/SM01_sb10k_Preprocessed_binary_Transformer.tsv\",\n",
    "                 \"../shared/Corpora/Preprocessed_Transformers_Less_Preprocessing/Binary/SM02_potts_Preprocessed_binary_Transformer.tsv\",\n",
    "                 \"../shared/Corpora/Preprocessed_Transformers_Less_Preprocessing/Binary/SM03_multiSe_Preprocessed_binary_Transformer.tsv\",\n",
    "                 \"../shared/Corpora/Preprocessed_Transformers_Less_Preprocessing/Binary/SM04_gertwittersent_Preprocessed_binary_Transformer.tsv\",\n",
    "                 \"../shared/Corpora/Preprocessed_Transformers_Less_Preprocessing/Binary/SM05_ironycorpus_Preprocessed_binary_Transformer.tsv\",\n",
    "                 \"../shared/Corpora/Preprocessed_Transformers_Less_Preprocessing/Binary/SM06_celeb_Preprocessed_binary_Transformer.tsv\",\n",
    "                 \"../shared/Corpora/Preprocessed_Transformers_Less_Preprocessing/Binary/RE02_scare_Preprocessed_binary_Transformer_balanced.tsv\",\n",
    "                 \"../shared/Corpora/Preprocessed_Transformers_Less_Preprocessing/Binary/RE04_filmstarts_all_Preprocessed_binary_Transformer.tsv\",\n",
    "                 \"../shared/Corpora/Preprocessed_Transformers_Less_Preprocessing/Binary/RE05_amazonreviews_Preprocessed_binary_Transformer_balanced.tsv\"]"
   ]
  },
  {
   "cell_type": "code",
   "execution_count": null,
   "id": "a5187928-6b4f-40d0-a9f6-08f21f0b56af",
   "metadata": {},
   "outputs": [],
   "source": []
  }
 ],
 "metadata": {
  "kernelspec": {
   "display_name": "Python 3 (ipykernel)",
   "language": "python",
   "name": "python3"
  },
  "language_info": {
   "codemirror_mode": {
    "name": "ipython",
    "version": 3
   },
   "file_extension": ".py",
   "mimetype": "text/x-python",
   "name": "python",
   "nbconvert_exporter": "python",
   "pygments_lexer": "ipython3",
   "version": "3.10.5"
  }
 },
 "nbformat": 4,
 "nbformat_minor": 5
}
